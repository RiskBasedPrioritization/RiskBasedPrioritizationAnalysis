{
 "cells": [
  {
   "attachments": {},
   "cell_type": "markdown",
   "metadata": {},
   "source": [
    "# Overview\n",
    "1. Input data is the enriched CVSS score with the Exploit Code Maturity/Exploitability (E) Temporal Metric cvss-bt.csv from https://github.com/t0sche/cvss-bt\n",
    "2. CVSS counts\n",
    "   1. Plot count of CVEs **at/below** a CVSS score for both CVSS Base Score and CVSS BT (Base and Threat) Score.\n",
    "   2. Plot count of CVEs **at/above** a CVSS score for both CVSS Base Score and CVSS BT (Base and Threat) Score.\n",
    "      1. For remediation at/above a CVSS score\n",
    "3. CVSS Base Threat Exploitability Ratings (Exploitation Support)\n",
    "   1. Bar Chart\n",
    "   2. Parallel Categories Diagram\n",
    "4. CVSS Base + Exploitation Focus"
   ]
  },
  {
   "cell_type": "code",
   "execution_count": 477,
   "metadata": {},
   "outputs": [],
   "source": [
    "# Need these for the logic\n",
    "import pandas as pd\n",
    "\n",
    "# Need these for the plots\n",
    "import matplotlib.pyplot as plt\n",
    "import plotly.graph_objects as go\n",
    "import plotly.io as pio\n",
    "import seaborn as sns\n",
    "from IPython.display import Image #to display images in github from this notebook\n",
    "\n"
   ]
  },
  {
   "attachments": {},
   "cell_type": "markdown",
   "metadata": {},
   "source": [
    "# CVSS"
   ]
  },
  {
   "cell_type": "code",
   "execution_count": 478,
   "metadata": {},
   "outputs": [
    {
     "name": "stderr",
     "output_type": "stream",
     "text": [
      "/var/folders/ss/mvst4cws5c9dzhhthv64hhzr0000gq/T/ipykernel_37052/3314376690.py:1: DtypeWarning:\n",
      "\n",
      "Columns (10) have mixed types. Specify dtype option on import or set low_memory=False.\n",
      "\n"
     ]
    },
    {
     "data": {
      "text/html": [
       "<div>\n",
       "<style scoped>\n",
       "    .dataframe tbody tr th:only-of-type {\n",
       "        vertical-align: middle;\n",
       "    }\n",
       "\n",
       "    .dataframe tbody tr th {\n",
       "        vertical-align: top;\n",
       "    }\n",
       "\n",
       "    .dataframe thead th {\n",
       "        text-align: right;\n",
       "    }\n",
       "</style>\n",
       "<table border=\"1\" class=\"dataframe\">\n",
       "  <thead>\n",
       "    <tr style=\"text-align: right;\">\n",
       "      <th></th>\n",
       "      <th>cve</th>\n",
       "      <th>cvss-bt_score</th>\n",
       "      <th>cvss-bt_severity</th>\n",
       "      <th>cvss-bt_vector</th>\n",
       "      <th>cvss_version</th>\n",
       "      <th>base_score</th>\n",
       "      <th>base_severity</th>\n",
       "      <th>base_vector</th>\n",
       "      <th>assigner</th>\n",
       "      <th>published_date</th>\n",
       "      <th>epss</th>\n",
       "      <th>cisa_kev</th>\n",
       "      <th>vulncheck_kev</th>\n",
       "      <th>exploitdb</th>\n",
       "      <th>metasploit</th>\n",
       "      <th>nuclei</th>\n",
       "      <th>poc_github</th>\n",
       "    </tr>\n",
       "  </thead>\n",
       "  <tbody>\n",
       "    <tr>\n",
       "      <th>0</th>\n",
       "      <td>CVE-1999-0095</td>\n",
       "      <td>9.0</td>\n",
       "      <td>HIGH</td>\n",
       "      <td>AV:N/AC:L/Au:N/C:C/I:C/A:C/E:POC</td>\n",
       "      <td>2.0</td>\n",
       "      <td>10.0</td>\n",
       "      <td>HIGH</td>\n",
       "      <td>AV:N/AC:L/Au:N/C:C/I:C/A:C</td>\n",
       "      <td>cve@mitre.org</td>\n",
       "      <td>1988-10-01T04:00Z</td>\n",
       "      <td>0.07764</td>\n",
       "      <td>False</td>\n",
       "      <td>False</td>\n",
       "      <td>True</td>\n",
       "      <td>False</td>\n",
       "      <td>False</td>\n",
       "      <td>False</td>\n",
       "    </tr>\n",
       "    <tr>\n",
       "      <th>1</th>\n",
       "      <td>CVE-1999-0082</td>\n",
       "      <td>8.5</td>\n",
       "      <td>HIGH</td>\n",
       "      <td>AV:N/AC:L/Au:N/C:C/I:C/A:C/E:U</td>\n",
       "      <td>2.0</td>\n",
       "      <td>10.0</td>\n",
       "      <td>HIGH</td>\n",
       "      <td>AV:N/AC:L/Au:N/C:C/I:C/A:C</td>\n",
       "      <td>cve@mitre.org</td>\n",
       "      <td>1988-11-11T05:00Z</td>\n",
       "      <td>0.015</td>\n",
       "      <td>False</td>\n",
       "      <td>False</td>\n",
       "      <td>False</td>\n",
       "      <td>False</td>\n",
       "      <td>False</td>\n",
       "      <td>False</td>\n",
       "    </tr>\n",
       "    <tr>\n",
       "      <th>2</th>\n",
       "      <td>CVE-1999-1471</td>\n",
       "      <td>6.1</td>\n",
       "      <td>MEDIUM</td>\n",
       "      <td>AV:L/AC:L/Au:N/C:C/I:C/A:C/E:U</td>\n",
       "      <td>2.0</td>\n",
       "      <td>7.2</td>\n",
       "      <td>HIGH</td>\n",
       "      <td>AV:L/AC:L/Au:N/C:C/I:C/A:C</td>\n",
       "      <td>cve@mitre.org</td>\n",
       "      <td>1989-01-01T05:00Z</td>\n",
       "      <td>0.00043</td>\n",
       "      <td>False</td>\n",
       "      <td>False</td>\n",
       "      <td>False</td>\n",
       "      <td>False</td>\n",
       "      <td>False</td>\n",
       "      <td>False</td>\n",
       "    </tr>\n",
       "    <tr>\n",
       "      <th>3</th>\n",
       "      <td>CVE-1999-1122</td>\n",
       "      <td>3.9</td>\n",
       "      <td>LOW</td>\n",
       "      <td>AV:L/AC:L/Au:N/C:P/I:P/A:P/E:U</td>\n",
       "      <td>2.0</td>\n",
       "      <td>4.6</td>\n",
       "      <td>MEDIUM</td>\n",
       "      <td>AV:L/AC:L/Au:N/C:P/I:P/A:P</td>\n",
       "      <td>cve@mitre.org</td>\n",
       "      <td>1989-07-26T04:00Z</td>\n",
       "      <td>0.0006</td>\n",
       "      <td>False</td>\n",
       "      <td>False</td>\n",
       "      <td>False</td>\n",
       "      <td>False</td>\n",
       "      <td>False</td>\n",
       "      <td>False</td>\n",
       "    </tr>\n",
       "    <tr>\n",
       "      <th>4</th>\n",
       "      <td>CVE-1999-1467</td>\n",
       "      <td>8.5</td>\n",
       "      <td>HIGH</td>\n",
       "      <td>AV:N/AC:L/Au:N/C:C/I:C/A:C/E:U</td>\n",
       "      <td>2.0</td>\n",
       "      <td>10.0</td>\n",
       "      <td>HIGH</td>\n",
       "      <td>AV:N/AC:L/Au:N/C:C/I:C/A:C</td>\n",
       "      <td>cve@mitre.org</td>\n",
       "      <td>1989-10-26T04:00Z</td>\n",
       "      <td>0.00299</td>\n",
       "      <td>False</td>\n",
       "      <td>False</td>\n",
       "      <td>False</td>\n",
       "      <td>False</td>\n",
       "      <td>False</td>\n",
       "      <td>False</td>\n",
       "    </tr>\n",
       "    <tr>\n",
       "      <th>...</th>\n",
       "      <td>...</td>\n",
       "      <td>...</td>\n",
       "      <td>...</td>\n",
       "      <td>...</td>\n",
       "      <td>...</td>\n",
       "      <td>...</td>\n",
       "      <td>...</td>\n",
       "      <td>...</td>\n",
       "      <td>...</td>\n",
       "      <td>...</td>\n",
       "      <td>...</td>\n",
       "      <td>...</td>\n",
       "      <td>...</td>\n",
       "      <td>...</td>\n",
       "      <td>...</td>\n",
       "      <td>...</td>\n",
       "      <td>...</td>\n",
       "    </tr>\n",
       "    <tr>\n",
       "      <th>240311</th>\n",
       "      <td>CVE-2023-49602</td>\n",
       "      <td>5.0</td>\n",
       "      <td>MEDIUM</td>\n",
       "      <td>CVSS:3.1/AV:N/AC:L/PR:L/UI:R/S:C/C:L/I:L/A:N/E:U</td>\n",
       "      <td>3.1</td>\n",
       "      <td>5.4</td>\n",
       "      <td>MEDIUM</td>\n",
       "      <td>CVSS:3.1/AV:N/AC:L/PR:L/UI:R/S:C/C:L/I:L/A:N</td>\n",
       "      <td>scy@openharmony.io</td>\n",
       "      <td>2024-03-04T07:15Z</td>\n",
       "      <td>0.00043</td>\n",
       "      <td>False</td>\n",
       "      <td>False</td>\n",
       "      <td>False</td>\n",
       "      <td>False</td>\n",
       "      <td>False</td>\n",
       "      <td>False</td>\n",
       "    </tr>\n",
       "    <tr>\n",
       "      <th>240312</th>\n",
       "      <td>CVE-2024-21816</td>\n",
       "      <td>9.0</td>\n",
       "      <td>CRITICAL</td>\n",
       "      <td>CVSS:3.1/AV:N/AC:L/PR:N/UI:N/S:U/C:H/I:H/A:H/E:U</td>\n",
       "      <td>3.1</td>\n",
       "      <td>9.8</td>\n",
       "      <td>CRITICAL</td>\n",
       "      <td>CVSS:3.1/AV:N/AC:L/PR:N/UI:N/S:U/C:H/I:H/A:H</td>\n",
       "      <td>scy@openharmony.io</td>\n",
       "      <td>2024-03-04T07:15Z</td>\n",
       "      <td>0.00043</td>\n",
       "      <td>False</td>\n",
       "      <td>False</td>\n",
       "      <td>False</td>\n",
       "      <td>False</td>\n",
       "      <td>False</td>\n",
       "      <td>False</td>\n",
       "    </tr>\n",
       "    <tr>\n",
       "      <th>240313</th>\n",
       "      <td>CVE-2024-21826</td>\n",
       "      <td>7.3</td>\n",
       "      <td>HIGH</td>\n",
       "      <td>CVSS:3.1/AV:A/AC:L/PR:L/UI:N/S:U/C:H/I:H/A:H/E:U</td>\n",
       "      <td>3.1</td>\n",
       "      <td>8.0</td>\n",
       "      <td>HIGH</td>\n",
       "      <td>CVSS:3.1/AV:A/AC:L/PR:L/UI:N/S:U/C:H/I:H/A:H</td>\n",
       "      <td>scy@openharmony.io</td>\n",
       "      <td>2024-03-04T07:15Z</td>\n",
       "      <td>0.00043</td>\n",
       "      <td>False</td>\n",
       "      <td>False</td>\n",
       "      <td>False</td>\n",
       "      <td>False</td>\n",
       "      <td>False</td>\n",
       "      <td>False</td>\n",
       "    </tr>\n",
       "    <tr>\n",
       "      <th>240314</th>\n",
       "      <td>CVE-2023-46708</td>\n",
       "      <td>9.0</td>\n",
       "      <td>CRITICAL</td>\n",
       "      <td>CVSS:3.1/AV:N/AC:L/PR:N/UI:N/S:U/C:H/I:H/A:H/E:U</td>\n",
       "      <td>3.1</td>\n",
       "      <td>9.8</td>\n",
       "      <td>CRITICAL</td>\n",
       "      <td>CVSS:3.1/AV:N/AC:L/PR:N/UI:N/S:U/C:H/I:H/A:H</td>\n",
       "      <td>scy@openharmony.io</td>\n",
       "      <td>2024-03-04T07:15Z</td>\n",
       "      <td>0.00043</td>\n",
       "      <td>False</td>\n",
       "      <td>False</td>\n",
       "      <td>False</td>\n",
       "      <td>False</td>\n",
       "      <td>False</td>\n",
       "      <td>False</td>\n",
       "    </tr>\n",
       "    <tr>\n",
       "      <th>240315</th>\n",
       "      <td>CVE-2023-25176</td>\n",
       "      <td>5.1</td>\n",
       "      <td>MEDIUM</td>\n",
       "      <td>CVSS:3.1/AV:L/AC:L/PR:L/UI:N/S:U/C:H/I:N/A:N/E:U</td>\n",
       "      <td>3.1</td>\n",
       "      <td>5.5</td>\n",
       "      <td>MEDIUM</td>\n",
       "      <td>CVSS:3.1/AV:L/AC:L/PR:L/UI:N/S:U/C:H/I:N/A:N</td>\n",
       "      <td>scy@openharmony.io</td>\n",
       "      <td>2024-03-04T07:15Z</td>\n",
       "      <td>0.00043</td>\n",
       "      <td>False</td>\n",
       "      <td>False</td>\n",
       "      <td>False</td>\n",
       "      <td>False</td>\n",
       "      <td>False</td>\n",
       "      <td>False</td>\n",
       "    </tr>\n",
       "  </tbody>\n",
       "</table>\n",
       "<p>240316 rows × 17 columns</p>\n",
       "</div>"
      ],
      "text/plain": [
       "                   cve  cvss-bt_score cvss-bt_severity  \\\n",
       "0        CVE-1999-0095            9.0             HIGH   \n",
       "1        CVE-1999-0082            8.5             HIGH   \n",
       "2        CVE-1999-1471            6.1           MEDIUM   \n",
       "3        CVE-1999-1122            3.9              LOW   \n",
       "4        CVE-1999-1467            8.5             HIGH   \n",
       "...                ...            ...              ...   \n",
       "240311  CVE-2023-49602            5.0           MEDIUM   \n",
       "240312  CVE-2024-21816            9.0         CRITICAL   \n",
       "240313  CVE-2024-21826            7.3             HIGH   \n",
       "240314  CVE-2023-46708            9.0         CRITICAL   \n",
       "240315  CVE-2023-25176            5.1           MEDIUM   \n",
       "\n",
       "                                          cvss-bt_vector  cvss_version  \\\n",
       "0                       AV:N/AC:L/Au:N/C:C/I:C/A:C/E:POC           2.0   \n",
       "1                         AV:N/AC:L/Au:N/C:C/I:C/A:C/E:U           2.0   \n",
       "2                         AV:L/AC:L/Au:N/C:C/I:C/A:C/E:U           2.0   \n",
       "3                         AV:L/AC:L/Au:N/C:P/I:P/A:P/E:U           2.0   \n",
       "4                         AV:N/AC:L/Au:N/C:C/I:C/A:C/E:U           2.0   \n",
       "...                                                  ...           ...   \n",
       "240311  CVSS:3.1/AV:N/AC:L/PR:L/UI:R/S:C/C:L/I:L/A:N/E:U           3.1   \n",
       "240312  CVSS:3.1/AV:N/AC:L/PR:N/UI:N/S:U/C:H/I:H/A:H/E:U           3.1   \n",
       "240313  CVSS:3.1/AV:A/AC:L/PR:L/UI:N/S:U/C:H/I:H/A:H/E:U           3.1   \n",
       "240314  CVSS:3.1/AV:N/AC:L/PR:N/UI:N/S:U/C:H/I:H/A:H/E:U           3.1   \n",
       "240315  CVSS:3.1/AV:L/AC:L/PR:L/UI:N/S:U/C:H/I:N/A:N/E:U           3.1   \n",
       "\n",
       "        base_score base_severity  \\\n",
       "0             10.0          HIGH   \n",
       "1             10.0          HIGH   \n",
       "2              7.2          HIGH   \n",
       "3              4.6        MEDIUM   \n",
       "4             10.0          HIGH   \n",
       "...            ...           ...   \n",
       "240311         5.4        MEDIUM   \n",
       "240312         9.8      CRITICAL   \n",
       "240313         8.0          HIGH   \n",
       "240314         9.8      CRITICAL   \n",
       "240315         5.5        MEDIUM   \n",
       "\n",
       "                                         base_vector            assigner  \\\n",
       "0                         AV:N/AC:L/Au:N/C:C/I:C/A:C       cve@mitre.org   \n",
       "1                         AV:N/AC:L/Au:N/C:C/I:C/A:C       cve@mitre.org   \n",
       "2                         AV:L/AC:L/Au:N/C:C/I:C/A:C       cve@mitre.org   \n",
       "3                         AV:L/AC:L/Au:N/C:P/I:P/A:P       cve@mitre.org   \n",
       "4                         AV:N/AC:L/Au:N/C:C/I:C/A:C       cve@mitre.org   \n",
       "...                                              ...                 ...   \n",
       "240311  CVSS:3.1/AV:N/AC:L/PR:L/UI:R/S:C/C:L/I:L/A:N  scy@openharmony.io   \n",
       "240312  CVSS:3.1/AV:N/AC:L/PR:N/UI:N/S:U/C:H/I:H/A:H  scy@openharmony.io   \n",
       "240313  CVSS:3.1/AV:A/AC:L/PR:L/UI:N/S:U/C:H/I:H/A:H  scy@openharmony.io   \n",
       "240314  CVSS:3.1/AV:N/AC:L/PR:N/UI:N/S:U/C:H/I:H/A:H  scy@openharmony.io   \n",
       "240315  CVSS:3.1/AV:L/AC:L/PR:L/UI:N/S:U/C:H/I:N/A:N  scy@openharmony.io   \n",
       "\n",
       "           published_date     epss  cisa_kev  vulncheck_kev  exploitdb  \\\n",
       "0       1988-10-01T04:00Z  0.07764     False          False       True   \n",
       "1       1988-11-11T05:00Z    0.015     False          False      False   \n",
       "2       1989-01-01T05:00Z  0.00043     False          False      False   \n",
       "3       1989-07-26T04:00Z   0.0006     False          False      False   \n",
       "4       1989-10-26T04:00Z  0.00299     False          False      False   \n",
       "...                   ...      ...       ...            ...        ...   \n",
       "240311  2024-03-04T07:15Z  0.00043     False          False      False   \n",
       "240312  2024-03-04T07:15Z  0.00043     False          False      False   \n",
       "240313  2024-03-04T07:15Z  0.00043     False          False      False   \n",
       "240314  2024-03-04T07:15Z  0.00043     False          False      False   \n",
       "240315  2024-03-04T07:15Z  0.00043     False          False      False   \n",
       "\n",
       "        metasploit  nuclei  poc_github  \n",
       "0            False   False       False  \n",
       "1            False   False       False  \n",
       "2            False   False       False  \n",
       "3            False   False       False  \n",
       "4            False   False       False  \n",
       "...            ...     ...         ...  \n",
       "240311       False   False       False  \n",
       "240312       False   False       False  \n",
       "240313       False   False       False  \n",
       "240314       False   False       False  \n",
       "240315       False   False       False  \n",
       "\n",
       "[240316 rows x 17 columns]"
      ]
     },
     "execution_count": 478,
     "metadata": {},
     "output_type": "execute_result"
    }
   ],
   "source": [
    "df = pd.read_csv('../data_in/cvss_bt/cvss-bt.csv.gz', compression=\"gzip\")\n",
    "df"
   ]
  },
  {
   "cell_type": "code",
   "execution_count": 479,
   "metadata": {},
   "outputs": [
    {
     "data": {
      "text/html": [
       "<div>\n",
       "<style scoped>\n",
       "    .dataframe tbody tr th:only-of-type {\n",
       "        vertical-align: middle;\n",
       "    }\n",
       "\n",
       "    .dataframe tbody tr th {\n",
       "        vertical-align: top;\n",
       "    }\n",
       "\n",
       "    .dataframe thead th {\n",
       "        text-align: right;\n",
       "    }\n",
       "</style>\n",
       "<table border=\"1\" class=\"dataframe\">\n",
       "  <thead>\n",
       "    <tr style=\"text-align: right;\">\n",
       "      <th></th>\n",
       "      <th>cve</th>\n",
       "      <th>cvss-bt_score</th>\n",
       "      <th>cvss-bt_severity</th>\n",
       "      <th>cvss-bt_vector</th>\n",
       "      <th>cvss_version</th>\n",
       "      <th>base_score</th>\n",
       "      <th>base_severity</th>\n",
       "      <th>base_vector</th>\n",
       "      <th>assigner</th>\n",
       "      <th>published_date</th>\n",
       "      <th>epss</th>\n",
       "      <th>cisa_kev</th>\n",
       "      <th>vulncheck_kev</th>\n",
       "      <th>exploitdb</th>\n",
       "      <th>metasploit</th>\n",
       "      <th>nuclei</th>\n",
       "      <th>poc_github</th>\n",
       "    </tr>\n",
       "  </thead>\n",
       "  <tbody>\n",
       "    <tr>\n",
       "      <th>0</th>\n",
       "      <td>CVE-1999-0095</td>\n",
       "      <td>9.0</td>\n",
       "      <td>HIGH</td>\n",
       "      <td>AV:N/AC:L/Au:N/C:C/I:C/A:C/E:POC</td>\n",
       "      <td>2.0</td>\n",
       "      <td>10.0</td>\n",
       "      <td>HIGH</td>\n",
       "      <td>AV:N/AC:L/Au:N/C:C/I:C/A:C</td>\n",
       "      <td>cve@mitre.org</td>\n",
       "      <td>1988-10-01T04:00Z</td>\n",
       "      <td>0.07764</td>\n",
       "      <td>False</td>\n",
       "      <td>False</td>\n",
       "      <td>True</td>\n",
       "      <td>False</td>\n",
       "      <td>False</td>\n",
       "      <td>False</td>\n",
       "    </tr>\n",
       "    <tr>\n",
       "      <th>1</th>\n",
       "      <td>CVE-1999-0082</td>\n",
       "      <td>8.5</td>\n",
       "      <td>HIGH</td>\n",
       "      <td>AV:N/AC:L/Au:N/C:C/I:C/A:C/E:U</td>\n",
       "      <td>2.0</td>\n",
       "      <td>10.0</td>\n",
       "      <td>HIGH</td>\n",
       "      <td>AV:N/AC:L/Au:N/C:C/I:C/A:C</td>\n",
       "      <td>cve@mitre.org</td>\n",
       "      <td>1988-11-11T05:00Z</td>\n",
       "      <td>0.015</td>\n",
       "      <td>False</td>\n",
       "      <td>False</td>\n",
       "      <td>False</td>\n",
       "      <td>False</td>\n",
       "      <td>False</td>\n",
       "      <td>False</td>\n",
       "    </tr>\n",
       "    <tr>\n",
       "      <th>2</th>\n",
       "      <td>CVE-1999-1471</td>\n",
       "      <td>6.1</td>\n",
       "      <td>MEDIUM</td>\n",
       "      <td>AV:L/AC:L/Au:N/C:C/I:C/A:C/E:U</td>\n",
       "      <td>2.0</td>\n",
       "      <td>7.2</td>\n",
       "      <td>HIGH</td>\n",
       "      <td>AV:L/AC:L/Au:N/C:C/I:C/A:C</td>\n",
       "      <td>cve@mitre.org</td>\n",
       "      <td>1989-01-01T05:00Z</td>\n",
       "      <td>0.00043</td>\n",
       "      <td>False</td>\n",
       "      <td>False</td>\n",
       "      <td>False</td>\n",
       "      <td>False</td>\n",
       "      <td>False</td>\n",
       "      <td>False</td>\n",
       "    </tr>\n",
       "    <tr>\n",
       "      <th>3</th>\n",
       "      <td>CVE-1999-1122</td>\n",
       "      <td>3.9</td>\n",
       "      <td>LOW</td>\n",
       "      <td>AV:L/AC:L/Au:N/C:P/I:P/A:P/E:U</td>\n",
       "      <td>2.0</td>\n",
       "      <td>4.6</td>\n",
       "      <td>MEDIUM</td>\n",
       "      <td>AV:L/AC:L/Au:N/C:P/I:P/A:P</td>\n",
       "      <td>cve@mitre.org</td>\n",
       "      <td>1989-07-26T04:00Z</td>\n",
       "      <td>0.0006</td>\n",
       "      <td>False</td>\n",
       "      <td>False</td>\n",
       "      <td>False</td>\n",
       "      <td>False</td>\n",
       "      <td>False</td>\n",
       "      <td>False</td>\n",
       "    </tr>\n",
       "    <tr>\n",
       "      <th>4</th>\n",
       "      <td>CVE-1999-1467</td>\n",
       "      <td>8.5</td>\n",
       "      <td>HIGH</td>\n",
       "      <td>AV:N/AC:L/Au:N/C:C/I:C/A:C/E:U</td>\n",
       "      <td>2.0</td>\n",
       "      <td>10.0</td>\n",
       "      <td>HIGH</td>\n",
       "      <td>AV:N/AC:L/Au:N/C:C/I:C/A:C</td>\n",
       "      <td>cve@mitre.org</td>\n",
       "      <td>1989-10-26T04:00Z</td>\n",
       "      <td>0.00299</td>\n",
       "      <td>False</td>\n",
       "      <td>False</td>\n",
       "      <td>False</td>\n",
       "      <td>False</td>\n",
       "      <td>False</td>\n",
       "      <td>False</td>\n",
       "    </tr>\n",
       "    <tr>\n",
       "      <th>...</th>\n",
       "      <td>...</td>\n",
       "      <td>...</td>\n",
       "      <td>...</td>\n",
       "      <td>...</td>\n",
       "      <td>...</td>\n",
       "      <td>...</td>\n",
       "      <td>...</td>\n",
       "      <td>...</td>\n",
       "      <td>...</td>\n",
       "      <td>...</td>\n",
       "      <td>...</td>\n",
       "      <td>...</td>\n",
       "      <td>...</td>\n",
       "      <td>...</td>\n",
       "      <td>...</td>\n",
       "      <td>...</td>\n",
       "      <td>...</td>\n",
       "    </tr>\n",
       "    <tr>\n",
       "      <th>240311</th>\n",
       "      <td>CVE-2023-49602</td>\n",
       "      <td>5.0</td>\n",
       "      <td>MEDIUM</td>\n",
       "      <td>CVSS:3.1/AV:N/AC:L/PR:L/UI:R/S:C/C:L/I:L/A:N/E:U</td>\n",
       "      <td>3.1</td>\n",
       "      <td>5.4</td>\n",
       "      <td>MEDIUM</td>\n",
       "      <td>CVSS:3.1/AV:N/AC:L/PR:L/UI:R/S:C/C:L/I:L/A:N</td>\n",
       "      <td>scy@openharmony.io</td>\n",
       "      <td>2024-03-04T07:15Z</td>\n",
       "      <td>0.00043</td>\n",
       "      <td>False</td>\n",
       "      <td>False</td>\n",
       "      <td>False</td>\n",
       "      <td>False</td>\n",
       "      <td>False</td>\n",
       "      <td>False</td>\n",
       "    </tr>\n",
       "    <tr>\n",
       "      <th>240312</th>\n",
       "      <td>CVE-2024-21816</td>\n",
       "      <td>9.0</td>\n",
       "      <td>CRITICAL</td>\n",
       "      <td>CVSS:3.1/AV:N/AC:L/PR:N/UI:N/S:U/C:H/I:H/A:H/E:U</td>\n",
       "      <td>3.1</td>\n",
       "      <td>9.8</td>\n",
       "      <td>CRITICAL</td>\n",
       "      <td>CVSS:3.1/AV:N/AC:L/PR:N/UI:N/S:U/C:H/I:H/A:H</td>\n",
       "      <td>scy@openharmony.io</td>\n",
       "      <td>2024-03-04T07:15Z</td>\n",
       "      <td>0.00043</td>\n",
       "      <td>False</td>\n",
       "      <td>False</td>\n",
       "      <td>False</td>\n",
       "      <td>False</td>\n",
       "      <td>False</td>\n",
       "      <td>False</td>\n",
       "    </tr>\n",
       "    <tr>\n",
       "      <th>240313</th>\n",
       "      <td>CVE-2024-21826</td>\n",
       "      <td>7.3</td>\n",
       "      <td>HIGH</td>\n",
       "      <td>CVSS:3.1/AV:A/AC:L/PR:L/UI:N/S:U/C:H/I:H/A:H/E:U</td>\n",
       "      <td>3.1</td>\n",
       "      <td>8.0</td>\n",
       "      <td>HIGH</td>\n",
       "      <td>CVSS:3.1/AV:A/AC:L/PR:L/UI:N/S:U/C:H/I:H/A:H</td>\n",
       "      <td>scy@openharmony.io</td>\n",
       "      <td>2024-03-04T07:15Z</td>\n",
       "      <td>0.00043</td>\n",
       "      <td>False</td>\n",
       "      <td>False</td>\n",
       "      <td>False</td>\n",
       "      <td>False</td>\n",
       "      <td>False</td>\n",
       "      <td>False</td>\n",
       "    </tr>\n",
       "    <tr>\n",
       "      <th>240314</th>\n",
       "      <td>CVE-2023-46708</td>\n",
       "      <td>9.0</td>\n",
       "      <td>CRITICAL</td>\n",
       "      <td>CVSS:3.1/AV:N/AC:L/PR:N/UI:N/S:U/C:H/I:H/A:H/E:U</td>\n",
       "      <td>3.1</td>\n",
       "      <td>9.8</td>\n",
       "      <td>CRITICAL</td>\n",
       "      <td>CVSS:3.1/AV:N/AC:L/PR:N/UI:N/S:U/C:H/I:H/A:H</td>\n",
       "      <td>scy@openharmony.io</td>\n",
       "      <td>2024-03-04T07:15Z</td>\n",
       "      <td>0.00043</td>\n",
       "      <td>False</td>\n",
       "      <td>False</td>\n",
       "      <td>False</td>\n",
       "      <td>False</td>\n",
       "      <td>False</td>\n",
       "      <td>False</td>\n",
       "    </tr>\n",
       "    <tr>\n",
       "      <th>240315</th>\n",
       "      <td>CVE-2023-25176</td>\n",
       "      <td>5.1</td>\n",
       "      <td>MEDIUM</td>\n",
       "      <td>CVSS:3.1/AV:L/AC:L/PR:L/UI:N/S:U/C:H/I:N/A:N/E:U</td>\n",
       "      <td>3.1</td>\n",
       "      <td>5.5</td>\n",
       "      <td>MEDIUM</td>\n",
       "      <td>CVSS:3.1/AV:L/AC:L/PR:L/UI:N/S:U/C:H/I:N/A:N</td>\n",
       "      <td>scy@openharmony.io</td>\n",
       "      <td>2024-03-04T07:15Z</td>\n",
       "      <td>0.00043</td>\n",
       "      <td>False</td>\n",
       "      <td>False</td>\n",
       "      <td>False</td>\n",
       "      <td>False</td>\n",
       "      <td>False</td>\n",
       "      <td>False</td>\n",
       "    </tr>\n",
       "  </tbody>\n",
       "</table>\n",
       "<p>240277 rows × 17 columns</p>\n",
       "</div>"
      ],
      "text/plain": [
       "                   cve  cvss-bt_score cvss-bt_severity  \\\n",
       "0        CVE-1999-0095            9.0             HIGH   \n",
       "1        CVE-1999-0082            8.5             HIGH   \n",
       "2        CVE-1999-1471            6.1           MEDIUM   \n",
       "3        CVE-1999-1122            3.9              LOW   \n",
       "4        CVE-1999-1467            8.5             HIGH   \n",
       "...                ...            ...              ...   \n",
       "240311  CVE-2023-49602            5.0           MEDIUM   \n",
       "240312  CVE-2024-21816            9.0         CRITICAL   \n",
       "240313  CVE-2024-21826            7.3             HIGH   \n",
       "240314  CVE-2023-46708            9.0         CRITICAL   \n",
       "240315  CVE-2023-25176            5.1           MEDIUM   \n",
       "\n",
       "                                          cvss-bt_vector  cvss_version  \\\n",
       "0                       AV:N/AC:L/Au:N/C:C/I:C/A:C/E:POC           2.0   \n",
       "1                         AV:N/AC:L/Au:N/C:C/I:C/A:C/E:U           2.0   \n",
       "2                         AV:L/AC:L/Au:N/C:C/I:C/A:C/E:U           2.0   \n",
       "3                         AV:L/AC:L/Au:N/C:P/I:P/A:P/E:U           2.0   \n",
       "4                         AV:N/AC:L/Au:N/C:C/I:C/A:C/E:U           2.0   \n",
       "...                                                  ...           ...   \n",
       "240311  CVSS:3.1/AV:N/AC:L/PR:L/UI:R/S:C/C:L/I:L/A:N/E:U           3.1   \n",
       "240312  CVSS:3.1/AV:N/AC:L/PR:N/UI:N/S:U/C:H/I:H/A:H/E:U           3.1   \n",
       "240313  CVSS:3.1/AV:A/AC:L/PR:L/UI:N/S:U/C:H/I:H/A:H/E:U           3.1   \n",
       "240314  CVSS:3.1/AV:N/AC:L/PR:N/UI:N/S:U/C:H/I:H/A:H/E:U           3.1   \n",
       "240315  CVSS:3.1/AV:L/AC:L/PR:L/UI:N/S:U/C:H/I:N/A:N/E:U           3.1   \n",
       "\n",
       "        base_score base_severity  \\\n",
       "0             10.0          HIGH   \n",
       "1             10.0          HIGH   \n",
       "2              7.2          HIGH   \n",
       "3              4.6        MEDIUM   \n",
       "4             10.0          HIGH   \n",
       "...            ...           ...   \n",
       "240311         5.4        MEDIUM   \n",
       "240312         9.8      CRITICAL   \n",
       "240313         8.0          HIGH   \n",
       "240314         9.8      CRITICAL   \n",
       "240315         5.5        MEDIUM   \n",
       "\n",
       "                                         base_vector            assigner  \\\n",
       "0                         AV:N/AC:L/Au:N/C:C/I:C/A:C       cve@mitre.org   \n",
       "1                         AV:N/AC:L/Au:N/C:C/I:C/A:C       cve@mitre.org   \n",
       "2                         AV:L/AC:L/Au:N/C:C/I:C/A:C       cve@mitre.org   \n",
       "3                         AV:L/AC:L/Au:N/C:P/I:P/A:P       cve@mitre.org   \n",
       "4                         AV:N/AC:L/Au:N/C:C/I:C/A:C       cve@mitre.org   \n",
       "...                                              ...                 ...   \n",
       "240311  CVSS:3.1/AV:N/AC:L/PR:L/UI:R/S:C/C:L/I:L/A:N  scy@openharmony.io   \n",
       "240312  CVSS:3.1/AV:N/AC:L/PR:N/UI:N/S:U/C:H/I:H/A:H  scy@openharmony.io   \n",
       "240313  CVSS:3.1/AV:A/AC:L/PR:L/UI:N/S:U/C:H/I:H/A:H  scy@openharmony.io   \n",
       "240314  CVSS:3.1/AV:N/AC:L/PR:N/UI:N/S:U/C:H/I:H/A:H  scy@openharmony.io   \n",
       "240315  CVSS:3.1/AV:L/AC:L/PR:L/UI:N/S:U/C:H/I:N/A:N  scy@openharmony.io   \n",
       "\n",
       "           published_date     epss  cisa_kev  vulncheck_kev  exploitdb  \\\n",
       "0       1988-10-01T04:00Z  0.07764     False          False       True   \n",
       "1       1988-11-11T05:00Z    0.015     False          False      False   \n",
       "2       1989-01-01T05:00Z  0.00043     False          False      False   \n",
       "3       1989-07-26T04:00Z   0.0006     False          False      False   \n",
       "4       1989-10-26T04:00Z  0.00299     False          False      False   \n",
       "...                   ...      ...       ...            ...        ...   \n",
       "240311  2024-03-04T07:15Z  0.00043     False          False      False   \n",
       "240312  2024-03-04T07:15Z  0.00043     False          False      False   \n",
       "240313  2024-03-04T07:15Z  0.00043     False          False      False   \n",
       "240314  2024-03-04T07:15Z  0.00043     False          False      False   \n",
       "240315  2024-03-04T07:15Z  0.00043     False          False      False   \n",
       "\n",
       "        metasploit  nuclei  poc_github  \n",
       "0            False   False       False  \n",
       "1            False   False       False  \n",
       "2            False   False       False  \n",
       "3            False   False       False  \n",
       "4            False   False       False  \n",
       "...            ...     ...         ...  \n",
       "240311       False   False       False  \n",
       "240312       False   False       False  \n",
       "240313       False   False       False  \n",
       "240314       False   False       False  \n",
       "240315       False   False       False  \n",
       "\n",
       "[240277 rows x 17 columns]"
      ]
     },
     "execution_count": 479,
     "metadata": {},
     "output_type": "execute_result"
    }
   ],
   "source": [
    "# Drop rows where 'cvss' column value is zero\n",
    "df = df[df['base_score'] != 0]\n",
    "df = df[df['cvss-bt_score'] != 0]\n",
    "df"
   ]
  },
  {
   "attachments": {},
   "cell_type": "markdown",
   "metadata": {},
   "source": [
    "## Cumulative Count of CVEs starting at CVSS 0\n",
    "This is the count of CVEs at or below a given CVSS score"
   ]
  },
  {
   "cell_type": "code",
   "execution_count": 480,
   "metadata": {},
   "outputs": [
    {
     "data": {
      "image/png": "[encoded data removed]",
      "text/plain": [
       "<Figure size 1000x600 with 1 Axes>"
      ]
     },
     "metadata": {},
     "output_type": "display_data"
    }
   ],
   "source": [
    "# Count CVEs above cvss-bt_score for all cvss-bt_score\n",
    "cvss_bt_counts = df['cvss-bt_score'].value_counts().sort_index().cumsum()\n",
    "\n",
    "# Count CVEs above base_score for all base_score\n",
    "base_counts = df['base_score'].value_counts().sort_index().cumsum()\n",
    "\n",
    "# Plotting\n",
    "plt.figure(figsize=(10, 6))\n",
    "plt.plot(cvss_bt_counts.index, cvss_bt_counts.values, marker='o', linestyle='-', color='blue', label='CVSS-BT Score')\n",
    "plt.plot(base_counts.index, base_counts.values, marker='s', linestyle='--', color='green', label='CVSS-B CVSS-B Base Score')\n",
    "plt.xlabel('Score')\n",
    "plt.ylabel('Cumulative Count of CVEs')\n",
    "plt.title('Cumulative Counts of CVEs for CVSS Base Score and CVSS BT (Base and Threat) Score')\n",
    "plt.xticks(range(11))\n",
    "plt.legend()\n",
    "plt.grid(True)\n",
    "plt.savefig('../images_out/cvss-bt-counts.png')\n",
    "\n",
    "plt.show()\n",
    "\n"
   ]
  },
  {
   "attachments": {},
   "cell_type": "markdown",
   "metadata": {},
   "source": [
    "## Cumulative Count of CVEs starting at CVSS 10\n",
    "This is the count of CVEs **at/above** a given CVSS score i.e. for a given CVSS score, how many CVEs **at/above** that score?"
   ]
  },
  {
   "cell_type": "code",
   "execution_count": 481,
   "metadata": {},
   "outputs": [
    {
     "data": {
      "image/png": "[encoded data removed]",
      "text/plain": [
       "<Figure size 1200x600 with 1 Axes>"
      ]
     },
     "metadata": {},
     "output_type": "display_data"
    }
   ],
   "source": [
    "# Calculate the cumulative sum of counts above each 'BaseScore' value\n",
    "base_score_counts = df['base_score'].value_counts().sort_index()\n",
    "cumulative_counts = base_score_counts[::-1].cumsum()[::-1]  # Reverse the order to start from 0\n",
    "\n",
    "# Calculate the cumulative sum of counts above each 'BaseScore' value\n",
    "cvss_bt_score_counts = df['cvss-bt_score'].value_counts().sort_index()\n",
    "cvss_bt_cumulative_counts = cvss_bt_score_counts[::-1].cumsum()[::-1]  # Reverse the order to start from 0\n",
    "\n",
    "# Create a bar plot using Seaborn\n",
    "plt.figure(figsize=(12, 6))\n",
    "sns.regplot(x=cumulative_counts.index, y=cumulative_counts.values, order=2, ci=None)\n",
    "sns.regplot(x=cvss_bt_cumulative_counts.index, y=cvss_bt_cumulative_counts.values, order=2, ci=None)\n",
    "\n",
    "\n",
    "plt.title('Count of All CVEs At or Above Each CVSS Base Score and CVSS BT (Base and Threat) Score')\n",
    "plt.xlabel('CVSS Score')\n",
    "plt.ylabel('Count of CVEs above a given CVSS Score')\n",
    "plt.ylim(0)  # Set the x-axis limits from 0.1 to 1\n",
    "plt.legend(['CVSS Base Score', 'CVSS Base Score regression', 'CVSS BT (Base and Threat) Score', 'CVSS BT (Base and Threat) Score regression'])\n",
    "plt.grid()\n",
    "plt.savefig('../images_out/cvss-bt-counts_above.png')\n",
    "plt.show()\n"
   ]
  },
  {
   "attachments": {},
   "cell_type": "markdown",
   "metadata": {},
   "source": [
    "## CVSS Ratings"
   ]
  },
  {
   "cell_type": "code",
   "execution_count": 482,
   "metadata": {},
   "outputs": [
    {
     "data": {
      "application/vnd.plotly.v1+json": {
       "config": {
        "plotlyServerURL": "https://plot.ly"
       },
       "data": [
        {
         "marker": {
          "color": "green"
         },
         "name": "Low",
         "type": "bar",
         "x": [
          "CVSS-B Base Score"
         ],
         "y": [
          3.5126125263758077
         ]
        },
        {
         "marker": {
          "color": "orange"
         },
         "name": "Medium",
         "type": "bar",
         "x": [
          "CVSS-B Base Score"
         ],
         "y": [
          44.5989420543789
         ]
        },
        {
         "marker": {
          "color": "pink"
         },
         "name": "High",
         "type": "bar",
         "x": [
          "CVSS-B Base Score"
         ],
         "y": [
          36.89783042072275
         ]
        },
        {
         "marker": {
          "color": "red"
         },
         "name": "Critical",
         "type": "bar",
         "x": [
          "CVSS-B Base Score"
         ],
         "y": [
          14.990614998522538
         ]
        },
        {
         "marker": {
          "color": "green"
         },
         "name": "Low",
         "type": "bar",
         "x": [
          "CVSS-BT Base Threat Score"
         ],
         "y": [
          9.208538478506059
         ]
        },
        {
         "marker": {
          "color": "orange"
         },
         "name": "Medium",
         "type": "bar",
         "x": [
          "CVSS-BT Base Threat Score"
         ],
         "y": [
          57.245179521968396
         ]
        },
        {
         "marker": {
          "color": "pink"
         },
         "name": "High",
         "type": "bar",
         "x": [
          "CVSS-BT Base Threat Score"
         ],
         "y": [
          22.737923313508993
         ]
        },
        {
         "marker": {
          "color": "red"
         },
         "name": "Critical",
         "type": "bar",
         "x": [
          "CVSS-BT Base Threat Score"
         ],
         "y": [
          10.808358686016556
         ]
        }
       ],
       "layout": {
        "bargap": 0.2,
        "bargroupgap": 0.1,
        "barmode": "stack",
        "height": 500,
        "template": {
         "data": {
          "bar": [
           {
            "error_x": {
             "color": "#2a3f5f"
            },
            "error_y": {
             "color": "#2a3f5f"
            },
            "marker": {
             "line": {
              "color": "#E5ECF6",
              "width": 0.5
             },
             "pattern": {
              "fillmode": "overlay",
              "size": 10,
              "solidity": 0.2
             }
            },
            "type": "bar"
           }
          ],
          "barpolar": [
           {
            "marker": {
             "line": {
              "color": "#E5ECF6",
              "width": 0.5
             },
             "pattern": {
              "fillmode": "overlay",
              "size": 10,
              "solidity": 0.2
             }
            },
            "type": "barpolar"
           }
          ],
          "carpet": [
           {
            "aaxis": {
             "endlinecolor": "#2a3f5f",
             "gridcolor": "white",
             "linecolor": "white",
             "minorgridcolor": "white",
             "startlinecolor": "#2a3f5f"
            },
            "baxis": {
             "endlinecolor": "#2a3f5f",
             "gridcolor": "white",
             "linecolor": "white",
             "minorgridcolor": "white",
             "startlinecolor": "#2a3f5f"
            },
            "type": "carpet"
           }
          ],
          "choropleth": [
           {
            "colorbar": {
             "outlinewidth": 0,
             "ticks": ""
            },
            "type": "choropleth"
           }
          ],
          "contour": [
           {
            "colorbar": {
             "outlinewidth": 0,
             "ticks": ""
            },
            "colorscale": [
             [
              0,
              "#0d0887"
             ],
             [
              0.1111111111111111,
              "#46039f"
             ],
             [
              0.2222222222222222,
              "#7201a8"
             ],
             [
              0.3333333333333333,
              "#9c179e"
             ],
             [
              0.4444444444444444,
              "#bd3786"
             ],
             [
              0.5555555555555556,
              "#d8576b"
             ],
             [
              0.6666666666666666,
              "#ed7953"
             ],
             [
              0.7777777777777778,
              "#fb9f3a"
             ],
             [
              0.8888888888888888,
              "#fdca26"
             ],
             [
              1,
              "#f0f921"
             ]
            ],
            "type": "contour"
           }
          ],
          "contourcarpet": [
           {
            "colorbar": {
             "outlinewidth": 0,
             "ticks": ""
            },
            "type": "contourcarpet"
           }
          ],
          "heatmap": [
           {
            "colorbar": {
             "outlinewidth": 0,
             "ticks": ""
            },
            "colorscale": [
             [
              0,
              "#0d0887"
             ],
             [
              0.1111111111111111,
              "#46039f"
             ],
             [
              0.2222222222222222,
              "#7201a8"
             ],
             [
              0.3333333333333333,
              "#9c179e"
             ],
             [
              0.4444444444444444,
              "#bd3786"
             ],
             [
              0.5555555555555556,
              "#d8576b"
             ],
             [
              0.6666666666666666,
              "#ed7953"
             ],
             [
              0.7777777777777778,
              "#fb9f3a"
             ],
             [
              0.8888888888888888,
              "#fdca26"
             ],
             [
              1,
              "#f0f921"
             ]
            ],
            "type": "heatmap"
           }
          ],
          "heatmapgl": [
           {
            "colorbar": {
             "outlinewidth": 0,
             "ticks": ""
            },
            "colorscale": [
             [
              0,
              "#0d0887"
             ],
             [
              0.1111111111111111,
              "#46039f"
             ],
             [
              0.2222222222222222,
              "#7201a8"
             ],
             [
              0.3333333333333333,
              "#9c179e"
             ],
             [
              0.4444444444444444,
              "#bd3786"
             ],
             [
              0.5555555555555556,
              "#d8576b"
             ],
             [
              0.6666666666666666,
              "#ed7953"
             ],
             [
              0.7777777777777778,
              "#fb9f3a"
             ],
             [
              0.8888888888888888,
              "#fdca26"
             ],
             [
              1,
              "#f0f921"
             ]
            ],
            "type": "heatmapgl"
           }
          ],
          "histogram": [
           {
            "marker": {
             "pattern": {
              "fillmode": "overlay",
              "size": 10,
              "solidity": 0.2
             }
            },
            "type": "histogram"
           }
          ],
          "histogram2d": [
           {
            "colorbar": {
             "outlinewidth": 0,
             "ticks": ""
            },
            "colorscale": [
             [
              0,
              "#0d0887"
             ],
             [
              0.1111111111111111,
              "#46039f"
             ],
             [
              0.2222222222222222,
              "#7201a8"
             ],
             [
              0.3333333333333333,
              "#9c179e"
             ],
             [
              0.4444444444444444,
              "#bd3786"
             ],
             [
              0.5555555555555556,
              "#d8576b"
             ],
             [
              0.6666666666666666,
              "#ed7953"
             ],
             [
              0.7777777777777778,
              "#fb9f3a"
             ],
             [
              0.8888888888888888,
              "#fdca26"
             ],
             [
              1,
              "#f0f921"
             ]
            ],
            "type": "histogram2d"
           }
          ],
          "histogram2dcontour": [
           {
            "colorbar": {
             "outlinewidth": 0,
             "ticks": ""
            },
            "colorscale": [
             [
              0,
              "#0d0887"
             ],
             [
              0.1111111111111111,
              "#46039f"
             ],
             [
              0.2222222222222222,
              "#7201a8"
             ],
             [
              0.3333333333333333,
              "#9c179e"
             ],
             [
              0.4444444444444444,
              "#bd3786"
             ],
             [
              0.5555555555555556,
              "#d8576b"
             ],
             [
              0.6666666666666666,
              "#ed7953"
             ],
             [
              0.7777777777777778,
              "#fb9f3a"
             ],
             [
              0.8888888888888888,
              "#fdca26"
             ],
             [
              1,
              "#f0f921"
             ]
            ],
            "type": "histogram2dcontour"
           }
          ],
          "mesh3d": [
           {
            "colorbar": {
             "outlinewidth": 0,
             "ticks": ""
            },
            "type": "mesh3d"
           }
          ],
          "parcoords": [
           {
            "line": {
             "colorbar": {
              "outlinewidth": 0,
              "ticks": ""
             }
            },
            "type": "parcoords"
           }
          ],
          "pie": [
           {
            "automargin": true,
            "type": "pie"
           }
          ],
          "scatter": [
           {
            "fillpattern": {
             "fillmode": "overlay",
             "size": 10,
             "solidity": 0.2
            },
            "type": "scatter"
           }
          ],
          "scatter3d": [
           {
            "line": {
             "colorbar": {
              "outlinewidth": 0,
              "ticks": ""
             }
            },
            "marker": {
             "colorbar": {
              "outlinewidth": 0,
              "ticks": ""
             }
            },
            "type": "scatter3d"
           }
          ],
          "scattercarpet": [
           {
            "marker": {
             "colorbar": {
              "outlinewidth": 0,
              "ticks": ""
             }
            },
            "type": "scattercarpet"
           }
          ],
          "scattergeo": [
           {
            "marker": {
             "colorbar": {
              "outlinewidth": 0,
              "ticks": ""
             }
            },
            "type": "scattergeo"
           }
          ],
          "scattergl": [
           {
            "marker": {
             "colorbar": {
              "outlinewidth": 0,
              "ticks": ""
             }
            },
            "type": "scattergl"
           }
          ],
          "scattermapbox": [
           {
            "marker": {
             "colorbar": {
              "outlinewidth": 0,
              "ticks": ""
             }
            },
            "type": "scattermapbox"
           }
          ],
          "scatterpolar": [
           {
            "marker": {
             "colorbar": {
              "outlinewidth": 0,
              "ticks": ""
             }
            },
            "type": "scatterpolar"
           }
          ],
          "scatterpolargl": [
           {
            "marker": {
             "colorbar": {
              "outlinewidth": 0,
              "ticks": ""
             }
            },
            "type": "scatterpolargl"
           }
          ],
          "scatterternary": [
           {
            "marker": {
             "colorbar": {
              "outlinewidth": 0,
              "ticks": ""
             }
            },
            "type": "scatterternary"
           }
          ],
          "surface": [
           {
            "colorbar": {
             "outlinewidth": 0,
             "ticks": ""
            },
            "colorscale": [
             [
              0,
              "#0d0887"
             ],
             [
              0.1111111111111111,
              "#46039f"
             ],
             [
              0.2222222222222222,
              "#7201a8"
             ],
             [
              0.3333333333333333,
              "#9c179e"
             ],
             [
              0.4444444444444444,
              "#bd3786"
             ],
             [
              0.5555555555555556,
              "#d8576b"
             ],
             [
              0.6666666666666666,
              "#ed7953"
             ],
             [
              0.7777777777777778,
              "#fb9f3a"
             ],
             [
              0.8888888888888888,
              "#fdca26"
             ],
             [
              1,
              "#f0f921"
             ]
            ],
            "type": "surface"
           }
          ],
          "table": [
           {
            "cells": {
             "fill": {
              "color": "#EBF0F8"
             },
             "line": {
              "color": "white"
             }
            },
            "header": {
             "fill": {
              "color": "#C8D4E3"
             },
             "line": {
              "color": "white"
             }
            },
            "type": "table"
           }
          ]
         },
         "layout": {
          "annotationdefaults": {
           "arrowcolor": "#2a3f5f",
           "arrowhead": 0,
           "arrowwidth": 1
          },
          "autotypenumbers": "strict",
          "coloraxis": {
           "colorbar": {
            "outlinewidth": 0,
            "ticks": ""
           }
          },
          "colorscale": {
           "diverging": [
            [
             0,
             "#8e0152"
            ],
            [
             0.1,
             "#c51b7d"
            ],
            [
             0.2,
             "#de77ae"
            ],
            [
             0.3,
             "#f1b6da"
            ],
            [
             0.4,
             "#fde0ef"
            ],
            [
             0.5,
             "#f7f7f7"
            ],
            [
             0.6,
             "#e6f5d0"
            ],
            [
             0.7,
             "#b8e186"
            ],
            [
             0.8,
             "#7fbc41"
            ],
            [
             0.9,
             "#4d9221"
            ],
            [
             1,
             "#276419"
            ]
           ],
           "sequential": [
            [
             0,
             "#0d0887"
            ],
            [
             0.1111111111111111,
             "#46039f"
            ],
            [
             0.2222222222222222,
             "#7201a8"
            ],
            [
             0.3333333333333333,
             "#9c179e"
            ],
            [
             0.4444444444444444,
             "#bd3786"
            ],
            [
             0.5555555555555556,
             "#d8576b"
            ],
            [
             0.6666666666666666,
             "#ed7953"
            ],
            [
             0.7777777777777778,
             "#fb9f3a"
            ],
            [
             0.8888888888888888,
             "#fdca26"
            ],
            [
             1,
             "#f0f921"
            ]
           ],
           "sequentialminus": [
            [
             0,
             "#0d0887"
            ],
            [
             0.1111111111111111,
             "#46039f"
            ],
            [
             0.2222222222222222,
             "#7201a8"
            ],
            [
             0.3333333333333333,
             "#9c179e"
            ],
            [
             0.4444444444444444,
             "#bd3786"
            ],
            [
             0.5555555555555556,
             "#d8576b"
            ],
            [
             0.6666666666666666,
             "#ed7953"
            ],
            [
             0.7777777777777778,
             "#fb9f3a"
            ],
            [
             0.8888888888888888,
             "#fdca26"
            ],
            [
             1,
             "#f0f921"
            ]
           ]
          },
          "colorway": [
           "#636efa",
           "#EF553B",
           "#00cc96",
           "#ab63fa",
           "#FFA15A",
           "#19d3f3",
           "#FF6692",
           "#B6E880",
           "#FF97FF",
           "#FECB52"
          ],
          "font": {
           "color": "#2a3f5f"
          },
          "geo": {
           "bgcolor": "white",
           "lakecolor": "white",
           "landcolor": "#E5ECF6",
           "showlakes": true,
           "showland": true,
           "subunitcolor": "white"
          },
          "hoverlabel": {
           "align": "left"
          },
          "hovermode": "closest",
          "mapbox": {
           "style": "light"
          },
          "paper_bgcolor": "white",
          "plot_bgcolor": "#E5ECF6",
          "polar": {
           "angularaxis": {
            "gridcolor": "white",
            "linecolor": "white",
            "ticks": ""
           },
           "bgcolor": "#E5ECF6",
           "radialaxis": {
            "gridcolor": "white",
            "linecolor": "white",
            "ticks": ""
           }
          },
          "scene": {
           "xaxis": {
            "backgroundcolor": "#E5ECF6",
            "gridcolor": "white",
            "gridwidth": 2,
            "linecolor": "white",
            "showbackground": true,
            "ticks": "",
            "zerolinecolor": "white"
           },
           "yaxis": {
            "backgroundcolor": "#E5ECF6",
            "gridcolor": "white",
            "gridwidth": 2,
            "linecolor": "white",
            "showbackground": true,
            "ticks": "",
            "zerolinecolor": "white"
           },
           "zaxis": {
            "backgroundcolor": "#E5ECF6",
            "gridcolor": "white",
            "gridwidth": 2,
            "linecolor": "white",
            "showbackground": true,
            "ticks": "",
            "zerolinecolor": "white"
           }
          },
          "shapedefaults": {
           "line": {
            "color": "#2a3f5f"
           }
          },
          "ternary": {
           "aaxis": {
            "gridcolor": "white",
            "linecolor": "white",
            "ticks": ""
           },
           "baxis": {
            "gridcolor": "white",
            "linecolor": "white",
            "ticks": ""
           },
           "bgcolor": "#E5ECF6",
           "caxis": {
            "gridcolor": "white",
            "linecolor": "white",
            "ticks": ""
           }
          },
          "title": {
           "x": 0.05
          },
          "xaxis": {
           "automargin": true,
           "gridcolor": "white",
           "linecolor": "white",
           "ticks": "",
           "title": {
            "standoff": 15
           },
           "zerolinecolor": "white",
           "zerolinewidth": 2
          },
          "yaxis": {
           "automargin": true,
           "gridcolor": "white",
           "linecolor": "white",
           "ticks": "",
           "title": {
            "standoff": 15
           },
           "zerolinecolor": "white",
           "zerolinewidth": 2
          }
         }
        },
        "title": {
         "text": "CVEs by CVSS-B Base and CVSS-BT Base Threat Score Ratings"
        },
        "width": 600,
        "xaxis": {
         "title": {
          "text": "CVSS Rating"
         }
        },
        "yaxis": {
         "title": {
          "text": "Percentage of CVEs"
         }
        }
       }
      }
     },
     "metadata": {},
     "output_type": "display_data"
    }
   ],
   "source": [
    "# Define function to categorize scores\n",
    "def categorize_score(score):\n",
    "    if score >= 0.1 and score <= 3.9:\n",
    "        return 'low'\n",
    "    elif score >= 4.0 and score <= 6.9:\n",
    "        return 'medium'\n",
    "    elif score >= 7.0 and score <= 8.9:\n",
    "        return 'high'\n",
    "    elif score >= 9.0 and score <= 10.0:\n",
    "        return 'critical'\n",
    "    else:\n",
    "        return 'invalid'\n",
    "\n",
    "# Apply categorization to both base_score and cvss-bt_score\n",
    "df['base_score_category'] = df['base_score'].apply(categorize_score)\n",
    "df['cvss-bt_score_category'] = df['cvss-bt_score'].apply(categorize_score)\n",
    "\n",
    "# Count the number of CVEs in each category\n",
    "base_score_counts = df['base_score_category'].value_counts().reindex(['low', 'medium', 'high', 'critical'], fill_value=0)\n",
    "cvss_bt_score_counts = df['cvss-bt_score_category'].value_counts().reindex(['low', 'medium', 'high', 'critical'], fill_value=0)\n",
    "\n",
    "# Calculate percentages\n",
    "base_score_perc = base_score_counts / base_score_counts.sum() * 100\n",
    "cvss_bt_score_perc = cvss_bt_score_counts / cvss_bt_score_counts.sum() * 100\n",
    "\n",
    "# Create traces for base score categories\n",
    "trace_base_low = go.Bar(\n",
    "    x=['CVSS-B Base Score'],\n",
    "    y=[base_score_perc['low']],\n",
    "    name='Low',\n",
    "    marker=dict(color='green')\n",
    ")\n",
    "trace_base_medium = go.Bar(\n",
    "    x=['CVSS-B Base Score'],\n",
    "    y=[base_score_perc['medium']],\n",
    "    name='Medium',\n",
    "    marker=dict(color='orange')\n",
    ")\n",
    "trace_base_high = go.Bar(\n",
    "    x=['CVSS-B Base Score'],\n",
    "    y=[base_score_perc['high']],\n",
    "    name='High',\n",
    "    marker=dict(color='pink')\n",
    ")\n",
    "trace_base_critical = go.Bar(\n",
    "    x=['CVSS-B Base Score'],\n",
    "    y=[base_score_perc['critical']],\n",
    "    name='Critical',\n",
    "    marker=dict(color='red')\n",
    ")\n",
    "\n",
    "# Create traces for CVSS-BT score categories\n",
    "trace_cvss_bt_low = go.Bar(\n",
    "    x=['CVSS-BT Base Threat Score'],\n",
    "    y=[cvss_bt_score_perc['low']],\n",
    "    name='Low',\n",
    "    marker=dict(color='green')\n",
    ")\n",
    "trace_cvss_bt_medium = go.Bar(\n",
    "    x=['CVSS-BT Base Threat Score'],\n",
    "    y=[cvss_bt_score_perc['medium']],\n",
    "    name='Medium',\n",
    "    marker=dict(color='orange')\n",
    ")\n",
    "trace_cvss_bt_high = go.Bar(\n",
    "    x=['CVSS-BT Base Threat Score'],\n",
    "    y=[cvss_bt_score_perc['high']],\n",
    "    name='High',\n",
    "    marker=dict(color='pink')\n",
    ")\n",
    "trace_cvss_bt_critical = go.Bar(\n",
    "    x=['CVSS-BT Base Threat Score'],\n",
    "    y=[cvss_bt_score_perc['critical']],\n",
    "    name='Critical',\n",
    "    marker=dict(color='red')\n",
    ")\n",
    "\n",
    "# Layout\n",
    "layout = go.Layout(\n",
    "    title='CVEs by CVSS-B Base and CVSS-BT Base Threat Score Ratings',\n",
    "    xaxis=dict(title='CVSS Rating'),\n",
    "    yaxis=dict(title='Percentage of CVEs'),\n",
    "    barmode='stack',\n",
    "    bargroupgap=0.1,\n",
    "    bargap=0.2,\n",
    "    height=500,\n",
    "    width=600\n",
    ")\n",
    "\n",
    "# Create figure\n",
    "fig = go.Figure(\n",
    "    data=[trace_base_low, trace_base_medium, trace_base_high, trace_base_critical,\n",
    "          trace_cvss_bt_low, trace_cvss_bt_medium, trace_cvss_bt_high, trace_cvss_bt_critical],\n",
    "    layout=layout\n",
    ")\n",
    "# Show plot\n",
    "fig.show()\n",
    "\n",
    "fig.write_image(\"../images_out/cvss_bt_bar.png\") "
   ]
  },
  {
   "cell_type": "code",
   "execution_count": 483,
   "metadata": {},
   "outputs": [
    {
     "data": {
      "text/html": [
       "<div>\n",
       "<style scoped>\n",
       "    .dataframe tbody tr th:only-of-type {\n",
       "        vertical-align: middle;\n",
       "    }\n",
       "\n",
       "    .dataframe tbody tr th {\n",
       "        vertical-align: top;\n",
       "    }\n",
       "\n",
       "    .dataframe thead th {\n",
       "        text-align: right;\n",
       "    }\n",
       "</style>\n",
       "<table border=\"1\" class=\"dataframe\">\n",
       "  <thead>\n",
       "    <tr style=\"text-align: right;\">\n",
       "      <th></th>\n",
       "      <th>base_score_category</th>\n",
       "      <th>cvss-bt_score_category</th>\n",
       "      <th>count</th>\n",
       "    </tr>\n",
       "  </thead>\n",
       "  <tbody>\n",
       "    <tr>\n",
       "      <th>0</th>\n",
       "      <td>critical</td>\n",
       "      <td>critical</td>\n",
       "      <td>25970</td>\n",
       "    </tr>\n",
       "    <tr>\n",
       "      <th>1</th>\n",
       "      <td>critical</td>\n",
       "      <td>high</td>\n",
       "      <td>10049</td>\n",
       "    </tr>\n",
       "    <tr>\n",
       "      <th>2</th>\n",
       "      <td>high</td>\n",
       "      <td>high</td>\n",
       "      <td>44585</td>\n",
       "    </tr>\n",
       "    <tr>\n",
       "      <th>3</th>\n",
       "      <td>high</td>\n",
       "      <td>medium</td>\n",
       "      <td>44072</td>\n",
       "    </tr>\n",
       "    <tr>\n",
       "      <th>4</th>\n",
       "      <td>low</td>\n",
       "      <td>low</td>\n",
       "      <td>8440</td>\n",
       "    </tr>\n",
       "    <tr>\n",
       "      <th>5</th>\n",
       "      <td>medium</td>\n",
       "      <td>low</td>\n",
       "      <td>13686</td>\n",
       "    </tr>\n",
       "    <tr>\n",
       "      <th>6</th>\n",
       "      <td>medium</td>\n",
       "      <td>medium</td>\n",
       "      <td>93475</td>\n",
       "    </tr>\n",
       "  </tbody>\n",
       "</table>\n",
       "</div>"
      ],
      "text/plain": [
       "  base_score_category cvss-bt_score_category  count\n",
       "0            critical               critical  25970\n",
       "1            critical                   high  10049\n",
       "2                high                   high  44585\n",
       "3                high                 medium  44072\n",
       "4                 low                    low   8440\n",
       "5              medium                    low  13686\n",
       "6              medium                 medium  93475"
      ]
     },
     "execution_count": 483,
     "metadata": {},
     "output_type": "execute_result"
    }
   ],
   "source": [
    "cvss_bt_sankey_data = df.groupby(['base_score_category', 'cvss-bt_score_category']).size().reset_index(name='count')\n",
    "cvss_bt_sankey_data"
   ]
  },
  {
   "cell_type": "code",
   "execution_count": 484,
   "metadata": {},
   "outputs": [
    {
     "data": {
      "application/vnd.plotly.v1+json": {
       "config": {
        "plotlyServerURL": "https://plot.ly"
       },
       "data": [
        {
         "counts": [
          25970,
          10049,
          44585,
          44072,
          8440,
          13686,
          93475
         ],
         "dimensions": [
          {
           "label": "CVSS Base Score Rating",
           "values": [
            "critical",
            "critical",
            "high",
            "high",
            "low",
            "medium",
            "medium"
           ]
          },
          {
           "label": "CVSS Base Threat Score Rating",
           "values": [
            "critical",
            "high",
            "high",
            "medium",
            "low",
            "low",
            "medium"
           ]
          }
         ],
         "line": {
          "color": [
           4,
           3,
           3,
           2,
           1,
           1,
           2
          ],
          "colorscale": [
           [
            0,
            "rgb(255,255,204)"
           ],
           [
            0.125,
            "rgb(255,237,160)"
           ],
           [
            0.25,
            "rgb(254,217,118)"
           ],
           [
            0.375,
            "rgb(254,178,76)"
           ],
           [
            0.5,
            "rgb(253,141,60)"
           ],
           [
            0.625,
            "rgb(252,78,42)"
           ],
           [
            0.75,
            "rgb(227,26,28)"
           ],
           [
            0.875,
            "rgb(189,0,38)"
           ],
           [
            1,
            "rgb(128,0,38)"
           ]
          ]
         },
         "type": "parcats"
        }
       ],
       "layout": {
        "autosize": false,
        "height": 800,
        "template": {
         "data": {
          "bar": [
           {
            "error_x": {
             "color": "#2a3f5f"
            },
            "error_y": {
             "color": "#2a3f5f"
            },
            "marker": {
             "line": {
              "color": "#E5ECF6",
              "width": 0.5
             },
             "pattern": {
              "fillmode": "overlay",
              "size": 10,
              "solidity": 0.2
             }
            },
            "type": "bar"
           }
          ],
          "barpolar": [
           {
            "marker": {
             "line": {
              "color": "#E5ECF6",
              "width": 0.5
             },
             "pattern": {
              "fillmode": "overlay",
              "size": 10,
              "solidity": 0.2
             }
            },
            "type": "barpolar"
           }
          ],
          "carpet": [
           {
            "aaxis": {
             "endlinecolor": "#2a3f5f",
             "gridcolor": "white",
             "linecolor": "white",
             "minorgridcolor": "white",
             "startlinecolor": "#2a3f5f"
            },
            "baxis": {
             "endlinecolor": "#2a3f5f",
             "gridcolor": "white",
             "linecolor": "white",
             "minorgridcolor": "white",
             "startlinecolor": "#2a3f5f"
            },
            "type": "carpet"
           }
          ],
          "choropleth": [
           {
            "colorbar": {
             "outlinewidth": 0,
             "ticks": ""
            },
            "type": "choropleth"
           }
          ],
          "contour": [
           {
            "colorbar": {
             "outlinewidth": 0,
             "ticks": ""
            },
            "colorscale": [
             [
              0,
              "#0d0887"
             ],
             [
              0.1111111111111111,
              "#46039f"
             ],
             [
              0.2222222222222222,
              "#7201a8"
             ],
             [
              0.3333333333333333,
              "#9c179e"
             ],
             [
              0.4444444444444444,
              "#bd3786"
             ],
             [
              0.5555555555555556,
              "#d8576b"
             ],
             [
              0.6666666666666666,
              "#ed7953"
             ],
             [
              0.7777777777777778,
              "#fb9f3a"
             ],
             [
              0.8888888888888888,
              "#fdca26"
             ],
             [
              1,
              "#f0f921"
             ]
            ],
            "type": "contour"
           }
          ],
          "contourcarpet": [
           {
            "colorbar": {
             "outlinewidth": 0,
             "ticks": ""
            },
            "type": "contourcarpet"
           }
          ],
          "heatmap": [
           {
            "colorbar": {
             "outlinewidth": 0,
             "ticks": ""
            },
            "colorscale": [
             [
              0,
              "#0d0887"
             ],
             [
              0.1111111111111111,
              "#46039f"
             ],
             [
              0.2222222222222222,
              "#7201a8"
             ],
             [
              0.3333333333333333,
              "#9c179e"
             ],
             [
              0.4444444444444444,
              "#bd3786"
             ],
             [
              0.5555555555555556,
              "#d8576b"
             ],
             [
              0.6666666666666666,
              "#ed7953"
             ],
             [
              0.7777777777777778,
              "#fb9f3a"
             ],
             [
              0.8888888888888888,
              "#fdca26"
             ],
             [
              1,
              "#f0f921"
             ]
            ],
            "type": "heatmap"
           }
          ],
          "heatmapgl": [
           {
            "colorbar": {
             "outlinewidth": 0,
             "ticks": ""
            },
            "colorscale": [
             [
              0,
              "#0d0887"
             ],
             [
              0.1111111111111111,
              "#46039f"
             ],
             [
              0.2222222222222222,
              "#7201a8"
             ],
             [
              0.3333333333333333,
              "#9c179e"
             ],
             [
              0.4444444444444444,
              "#bd3786"
             ],
             [
              0.5555555555555556,
              "#d8576b"
             ],
             [
              0.6666666666666666,
              "#ed7953"
             ],
             [
              0.7777777777777778,
              "#fb9f3a"
             ],
             [
              0.8888888888888888,
              "#fdca26"
             ],
             [
              1,
              "#f0f921"
             ]
            ],
            "type": "heatmapgl"
           }
          ],
          "histogram": [
           {
            "marker": {
             "pattern": {
              "fillmode": "overlay",
              "size": 10,
              "solidity": 0.2
             }
            },
            "type": "histogram"
           }
          ],
          "histogram2d": [
           {
            "colorbar": {
             "outlinewidth": 0,
             "ticks": ""
            },
            "colorscale": [
             [
              0,
              "#0d0887"
             ],
             [
              0.1111111111111111,
              "#46039f"
             ],
             [
              0.2222222222222222,
              "#7201a8"
             ],
             [
              0.3333333333333333,
              "#9c179e"
             ],
             [
              0.4444444444444444,
              "#bd3786"
             ],
             [
              0.5555555555555556,
              "#d8576b"
             ],
             [
              0.6666666666666666,
              "#ed7953"
             ],
             [
              0.7777777777777778,
              "#fb9f3a"
             ],
             [
              0.8888888888888888,
              "#fdca26"
             ],
             [
              1,
              "#f0f921"
             ]
            ],
            "type": "histogram2d"
           }
          ],
          "histogram2dcontour": [
           {
            "colorbar": {
             "outlinewidth": 0,
             "ticks": ""
            },
            "colorscale": [
             [
              0,
              "#0d0887"
             ],
             [
              0.1111111111111111,
              "#46039f"
             ],
             [
              0.2222222222222222,
              "#7201a8"
             ],
             [
              0.3333333333333333,
              "#9c179e"
             ],
             [
              0.4444444444444444,
              "#bd3786"
             ],
             [
              0.5555555555555556,
              "#d8576b"
             ],
             [
              0.6666666666666666,
              "#ed7953"
             ],
             [
              0.7777777777777778,
              "#fb9f3a"
             ],
             [
              0.8888888888888888,
              "#fdca26"
             ],
             [
              1,
              "#f0f921"
             ]
            ],
            "type": "histogram2dcontour"
           }
          ],
          "mesh3d": [
           {
            "colorbar": {
             "outlinewidth": 0,
             "ticks": ""
            },
            "type": "mesh3d"
           }
          ],
          "parcoords": [
           {
            "line": {
             "colorbar": {
              "outlinewidth": 0,
              "ticks": ""
             }
            },
            "type": "parcoords"
           }
          ],
          "pie": [
           {
            "automargin": true,
            "type": "pie"
           }
          ],
          "scatter": [
           {
            "fillpattern": {
             "fillmode": "overlay",
             "size": 10,
             "solidity": 0.2
            },
            "type": "scatter"
           }
          ],
          "scatter3d": [
           {
            "line": {
             "colorbar": {
              "outlinewidth": 0,
              "ticks": ""
             }
            },
            "marker": {
             "colorbar": {
              "outlinewidth": 0,
              "ticks": ""
             }
            },
            "type": "scatter3d"
           }
          ],
          "scattercarpet": [
           {
            "marker": {
             "colorbar": {
              "outlinewidth": 0,
              "ticks": ""
             }
            },
            "type": "scattercarpet"
           }
          ],
          "scattergeo": [
           {
            "marker": {
             "colorbar": {
              "outlinewidth": 0,
              "ticks": ""
             }
            },
            "type": "scattergeo"
           }
          ],
          "scattergl": [
           {
            "marker": {
             "colorbar": {
              "outlinewidth": 0,
              "ticks": ""
             }
            },
            "type": "scattergl"
           }
          ],
          "scattermapbox": [
           {
            "marker": {
             "colorbar": {
              "outlinewidth": 0,
              "ticks": ""
             }
            },
            "type": "scattermapbox"
           }
          ],
          "scatterpolar": [
           {
            "marker": {
             "colorbar": {
              "outlinewidth": 0,
              "ticks": ""
             }
            },
            "type": "scatterpolar"
           }
          ],
          "scatterpolargl": [
           {
            "marker": {
             "colorbar": {
              "outlinewidth": 0,
              "ticks": ""
             }
            },
            "type": "scatterpolargl"
           }
          ],
          "scatterternary": [
           {
            "marker": {
             "colorbar": {
              "outlinewidth": 0,
              "ticks": ""
             }
            },
            "type": "scatterternary"
           }
          ],
          "surface": [
           {
            "colorbar": {
             "outlinewidth": 0,
             "ticks": ""
            },
            "colorscale": [
             [
              0,
              "#0d0887"
             ],
             [
              0.1111111111111111,
              "#46039f"
             ],
             [
              0.2222222222222222,
              "#7201a8"
             ],
             [
              0.3333333333333333,
              "#9c179e"
             ],
             [
              0.4444444444444444,
              "#bd3786"
             ],
             [
              0.5555555555555556,
              "#d8576b"
             ],
             [
              0.6666666666666666,
              "#ed7953"
             ],
             [
              0.7777777777777778,
              "#fb9f3a"
             ],
             [
              0.8888888888888888,
              "#fdca26"
             ],
             [
              1,
              "#f0f921"
             ]
            ],
            "type": "surface"
           }
          ],
          "table": [
           {
            "cells": {
             "fill": {
              "color": "#EBF0F8"
             },
             "line": {
              "color": "white"
             }
            },
            "header": {
             "fill": {
              "color": "#C8D4E3"
             },
             "line": {
              "color": "white"
             }
            },
            "type": "table"
           }
          ]
         },
         "layout": {
          "annotationdefaults": {
           "arrowcolor": "#2a3f5f",
           "arrowhead": 0,
           "arrowwidth": 1
          },
          "autotypenumbers": "strict",
          "coloraxis": {
           "colorbar": {
            "outlinewidth": 0,
            "ticks": ""
           }
          },
          "colorscale": {
           "diverging": [
            [
             0,
             "#8e0152"
            ],
            [
             0.1,
             "#c51b7d"
            ],
            [
             0.2,
             "#de77ae"
            ],
            [
             0.3,
             "#f1b6da"
            ],
            [
             0.4,
             "#fde0ef"
            ],
            [
             0.5,
             "#f7f7f7"
            ],
            [
             0.6,
             "#e6f5d0"
            ],
            [
             0.7,
             "#b8e186"
            ],
            [
             0.8,
             "#7fbc41"
            ],
            [
             0.9,
             "#4d9221"
            ],
            [
             1,
             "#276419"
            ]
           ],
           "sequential": [
            [
             0,
             "#0d0887"
            ],
            [
             0.1111111111111111,
             "#46039f"
            ],
            [
             0.2222222222222222,
             "#7201a8"
            ],
            [
             0.3333333333333333,
             "#9c179e"
            ],
            [
             0.4444444444444444,
             "#bd3786"
            ],
            [
             0.5555555555555556,
             "#d8576b"
            ],
            [
             0.6666666666666666,
             "#ed7953"
            ],
            [
             0.7777777777777778,
             "#fb9f3a"
            ],
            [
             0.8888888888888888,
             "#fdca26"
            ],
            [
             1,
             "#f0f921"
            ]
           ],
           "sequentialminus": [
            [
             0,
             "#0d0887"
            ],
            [
             0.1111111111111111,
             "#46039f"
            ],
            [
             0.2222222222222222,
             "#7201a8"
            ],
            [
             0.3333333333333333,
             "#9c179e"
            ],
            [
             0.4444444444444444,
             "#bd3786"
            ],
            [
             0.5555555555555556,
             "#d8576b"
            ],
            [
             0.6666666666666666,
             "#ed7953"
            ],
            [
             0.7777777777777778,
             "#fb9f3a"
            ],
            [
             0.8888888888888888,
             "#fdca26"
            ],
            [
             1,
             "#f0f921"
            ]
           ]
          },
          "colorway": [
           "#636efa",
           "#EF553B",
           "#00cc96",
           "#ab63fa",
           "#FFA15A",
           "#19d3f3",
           "#FF6692",
           "#B6E880",
           "#FF97FF",
           "#FECB52"
          ],
          "font": {
           "color": "#2a3f5f"
          },
          "geo": {
           "bgcolor": "white",
           "lakecolor": "white",
           "landcolor": "#E5ECF6",
           "showlakes": true,
           "showland": true,
           "subunitcolor": "white"
          },
          "hoverlabel": {
           "align": "left"
          },
          "hovermode": "closest",
          "mapbox": {
           "style": "light"
          },
          "paper_bgcolor": "white",
          "plot_bgcolor": "#E5ECF6",
          "polar": {
           "angularaxis": {
            "gridcolor": "white",
            "linecolor": "white",
            "ticks": ""
           },
           "bgcolor": "#E5ECF6",
           "radialaxis": {
            "gridcolor": "white",
            "linecolor": "white",
            "ticks": ""
           }
          },
          "scene": {
           "xaxis": {
            "backgroundcolor": "#E5ECF6",
            "gridcolor": "white",
            "gridwidth": 2,
            "linecolor": "white",
            "showbackground": true,
            "ticks": "",
            "zerolinecolor": "white"
           },
           "yaxis": {
            "backgroundcolor": "#E5ECF6",
            "gridcolor": "white",
            "gridwidth": 2,
            "linecolor": "white",
            "showbackground": true,
            "ticks": "",
            "zerolinecolor": "white"
           },
           "zaxis": {
            "backgroundcolor": "#E5ECF6",
            "gridcolor": "white",
            "gridwidth": 2,
            "linecolor": "white",
            "showbackground": true,
            "ticks": "",
            "zerolinecolor": "white"
           }
          },
          "shapedefaults": {
           "line": {
            "color": "#2a3f5f"
           }
          },
          "ternary": {
           "aaxis": {
            "gridcolor": "white",
            "linecolor": "white",
            "ticks": ""
           },
           "baxis": {
            "gridcolor": "white",
            "linecolor": "white",
            "ticks": ""
           },
           "bgcolor": "#E5ECF6",
           "caxis": {
            "gridcolor": "white",
            "linecolor": "white",
            "ticks": ""
           }
          },
          "title": {
           "x": 0.05
          },
          "xaxis": {
           "automargin": true,
           "gridcolor": "white",
           "linecolor": "white",
           "ticks": "",
           "title": {
            "standoff": 15
           },
           "zerolinecolor": "white",
           "zerolinewidth": 2
          },
          "yaxis": {
           "automargin": true,
           "gridcolor": "white",
           "linecolor": "white",
           "ticks": "",
           "title": {
            "standoff": 15
           },
           "zerolinecolor": "white",
           "zerolinewidth": 2
          }
         }
        },
        "title": {
         "text": "CVSS-B Base vs CVSS-BT Base Threat Score Ratings"
        },
        "width": 800
       }
      }
     },
     "metadata": {},
     "output_type": "display_data"
    },
    {
     "data": {
      "image/png": "[encoded data removed]",
      "text/plain": [
       "<IPython.core.display.Image object>"
      ]
     },
     "execution_count": 484,
     "metadata": {},
     "output_type": "execute_result"
    }
   ],
   "source": [
    "# Mapping dictionary to convert numbers back to categorical values\n",
    "category_to_number = {'critical': 4, 'high': 3, 'medium': 2, 'low': 1}\n",
    "\n",
    "cvss_bt_sankey_data['cvss_bt_score_category_color'] = cvss_bt_sankey_data['cvss-bt_score_category'].map(category_to_number)\n",
    "color = cvss_bt_sankey_data['cvss_bt_score_category_color'];\n",
    "\n",
    "colorscale = 'YlOrRd' #Yellow Orange Red\n",
    "fig = go.Figure(go.Parcats(\n",
    "    dimensions=[\n",
    "        {'label': 'CVSS Base Score Rating', 'values': cvss_bt_sankey_data['base_score_category']},\n",
    "        {'label': 'CVSS Base Threat Score Rating', 'values': cvss_bt_sankey_data['cvss-bt_score_category']},\n",
    "    ],\n",
    "    line={'color': color, 'colorscale': colorscale},\n",
    "    counts=cvss_bt_sankey_data['count'],\n",
    "))\n",
    "fig.update_layout(\n",
    "    title='CVSS-B Base vs CVSS-BT Base Threat Score Ratings',\n",
    "    autosize=False,\n",
    "    width=800,\n",
    "    height=800,\n",
    ")\n",
    "fig.show()\n",
    "\n",
    "fig.write_image(\"../images_out/cvss_bt_parcat.png\") \n",
    "\n",
    "Image(filename='../images_out/cvss_bt_parcat.png') #display plot when viewing in github\n"
   ]
  },
  {
   "attachments": {},
   "cell_type": "markdown",
   "metadata": {},
   "source": [
    "## CVSS with Exploitation Focus"
   ]
  },
  {
   "cell_type": "code",
   "execution_count": 485,
   "metadata": {},
   "outputs": [
    {
     "data": {
      "text/plain": [
       "medium      107161\n",
       "high         88657\n",
       "critical     36019\n",
       "low           8440\n",
       "Name: base_score_category, dtype: int64"
      ]
     },
     "execution_count": 485,
     "metadata": {},
     "output_type": "execute_result"
    }
   ],
   "source": [
    "df['base_score_category'].value_counts()"
   ]
  },
  {
   "attachments": {},
   "cell_type": "markdown",
   "metadata": {},
   "source": [
    "### Parallel Categories Diagram"
   ]
  },
  {
   "cell_type": "code",
   "execution_count": 486,
   "metadata": {},
   "outputs": [
    {
     "data": {
      "text/plain": [
       "None          211658\n",
       "poc            23072\n",
       "weaponized      3583\n",
       "kev             1964\n",
       "Name: exploitation, dtype: int64"
      ]
     },
     "execution_count": 486,
     "metadata": {},
     "output_type": "execute_result"
    }
   ],
   "source": [
    "\n",
    "df['weaponized'] = (df['metasploit'] | df['nuclei']) \n",
    "df['kev'] = (df['cisa_kev'] | df['vulncheck_kev']) \n",
    "df['poc'] = (df['poc_github'] | df['exploitdb']) \n",
    "\n",
    "# Define a function to map values based on conditions\n",
    "def map_exploitation(row):\n",
    "    #if row['kev'] and row['weaponized']:\n",
    "    #    return 'kev_weaponized'\n",
    "    #elif row['kev']:\n",
    "    if row['kev']:\n",
    "        return 'kev'\n",
    "    elif row['weaponized']:\n",
    "        return 'weaponized'\n",
    "    elif row['poc']:\n",
    "        return 'poc'\n",
    "    else:\n",
    "        return 'None'\n",
    "\n",
    "# Apply the function to create the 'exploitation' column\n",
    "df['exploitation'] = df.apply(map_exploitation, axis=1)\n",
    "df['exploitation'].value_counts()\n"
   ]
  },
  {
   "cell_type": "code",
   "execution_count": 487,
   "metadata": {},
   "outputs": [
    {
     "data": {
      "text/html": [
       "<div>\n",
       "<style scoped>\n",
       "    .dataframe tbody tr th:only-of-type {\n",
       "        vertical-align: middle;\n",
       "    }\n",
       "\n",
       "    .dataframe tbody tr th {\n",
       "        vertical-align: top;\n",
       "    }\n",
       "\n",
       "    .dataframe thead th {\n",
       "        text-align: right;\n",
       "    }\n",
       "</style>\n",
       "<table border=\"1\" class=\"dataframe\">\n",
       "  <thead>\n",
       "    <tr style=\"text-align: right;\">\n",
       "      <th></th>\n",
       "      <th>cve</th>\n",
       "      <th>cvss-bt_score</th>\n",
       "      <th>cvss-bt_severity</th>\n",
       "      <th>cvss-bt_vector</th>\n",
       "      <th>cvss_version</th>\n",
       "      <th>base_score</th>\n",
       "      <th>base_severity</th>\n",
       "      <th>base_vector</th>\n",
       "      <th>assigner</th>\n",
       "      <th>published_date</th>\n",
       "      <th>...</th>\n",
       "      <th>exploitdb</th>\n",
       "      <th>metasploit</th>\n",
       "      <th>nuclei</th>\n",
       "      <th>poc_github</th>\n",
       "      <th>base_score_category</th>\n",
       "      <th>cvss-bt_score_category</th>\n",
       "      <th>weaponized</th>\n",
       "      <th>kev</th>\n",
       "      <th>poc</th>\n",
       "      <th>exploitation</th>\n",
       "    </tr>\n",
       "  </thead>\n",
       "  <tbody>\n",
       "    <tr>\n",
       "      <th>0</th>\n",
       "      <td>CVE-1999-0095</td>\n",
       "      <td>9.0</td>\n",
       "      <td>HIGH</td>\n",
       "      <td>AV:N/AC:L/Au:N/C:C/I:C/A:C/E:POC</td>\n",
       "      <td>2.0</td>\n",
       "      <td>10.0</td>\n",
       "      <td>HIGH</td>\n",
       "      <td>AV:N/AC:L/Au:N/C:C/I:C/A:C</td>\n",
       "      <td>cve@mitre.org</td>\n",
       "      <td>1988-10-01T04:00Z</td>\n",
       "      <td>...</td>\n",
       "      <td>True</td>\n",
       "      <td>False</td>\n",
       "      <td>False</td>\n",
       "      <td>False</td>\n",
       "      <td>critical</td>\n",
       "      <td>critical</td>\n",
       "      <td>False</td>\n",
       "      <td>False</td>\n",
       "      <td>True</td>\n",
       "      <td>poc</td>\n",
       "    </tr>\n",
       "    <tr>\n",
       "      <th>1</th>\n",
       "      <td>CVE-1999-0082</td>\n",
       "      <td>8.5</td>\n",
       "      <td>HIGH</td>\n",
       "      <td>AV:N/AC:L/Au:N/C:C/I:C/A:C/E:U</td>\n",
       "      <td>2.0</td>\n",
       "      <td>10.0</td>\n",
       "      <td>HIGH</td>\n",
       "      <td>AV:N/AC:L/Au:N/C:C/I:C/A:C</td>\n",
       "      <td>cve@mitre.org</td>\n",
       "      <td>1988-11-11T05:00Z</td>\n",
       "      <td>...</td>\n",
       "      <td>False</td>\n",
       "      <td>False</td>\n",
       "      <td>False</td>\n",
       "      <td>False</td>\n",
       "      <td>critical</td>\n",
       "      <td>high</td>\n",
       "      <td>False</td>\n",
       "      <td>False</td>\n",
       "      <td>False</td>\n",
       "      <td>None</td>\n",
       "    </tr>\n",
       "    <tr>\n",
       "      <th>2</th>\n",
       "      <td>CVE-1999-1471</td>\n",
       "      <td>6.1</td>\n",
       "      <td>MEDIUM</td>\n",
       "      <td>AV:L/AC:L/Au:N/C:C/I:C/A:C/E:U</td>\n",
       "      <td>2.0</td>\n",
       "      <td>7.2</td>\n",
       "      <td>HIGH</td>\n",
       "      <td>AV:L/AC:L/Au:N/C:C/I:C/A:C</td>\n",
       "      <td>cve@mitre.org</td>\n",
       "      <td>1989-01-01T05:00Z</td>\n",
       "      <td>...</td>\n",
       "      <td>False</td>\n",
       "      <td>False</td>\n",
       "      <td>False</td>\n",
       "      <td>False</td>\n",
       "      <td>high</td>\n",
       "      <td>medium</td>\n",
       "      <td>False</td>\n",
       "      <td>False</td>\n",
       "      <td>False</td>\n",
       "      <td>None</td>\n",
       "    </tr>\n",
       "    <tr>\n",
       "      <th>3</th>\n",
       "      <td>CVE-1999-1122</td>\n",
       "      <td>3.9</td>\n",
       "      <td>LOW</td>\n",
       "      <td>AV:L/AC:L/Au:N/C:P/I:P/A:P/E:U</td>\n",
       "      <td>2.0</td>\n",
       "      <td>4.6</td>\n",
       "      <td>MEDIUM</td>\n",
       "      <td>AV:L/AC:L/Au:N/C:P/I:P/A:P</td>\n",
       "      <td>cve@mitre.org</td>\n",
       "      <td>1989-07-26T04:00Z</td>\n",
       "      <td>...</td>\n",
       "      <td>False</td>\n",
       "      <td>False</td>\n",
       "      <td>False</td>\n",
       "      <td>False</td>\n",
       "      <td>medium</td>\n",
       "      <td>low</td>\n",
       "      <td>False</td>\n",
       "      <td>False</td>\n",
       "      <td>False</td>\n",
       "      <td>None</td>\n",
       "    </tr>\n",
       "    <tr>\n",
       "      <th>4</th>\n",
       "      <td>CVE-1999-1467</td>\n",
       "      <td>8.5</td>\n",
       "      <td>HIGH</td>\n",
       "      <td>AV:N/AC:L/Au:N/C:C/I:C/A:C/E:U</td>\n",
       "      <td>2.0</td>\n",
       "      <td>10.0</td>\n",
       "      <td>HIGH</td>\n",
       "      <td>AV:N/AC:L/Au:N/C:C/I:C/A:C</td>\n",
       "      <td>cve@mitre.org</td>\n",
       "      <td>1989-10-26T04:00Z</td>\n",
       "      <td>...</td>\n",
       "      <td>False</td>\n",
       "      <td>False</td>\n",
       "      <td>False</td>\n",
       "      <td>False</td>\n",
       "      <td>critical</td>\n",
       "      <td>high</td>\n",
       "      <td>False</td>\n",
       "      <td>False</td>\n",
       "      <td>False</td>\n",
       "      <td>None</td>\n",
       "    </tr>\n",
       "    <tr>\n",
       "      <th>...</th>\n",
       "      <td>...</td>\n",
       "      <td>...</td>\n",
       "      <td>...</td>\n",
       "      <td>...</td>\n",
       "      <td>...</td>\n",
       "      <td>...</td>\n",
       "      <td>...</td>\n",
       "      <td>...</td>\n",
       "      <td>...</td>\n",
       "      <td>...</td>\n",
       "      <td>...</td>\n",
       "      <td>...</td>\n",
       "      <td>...</td>\n",
       "      <td>...</td>\n",
       "      <td>...</td>\n",
       "      <td>...</td>\n",
       "      <td>...</td>\n",
       "      <td>...</td>\n",
       "      <td>...</td>\n",
       "      <td>...</td>\n",
       "      <td>...</td>\n",
       "    </tr>\n",
       "    <tr>\n",
       "      <th>240311</th>\n",
       "      <td>CVE-2023-49602</td>\n",
       "      <td>5.0</td>\n",
       "      <td>MEDIUM</td>\n",
       "      <td>CVSS:3.1/AV:N/AC:L/PR:L/UI:R/S:C/C:L/I:L/A:N/E:U</td>\n",
       "      <td>3.1</td>\n",
       "      <td>5.4</td>\n",
       "      <td>MEDIUM</td>\n",
       "      <td>CVSS:3.1/AV:N/AC:L/PR:L/UI:R/S:C/C:L/I:L/A:N</td>\n",
       "      <td>scy@openharmony.io</td>\n",
       "      <td>2024-03-04T07:15Z</td>\n",
       "      <td>...</td>\n",
       "      <td>False</td>\n",
       "      <td>False</td>\n",
       "      <td>False</td>\n",
       "      <td>False</td>\n",
       "      <td>medium</td>\n",
       "      <td>medium</td>\n",
       "      <td>False</td>\n",
       "      <td>False</td>\n",
       "      <td>False</td>\n",
       "      <td>None</td>\n",
       "    </tr>\n",
       "    <tr>\n",
       "      <th>240312</th>\n",
       "      <td>CVE-2024-21816</td>\n",
       "      <td>9.0</td>\n",
       "      <td>CRITICAL</td>\n",
       "      <td>CVSS:3.1/AV:N/AC:L/PR:N/UI:N/S:U/C:H/I:H/A:H/E:U</td>\n",
       "      <td>3.1</td>\n",
       "      <td>9.8</td>\n",
       "      <td>CRITICAL</td>\n",
       "      <td>CVSS:3.1/AV:N/AC:L/PR:N/UI:N/S:U/C:H/I:H/A:H</td>\n",
       "      <td>scy@openharmony.io</td>\n",
       "      <td>2024-03-04T07:15Z</td>\n",
       "      <td>...</td>\n",
       "      <td>False</td>\n",
       "      <td>False</td>\n",
       "      <td>False</td>\n",
       "      <td>False</td>\n",
       "      <td>critical</td>\n",
       "      <td>critical</td>\n",
       "      <td>False</td>\n",
       "      <td>False</td>\n",
       "      <td>False</td>\n",
       "      <td>None</td>\n",
       "    </tr>\n",
       "    <tr>\n",
       "      <th>240313</th>\n",
       "      <td>CVE-2024-21826</td>\n",
       "      <td>7.3</td>\n",
       "      <td>HIGH</td>\n",
       "      <td>CVSS:3.1/AV:A/AC:L/PR:L/UI:N/S:U/C:H/I:H/A:H/E:U</td>\n",
       "      <td>3.1</td>\n",
       "      <td>8.0</td>\n",
       "      <td>HIGH</td>\n",
       "      <td>CVSS:3.1/AV:A/AC:L/PR:L/UI:N/S:U/C:H/I:H/A:H</td>\n",
       "      <td>scy@openharmony.io</td>\n",
       "      <td>2024-03-04T07:15Z</td>\n",
       "      <td>...</td>\n",
       "      <td>False</td>\n",
       "      <td>False</td>\n",
       "      <td>False</td>\n",
       "      <td>False</td>\n",
       "      <td>high</td>\n",
       "      <td>high</td>\n",
       "      <td>False</td>\n",
       "      <td>False</td>\n",
       "      <td>False</td>\n",
       "      <td>None</td>\n",
       "    </tr>\n",
       "    <tr>\n",
       "      <th>240314</th>\n",
       "      <td>CVE-2023-46708</td>\n",
       "      <td>9.0</td>\n",
       "      <td>CRITICAL</td>\n",
       "      <td>CVSS:3.1/AV:N/AC:L/PR:N/UI:N/S:U/C:H/I:H/A:H/E:U</td>\n",
       "      <td>3.1</td>\n",
       "      <td>9.8</td>\n",
       "      <td>CRITICAL</td>\n",
       "      <td>CVSS:3.1/AV:N/AC:L/PR:N/UI:N/S:U/C:H/I:H/A:H</td>\n",
       "      <td>scy@openharmony.io</td>\n",
       "      <td>2024-03-04T07:15Z</td>\n",
       "      <td>...</td>\n",
       "      <td>False</td>\n",
       "      <td>False</td>\n",
       "      <td>False</td>\n",
       "      <td>False</td>\n",
       "      <td>critical</td>\n",
       "      <td>critical</td>\n",
       "      <td>False</td>\n",
       "      <td>False</td>\n",
       "      <td>False</td>\n",
       "      <td>None</td>\n",
       "    </tr>\n",
       "    <tr>\n",
       "      <th>240315</th>\n",
       "      <td>CVE-2023-25176</td>\n",
       "      <td>5.1</td>\n",
       "      <td>MEDIUM</td>\n",
       "      <td>CVSS:3.1/AV:L/AC:L/PR:L/UI:N/S:U/C:H/I:N/A:N/E:U</td>\n",
       "      <td>3.1</td>\n",
       "      <td>5.5</td>\n",
       "      <td>MEDIUM</td>\n",
       "      <td>CVSS:3.1/AV:L/AC:L/PR:L/UI:N/S:U/C:H/I:N/A:N</td>\n",
       "      <td>scy@openharmony.io</td>\n",
       "      <td>2024-03-04T07:15Z</td>\n",
       "      <td>...</td>\n",
       "      <td>False</td>\n",
       "      <td>False</td>\n",
       "      <td>False</td>\n",
       "      <td>False</td>\n",
       "      <td>medium</td>\n",
       "      <td>medium</td>\n",
       "      <td>False</td>\n",
       "      <td>False</td>\n",
       "      <td>False</td>\n",
       "      <td>None</td>\n",
       "    </tr>\n",
       "  </tbody>\n",
       "</table>\n",
       "<p>240277 rows × 23 columns</p>\n",
       "</div>"
      ],
      "text/plain": [
       "                   cve  cvss-bt_score cvss-bt_severity  \\\n",
       "0        CVE-1999-0095            9.0             HIGH   \n",
       "1        CVE-1999-0082            8.5             HIGH   \n",
       "2        CVE-1999-1471            6.1           MEDIUM   \n",
       "3        CVE-1999-1122            3.9              LOW   \n",
       "4        CVE-1999-1467            8.5             HIGH   \n",
       "...                ...            ...              ...   \n",
       "240311  CVE-2023-49602            5.0           MEDIUM   \n",
       "240312  CVE-2024-21816            9.0         CRITICAL   \n",
       "240313  CVE-2024-21826            7.3             HIGH   \n",
       "240314  CVE-2023-46708            9.0         CRITICAL   \n",
       "240315  CVE-2023-25176            5.1           MEDIUM   \n",
       "\n",
       "                                          cvss-bt_vector  cvss_version  \\\n",
       "0                       AV:N/AC:L/Au:N/C:C/I:C/A:C/E:POC           2.0   \n",
       "1                         AV:N/AC:L/Au:N/C:C/I:C/A:C/E:U           2.0   \n",
       "2                         AV:L/AC:L/Au:N/C:C/I:C/A:C/E:U           2.0   \n",
       "3                         AV:L/AC:L/Au:N/C:P/I:P/A:P/E:U           2.0   \n",
       "4                         AV:N/AC:L/Au:N/C:C/I:C/A:C/E:U           2.0   \n",
       "...                                                  ...           ...   \n",
       "240311  CVSS:3.1/AV:N/AC:L/PR:L/UI:R/S:C/C:L/I:L/A:N/E:U           3.1   \n",
       "240312  CVSS:3.1/AV:N/AC:L/PR:N/UI:N/S:U/C:H/I:H/A:H/E:U           3.1   \n",
       "240313  CVSS:3.1/AV:A/AC:L/PR:L/UI:N/S:U/C:H/I:H/A:H/E:U           3.1   \n",
       "240314  CVSS:3.1/AV:N/AC:L/PR:N/UI:N/S:U/C:H/I:H/A:H/E:U           3.1   \n",
       "240315  CVSS:3.1/AV:L/AC:L/PR:L/UI:N/S:U/C:H/I:N/A:N/E:U           3.1   \n",
       "\n",
       "        base_score base_severity  \\\n",
       "0             10.0          HIGH   \n",
       "1             10.0          HIGH   \n",
       "2              7.2          HIGH   \n",
       "3              4.6        MEDIUM   \n",
       "4             10.0          HIGH   \n",
       "...            ...           ...   \n",
       "240311         5.4        MEDIUM   \n",
       "240312         9.8      CRITICAL   \n",
       "240313         8.0          HIGH   \n",
       "240314         9.8      CRITICAL   \n",
       "240315         5.5        MEDIUM   \n",
       "\n",
       "                                         base_vector            assigner  \\\n",
       "0                         AV:N/AC:L/Au:N/C:C/I:C/A:C       cve@mitre.org   \n",
       "1                         AV:N/AC:L/Au:N/C:C/I:C/A:C       cve@mitre.org   \n",
       "2                         AV:L/AC:L/Au:N/C:C/I:C/A:C       cve@mitre.org   \n",
       "3                         AV:L/AC:L/Au:N/C:P/I:P/A:P       cve@mitre.org   \n",
       "4                         AV:N/AC:L/Au:N/C:C/I:C/A:C       cve@mitre.org   \n",
       "...                                              ...                 ...   \n",
       "240311  CVSS:3.1/AV:N/AC:L/PR:L/UI:R/S:C/C:L/I:L/A:N  scy@openharmony.io   \n",
       "240312  CVSS:3.1/AV:N/AC:L/PR:N/UI:N/S:U/C:H/I:H/A:H  scy@openharmony.io   \n",
       "240313  CVSS:3.1/AV:A/AC:L/PR:L/UI:N/S:U/C:H/I:H/A:H  scy@openharmony.io   \n",
       "240314  CVSS:3.1/AV:N/AC:L/PR:N/UI:N/S:U/C:H/I:H/A:H  scy@openharmony.io   \n",
       "240315  CVSS:3.1/AV:L/AC:L/PR:L/UI:N/S:U/C:H/I:N/A:N  scy@openharmony.io   \n",
       "\n",
       "           published_date  ... exploitdb  metasploit  nuclei  poc_github  \\\n",
       "0       1988-10-01T04:00Z  ...      True       False   False       False   \n",
       "1       1988-11-11T05:00Z  ...     False       False   False       False   \n",
       "2       1989-01-01T05:00Z  ...     False       False   False       False   \n",
       "3       1989-07-26T04:00Z  ...     False       False   False       False   \n",
       "4       1989-10-26T04:00Z  ...     False       False   False       False   \n",
       "...                   ...  ...       ...         ...     ...         ...   \n",
       "240311  2024-03-04T07:15Z  ...     False       False   False       False   \n",
       "240312  2024-03-04T07:15Z  ...     False       False   False       False   \n",
       "240313  2024-03-04T07:15Z  ...     False       False   False       False   \n",
       "240314  2024-03-04T07:15Z  ...     False       False   False       False   \n",
       "240315  2024-03-04T07:15Z  ...     False       False   False       False   \n",
       "\n",
       "        base_score_category  cvss-bt_score_category  weaponized    kev    poc  \\\n",
       "0                  critical                critical       False  False   True   \n",
       "1                  critical                    high       False  False  False   \n",
       "2                      high                  medium       False  False  False   \n",
       "3                    medium                     low       False  False  False   \n",
       "4                  critical                    high       False  False  False   \n",
       "...                     ...                     ...         ...    ...    ...   \n",
       "240311               medium                  medium       False  False  False   \n",
       "240312             critical                critical       False  False  False   \n",
       "240313                 high                    high       False  False  False   \n",
       "240314             critical                critical       False  False  False   \n",
       "240315               medium                  medium       False  False  False   \n",
       "\n",
       "        exploitation  \n",
       "0                poc  \n",
       "1               None  \n",
       "2               None  \n",
       "3               None  \n",
       "4               None  \n",
       "...              ...  \n",
       "240311          None  \n",
       "240312          None  \n",
       "240313          None  \n",
       "240314          None  \n",
       "240315          None  \n",
       "\n",
       "[240277 rows x 23 columns]"
      ]
     },
     "execution_count": 487,
     "metadata": {},
     "output_type": "execute_result"
    }
   ],
   "source": [
    "df"
   ]
  },
  {
   "cell_type": "code",
   "execution_count": 488,
   "metadata": {},
   "outputs": [
    {
     "ename": "SyntaxError",
     "evalue": "invalid syntax (161647822.py, line 17)",
     "output_type": "error",
     "traceback": [
      "\u001b[0;36m  Cell \u001b[0;32mIn[488], line 17\u001b[0;36m\u001b[0m\n\u001b[0;31m    elif (base_score_category == 'high')  poc:\u001b[0m\n\u001b[0m                                          ^\u001b[0m\n\u001b[0;31mSyntaxError\u001b[0m\u001b[0;31m:\u001b[0m invalid syntax\n"
     ]
    }
   ],
   "source": [
    "def rbp_score(row):\n",
    "    base_score_category = row['base_score_category']\n",
    "    weaponized = row['weaponized']\n",
    "    kev = row['kev']\n",
    "    poc = row['poc']\n",
    "     \n",
    "    if ((base_score_category == 'critical') and kev):\n",
    "        return 10\n",
    "    elif (base_score_category == 'critical') and weaponized:\n",
    "        return 9\n",
    "    elif (base_score_category == 'high') and kev:\n",
    "        return 8\n",
    "    elif (base_score_category == 'high') and weaponized:\n",
    "        return 7\n",
    "    elif (base_score_category == 'critical') and poc:\n",
    "        return 6\n",
    "    elif (base_score_category == 'high') and poc:\n",
    "        return 5\n",
    "    elif (base_score_category == 'critical'):\n",
    "        return 4\n",
    "    elif (base_score_category == 'high'):\n",
    "        return 3\n",
    "    elif (base_score_category == 'medium'):\n",
    "        return 2\n",
    "    else:\n",
    "        return 1\n",
    "\n",
    "# Apply scoring function \n",
    "df['rbp_score'] = df.apply(rbp_score, axis=1)\n",
    "\n",
    "df['rbp_score'].value_counts()"
   ]
  },
  {
   "attachments": {},
   "cell_type": "markdown",
   "metadata": {},
   "source": [
    "### Parallel Categories Diagram"
   ]
  },
  {
   "cell_type": "code",
   "execution_count": null,
   "metadata": {},
   "outputs": [],
   "source": [
    "# Aggregate data to get counts for each combination\n",
    "sankey_data = df.groupby(['base_score_category', 'exploitation', 'rbp_score']).size().reset_index(name='count')"
   ]
  },
  {
   "cell_type": "code",
   "execution_count": null,
   "metadata": {},
   "outputs": [
    {
     "data": {
      "text/html": [
       "<div>\n",
       "<style scoped>\n",
       "    .dataframe tbody tr th:only-of-type {\n",
       "        vertical-align: middle;\n",
       "    }\n",
       "\n",
       "    .dataframe tbody tr th {\n",
       "        vertical-align: top;\n",
       "    }\n",
       "\n",
       "    .dataframe thead th {\n",
       "        text-align: right;\n",
       "    }\n",
       "</style>\n",
       "<table border=\"1\" class=\"dataframe\">\n",
       "  <thead>\n",
       "    <tr style=\"text-align: right;\">\n",
       "      <th></th>\n",
       "      <th>base_score_category</th>\n",
       "      <th>exploitation</th>\n",
       "      <th>rbp_score</th>\n",
       "      <th>count</th>\n",
       "    </tr>\n",
       "  </thead>\n",
       "  <tbody>\n",
       "    <tr>\n",
       "      <th>0</th>\n",
       "      <td>critical</td>\n",
       "      <td>None</td>\n",
       "      <td>4</td>\n",
       "      <td>30924</td>\n",
       "    </tr>\n",
       "    <tr>\n",
       "      <th>1</th>\n",
       "      <td>critical</td>\n",
       "      <td>kev</td>\n",
       "      <td>10</td>\n",
       "      <td>839</td>\n",
       "    </tr>\n",
       "    <tr>\n",
       "      <th>2</th>\n",
       "      <td>critical</td>\n",
       "      <td>poc</td>\n",
       "      <td>6</td>\n",
       "      <td>3159</td>\n",
       "    </tr>\n",
       "    <tr>\n",
       "      <th>3</th>\n",
       "      <td>critical</td>\n",
       "      <td>weaponized</td>\n",
       "      <td>9</td>\n",
       "      <td>1097</td>\n",
       "    </tr>\n",
       "    <tr>\n",
       "      <th>4</th>\n",
       "      <td>high</td>\n",
       "      <td>None</td>\n",
       "      <td>3</td>\n",
       "      <td>76801</td>\n",
       "    </tr>\n",
       "    <tr>\n",
       "      <th>5</th>\n",
       "      <td>high</td>\n",
       "      <td>kev</td>\n",
       "      <td>8</td>\n",
       "      <td>858</td>\n",
       "    </tr>\n",
       "    <tr>\n",
       "      <th>6</th>\n",
       "      <td>high</td>\n",
       "      <td>poc</td>\n",
       "      <td>5</td>\n",
       "      <td>9915</td>\n",
       "    </tr>\n",
       "    <tr>\n",
       "      <th>7</th>\n",
       "      <td>high</td>\n",
       "      <td>weaponized</td>\n",
       "      <td>7</td>\n",
       "      <td>1083</td>\n",
       "    </tr>\n",
       "    <tr>\n",
       "      <th>8</th>\n",
       "      <td>low</td>\n",
       "      <td>None</td>\n",
       "      <td>1</td>\n",
       "      <td>7838</td>\n",
       "    </tr>\n",
       "    <tr>\n",
       "      <th>9</th>\n",
       "      <td>low</td>\n",
       "      <td>kev</td>\n",
       "      <td>1</td>\n",
       "      <td>8</td>\n",
       "    </tr>\n",
       "    <tr>\n",
       "      <th>10</th>\n",
       "      <td>low</td>\n",
       "      <td>poc</td>\n",
       "      <td>1</td>\n",
       "      <td>565</td>\n",
       "    </tr>\n",
       "    <tr>\n",
       "      <th>11</th>\n",
       "      <td>low</td>\n",
       "      <td>weaponized</td>\n",
       "      <td>1</td>\n",
       "      <td>29</td>\n",
       "    </tr>\n",
       "    <tr>\n",
       "      <th>12</th>\n",
       "      <td>medium</td>\n",
       "      <td>None</td>\n",
       "      <td>2</td>\n",
       "      <td>96095</td>\n",
       "    </tr>\n",
       "    <tr>\n",
       "      <th>13</th>\n",
       "      <td>medium</td>\n",
       "      <td>kev</td>\n",
       "      <td>2</td>\n",
       "      <td>259</td>\n",
       "    </tr>\n",
       "    <tr>\n",
       "      <th>14</th>\n",
       "      <td>medium</td>\n",
       "      <td>poc</td>\n",
       "      <td>2</td>\n",
       "      <td>9433</td>\n",
       "    </tr>\n",
       "    <tr>\n",
       "      <th>15</th>\n",
       "      <td>medium</td>\n",
       "      <td>weaponized</td>\n",
       "      <td>2</td>\n",
       "      <td>1374</td>\n",
       "    </tr>\n",
       "  </tbody>\n",
       "</table>\n",
       "</div>"
      ],
      "text/plain": [
       "   base_score_category exploitation  rbp_score  count\n",
       "0             critical         None          4  30924\n",
       "1             critical          kev         10    839\n",
       "2             critical          poc          6   3159\n",
       "3             critical   weaponized          9   1097\n",
       "4                 high         None          3  76801\n",
       "5                 high          kev          8    858\n",
       "6                 high          poc          5   9915\n",
       "7                 high   weaponized          7   1083\n",
       "8                  low         None          1   7838\n",
       "9                  low          kev          1      8\n",
       "10                 low          poc          1    565\n",
       "11                 low   weaponized          1     29\n",
       "12              medium         None          2  96095\n",
       "13              medium          kev          2    259\n",
       "14              medium          poc          2   9433\n",
       "15              medium   weaponized          2   1374"
      ]
     },
     "execution_count": 470,
     "metadata": {},
     "output_type": "execute_result"
    }
   ],
   "source": [
    "sankey_data"
   ]
  },
  {
   "cell_type": "code",
   "execution_count": null,
   "metadata": {},
   "outputs": [
    {
     "data": {
      "application/vnd.plotly.v1+json": {
       "config": {
        "plotlyServerURL": "https://plot.ly"
       },
       "data": [
        {
         "counts": [
          30924,
          839,
          3159,
          1097,
          76801,
          858,
          9915,
          1083,
          7838,
          8,
          565,
          29,
          96095,
          259,
          9433,
          1374
         ],
         "dimensions": [
          {
           "label": "CVSS Base Score Rating",
           "values": [
            "critical",
            "critical",
            "critical",
            "critical",
            "high",
            "high",
            "high",
            "high",
            "low",
            "low",
            "low",
            "low",
            "medium",
            "medium",
            "medium",
            "medium"
           ]
          },
          {
           "label": "Exploitation Evidence",
           "values": [
            "None",
            "kev",
            "poc",
            "weaponized",
            "None",
            "kev",
            "poc",
            "weaponized",
            "None",
            "kev",
            "poc",
            "weaponized",
            "None",
            "kev",
            "poc",
            "weaponized"
           ]
          },
          {
           "label": "Assigned Score",
           "values": [
            4,
            10,
            6,
            9,
            3,
            8,
            5,
            7,
            1,
            1,
            1,
            1,
            2,
            2,
            2,
            2
           ]
          }
         ],
         "line": {
          "color": [
           4,
           10,
           6,
           9,
           3,
           8,
           5,
           7,
           1,
           1,
           1,
           1,
           2,
           2,
           2,
           2
          ],
          "colorscale": [
           [
            0,
            "rgb(255,255,204)"
           ],
           [
            0.125,
            "rgb(255,237,160)"
           ],
           [
            0.25,
            "rgb(254,217,118)"
           ],
           [
            0.375,
            "rgb(254,178,76)"
           ],
           [
            0.5,
            "rgb(253,141,60)"
           ],
           [
            0.625,
            "rgb(252,78,42)"
           ],
           [
            0.75,
            "rgb(227,26,28)"
           ],
           [
            0.875,
            "rgb(189,0,38)"
           ],
           [
            1,
            "rgb(128,0,38)"
           ]
          ]
         },
         "type": "parcats"
        }
       ],
       "layout": {
        "autosize": false,
        "height": 800,
        "template": {
         "data": {
          "bar": [
           {
            "error_x": {
             "color": "#2a3f5f"
            },
            "error_y": {
             "color": "#2a3f5f"
            },
            "marker": {
             "line": {
              "color": "#E5ECF6",
              "width": 0.5
             },
             "pattern": {
              "fillmode": "overlay",
              "size": 10,
              "solidity": 0.2
             }
            },
            "type": "bar"
           }
          ],
          "barpolar": [
           {
            "marker": {
             "line": {
              "color": "#E5ECF6",
              "width": 0.5
             },
             "pattern": {
              "fillmode": "overlay",
              "size": 10,
              "solidity": 0.2
             }
            },
            "type": "barpolar"
           }
          ],
          "carpet": [
           {
            "aaxis": {
             "endlinecolor": "#2a3f5f",
             "gridcolor": "white",
             "linecolor": "white",
             "minorgridcolor": "white",
             "startlinecolor": "#2a3f5f"
            },
            "baxis": {
             "endlinecolor": "#2a3f5f",
             "gridcolor": "white",
             "linecolor": "white",
             "minorgridcolor": "white",
             "startlinecolor": "#2a3f5f"
            },
            "type": "carpet"
           }
          ],
          "choropleth": [
           {
            "colorbar": {
             "outlinewidth": 0,
             "ticks": ""
            },
            "type": "choropleth"
           }
          ],
          "contour": [
           {
            "colorbar": {
             "outlinewidth": 0,
             "ticks": ""
            },
            "colorscale": [
             [
              0,
              "#0d0887"
             ],
             [
              0.1111111111111111,
              "#46039f"
             ],
             [
              0.2222222222222222,
              "#7201a8"
             ],
             [
              0.3333333333333333,
              "#9c179e"
             ],
             [
              0.4444444444444444,
              "#bd3786"
             ],
             [
              0.5555555555555556,
              "#d8576b"
             ],
             [
              0.6666666666666666,
              "#ed7953"
             ],
             [
              0.7777777777777778,
              "#fb9f3a"
             ],
             [
              0.8888888888888888,
              "#fdca26"
             ],
             [
              1,
              "#f0f921"
             ]
            ],
            "type": "contour"
           }
          ],
          "contourcarpet": [
           {
            "colorbar": {
             "outlinewidth": 0,
             "ticks": ""
            },
            "type": "contourcarpet"
           }
          ],
          "heatmap": [
           {
            "colorbar": {
             "outlinewidth": 0,
             "ticks": ""
            },
            "colorscale": [
             [
              0,
              "#0d0887"
             ],
             [
              0.1111111111111111,
              "#46039f"
             ],
             [
              0.2222222222222222,
              "#7201a8"
             ],
             [
              0.3333333333333333,
              "#9c179e"
             ],
             [
              0.4444444444444444,
              "#bd3786"
             ],
             [
              0.5555555555555556,
              "#d8576b"
             ],
             [
              0.6666666666666666,
              "#ed7953"
             ],
             [
              0.7777777777777778,
              "#fb9f3a"
             ],
             [
              0.8888888888888888,
              "#fdca26"
             ],
             [
              1,
              "#f0f921"
             ]
            ],
            "type": "heatmap"
           }
          ],
          "heatmapgl": [
           {
            "colorbar": {
             "outlinewidth": 0,
             "ticks": ""
            },
            "colorscale": [
             [
              0,
              "#0d0887"
             ],
             [
              0.1111111111111111,
              "#46039f"
             ],
             [
              0.2222222222222222,
              "#7201a8"
             ],
             [
              0.3333333333333333,
              "#9c179e"
             ],
             [
              0.4444444444444444,
              "#bd3786"
             ],
             [
              0.5555555555555556,
              "#d8576b"
             ],
             [
              0.6666666666666666,
              "#ed7953"
             ],
             [
              0.7777777777777778,
              "#fb9f3a"
             ],
             [
              0.8888888888888888,
              "#fdca26"
             ],
             [
              1,
              "#f0f921"
             ]
            ],
            "type": "heatmapgl"
           }
          ],
          "histogram": [
           {
            "marker": {
             "pattern": {
              "fillmode": "overlay",
              "size": 10,
              "solidity": 0.2
             }
            },
            "type": "histogram"
           }
          ],
          "histogram2d": [
           {
            "colorbar": {
             "outlinewidth": 0,
             "ticks": ""
            },
            "colorscale": [
             [
              0,
              "#0d0887"
             ],
             [
              0.1111111111111111,
              "#46039f"
             ],
             [
              0.2222222222222222,
              "#7201a8"
             ],
             [
              0.3333333333333333,
              "#9c179e"
             ],
             [
              0.4444444444444444,
              "#bd3786"
             ],
             [
              0.5555555555555556,
              "#d8576b"
             ],
             [
              0.6666666666666666,
              "#ed7953"
             ],
             [
              0.7777777777777778,
              "#fb9f3a"
             ],
             [
              0.8888888888888888,
              "#fdca26"
             ],
             [
              1,
              "#f0f921"
             ]
            ],
            "type": "histogram2d"
           }
          ],
          "histogram2dcontour": [
           {
            "colorbar": {
             "outlinewidth": 0,
             "ticks": ""
            },
            "colorscale": [
             [
              0,
              "#0d0887"
             ],
             [
              0.1111111111111111,
              "#46039f"
             ],
             [
              0.2222222222222222,
              "#7201a8"
             ],
             [
              0.3333333333333333,
              "#9c179e"
             ],
             [
              0.4444444444444444,
              "#bd3786"
             ],
             [
              0.5555555555555556,
              "#d8576b"
             ],
             [
              0.6666666666666666,
              "#ed7953"
             ],
             [
              0.7777777777777778,
              "#fb9f3a"
             ],
             [
              0.8888888888888888,
              "#fdca26"
             ],
             [
              1,
              "#f0f921"
             ]
            ],
            "type": "histogram2dcontour"
           }
          ],
          "mesh3d": [
           {
            "colorbar": {
             "outlinewidth": 0,
             "ticks": ""
            },
            "type": "mesh3d"
           }
          ],
          "parcoords": [
           {
            "line": {
             "colorbar": {
              "outlinewidth": 0,
              "ticks": ""
             }
            },
            "type": "parcoords"
           }
          ],
          "pie": [
           {
            "automargin": true,
            "type": "pie"
           }
          ],
          "scatter": [
           {
            "fillpattern": {
             "fillmode": "overlay",
             "size": 10,
             "solidity": 0.2
            },
            "type": "scatter"
           }
          ],
          "scatter3d": [
           {
            "line": {
             "colorbar": {
              "outlinewidth": 0,
              "ticks": ""
             }
            },
            "marker": {
             "colorbar": {
              "outlinewidth": 0,
              "ticks": ""
             }
            },
            "type": "scatter3d"
           }
          ],
          "scattercarpet": [
           {
            "marker": {
             "colorbar": {
              "outlinewidth": 0,
              "ticks": ""
             }
            },
            "type": "scattercarpet"
           }
          ],
          "scattergeo": [
           {
            "marker": {
             "colorbar": {
              "outlinewidth": 0,
              "ticks": ""
             }
            },
            "type": "scattergeo"
           }
          ],
          "scattergl": [
           {
            "marker": {
             "colorbar": {
              "outlinewidth": 0,
              "ticks": ""
             }
            },
            "type": "scattergl"
           }
          ],
          "scattermapbox": [
           {
            "marker": {
             "colorbar": {
              "outlinewidth": 0,
              "ticks": ""
             }
            },
            "type": "scattermapbox"
           }
          ],
          "scatterpolar": [
           {
            "marker": {
             "colorbar": {
              "outlinewidth": 0,
              "ticks": ""
             }
            },
            "type": "scatterpolar"
           }
          ],
          "scatterpolargl": [
           {
            "marker": {
             "colorbar": {
              "outlinewidth": 0,
              "ticks": ""
             }
            },
            "type": "scatterpolargl"
           }
          ],
          "scatterternary": [
           {
            "marker": {
             "colorbar": {
              "outlinewidth": 0,
              "ticks": ""
             }
            },
            "type": "scatterternary"
           }
          ],
          "surface": [
           {
            "colorbar": {
             "outlinewidth": 0,
             "ticks": ""
            },
            "colorscale": [
             [
              0,
              "#0d0887"
             ],
             [
              0.1111111111111111,
              "#46039f"
             ],
             [
              0.2222222222222222,
              "#7201a8"
             ],
             [
              0.3333333333333333,
              "#9c179e"
             ],
             [
              0.4444444444444444,
              "#bd3786"
             ],
             [
              0.5555555555555556,
              "#d8576b"
             ],
             [
              0.6666666666666666,
              "#ed7953"
             ],
             [
              0.7777777777777778,
              "#fb9f3a"
             ],
             [
              0.8888888888888888,
              "#fdca26"
             ],
             [
              1,
              "#f0f921"
             ]
            ],
            "type": "surface"
           }
          ],
          "table": [
           {
            "cells": {
             "fill": {
              "color": "#EBF0F8"
             },
             "line": {
              "color": "white"
             }
            },
            "header": {
             "fill": {
              "color": "#C8D4E3"
             },
             "line": {
              "color": "white"
             }
            },
            "type": "table"
           }
          ]
         },
         "layout": {
          "annotationdefaults": {
           "arrowcolor": "#2a3f5f",
           "arrowhead": 0,
           "arrowwidth": 1
          },
          "autotypenumbers": "strict",
          "coloraxis": {
           "colorbar": {
            "outlinewidth": 0,
            "ticks": ""
           }
          },
          "colorscale": {
           "diverging": [
            [
             0,
             "#8e0152"
            ],
            [
             0.1,
             "#c51b7d"
            ],
            [
             0.2,
             "#de77ae"
            ],
            [
             0.3,
             "#f1b6da"
            ],
            [
             0.4,
             "#fde0ef"
            ],
            [
             0.5,
             "#f7f7f7"
            ],
            [
             0.6,
             "#e6f5d0"
            ],
            [
             0.7,
             "#b8e186"
            ],
            [
             0.8,
             "#7fbc41"
            ],
            [
             0.9,
             "#4d9221"
            ],
            [
             1,
             "#276419"
            ]
           ],
           "sequential": [
            [
             0,
             "#0d0887"
            ],
            [
             0.1111111111111111,
             "#46039f"
            ],
            [
             0.2222222222222222,
             "#7201a8"
            ],
            [
             0.3333333333333333,
             "#9c179e"
            ],
            [
             0.4444444444444444,
             "#bd3786"
            ],
            [
             0.5555555555555556,
             "#d8576b"
            ],
            [
             0.6666666666666666,
             "#ed7953"
            ],
            [
             0.7777777777777778,
             "#fb9f3a"
            ],
            [
             0.8888888888888888,
             "#fdca26"
            ],
            [
             1,
             "#f0f921"
            ]
           ],
           "sequentialminus": [
            [
             0,
             "#0d0887"
            ],
            [
             0.1111111111111111,
             "#46039f"
            ],
            [
             0.2222222222222222,
             "#7201a8"
            ],
            [
             0.3333333333333333,
             "#9c179e"
            ],
            [
             0.4444444444444444,
             "#bd3786"
            ],
            [
             0.5555555555555556,
             "#d8576b"
            ],
            [
             0.6666666666666666,
             "#ed7953"
            ],
            [
             0.7777777777777778,
             "#fb9f3a"
            ],
            [
             0.8888888888888888,
             "#fdca26"
            ],
            [
             1,
             "#f0f921"
            ]
           ]
          },
          "colorway": [
           "#636efa",
           "#EF553B",
           "#00cc96",
           "#ab63fa",
           "#FFA15A",
           "#19d3f3",
           "#FF6692",
           "#B6E880",
           "#FF97FF",
           "#FECB52"
          ],
          "font": {
           "color": "#2a3f5f"
          },
          "geo": {
           "bgcolor": "white",
           "lakecolor": "white",
           "landcolor": "#E5ECF6",
           "showlakes": true,
           "showland": true,
           "subunitcolor": "white"
          },
          "hoverlabel": {
           "align": "left"
          },
          "hovermode": "closest",
          "mapbox": {
           "style": "light"
          },
          "paper_bgcolor": "white",
          "plot_bgcolor": "#E5ECF6",
          "polar": {
           "angularaxis": {
            "gridcolor": "white",
            "linecolor": "white",
            "ticks": ""
           },
           "bgcolor": "#E5ECF6",
           "radialaxis": {
            "gridcolor": "white",
            "linecolor": "white",
            "ticks": ""
           }
          },
          "scene": {
           "xaxis": {
            "backgroundcolor": "#E5ECF6",
            "gridcolor": "white",
            "gridwidth": 2,
            "linecolor": "white",
            "showbackground": true,
            "ticks": "",
            "zerolinecolor": "white"
           },
           "yaxis": {
            "backgroundcolor": "#E5ECF6",
            "gridcolor": "white",
            "gridwidth": 2,
            "linecolor": "white",
            "showbackground": true,
            "ticks": "",
            "zerolinecolor": "white"
           },
           "zaxis": {
            "backgroundcolor": "#E5ECF6",
            "gridcolor": "white",
            "gridwidth": 2,
            "linecolor": "white",
            "showbackground": true,
            "ticks": "",
            "zerolinecolor": "white"
           }
          },
          "shapedefaults": {
           "line": {
            "color": "#2a3f5f"
           }
          },
          "ternary": {
           "aaxis": {
            "gridcolor": "white",
            "linecolor": "white",
            "ticks": ""
           },
           "baxis": {
            "gridcolor": "white",
            "linecolor": "white",
            "ticks": ""
           },
           "bgcolor": "#E5ECF6",
           "caxis": {
            "gridcolor": "white",
            "linecolor": "white",
            "ticks": ""
           }
          },
          "title": {
           "x": 0.05
          },
          "xaxis": {
           "automargin": true,
           "gridcolor": "white",
           "linecolor": "white",
           "ticks": "",
           "title": {
            "standoff": 15
           },
           "zerolinecolor": "white",
           "zerolinewidth": 2
          },
          "yaxis": {
           "automargin": true,
           "gridcolor": "white",
           "linecolor": "white",
           "ticks": "",
           "title": {
            "standoff": 15
           },
           "zerolinecolor": "white",
           "zerolinewidth": 2
          }
         }
        },
        "title": {
         "text": "CVSS-B Base vs Exploitation Evidence vs Assigned Score"
        },
        "width": 800
       }
      }
     },
     "metadata": {},
     "output_type": "display_data"
    },
    {
     "data": {
      "image/png": "[encoded data removed]",
      "text/plain": [
       "<IPython.core.display.Image object>"
      ]
     },
     "execution_count": 471,
     "metadata": {},
     "output_type": "execute_result"
    }
   ],
   "source": [
    "color = sankey_data['rbp_score'];\n",
    "colorscale = 'YlOrRd' #Yellow Orange Red\n",
    "fig = go.Figure(go.Parcats(\n",
    "    dimensions=[\n",
    "        {'label': 'CVSS Base Score Rating', 'values': sankey_data['base_score_category']},\n",
    "        {'label': 'Exploitation Evidence', 'values': sankey_data['exploitation']},\n",
    "        {'label': 'Assigned Score', 'values': sankey_data['rbp_score']},\n",
    "    ],\n",
    "    line={'color': color, 'colorscale': colorscale},\n",
    "    counts=sankey_data['count'],\n",
    "))\n",
    "fig.update_layout(\n",
    "    title='CVSS-B Base vs Exploitation Evidence vs Assigned Score',\n",
    "    autosize=False,\n",
    "    width=800,\n",
    "    height=800,\n",
    ")\n",
    "fig.show()\n",
    "\n",
    "fig.write_image(\"../images_out/cvss_exploitation_parcat.png\") \n",
    "\n",
    "Image(filename='../images_out/cvss_exploitation_parcat.png') #display plot when viewing in github\n"
   ]
  },
  {
   "attachments": {},
   "cell_type": "markdown",
   "metadata": {},
   "source": [
    "# SSVC\n",
    "\n",
    "#TODO pull in the CVSS V3, V3 base score parameters\n",
    "'attackComplexity',\n",
    "'attackVector',\n",
    "'userInteraction',\n",
    "'privilegesRequired',                  \n",
    "'availabilityImpact',\n",
    "'confidentialityImpact',   \n",
    "'integrityImpact'}"
   ]
  },
  {
   "cell_type": "code",
   "execution_count": null,
   "metadata": {},
   "outputs": [],
   "source": [
    "# The CISA SSVC DT is codified as a CSV file - each row represents a possible full path through the tree.\n",
    "# 36 paths/leaves in total: 3 x 2 x 2 x 3\n",
    "# The Leaf column allows us to keep track of what leaf in the DT is associated with a Decision later on (where there are 36 leaves, but these are mapped to 5 Priorities: Act, Attend,...)\n",
    "#dt_df = pd.read_csv('../cisa_ssvc_dt/DT_rbp.csv')\n",
    "\n",
    "#dt_df"
   ]
  },
  {
   "cell_type": "code",
   "execution_count": null,
   "metadata": {},
   "outputs": [],
   "source": [
    "df['weaponized'] = (df['metasploit'] | df['nuclei']) \n",
    "df['kev'] = (df['cisa_kev'] | df['vulncheck_kev']) \n",
    "df['poc'] = (df['poc_github'] | df['exploitdb']) "
   ]
  },
  {
   "cell_type": "code",
   "execution_count": null,
   "metadata": {},
   "outputs": [],
   "source": [
    "EPSS_THRESHOLD_LOW = 0.1 #as described in presentation in https://github.com/theparanoids/PrioritizedRiskRemediation \n",
    "\n",
    "def exploitation_dt(row):\n",
    "    if (row['kev'] | (row['epss'] >= EPSS_THRESHOLD_LOW) | row['weaponized']):\n",
    "        return \"active\"\n",
    "    elif (row['poc']):\n",
    "        return \"PoC\"\n",
    "    else:\n",
    "        return \"none\""
   ]
  },
  {
   "cell_type": "code",
   "execution_count": null,
   "metadata": {},
   "outputs": [],
   "source": [
    "def automatable_dt(userInteraction, attackComplexity, privilegesRequired, attackVector):    \n",
    "    if ((userInteraction == 'NONE') & (attackComplexity == 'LOW') & (privilegesRequired != 'HIGH') & (attackVector == 'NETWORK')):\n",
    "        return \"yes\"\n",
    "    else:\n",
    "        return \"no\""
   ]
  },
  {
   "cell_type": "code",
   "execution_count": null,
   "metadata": {},
   "outputs": [],
   "source": [
    "def technical_impact_dt(confidentialityImpact, integrityImpact):\n",
    "    if ((confidentialityImpact == 'HIGH') | (integrityImpact == 'HIGH')):\n",
    "        return \"total\"\n",
    "    else:\n",
    "        return \"partial\""
   ]
  }
 ],
 "metadata": {
  "kernelspec": {
   "display_name": "vulnerability_scoring3",
   "language": "python",
   "name": "python3"
  },
  "language_info": {
   "codemirror_mode": {
    "name": "ipython",
    "version": 3
   },
   "file_extension": ".py",
   "mimetype": "text/x-python",
   "name": "python",
   "nbconvert_exporter": "python",
   "pygments_lexer": "ipython3",
   "version": "3.11.1"
  },
  "orig_nbformat": 4,
  "vscode": {
   "interpreter": {
    "hash": "bfd020f60af6a5e8ba9fc70ea6c26a02b59c46c0b3707815ab84a14ae6ed0531"
   }
  }
 },
 "nbformat": 4,
 "nbformat_minor": 2
}
