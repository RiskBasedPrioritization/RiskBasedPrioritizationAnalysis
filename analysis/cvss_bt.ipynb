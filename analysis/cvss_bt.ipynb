{
  "cells": [
    {
      "cell_type": "markdown",
      "metadata": {
        "id": "fYZU761zARm9"
      },
      "source": [
        "# Overview\n",
        "1. Input data is the enriched CVSS score with the Exploit Code Maturity/Exploitability (E) Temporal Metric cvss-bt.csv from https://github.com/t0sche/cvss-bt\n",
        "2. CVSS counts\n",
        "   1. Plot count of CVEs **at/below** a CVSS score for both CVSS Base Score and CVSS BT (Base and Threat) Score.\n",
        "   2. Plot count of CVEs **at/above** a CVSS score for both CVSS Base Score and CVSS BT (Base and Threat) Score.\n",
        "      1. For remediation at/above a CVSS score\n",
        "\n",
        "Risk Based Prioritization Schemes:\n",
        "\n",
        "1. CVSS Base Threat Exploitability Ratings (Exploitation Support)\n",
        "   1. Bar Chart\n",
        "   2. Parallel Categories Diagram\n",
        "2. CVSS Base + Exploitation Focus\n",
        "3. SSVC-like Decision Tree\n"
      ]
    },
    {
      "cell_type": "code",
      "execution_count": 114,
      "metadata": {
        "id": "uDfWEJ8ZARm-"
      },
      "outputs": [],
      "source": [
        "# Need these for the logic\n",
        "import pandas as pd\n",
        "#from cvss import CVSS2, CVSS3, CVSS4\n",
        "\n",
        "# Need these for the plots\n",
        "import matplotlib.pyplot as plt\n",
        "import plotly.graph_objects as go\n",
        "import plotly.io as pio\n",
        "import seaborn as sns\n",
        "from IPython.display import Image #to display images in github from this notebook\n",
        "\n",
        "EPSS_THRESHOLD_LOW = 0.1\n"
      ]
    },
    {
      "cell_type": "markdown",
      "metadata": {
        "id": "RqdPwnw_ARm_"
      },
      "source": [
        "# CVSS"
      ]
    },
    {
      "cell_type": "code",
      "execution_count": 115,
      "metadata": {
        "colab": {
          "base_uri": "https://localhost:8080/"
        },
        "id": "nfPMQDylARm_",
        "outputId": "e74865d5-0c7a-415b-dc88-8efbddfe9c15"
      },
      "outputs": [
        {
          "name": "stdout",
          "output_type": "stream",
          "text": [
            "Not running in Google Colab\n",
            "Not running in Google Colab\n"
          ]
        },
        {
          "name": "stderr",
          "output_type": "stream",
          "text": [
            "/var/folders/ss/mvst4cws5c9dzhhthv64hhzr0000gq/T/ipykernel_93221/634053555.py:19: DtypeWarning:\n",
            "\n",
            "Columns (10) have mixed types. Specify dtype option on import or set low_memory=False.\n",
            "\n"
          ]
        }
      ],
      "source": [
        "try:\n",
        "    import google.colab\n",
        "    IN_COLAB = True\n",
        "except:\n",
        "    IN_COLAB = False\n",
        "\n",
        "if IN_COLAB:\n",
        "    # Run code specific to Google Colab environment\n",
        "    print(\"Running in Google Colab\")\n",
        "    #Download the input data file\n",
        "    FILE_PATH=\"./cvss-bt.csv\"\n",
        "    URL=\"https://raw.githubusercontent.com/t0sche/cvss-bt/main/cvss-bt.csv\"\n",
        "\n",
        "    !if [ ! -f $FILE_PATH ]; then \\\n",
        "        wget -O $FILE_PATH $URL; \\\n",
        "    else \\\n",
        "        echo \"File already exists: $FILE_PATH\"; \\\n",
        "    fi\n",
        "    df = pd.read_csv('./cvss-bt.csv')\n",
        "else:\n",
        "    # Run code for other environments\n",
        "    print(\"Not running in Google Colab\")\n",
        "    df = pd.read_csv('../data_in/cvss_bt/cvss-bt.csv.gz', compression=\"gzip\")\n",
        "\n",
        "\n",
        "\n",
        "if IN_COLAB:\n",
        "    # Run code specific to Google Colab environment\n",
        "    print(\"Running in Google Colab\")\n",
        "    #Download the input data file\n",
        "    DT_FILE_PATH=\"./DT_rbp.csv\"\n",
        "    DT_URL=\"https://raw.githubusercontent.com/RiskBasedPrioritization/RiskBasedPrioritizationAnalysis/main/cisa_ssvc_dt/DT_rbp.csv\"\n",
        "    !if [ ! -f $DT_FILE_PATH ]; then \\\n",
        "        wget -O $DT_FILE_PATH $DT_URL; \\\n",
        "    else \\\n",
        "        echo \"File already exists: $DT_FILE_PATH\"; \\\n",
        "    fi\n",
        "    dt_df = pd.read_csv('./DT_rbp.csv')\n",
        "else:\n",
        "    # Run code for other environments\n",
        "    print(\"Not running in Google Colab\")\n",
        "    dt_df = pd.read_csv('../cisa_ssvc_dt/DT_rbp.csv')"
      ]
    },
    {
      "cell_type": "code",
      "execution_count": 116,
      "metadata": {
        "colab": {
          "base_uri": "https://localhost:8080/",
          "height": 808
        },
        "id": "36Kj38KeCskf",
        "outputId": "4c034df9-91b9-4471-f388-3a378ac33d1d"
      },
      "outputs": [
        {
          "data": {
            "text/html": [
              "<div>\n",
              "<style scoped>\n",
              "    .dataframe tbody tr th:only-of-type {\n",
              "        vertical-align: middle;\n",
              "    }\n",
              "\n",
              "    .dataframe tbody tr th {\n",
              "        vertical-align: top;\n",
              "    }\n",
              "\n",
              "    .dataframe thead th {\n",
              "        text-align: right;\n",
              "    }\n",
              "</style>\n",
              "<table border=\"1\" class=\"dataframe\">\n",
              "  <thead>\n",
              "    <tr style=\"text-align: right;\">\n",
              "      <th></th>\n",
              "      <th>cve</th>\n",
              "      <th>cvss-bt_score</th>\n",
              "      <th>cvss-bt_severity</th>\n",
              "      <th>cvss-bt_vector</th>\n",
              "      <th>cvss_version</th>\n",
              "      <th>base_score</th>\n",
              "      <th>base_severity</th>\n",
              "      <th>base_vector</th>\n",
              "      <th>assigner</th>\n",
              "      <th>published_date</th>\n",
              "      <th>epss</th>\n",
              "      <th>cisa_kev</th>\n",
              "      <th>vulncheck_kev</th>\n",
              "      <th>exploitdb</th>\n",
              "      <th>metasploit</th>\n",
              "      <th>nuclei</th>\n",
              "      <th>poc_github</th>\n",
              "    </tr>\n",
              "  </thead>\n",
              "  <tbody>\n",
              "    <tr>\n",
              "      <th>0</th>\n",
              "      <td>CVE-1999-0095</td>\n",
              "      <td>9.0</td>\n",
              "      <td>HIGH</td>\n",
              "      <td>AV:N/AC:L/Au:N/C:C/I:C/A:C/E:POC</td>\n",
              "      <td>2.0</td>\n",
              "      <td>10.0</td>\n",
              "      <td>HIGH</td>\n",
              "      <td>AV:N/AC:L/Au:N/C:C/I:C/A:C</td>\n",
              "      <td>cve@mitre.org</td>\n",
              "      <td>1988-10-01T04:00Z</td>\n",
              "      <td>0.07764</td>\n",
              "      <td>False</td>\n",
              "      <td>False</td>\n",
              "      <td>True</td>\n",
              "      <td>False</td>\n",
              "      <td>False</td>\n",
              "      <td>False</td>\n",
              "    </tr>\n",
              "    <tr>\n",
              "      <th>1</th>\n",
              "      <td>CVE-1999-0082</td>\n",
              "      <td>8.5</td>\n",
              "      <td>HIGH</td>\n",
              "      <td>AV:N/AC:L/Au:N/C:C/I:C/A:C/E:U</td>\n",
              "      <td>2.0</td>\n",
              "      <td>10.0</td>\n",
              "      <td>HIGH</td>\n",
              "      <td>AV:N/AC:L/Au:N/C:C/I:C/A:C</td>\n",
              "      <td>cve@mitre.org</td>\n",
              "      <td>1988-11-11T05:00Z</td>\n",
              "      <td>0.015</td>\n",
              "      <td>False</td>\n",
              "      <td>False</td>\n",
              "      <td>False</td>\n",
              "      <td>False</td>\n",
              "      <td>False</td>\n",
              "      <td>False</td>\n",
              "    </tr>\n",
              "    <tr>\n",
              "      <th>2</th>\n",
              "      <td>CVE-1999-1471</td>\n",
              "      <td>6.1</td>\n",
              "      <td>MEDIUM</td>\n",
              "      <td>AV:L/AC:L/Au:N/C:C/I:C/A:C/E:U</td>\n",
              "      <td>2.0</td>\n",
              "      <td>7.2</td>\n",
              "      <td>HIGH</td>\n",
              "      <td>AV:L/AC:L/Au:N/C:C/I:C/A:C</td>\n",
              "      <td>cve@mitre.org</td>\n",
              "      <td>1989-01-01T05:00Z</td>\n",
              "      <td>0.00043</td>\n",
              "      <td>False</td>\n",
              "      <td>False</td>\n",
              "      <td>False</td>\n",
              "      <td>False</td>\n",
              "      <td>False</td>\n",
              "      <td>False</td>\n",
              "    </tr>\n",
              "    <tr>\n",
              "      <th>3</th>\n",
              "      <td>CVE-1999-1122</td>\n",
              "      <td>3.9</td>\n",
              "      <td>LOW</td>\n",
              "      <td>AV:L/AC:L/Au:N/C:P/I:P/A:P/E:U</td>\n",
              "      <td>2.0</td>\n",
              "      <td>4.6</td>\n",
              "      <td>MEDIUM</td>\n",
              "      <td>AV:L/AC:L/Au:N/C:P/I:P/A:P</td>\n",
              "      <td>cve@mitre.org</td>\n",
              "      <td>1989-07-26T04:00Z</td>\n",
              "      <td>0.0006</td>\n",
              "      <td>False</td>\n",
              "      <td>False</td>\n",
              "      <td>False</td>\n",
              "      <td>False</td>\n",
              "      <td>False</td>\n",
              "      <td>False</td>\n",
              "    </tr>\n",
              "    <tr>\n",
              "      <th>4</th>\n",
              "      <td>CVE-1999-1467</td>\n",
              "      <td>8.5</td>\n",
              "      <td>HIGH</td>\n",
              "      <td>AV:N/AC:L/Au:N/C:C/I:C/A:C/E:U</td>\n",
              "      <td>2.0</td>\n",
              "      <td>10.0</td>\n",
              "      <td>HIGH</td>\n",
              "      <td>AV:N/AC:L/Au:N/C:C/I:C/A:C</td>\n",
              "      <td>cve@mitre.org</td>\n",
              "      <td>1989-10-26T04:00Z</td>\n",
              "      <td>0.00299</td>\n",
              "      <td>False</td>\n",
              "      <td>False</td>\n",
              "      <td>False</td>\n",
              "      <td>False</td>\n",
              "      <td>False</td>\n",
              "      <td>False</td>\n",
              "    </tr>\n",
              "    <tr>\n",
              "      <th>...</th>\n",
              "      <td>...</td>\n",
              "      <td>...</td>\n",
              "      <td>...</td>\n",
              "      <td>...</td>\n",
              "      <td>...</td>\n",
              "      <td>...</td>\n",
              "      <td>...</td>\n",
              "      <td>...</td>\n",
              "      <td>...</td>\n",
              "      <td>...</td>\n",
              "      <td>...</td>\n",
              "      <td>...</td>\n",
              "      <td>...</td>\n",
              "      <td>...</td>\n",
              "      <td>...</td>\n",
              "      <td>...</td>\n",
              "      <td>...</td>\n",
              "    </tr>\n",
              "    <tr>\n",
              "      <th>240311</th>\n",
              "      <td>CVE-2023-49602</td>\n",
              "      <td>5.0</td>\n",
              "      <td>MEDIUM</td>\n",
              "      <td>CVSS:3.1/AV:N/AC:L/PR:L/UI:R/S:C/C:L/I:L/A:N/E:U</td>\n",
              "      <td>3.1</td>\n",
              "      <td>5.4</td>\n",
              "      <td>MEDIUM</td>\n",
              "      <td>CVSS:3.1/AV:N/AC:L/PR:L/UI:R/S:C/C:L/I:L/A:N</td>\n",
              "      <td>scy@openharmony.io</td>\n",
              "      <td>2024-03-04T07:15Z</td>\n",
              "      <td>0.00043</td>\n",
              "      <td>False</td>\n",
              "      <td>False</td>\n",
              "      <td>False</td>\n",
              "      <td>False</td>\n",
              "      <td>False</td>\n",
              "      <td>False</td>\n",
              "    </tr>\n",
              "    <tr>\n",
              "      <th>240312</th>\n",
              "      <td>CVE-2024-21816</td>\n",
              "      <td>9.0</td>\n",
              "      <td>CRITICAL</td>\n",
              "      <td>CVSS:3.1/AV:N/AC:L/PR:N/UI:N/S:U/C:H/I:H/A:H/E:U</td>\n",
              "      <td>3.1</td>\n",
              "      <td>9.8</td>\n",
              "      <td>CRITICAL</td>\n",
              "      <td>CVSS:3.1/AV:N/AC:L/PR:N/UI:N/S:U/C:H/I:H/A:H</td>\n",
              "      <td>scy@openharmony.io</td>\n",
              "      <td>2024-03-04T07:15Z</td>\n",
              "      <td>0.00043</td>\n",
              "      <td>False</td>\n",
              "      <td>False</td>\n",
              "      <td>False</td>\n",
              "      <td>False</td>\n",
              "      <td>False</td>\n",
              "      <td>False</td>\n",
              "    </tr>\n",
              "    <tr>\n",
              "      <th>240313</th>\n",
              "      <td>CVE-2024-21826</td>\n",
              "      <td>7.3</td>\n",
              "      <td>HIGH</td>\n",
              "      <td>CVSS:3.1/AV:A/AC:L/PR:L/UI:N/S:U/C:H/I:H/A:H/E:U</td>\n",
              "      <td>3.1</td>\n",
              "      <td>8.0</td>\n",
              "      <td>HIGH</td>\n",
              "      <td>CVSS:3.1/AV:A/AC:L/PR:L/UI:N/S:U/C:H/I:H/A:H</td>\n",
              "      <td>scy@openharmony.io</td>\n",
              "      <td>2024-03-04T07:15Z</td>\n",
              "      <td>0.00043</td>\n",
              "      <td>False</td>\n",
              "      <td>False</td>\n",
              "      <td>False</td>\n",
              "      <td>False</td>\n",
              "      <td>False</td>\n",
              "      <td>False</td>\n",
              "    </tr>\n",
              "    <tr>\n",
              "      <th>240314</th>\n",
              "      <td>CVE-2023-46708</td>\n",
              "      <td>9.0</td>\n",
              "      <td>CRITICAL</td>\n",
              "      <td>CVSS:3.1/AV:N/AC:L/PR:N/UI:N/S:U/C:H/I:H/A:H/E:U</td>\n",
              "      <td>3.1</td>\n",
              "      <td>9.8</td>\n",
              "      <td>CRITICAL</td>\n",
              "      <td>CVSS:3.1/AV:N/AC:L/PR:N/UI:N/S:U/C:H/I:H/A:H</td>\n",
              "      <td>scy@openharmony.io</td>\n",
              "      <td>2024-03-04T07:15Z</td>\n",
              "      <td>0.00043</td>\n",
              "      <td>False</td>\n",
              "      <td>False</td>\n",
              "      <td>False</td>\n",
              "      <td>False</td>\n",
              "      <td>False</td>\n",
              "      <td>False</td>\n",
              "    </tr>\n",
              "    <tr>\n",
              "      <th>240315</th>\n",
              "      <td>CVE-2023-25176</td>\n",
              "      <td>5.1</td>\n",
              "      <td>MEDIUM</td>\n",
              "      <td>CVSS:3.1/AV:L/AC:L/PR:L/UI:N/S:U/C:H/I:N/A:N/E:U</td>\n",
              "      <td>3.1</td>\n",
              "      <td>5.5</td>\n",
              "      <td>MEDIUM</td>\n",
              "      <td>CVSS:3.1/AV:L/AC:L/PR:L/UI:N/S:U/C:H/I:N/A:N</td>\n",
              "      <td>scy@openharmony.io</td>\n",
              "      <td>2024-03-04T07:15Z</td>\n",
              "      <td>0.00043</td>\n",
              "      <td>False</td>\n",
              "      <td>False</td>\n",
              "      <td>False</td>\n",
              "      <td>False</td>\n",
              "      <td>False</td>\n",
              "      <td>False</td>\n",
              "    </tr>\n",
              "  </tbody>\n",
              "</table>\n",
              "<p>240316 rows × 17 columns</p>\n",
              "</div>"
            ],
            "text/plain": [
              "                   cve  cvss-bt_score cvss-bt_severity  \\\n",
              "0        CVE-1999-0095            9.0             HIGH   \n",
              "1        CVE-1999-0082            8.5             HIGH   \n",
              "2        CVE-1999-1471            6.1           MEDIUM   \n",
              "3        CVE-1999-1122            3.9              LOW   \n",
              "4        CVE-1999-1467            8.5             HIGH   \n",
              "...                ...            ...              ...   \n",
              "240311  CVE-2023-49602            5.0           MEDIUM   \n",
              "240312  CVE-2024-21816            9.0         CRITICAL   \n",
              "240313  CVE-2024-21826            7.3             HIGH   \n",
              "240314  CVE-2023-46708            9.0         CRITICAL   \n",
              "240315  CVE-2023-25176            5.1           MEDIUM   \n",
              "\n",
              "                                          cvss-bt_vector  cvss_version  \\\n",
              "0                       AV:N/AC:L/Au:N/C:C/I:C/A:C/E:POC           2.0   \n",
              "1                         AV:N/AC:L/Au:N/C:C/I:C/A:C/E:U           2.0   \n",
              "2                         AV:L/AC:L/Au:N/C:C/I:C/A:C/E:U           2.0   \n",
              "3                         AV:L/AC:L/Au:N/C:P/I:P/A:P/E:U           2.0   \n",
              "4                         AV:N/AC:L/Au:N/C:C/I:C/A:C/E:U           2.0   \n",
              "...                                                  ...           ...   \n",
              "240311  CVSS:3.1/AV:N/AC:L/PR:L/UI:R/S:C/C:L/I:L/A:N/E:U           3.1   \n",
              "240312  CVSS:3.1/AV:N/AC:L/PR:N/UI:N/S:U/C:H/I:H/A:H/E:U           3.1   \n",
              "240313  CVSS:3.1/AV:A/AC:L/PR:L/UI:N/S:U/C:H/I:H/A:H/E:U           3.1   \n",
              "240314  CVSS:3.1/AV:N/AC:L/PR:N/UI:N/S:U/C:H/I:H/A:H/E:U           3.1   \n",
              "240315  CVSS:3.1/AV:L/AC:L/PR:L/UI:N/S:U/C:H/I:N/A:N/E:U           3.1   \n",
              "\n",
              "        base_score base_severity  \\\n",
              "0             10.0          HIGH   \n",
              "1             10.0          HIGH   \n",
              "2              7.2          HIGH   \n",
              "3              4.6        MEDIUM   \n",
              "4             10.0          HIGH   \n",
              "...            ...           ...   \n",
              "240311         5.4        MEDIUM   \n",
              "240312         9.8      CRITICAL   \n",
              "240313         8.0          HIGH   \n",
              "240314         9.8      CRITICAL   \n",
              "240315         5.5        MEDIUM   \n",
              "\n",
              "                                         base_vector            assigner  \\\n",
              "0                         AV:N/AC:L/Au:N/C:C/I:C/A:C       cve@mitre.org   \n",
              "1                         AV:N/AC:L/Au:N/C:C/I:C/A:C       cve@mitre.org   \n",
              "2                         AV:L/AC:L/Au:N/C:C/I:C/A:C       cve@mitre.org   \n",
              "3                         AV:L/AC:L/Au:N/C:P/I:P/A:P       cve@mitre.org   \n",
              "4                         AV:N/AC:L/Au:N/C:C/I:C/A:C       cve@mitre.org   \n",
              "...                                              ...                 ...   \n",
              "240311  CVSS:3.1/AV:N/AC:L/PR:L/UI:R/S:C/C:L/I:L/A:N  scy@openharmony.io   \n",
              "240312  CVSS:3.1/AV:N/AC:L/PR:N/UI:N/S:U/C:H/I:H/A:H  scy@openharmony.io   \n",
              "240313  CVSS:3.1/AV:A/AC:L/PR:L/UI:N/S:U/C:H/I:H/A:H  scy@openharmony.io   \n",
              "240314  CVSS:3.1/AV:N/AC:L/PR:N/UI:N/S:U/C:H/I:H/A:H  scy@openharmony.io   \n",
              "240315  CVSS:3.1/AV:L/AC:L/PR:L/UI:N/S:U/C:H/I:N/A:N  scy@openharmony.io   \n",
              "\n",
              "           published_date     epss  cisa_kev  vulncheck_kev  exploitdb  \\\n",
              "0       1988-10-01T04:00Z  0.07764     False          False       True   \n",
              "1       1988-11-11T05:00Z    0.015     False          False      False   \n",
              "2       1989-01-01T05:00Z  0.00043     False          False      False   \n",
              "3       1989-07-26T04:00Z   0.0006     False          False      False   \n",
              "4       1989-10-26T04:00Z  0.00299     False          False      False   \n",
              "...                   ...      ...       ...            ...        ...   \n",
              "240311  2024-03-04T07:15Z  0.00043     False          False      False   \n",
              "240312  2024-03-04T07:15Z  0.00043     False          False      False   \n",
              "240313  2024-03-04T07:15Z  0.00043     False          False      False   \n",
              "240314  2024-03-04T07:15Z  0.00043     False          False      False   \n",
              "240315  2024-03-04T07:15Z  0.00043     False          False      False   \n",
              "\n",
              "        metasploit  nuclei  poc_github  \n",
              "0            False   False       False  \n",
              "1            False   False       False  \n",
              "2            False   False       False  \n",
              "3            False   False       False  \n",
              "4            False   False       False  \n",
              "...            ...     ...         ...  \n",
              "240311       False   False       False  \n",
              "240312       False   False       False  \n",
              "240313       False   False       False  \n",
              "240314       False   False       False  \n",
              "240315       False   False       False  \n",
              "\n",
              "[240316 rows x 17 columns]"
            ]
          },
          "execution_count": 116,
          "metadata": {},
          "output_type": "execute_result"
        }
      ],
      "source": [
        "df"
      ]
    },
    {
      "cell_type": "code",
      "execution_count": 117,
      "metadata": {
        "colab": {
          "base_uri": "https://localhost:8080/",
          "height": 1000
        },
        "id": "__m6IN0lCuyj",
        "outputId": "e60a14a8-a7c6-4e8c-cb0b-65a8f3a16eb4"
      },
      "outputs": [
        {
          "data": {
            "text/html": [
              "<div>\n",
              "<style scoped>\n",
              "    .dataframe tbody tr th:only-of-type {\n",
              "        vertical-align: middle;\n",
              "    }\n",
              "\n",
              "    .dataframe tbody tr th {\n",
              "        vertical-align: top;\n",
              "    }\n",
              "\n",
              "    .dataframe thead th {\n",
              "        text-align: right;\n",
              "    }\n",
              "</style>\n",
              "<table border=\"1\" class=\"dataframe\">\n",
              "  <thead>\n",
              "    <tr style=\"text-align: right;\">\n",
              "      <th></th>\n",
              "      <th>Leaf</th>\n",
              "      <th>Exploitation</th>\n",
              "      <th>Automatable</th>\n",
              "      <th>TechnicalImpact</th>\n",
              "      <th>MissionWellBeing</th>\n",
              "      <th>Priority</th>\n",
              "    </tr>\n",
              "  </thead>\n",
              "  <tbody>\n",
              "    <tr>\n",
              "      <th>0</th>\n",
              "      <td>1</td>\n",
              "      <td>active</td>\n",
              "      <td>yes</td>\n",
              "      <td>total</td>\n",
              "      <td>high</td>\n",
              "      <td>Act</td>\n",
              "    </tr>\n",
              "    <tr>\n",
              "      <th>1</th>\n",
              "      <td>2</td>\n",
              "      <td>active</td>\n",
              "      <td>yes</td>\n",
              "      <td>total</td>\n",
              "      <td>medium</td>\n",
              "      <td>Act</td>\n",
              "    </tr>\n",
              "    <tr>\n",
              "      <th>2</th>\n",
              "      <td>3</td>\n",
              "      <td>active</td>\n",
              "      <td>yes</td>\n",
              "      <td>total</td>\n",
              "      <td>low</td>\n",
              "      <td>Attend</td>\n",
              "    </tr>\n",
              "    <tr>\n",
              "      <th>3</th>\n",
              "      <td>4</td>\n",
              "      <td>active</td>\n",
              "      <td>yes</td>\n",
              "      <td>partial</td>\n",
              "      <td>high</td>\n",
              "      <td>Act</td>\n",
              "    </tr>\n",
              "    <tr>\n",
              "      <th>4</th>\n",
              "      <td>5</td>\n",
              "      <td>active</td>\n",
              "      <td>yes</td>\n",
              "      <td>partial</td>\n",
              "      <td>medium</td>\n",
              "      <td>Attend</td>\n",
              "    </tr>\n",
              "    <tr>\n",
              "      <th>5</th>\n",
              "      <td>6</td>\n",
              "      <td>active</td>\n",
              "      <td>yes</td>\n",
              "      <td>partial</td>\n",
              "      <td>low</td>\n",
              "      <td>Attend</td>\n",
              "    </tr>\n",
              "    <tr>\n",
              "      <th>6</th>\n",
              "      <td>7</td>\n",
              "      <td>active</td>\n",
              "      <td>no</td>\n",
              "      <td>total</td>\n",
              "      <td>high</td>\n",
              "      <td>Act</td>\n",
              "    </tr>\n",
              "    <tr>\n",
              "      <th>7</th>\n",
              "      <td>8</td>\n",
              "      <td>active</td>\n",
              "      <td>no</td>\n",
              "      <td>total</td>\n",
              "      <td>medium</td>\n",
              "      <td>Attend</td>\n",
              "    </tr>\n",
              "    <tr>\n",
              "      <th>8</th>\n",
              "      <td>9</td>\n",
              "      <td>active</td>\n",
              "      <td>no</td>\n",
              "      <td>total</td>\n",
              "      <td>low</td>\n",
              "      <td>Track</td>\n",
              "    </tr>\n",
              "    <tr>\n",
              "      <th>9</th>\n",
              "      <td>10</td>\n",
              "      <td>active</td>\n",
              "      <td>no</td>\n",
              "      <td>partial</td>\n",
              "      <td>high</td>\n",
              "      <td>Attend</td>\n",
              "    </tr>\n",
              "    <tr>\n",
              "      <th>10</th>\n",
              "      <td>11</td>\n",
              "      <td>active</td>\n",
              "      <td>no</td>\n",
              "      <td>partial</td>\n",
              "      <td>medium</td>\n",
              "      <td>Track</td>\n",
              "    </tr>\n",
              "    <tr>\n",
              "      <th>11</th>\n",
              "      <td>12</td>\n",
              "      <td>active</td>\n",
              "      <td>no</td>\n",
              "      <td>partial</td>\n",
              "      <td>low</td>\n",
              "      <td>Track</td>\n",
              "    </tr>\n",
              "    <tr>\n",
              "      <th>12</th>\n",
              "      <td>13</td>\n",
              "      <td>PoC</td>\n",
              "      <td>yes</td>\n",
              "      <td>total</td>\n",
              "      <td>high</td>\n",
              "      <td>Attend</td>\n",
              "    </tr>\n",
              "    <tr>\n",
              "      <th>13</th>\n",
              "      <td>14</td>\n",
              "      <td>PoC</td>\n",
              "      <td>yes</td>\n",
              "      <td>total</td>\n",
              "      <td>medium</td>\n",
              "      <td>Track*</td>\n",
              "    </tr>\n",
              "    <tr>\n",
              "      <th>14</th>\n",
              "      <td>15</td>\n",
              "      <td>PoC</td>\n",
              "      <td>yes</td>\n",
              "      <td>total</td>\n",
              "      <td>low</td>\n",
              "      <td>Track</td>\n",
              "    </tr>\n",
              "    <tr>\n",
              "      <th>15</th>\n",
              "      <td>16</td>\n",
              "      <td>PoC</td>\n",
              "      <td>yes</td>\n",
              "      <td>partial</td>\n",
              "      <td>high</td>\n",
              "      <td>Attend</td>\n",
              "    </tr>\n",
              "    <tr>\n",
              "      <th>16</th>\n",
              "      <td>17</td>\n",
              "      <td>PoC</td>\n",
              "      <td>yes</td>\n",
              "      <td>partial</td>\n",
              "      <td>medium</td>\n",
              "      <td>Track</td>\n",
              "    </tr>\n",
              "    <tr>\n",
              "      <th>17</th>\n",
              "      <td>18</td>\n",
              "      <td>PoC</td>\n",
              "      <td>yes</td>\n",
              "      <td>partial</td>\n",
              "      <td>low</td>\n",
              "      <td>Track</td>\n",
              "    </tr>\n",
              "    <tr>\n",
              "      <th>18</th>\n",
              "      <td>19</td>\n",
              "      <td>PoC</td>\n",
              "      <td>no</td>\n",
              "      <td>total</td>\n",
              "      <td>high</td>\n",
              "      <td>Attend</td>\n",
              "    </tr>\n",
              "    <tr>\n",
              "      <th>19</th>\n",
              "      <td>20</td>\n",
              "      <td>PoC</td>\n",
              "      <td>no</td>\n",
              "      <td>total</td>\n",
              "      <td>medium</td>\n",
              "      <td>Track*</td>\n",
              "    </tr>\n",
              "    <tr>\n",
              "      <th>20</th>\n",
              "      <td>21</td>\n",
              "      <td>PoC</td>\n",
              "      <td>no</td>\n",
              "      <td>total</td>\n",
              "      <td>low</td>\n",
              "      <td>Track</td>\n",
              "    </tr>\n",
              "    <tr>\n",
              "      <th>21</th>\n",
              "      <td>22</td>\n",
              "      <td>PoC</td>\n",
              "      <td>no</td>\n",
              "      <td>partial</td>\n",
              "      <td>high</td>\n",
              "      <td>Track</td>\n",
              "    </tr>\n",
              "    <tr>\n",
              "      <th>22</th>\n",
              "      <td>23</td>\n",
              "      <td>PoC</td>\n",
              "      <td>no</td>\n",
              "      <td>partial</td>\n",
              "      <td>medium</td>\n",
              "      <td>Track</td>\n",
              "    </tr>\n",
              "    <tr>\n",
              "      <th>23</th>\n",
              "      <td>24</td>\n",
              "      <td>PoC</td>\n",
              "      <td>no</td>\n",
              "      <td>partial</td>\n",
              "      <td>low</td>\n",
              "      <td>Track*</td>\n",
              "    </tr>\n",
              "    <tr>\n",
              "      <th>24</th>\n",
              "      <td>25</td>\n",
              "      <td>none</td>\n",
              "      <td>yes</td>\n",
              "      <td>total</td>\n",
              "      <td>high</td>\n",
              "      <td>Attend</td>\n",
              "    </tr>\n",
              "    <tr>\n",
              "      <th>25</th>\n",
              "      <td>26</td>\n",
              "      <td>none</td>\n",
              "      <td>yes</td>\n",
              "      <td>total</td>\n",
              "      <td>medium</td>\n",
              "      <td>Track</td>\n",
              "    </tr>\n",
              "    <tr>\n",
              "      <th>26</th>\n",
              "      <td>27</td>\n",
              "      <td>none</td>\n",
              "      <td>yes</td>\n",
              "      <td>total</td>\n",
              "      <td>low</td>\n",
              "      <td>Track</td>\n",
              "    </tr>\n",
              "    <tr>\n",
              "      <th>27</th>\n",
              "      <td>28</td>\n",
              "      <td>none</td>\n",
              "      <td>yes</td>\n",
              "      <td>partial</td>\n",
              "      <td>high</td>\n",
              "      <td>Attend</td>\n",
              "    </tr>\n",
              "    <tr>\n",
              "      <th>28</th>\n",
              "      <td>29</td>\n",
              "      <td>none</td>\n",
              "      <td>yes</td>\n",
              "      <td>partial</td>\n",
              "      <td>medium</td>\n",
              "      <td>Track</td>\n",
              "    </tr>\n",
              "    <tr>\n",
              "      <th>29</th>\n",
              "      <td>30</td>\n",
              "      <td>none</td>\n",
              "      <td>yes</td>\n",
              "      <td>partial</td>\n",
              "      <td>low</td>\n",
              "      <td>Track</td>\n",
              "    </tr>\n",
              "    <tr>\n",
              "      <th>30</th>\n",
              "      <td>31</td>\n",
              "      <td>none</td>\n",
              "      <td>no</td>\n",
              "      <td>total</td>\n",
              "      <td>high</td>\n",
              "      <td>Track*</td>\n",
              "    </tr>\n",
              "    <tr>\n",
              "      <th>31</th>\n",
              "      <td>32</td>\n",
              "      <td>none</td>\n",
              "      <td>no</td>\n",
              "      <td>total</td>\n",
              "      <td>medium</td>\n",
              "      <td>Track</td>\n",
              "    </tr>\n",
              "    <tr>\n",
              "      <th>32</th>\n",
              "      <td>33</td>\n",
              "      <td>none</td>\n",
              "      <td>no</td>\n",
              "      <td>total</td>\n",
              "      <td>low</td>\n",
              "      <td>Track</td>\n",
              "    </tr>\n",
              "    <tr>\n",
              "      <th>33</th>\n",
              "      <td>34</td>\n",
              "      <td>none</td>\n",
              "      <td>no</td>\n",
              "      <td>partial</td>\n",
              "      <td>high</td>\n",
              "      <td>Track</td>\n",
              "    </tr>\n",
              "    <tr>\n",
              "      <th>34</th>\n",
              "      <td>35</td>\n",
              "      <td>none</td>\n",
              "      <td>no</td>\n",
              "      <td>partial</td>\n",
              "      <td>medium</td>\n",
              "      <td>Track</td>\n",
              "    </tr>\n",
              "    <tr>\n",
              "      <th>35</th>\n",
              "      <td>36</td>\n",
              "      <td>none</td>\n",
              "      <td>no</td>\n",
              "      <td>partial</td>\n",
              "      <td>low</td>\n",
              "      <td>Track</td>\n",
              "    </tr>\n",
              "  </tbody>\n",
              "</table>\n",
              "</div>"
            ],
            "text/plain": [
              "    Leaf Exploitation Automatable TechnicalImpact MissionWellBeing Priority\n",
              "0      1       active         yes           total             high      Act\n",
              "1      2       active         yes           total           medium      Act\n",
              "2      3       active         yes           total              low   Attend\n",
              "3      4       active         yes         partial             high      Act\n",
              "4      5       active         yes         partial           medium   Attend\n",
              "5      6       active         yes         partial              low   Attend\n",
              "6      7       active          no           total             high      Act\n",
              "7      8       active          no           total           medium   Attend\n",
              "8      9       active          no           total              low    Track\n",
              "9     10       active          no         partial             high   Attend\n",
              "10    11       active          no         partial           medium    Track\n",
              "11    12       active          no         partial              low    Track\n",
              "12    13          PoC         yes           total             high   Attend\n",
              "13    14          PoC         yes           total           medium   Track*\n",
              "14    15          PoC         yes           total              low    Track\n",
              "15    16          PoC         yes         partial             high   Attend\n",
              "16    17          PoC         yes         partial           medium    Track\n",
              "17    18          PoC         yes         partial              low    Track\n",
              "18    19          PoC          no           total             high   Attend\n",
              "19    20          PoC          no           total           medium   Track*\n",
              "20    21          PoC          no           total              low    Track\n",
              "21    22          PoC          no         partial             high    Track\n",
              "22    23          PoC          no         partial           medium    Track\n",
              "23    24          PoC          no         partial              low   Track*\n",
              "24    25         none         yes           total             high   Attend\n",
              "25    26         none         yes           total           medium    Track\n",
              "26    27         none         yes           total              low    Track\n",
              "27    28         none         yes         partial             high   Attend\n",
              "28    29         none         yes         partial           medium    Track\n",
              "29    30         none         yes         partial              low    Track\n",
              "30    31         none          no           total             high   Track*\n",
              "31    32         none          no           total           medium    Track\n",
              "32    33         none          no           total              low    Track\n",
              "33    34         none          no         partial             high    Track\n",
              "34    35         none          no         partial           medium    Track\n",
              "35    36         none          no         partial              low    Track"
            ]
          },
          "execution_count": 117,
          "metadata": {},
          "output_type": "execute_result"
        }
      ],
      "source": [
        "dt_df"
      ]
    },
    {
      "cell_type": "code",
      "execution_count": 118,
      "metadata": {
        "colab": {
          "base_uri": "https://localhost:8080/",
          "height": 808
        },
        "id": "3CZvB1lJARm_",
        "outputId": "b1182c53-750d-45c5-efcf-79d3040e9115"
      },
      "outputs": [
        {
          "data": {
            "text/html": [
              "<div>\n",
              "<style scoped>\n",
              "    .dataframe tbody tr th:only-of-type {\n",
              "        vertical-align: middle;\n",
              "    }\n",
              "\n",
              "    .dataframe tbody tr th {\n",
              "        vertical-align: top;\n",
              "    }\n",
              "\n",
              "    .dataframe thead th {\n",
              "        text-align: right;\n",
              "    }\n",
              "</style>\n",
              "<table border=\"1\" class=\"dataframe\">\n",
              "  <thead>\n",
              "    <tr style=\"text-align: right;\">\n",
              "      <th></th>\n",
              "      <th>cve</th>\n",
              "      <th>cvss-bt_score</th>\n",
              "      <th>cvss-bt_severity</th>\n",
              "      <th>cvss-bt_vector</th>\n",
              "      <th>cvss_version</th>\n",
              "      <th>base_score</th>\n",
              "      <th>base_severity</th>\n",
              "      <th>base_vector</th>\n",
              "      <th>assigner</th>\n",
              "      <th>published_date</th>\n",
              "      <th>epss</th>\n",
              "      <th>cisa_kev</th>\n",
              "      <th>vulncheck_kev</th>\n",
              "      <th>exploitdb</th>\n",
              "      <th>metasploit</th>\n",
              "      <th>nuclei</th>\n",
              "      <th>poc_github</th>\n",
              "    </tr>\n",
              "  </thead>\n",
              "  <tbody>\n",
              "    <tr>\n",
              "      <th>0</th>\n",
              "      <td>CVE-1999-0095</td>\n",
              "      <td>9.0</td>\n",
              "      <td>HIGH</td>\n",
              "      <td>AV:N/AC:L/Au:N/C:C/I:C/A:C/E:POC</td>\n",
              "      <td>2.0</td>\n",
              "      <td>10.0</td>\n",
              "      <td>HIGH</td>\n",
              "      <td>AV:N/AC:L/Au:N/C:C/I:C/A:C</td>\n",
              "      <td>cve@mitre.org</td>\n",
              "      <td>1988-10-01T04:00Z</td>\n",
              "      <td>0.07764</td>\n",
              "      <td>False</td>\n",
              "      <td>False</td>\n",
              "      <td>True</td>\n",
              "      <td>False</td>\n",
              "      <td>False</td>\n",
              "      <td>False</td>\n",
              "    </tr>\n",
              "    <tr>\n",
              "      <th>1</th>\n",
              "      <td>CVE-1999-0082</td>\n",
              "      <td>8.5</td>\n",
              "      <td>HIGH</td>\n",
              "      <td>AV:N/AC:L/Au:N/C:C/I:C/A:C/E:U</td>\n",
              "      <td>2.0</td>\n",
              "      <td>10.0</td>\n",
              "      <td>HIGH</td>\n",
              "      <td>AV:N/AC:L/Au:N/C:C/I:C/A:C</td>\n",
              "      <td>cve@mitre.org</td>\n",
              "      <td>1988-11-11T05:00Z</td>\n",
              "      <td>0.015</td>\n",
              "      <td>False</td>\n",
              "      <td>False</td>\n",
              "      <td>False</td>\n",
              "      <td>False</td>\n",
              "      <td>False</td>\n",
              "      <td>False</td>\n",
              "    </tr>\n",
              "    <tr>\n",
              "      <th>2</th>\n",
              "      <td>CVE-1999-1471</td>\n",
              "      <td>6.1</td>\n",
              "      <td>MEDIUM</td>\n",
              "      <td>AV:L/AC:L/Au:N/C:C/I:C/A:C/E:U</td>\n",
              "      <td>2.0</td>\n",
              "      <td>7.2</td>\n",
              "      <td>HIGH</td>\n",
              "      <td>AV:L/AC:L/Au:N/C:C/I:C/A:C</td>\n",
              "      <td>cve@mitre.org</td>\n",
              "      <td>1989-01-01T05:00Z</td>\n",
              "      <td>0.00043</td>\n",
              "      <td>False</td>\n",
              "      <td>False</td>\n",
              "      <td>False</td>\n",
              "      <td>False</td>\n",
              "      <td>False</td>\n",
              "      <td>False</td>\n",
              "    </tr>\n",
              "    <tr>\n",
              "      <th>3</th>\n",
              "      <td>CVE-1999-1122</td>\n",
              "      <td>3.9</td>\n",
              "      <td>LOW</td>\n",
              "      <td>AV:L/AC:L/Au:N/C:P/I:P/A:P/E:U</td>\n",
              "      <td>2.0</td>\n",
              "      <td>4.6</td>\n",
              "      <td>MEDIUM</td>\n",
              "      <td>AV:L/AC:L/Au:N/C:P/I:P/A:P</td>\n",
              "      <td>cve@mitre.org</td>\n",
              "      <td>1989-07-26T04:00Z</td>\n",
              "      <td>0.0006</td>\n",
              "      <td>False</td>\n",
              "      <td>False</td>\n",
              "      <td>False</td>\n",
              "      <td>False</td>\n",
              "      <td>False</td>\n",
              "      <td>False</td>\n",
              "    </tr>\n",
              "    <tr>\n",
              "      <th>4</th>\n",
              "      <td>CVE-1999-1467</td>\n",
              "      <td>8.5</td>\n",
              "      <td>HIGH</td>\n",
              "      <td>AV:N/AC:L/Au:N/C:C/I:C/A:C/E:U</td>\n",
              "      <td>2.0</td>\n",
              "      <td>10.0</td>\n",
              "      <td>HIGH</td>\n",
              "      <td>AV:N/AC:L/Au:N/C:C/I:C/A:C</td>\n",
              "      <td>cve@mitre.org</td>\n",
              "      <td>1989-10-26T04:00Z</td>\n",
              "      <td>0.00299</td>\n",
              "      <td>False</td>\n",
              "      <td>False</td>\n",
              "      <td>False</td>\n",
              "      <td>False</td>\n",
              "      <td>False</td>\n",
              "      <td>False</td>\n",
              "    </tr>\n",
              "    <tr>\n",
              "      <th>...</th>\n",
              "      <td>...</td>\n",
              "      <td>...</td>\n",
              "      <td>...</td>\n",
              "      <td>...</td>\n",
              "      <td>...</td>\n",
              "      <td>...</td>\n",
              "      <td>...</td>\n",
              "      <td>...</td>\n",
              "      <td>...</td>\n",
              "      <td>...</td>\n",
              "      <td>...</td>\n",
              "      <td>...</td>\n",
              "      <td>...</td>\n",
              "      <td>...</td>\n",
              "      <td>...</td>\n",
              "      <td>...</td>\n",
              "      <td>...</td>\n",
              "    </tr>\n",
              "    <tr>\n",
              "      <th>240311</th>\n",
              "      <td>CVE-2023-49602</td>\n",
              "      <td>5.0</td>\n",
              "      <td>MEDIUM</td>\n",
              "      <td>CVSS:3.1/AV:N/AC:L/PR:L/UI:R/S:C/C:L/I:L/A:N/E:U</td>\n",
              "      <td>3.1</td>\n",
              "      <td>5.4</td>\n",
              "      <td>MEDIUM</td>\n",
              "      <td>CVSS:3.1/AV:N/AC:L/PR:L/UI:R/S:C/C:L/I:L/A:N</td>\n",
              "      <td>scy@openharmony.io</td>\n",
              "      <td>2024-03-04T07:15Z</td>\n",
              "      <td>0.00043</td>\n",
              "      <td>False</td>\n",
              "      <td>False</td>\n",
              "      <td>False</td>\n",
              "      <td>False</td>\n",
              "      <td>False</td>\n",
              "      <td>False</td>\n",
              "    </tr>\n",
              "    <tr>\n",
              "      <th>240312</th>\n",
              "      <td>CVE-2024-21816</td>\n",
              "      <td>9.0</td>\n",
              "      <td>CRITICAL</td>\n",
              "      <td>CVSS:3.1/AV:N/AC:L/PR:N/UI:N/S:U/C:H/I:H/A:H/E:U</td>\n",
              "      <td>3.1</td>\n",
              "      <td>9.8</td>\n",
              "      <td>CRITICAL</td>\n",
              "      <td>CVSS:3.1/AV:N/AC:L/PR:N/UI:N/S:U/C:H/I:H/A:H</td>\n",
              "      <td>scy@openharmony.io</td>\n",
              "      <td>2024-03-04T07:15Z</td>\n",
              "      <td>0.00043</td>\n",
              "      <td>False</td>\n",
              "      <td>False</td>\n",
              "      <td>False</td>\n",
              "      <td>False</td>\n",
              "      <td>False</td>\n",
              "      <td>False</td>\n",
              "    </tr>\n",
              "    <tr>\n",
              "      <th>240313</th>\n",
              "      <td>CVE-2024-21826</td>\n",
              "      <td>7.3</td>\n",
              "      <td>HIGH</td>\n",
              "      <td>CVSS:3.1/AV:A/AC:L/PR:L/UI:N/S:U/C:H/I:H/A:H/E:U</td>\n",
              "      <td>3.1</td>\n",
              "      <td>8.0</td>\n",
              "      <td>HIGH</td>\n",
              "      <td>CVSS:3.1/AV:A/AC:L/PR:L/UI:N/S:U/C:H/I:H/A:H</td>\n",
              "      <td>scy@openharmony.io</td>\n",
              "      <td>2024-03-04T07:15Z</td>\n",
              "      <td>0.00043</td>\n",
              "      <td>False</td>\n",
              "      <td>False</td>\n",
              "      <td>False</td>\n",
              "      <td>False</td>\n",
              "      <td>False</td>\n",
              "      <td>False</td>\n",
              "    </tr>\n",
              "    <tr>\n",
              "      <th>240314</th>\n",
              "      <td>CVE-2023-46708</td>\n",
              "      <td>9.0</td>\n",
              "      <td>CRITICAL</td>\n",
              "      <td>CVSS:3.1/AV:N/AC:L/PR:N/UI:N/S:U/C:H/I:H/A:H/E:U</td>\n",
              "      <td>3.1</td>\n",
              "      <td>9.8</td>\n",
              "      <td>CRITICAL</td>\n",
              "      <td>CVSS:3.1/AV:N/AC:L/PR:N/UI:N/S:U/C:H/I:H/A:H</td>\n",
              "      <td>scy@openharmony.io</td>\n",
              "      <td>2024-03-04T07:15Z</td>\n",
              "      <td>0.00043</td>\n",
              "      <td>False</td>\n",
              "      <td>False</td>\n",
              "      <td>False</td>\n",
              "      <td>False</td>\n",
              "      <td>False</td>\n",
              "      <td>False</td>\n",
              "    </tr>\n",
              "    <tr>\n",
              "      <th>240315</th>\n",
              "      <td>CVE-2023-25176</td>\n",
              "      <td>5.1</td>\n",
              "      <td>MEDIUM</td>\n",
              "      <td>CVSS:3.1/AV:L/AC:L/PR:L/UI:N/S:U/C:H/I:N/A:N/E:U</td>\n",
              "      <td>3.1</td>\n",
              "      <td>5.5</td>\n",
              "      <td>MEDIUM</td>\n",
              "      <td>CVSS:3.1/AV:L/AC:L/PR:L/UI:N/S:U/C:H/I:N/A:N</td>\n",
              "      <td>scy@openharmony.io</td>\n",
              "      <td>2024-03-04T07:15Z</td>\n",
              "      <td>0.00043</td>\n",
              "      <td>False</td>\n",
              "      <td>False</td>\n",
              "      <td>False</td>\n",
              "      <td>False</td>\n",
              "      <td>False</td>\n",
              "      <td>False</td>\n",
              "    </tr>\n",
              "  </tbody>\n",
              "</table>\n",
              "<p>240277 rows × 17 columns</p>\n",
              "</div>"
            ],
            "text/plain": [
              "                   cve  cvss-bt_score cvss-bt_severity  \\\n",
              "0        CVE-1999-0095            9.0             HIGH   \n",
              "1        CVE-1999-0082            8.5             HIGH   \n",
              "2        CVE-1999-1471            6.1           MEDIUM   \n",
              "3        CVE-1999-1122            3.9              LOW   \n",
              "4        CVE-1999-1467            8.5             HIGH   \n",
              "...                ...            ...              ...   \n",
              "240311  CVE-2023-49602            5.0           MEDIUM   \n",
              "240312  CVE-2024-21816            9.0         CRITICAL   \n",
              "240313  CVE-2024-21826            7.3             HIGH   \n",
              "240314  CVE-2023-46708            9.0         CRITICAL   \n",
              "240315  CVE-2023-25176            5.1           MEDIUM   \n",
              "\n",
              "                                          cvss-bt_vector  cvss_version  \\\n",
              "0                       AV:N/AC:L/Au:N/C:C/I:C/A:C/E:POC           2.0   \n",
              "1                         AV:N/AC:L/Au:N/C:C/I:C/A:C/E:U           2.0   \n",
              "2                         AV:L/AC:L/Au:N/C:C/I:C/A:C/E:U           2.0   \n",
              "3                         AV:L/AC:L/Au:N/C:P/I:P/A:P/E:U           2.0   \n",
              "4                         AV:N/AC:L/Au:N/C:C/I:C/A:C/E:U           2.0   \n",
              "...                                                  ...           ...   \n",
              "240311  CVSS:3.1/AV:N/AC:L/PR:L/UI:R/S:C/C:L/I:L/A:N/E:U           3.1   \n",
              "240312  CVSS:3.1/AV:N/AC:L/PR:N/UI:N/S:U/C:H/I:H/A:H/E:U           3.1   \n",
              "240313  CVSS:3.1/AV:A/AC:L/PR:L/UI:N/S:U/C:H/I:H/A:H/E:U           3.1   \n",
              "240314  CVSS:3.1/AV:N/AC:L/PR:N/UI:N/S:U/C:H/I:H/A:H/E:U           3.1   \n",
              "240315  CVSS:3.1/AV:L/AC:L/PR:L/UI:N/S:U/C:H/I:N/A:N/E:U           3.1   \n",
              "\n",
              "        base_score base_severity  \\\n",
              "0             10.0          HIGH   \n",
              "1             10.0          HIGH   \n",
              "2              7.2          HIGH   \n",
              "3              4.6        MEDIUM   \n",
              "4             10.0          HIGH   \n",
              "...            ...           ...   \n",
              "240311         5.4        MEDIUM   \n",
              "240312         9.8      CRITICAL   \n",
              "240313         8.0          HIGH   \n",
              "240314         9.8      CRITICAL   \n",
              "240315         5.5        MEDIUM   \n",
              "\n",
              "                                         base_vector            assigner  \\\n",
              "0                         AV:N/AC:L/Au:N/C:C/I:C/A:C       cve@mitre.org   \n",
              "1                         AV:N/AC:L/Au:N/C:C/I:C/A:C       cve@mitre.org   \n",
              "2                         AV:L/AC:L/Au:N/C:C/I:C/A:C       cve@mitre.org   \n",
              "3                         AV:L/AC:L/Au:N/C:P/I:P/A:P       cve@mitre.org   \n",
              "4                         AV:N/AC:L/Au:N/C:C/I:C/A:C       cve@mitre.org   \n",
              "...                                              ...                 ...   \n",
              "240311  CVSS:3.1/AV:N/AC:L/PR:L/UI:R/S:C/C:L/I:L/A:N  scy@openharmony.io   \n",
              "240312  CVSS:3.1/AV:N/AC:L/PR:N/UI:N/S:U/C:H/I:H/A:H  scy@openharmony.io   \n",
              "240313  CVSS:3.1/AV:A/AC:L/PR:L/UI:N/S:U/C:H/I:H/A:H  scy@openharmony.io   \n",
              "240314  CVSS:3.1/AV:N/AC:L/PR:N/UI:N/S:U/C:H/I:H/A:H  scy@openharmony.io   \n",
              "240315  CVSS:3.1/AV:L/AC:L/PR:L/UI:N/S:U/C:H/I:N/A:N  scy@openharmony.io   \n",
              "\n",
              "           published_date     epss  cisa_kev  vulncheck_kev  exploitdb  \\\n",
              "0       1988-10-01T04:00Z  0.07764     False          False       True   \n",
              "1       1988-11-11T05:00Z    0.015     False          False      False   \n",
              "2       1989-01-01T05:00Z  0.00043     False          False      False   \n",
              "3       1989-07-26T04:00Z   0.0006     False          False      False   \n",
              "4       1989-10-26T04:00Z  0.00299     False          False      False   \n",
              "...                   ...      ...       ...            ...        ...   \n",
              "240311  2024-03-04T07:15Z  0.00043     False          False      False   \n",
              "240312  2024-03-04T07:15Z  0.00043     False          False      False   \n",
              "240313  2024-03-04T07:15Z  0.00043     False          False      False   \n",
              "240314  2024-03-04T07:15Z  0.00043     False          False      False   \n",
              "240315  2024-03-04T07:15Z  0.00043     False          False      False   \n",
              "\n",
              "        metasploit  nuclei  poc_github  \n",
              "0            False   False       False  \n",
              "1            False   False       False  \n",
              "2            False   False       False  \n",
              "3            False   False       False  \n",
              "4            False   False       False  \n",
              "...            ...     ...         ...  \n",
              "240311       False   False       False  \n",
              "240312       False   False       False  \n",
              "240313       False   False       False  \n",
              "240314       False   False       False  \n",
              "240315       False   False       False  \n",
              "\n",
              "[240277 rows x 17 columns]"
            ]
          },
          "execution_count": 118,
          "metadata": {},
          "output_type": "execute_result"
        }
      ],
      "source": [
        "# Drop rows where 'cvss' column value is zero\n",
        "df = df[df['base_score'] != 0]\n",
        "df = df[df['cvss-bt_score'] != 0]\n",
        "df"
      ]
    },
    {
      "cell_type": "code",
      "execution_count": 119,
      "metadata": {
        "id": "V-exq1dKARnA"
      },
      "outputs": [],
      "source": [
        "# Convert the column to float with coercion\n",
        "df['epss'] = pd.to_numeric(df['epss'], errors='coerce')"
      ]
    },
    {
      "cell_type": "code",
      "execution_count": 120,
      "metadata": {
        "colab": {
          "base_uri": "https://localhost:8080/"
        },
        "id": "Q7KI4W9GARnA",
        "outputId": "c0bfc467-8c77-4c7f-ccb7-c507a3a9235a"
      },
      "outputs": [
        {
          "data": {
            "text/plain": [
              "CVSS:3.1/AV:N/AC:L/PR:N/UI:N/S:U/C:H/I:H/A:H    15613\n",
              "AV:N/AC:L/Au:N/C:P/I:P/A:P                      14068\n",
              "AV:N/AC:M/Au:N/C:N/I:P/A:N                       8644\n",
              "CVSS:3.1/AV:N/AC:L/PR:N/UI:R/S:C/C:L/I:L/A:N     7743\n",
              "CVSS:3.1/AV:L/AC:L/PR:L/UI:N/S:U/C:H/I:H/A:H     7172\n",
              "                                                ...  \n",
              "CVSS:3.0/AV:A/AC:L/PR:L/UI:N/S:C/C:N/I:L/A:N        1\n",
              "CVSS:3.0/AV:A/AC:L/PR:N/UI:N/S:C/C:N/I:L/A:N        1\n",
              "CVSS:3.0/AV:N/AC:H/PR:N/UI:R/S:C/C:H/I:N/A:N        1\n",
              "CVSS:3.0/AV:P/AC:L/PR:N/UI:R/S:U/C:H/I:H/A:H        1\n",
              "CVSS:3.1/AV:N/AC:L/PR:N/UI:R/S:C/C:H/I:N/A:L        1\n",
              "Name: base_vector, Length: 1909, dtype: int64"
            ]
          },
          "execution_count": 120,
          "metadata": {},
          "output_type": "execute_result"
        }
      ],
      "source": [
        "df.base_vector.value_counts()"
      ]
    },
    {
      "cell_type": "markdown",
      "metadata": {
        "id": "bWGSUIjVARnA"
      },
      "source": [
        "## Cumulative Count of CVEs starting at CVSS 0\n",
        "This is the count of CVEs at or below a given CVSS score"
      ]
    },
    {
      "cell_type": "code",
      "execution_count": 121,
      "metadata": {
        "colab": {
          "base_uri": "https://localhost:8080/",
          "height": 564
        },
        "id": "NSQdDSLMARnA",
        "outputId": "1cdc4c27-6d6c-4d8a-c913-29bc7e76d104"
      },
      "outputs": [
        {
          "data": {
            "image/png": "[encoded data removed]",
            "text/plain": [
              "<Figure size 1000x600 with 1 Axes>"
            ]
          },
          "metadata": {},
          "output_type": "display_data"
        }
      ],
      "source": [
        "\n",
        "# Count CVEs above cvss-bt_score for all cvss-bt_score\n",
        "cvss_bt_counts = df['cvss-bt_score'].value_counts().sort_index().cumsum()\n",
        "\n",
        "# Count CVEs above base_score for all base_score\n",
        "base_counts = df['base_score'].value_counts().sort_index().cumsum()\n",
        "\n",
        "# Plotting\n",
        "plt.figure(figsize=(10, 6))\n",
        "plt.plot(cvss_bt_counts.index, cvss_bt_counts.values, marker='o', linestyle='-', color='blue', label='CVSS-BT Score')\n",
        "plt.plot(base_counts.index, base_counts.values, marker='s', linestyle='--', color='green', label='CVSS-B CVSS-B Base Score')\n",
        "plt.xlabel('Score')\n",
        "plt.ylabel('Cumulative Count of CVEs')\n",
        "plt.title('Cumulative Counts of CVEs for CVSS v3 with Temporal Metric - Exploit Code Maturity (E) Score')\n",
        "plt.xticks(range(11))\n",
        "plt.legend()\n",
        "plt.grid(True)\n",
        "if IN_COLAB == False:\n",
        "    plt.savefig('../images_out/cvss-bt-counts.png')\n",
        "plt.show()\n",
        "\n"
      ]
    },
    {
      "cell_type": "markdown",
      "metadata": {
        "id": "QhxkvMPHARnA"
      },
      "source": [
        "## Cumulative Count of CVEs starting at CVSS 10\n",
        "This is the count of CVEs **at/above** a given CVSS score i.e. for a given CVSS score, how many CVEs **at/above** that score?"
      ]
    },
    {
      "cell_type": "code",
      "execution_count": 122,
      "metadata": {
        "colab": {
          "base_uri": "https://localhost:8080/",
          "height": 564
        },
        "id": "p5oX7R9mARnA",
        "outputId": "7b24022b-3a06-44b3-f758-ab5f24111117"
      },
      "outputs": [
        {
          "data": {
            "image/png": "[encoded data removed]",
            "text/plain": [
              "<Figure size 1200x600 with 1 Axes>"
            ]
          },
          "metadata": {},
          "output_type": "display_data"
        }
      ],
      "source": [
        "# Calculate the cumulative sum of counts above each 'BaseScore' value\n",
        "base_score_counts = df['base_score'].value_counts().sort_index()\n",
        "cumulative_counts = base_score_counts[::-1].cumsum()[::-1]  # Reverse the order to start from 0\n",
        "\n",
        "# Calculate the cumulative sum of counts above each 'BaseScore' value\n",
        "cvss_bt_score_counts = df['cvss-bt_score'].value_counts().sort_index()\n",
        "cvss_bt_cumulative_counts = cvss_bt_score_counts[::-1].cumsum()[::-1]  # Reverse the order to start from 0\n",
        "\n",
        "# Create a bar plot using Seaborn\n",
        "plt.figure(figsize=(12, 6))\n",
        "sns.regplot(x=cumulative_counts.index, y=cumulative_counts.values, order=2, ci=None)\n",
        "sns.regplot(x=cvss_bt_cumulative_counts.index, y=cvss_bt_cumulative_counts.values, order=2, ci=None)\n",
        "\n",
        "\n",
        "plt.title('Count of All CVEs At or Above Each CVSS Base Score and CVSS v3 with Temporal Metric - Exploit Code Maturity (E) Score')\n",
        "plt.xlabel('CVSS Score')\n",
        "plt.ylabel('Count of CVEs above a given CVSS Score')\n",
        "plt.ylim(0)  # Set the x-axis limits from 0.1 to 1\n",
        "plt.legend(['CVSS Base Score', 'CVSS Base Score regression', 'CVSS v3 with Temporal Metric - Exploit Code Maturity (E) Score', 'for CVSS v3 with Temporal Metric - Exploit Code Maturity (E) Score regression'])\n",
        "plt.grid()\n",
        "if IN_COLAB == False:\n",
        "    plt.savefig('../images_out/cvss-bt-counts_above.png')\n",
        "plt.show()\n"
      ]
    },
    {
      "cell_type": "markdown",
      "metadata": {
        "id": "FFHrJgpWARnA"
      },
      "source": [
        "## CVSS Ratings"
      ]
    },
    {
      "cell_type": "code",
      "execution_count": 123,
      "metadata": {
        "colab": {
          "base_uri": "https://localhost:8080/",
          "height": 517
        },
        "id": "X6_d5dlvARnB",
        "outputId": "2554b57f-8c93-4990-b720-1611cba5c8db"
      },
      "outputs": [
        {
          "data": {
            "application/vnd.plotly.v1+json": {
              "config": {
                "plotlyServerURL": "https://plot.ly"
              },
              "data": [
                {
                  "marker": {
                    "color": "green"
                  },
                  "name": "Low",
                  "type": "bar",
                  "x": [
                    "CVSS-B Base Score"
                  ],
                  "y": [
                    3.5126125263758077
                  ]
                },
                {
                  "marker": {
                    "color": "orange"
                  },
                  "name": "Medium",
                  "type": "bar",
                  "x": [
                    "CVSS-B Base Score"
                  ],
                  "y": [
                    44.5989420543789
                  ]
                },
                {
                  "marker": {
                    "color": "pink"
                  },
                  "name": "High",
                  "type": "bar",
                  "x": [
                    "CVSS-B Base Score"
                  ],
                  "y": [
                    36.89783042072275
                  ]
                },
                {
                  "marker": {
                    "color": "red"
                  },
                  "name": "Critical",
                  "type": "bar",
                  "x": [
                    "CVSS-B Base Score"
                  ],
                  "y": [
                    14.990614998522538
                  ]
                },
                {
                  "marker": {
                    "color": "green"
                  },
                  "name": "Low",
                  "type": "bar",
                  "x": [
                    "CVSS-BT Base Threat Score"
                  ],
                  "y": [
                    9.208538478506059
                  ]
                },
                {
                  "marker": {
                    "color": "orange"
                  },
                  "name": "Medium",
                  "type": "bar",
                  "x": [
                    "CVSS-BT Base Threat Score"
                  ],
                  "y": [
                    57.245179521968396
                  ]
                },
                {
                  "marker": {
                    "color": "pink"
                  },
                  "name": "High",
                  "type": "bar",
                  "x": [
                    "CVSS-BT Base Threat Score"
                  ],
                  "y": [
                    22.737923313508993
                  ]
                },
                {
                  "marker": {
                    "color": "red"
                  },
                  "name": "Critical",
                  "type": "bar",
                  "x": [
                    "CVSS-BT Base Threat Score"
                  ],
                  "y": [
                    10.808358686016556
                  ]
                }
              ],
              "layout": {
                "bargap": 0.2,
                "bargroupgap": 0.1,
                "barmode": "stack",
                "height": 500,
                "template": {
                  "data": {
                    "bar": [
                      {
                        "error_x": {
                          "color": "#2a3f5f"
                        },
                        "error_y": {
                          "color": "#2a3f5f"
                        },
                        "marker": {
                          "line": {
                            "color": "#E5ECF6",
                            "width": 0.5
                          },
                          "pattern": {
                            "fillmode": "overlay",
                            "size": 10,
                            "solidity": 0.2
                          }
                        },
                        "type": "bar"
                      }
                    ],
                    "barpolar": [
                      {
                        "marker": {
                          "line": {
                            "color": "#E5ECF6",
                            "width": 0.5
                          },
                          "pattern": {
                            "fillmode": "overlay",
                            "size": 10,
                            "solidity": 0.2
                          }
                        },
                        "type": "barpolar"
                      }
                    ],
                    "carpet": [
                      {
                        "aaxis": {
                          "endlinecolor": "#2a3f5f",
                          "gridcolor": "white",
                          "linecolor": "white",
                          "minorgridcolor": "white",
                          "startlinecolor": "#2a3f5f"
                        },
                        "baxis": {
                          "endlinecolor": "#2a3f5f",
                          "gridcolor": "white",
                          "linecolor": "white",
                          "minorgridcolor": "white",
                          "startlinecolor": "#2a3f5f"
                        },
                        "type": "carpet"
                      }
                    ],
                    "choropleth": [
                      {
                        "colorbar": {
                          "outlinewidth": 0,
                          "ticks": ""
                        },
                        "type": "choropleth"
                      }
                    ],
                    "contour": [
                      {
                        "colorbar": {
                          "outlinewidth": 0,
                          "ticks": ""
                        },
                        "colorscale": [
                          [
                            0,
                            "#0d0887"
                          ],
                          [
                            0.1111111111111111,
                            "#46039f"
                          ],
                          [
                            0.2222222222222222,
                            "#7201a8"
                          ],
                          [
                            0.3333333333333333,
                            "#9c179e"
                          ],
                          [
                            0.4444444444444444,
                            "#bd3786"
                          ],
                          [
                            0.5555555555555556,
                            "#d8576b"
                          ],
                          [
                            0.6666666666666666,
                            "#ed7953"
                          ],
                          [
                            0.7777777777777778,
                            "#fb9f3a"
                          ],
                          [
                            0.8888888888888888,
                            "#fdca26"
                          ],
                          [
                            1,
                            "#f0f921"
                          ]
                        ],
                        "type": "contour"
                      }
                    ],
                    "contourcarpet": [
                      {
                        "colorbar": {
                          "outlinewidth": 0,
                          "ticks": ""
                        },
                        "type": "contourcarpet"
                      }
                    ],
                    "heatmap": [
                      {
                        "colorbar": {
                          "outlinewidth": 0,
                          "ticks": ""
                        },
                        "colorscale": [
                          [
                            0,
                            "#0d0887"
                          ],
                          [
                            0.1111111111111111,
                            "#46039f"
                          ],
                          [
                            0.2222222222222222,
                            "#7201a8"
                          ],
                          [
                            0.3333333333333333,
                            "#9c179e"
                          ],
                          [
                            0.4444444444444444,
                            "#bd3786"
                          ],
                          [
                            0.5555555555555556,
                            "#d8576b"
                          ],
                          [
                            0.6666666666666666,
                            "#ed7953"
                          ],
                          [
                            0.7777777777777778,
                            "#fb9f3a"
                          ],
                          [
                            0.8888888888888888,
                            "#fdca26"
                          ],
                          [
                            1,
                            "#f0f921"
                          ]
                        ],
                        "type": "heatmap"
                      }
                    ],
                    "heatmapgl": [
                      {
                        "colorbar": {
                          "outlinewidth": 0,
                          "ticks": ""
                        },
                        "colorscale": [
                          [
                            0,
                            "#0d0887"
                          ],
                          [
                            0.1111111111111111,
                            "#46039f"
                          ],
                          [
                            0.2222222222222222,
                            "#7201a8"
                          ],
                          [
                            0.3333333333333333,
                            "#9c179e"
                          ],
                          [
                            0.4444444444444444,
                            "#bd3786"
                          ],
                          [
                            0.5555555555555556,
                            "#d8576b"
                          ],
                          [
                            0.6666666666666666,
                            "#ed7953"
                          ],
                          [
                            0.7777777777777778,
                            "#fb9f3a"
                          ],
                          [
                            0.8888888888888888,
                            "#fdca26"
                          ],
                          [
                            1,
                            "#f0f921"
                          ]
                        ],
                        "type": "heatmapgl"
                      }
                    ],
                    "histogram": [
                      {
                        "marker": {
                          "pattern": {
                            "fillmode": "overlay",
                            "size": 10,
                            "solidity": 0.2
                          }
                        },
                        "type": "histogram"
                      }
                    ],
                    "histogram2d": [
                      {
                        "colorbar": {
                          "outlinewidth": 0,
                          "ticks": ""
                        },
                        "colorscale": [
                          [
                            0,
                            "#0d0887"
                          ],
                          [
                            0.1111111111111111,
                            "#46039f"
                          ],
                          [
                            0.2222222222222222,
                            "#7201a8"
                          ],
                          [
                            0.3333333333333333,
                            "#9c179e"
                          ],
                          [
                            0.4444444444444444,
                            "#bd3786"
                          ],
                          [
                            0.5555555555555556,
                            "#d8576b"
                          ],
                          [
                            0.6666666666666666,
                            "#ed7953"
                          ],
                          [
                            0.7777777777777778,
                            "#fb9f3a"
                          ],
                          [
                            0.8888888888888888,
                            "#fdca26"
                          ],
                          [
                            1,
                            "#f0f921"
                          ]
                        ],
                        "type": "histogram2d"
                      }
                    ],
                    "histogram2dcontour": [
                      {
                        "colorbar": {
                          "outlinewidth": 0,
                          "ticks": ""
                        },
                        "colorscale": [
                          [
                            0,
                            "#0d0887"
                          ],
                          [
                            0.1111111111111111,
                            "#46039f"
                          ],
                          [
                            0.2222222222222222,
                            "#7201a8"
                          ],
                          [
                            0.3333333333333333,
                            "#9c179e"
                          ],
                          [
                            0.4444444444444444,
                            "#bd3786"
                          ],
                          [
                            0.5555555555555556,
                            "#d8576b"
                          ],
                          [
                            0.6666666666666666,
                            "#ed7953"
                          ],
                          [
                            0.7777777777777778,
                            "#fb9f3a"
                          ],
                          [
                            0.8888888888888888,
                            "#fdca26"
                          ],
                          [
                            1,
                            "#f0f921"
                          ]
                        ],
                        "type": "histogram2dcontour"
                      }
                    ],
                    "mesh3d": [
                      {
                        "colorbar": {
                          "outlinewidth": 0,
                          "ticks": ""
                        },
                        "type": "mesh3d"
                      }
                    ],
                    "parcoords": [
                      {
                        "line": {
                          "colorbar": {
                            "outlinewidth": 0,
                            "ticks": ""
                          }
                        },
                        "type": "parcoords"
                      }
                    ],
                    "pie": [
                      {
                        "automargin": true,
                        "type": "pie"
                      }
                    ],
                    "scatter": [
                      {
                        "fillpattern": {
                          "fillmode": "overlay",
                          "size": 10,
                          "solidity": 0.2
                        },
                        "type": "scatter"
                      }
                    ],
                    "scatter3d": [
                      {
                        "line": {
                          "colorbar": {
                            "outlinewidth": 0,
                            "ticks": ""
                          }
                        },
                        "marker": {
                          "colorbar": {
                            "outlinewidth": 0,
                            "ticks": ""
                          }
                        },
                        "type": "scatter3d"
                      }
                    ],
                    "scattercarpet": [
                      {
                        "marker": {
                          "colorbar": {
                            "outlinewidth": 0,
                            "ticks": ""
                          }
                        },
                        "type": "scattercarpet"
                      }
                    ],
                    "scattergeo": [
                      {
                        "marker": {
                          "colorbar": {
                            "outlinewidth": 0,
                            "ticks": ""
                          }
                        },
                        "type": "scattergeo"
                      }
                    ],
                    "scattergl": [
                      {
                        "marker": {
                          "colorbar": {
                            "outlinewidth": 0,
                            "ticks": ""
                          }
                        },
                        "type": "scattergl"
                      }
                    ],
                    "scattermapbox": [
                      {
                        "marker": {
                          "colorbar": {
                            "outlinewidth": 0,
                            "ticks": ""
                          }
                        },
                        "type": "scattermapbox"
                      }
                    ],
                    "scatterpolar": [
                      {
                        "marker": {
                          "colorbar": {
                            "outlinewidth": 0,
                            "ticks": ""
                          }
                        },
                        "type": "scatterpolar"
                      }
                    ],
                    "scatterpolargl": [
                      {
                        "marker": {
                          "colorbar": {
                            "outlinewidth": 0,
                            "ticks": ""
                          }
                        },
                        "type": "scatterpolargl"
                      }
                    ],
                    "scatterternary": [
                      {
                        "marker": {
                          "colorbar": {
                            "outlinewidth": 0,
                            "ticks": ""
                          }
                        },
                        "type": "scatterternary"
                      }
                    ],
                    "surface": [
                      {
                        "colorbar": {
                          "outlinewidth": 0,
                          "ticks": ""
                        },
                        "colorscale": [
                          [
                            0,
                            "#0d0887"
                          ],
                          [
                            0.1111111111111111,
                            "#46039f"
                          ],
                          [
                            0.2222222222222222,
                            "#7201a8"
                          ],
                          [
                            0.3333333333333333,
                            "#9c179e"
                          ],
                          [
                            0.4444444444444444,
                            "#bd3786"
                          ],
                          [
                            0.5555555555555556,
                            "#d8576b"
                          ],
                          [
                            0.6666666666666666,
                            "#ed7953"
                          ],
                          [
                            0.7777777777777778,
                            "#fb9f3a"
                          ],
                          [
                            0.8888888888888888,
                            "#fdca26"
                          ],
                          [
                            1,
                            "#f0f921"
                          ]
                        ],
                        "type": "surface"
                      }
                    ],
                    "table": [
                      {
                        "cells": {
                          "fill": {
                            "color": "#EBF0F8"
                          },
                          "line": {
                            "color": "white"
                          }
                        },
                        "header": {
                          "fill": {
                            "color": "#C8D4E3"
                          },
                          "line": {
                            "color": "white"
                          }
                        },
                        "type": "table"
                      }
                    ]
                  },
                  "layout": {
                    "annotationdefaults": {
                      "arrowcolor": "#2a3f5f",
                      "arrowhead": 0,
                      "arrowwidth": 1
                    },
                    "autotypenumbers": "strict",
                    "coloraxis": {
                      "colorbar": {
                        "outlinewidth": 0,
                        "ticks": ""
                      }
                    },
                    "colorscale": {
                      "diverging": [
                        [
                          0,
                          "#8e0152"
                        ],
                        [
                          0.1,
                          "#c51b7d"
                        ],
                        [
                          0.2,
                          "#de77ae"
                        ],
                        [
                          0.3,
                          "#f1b6da"
                        ],
                        [
                          0.4,
                          "#fde0ef"
                        ],
                        [
                          0.5,
                          "#f7f7f7"
                        ],
                        [
                          0.6,
                          "#e6f5d0"
                        ],
                        [
                          0.7,
                          "#b8e186"
                        ],
                        [
                          0.8,
                          "#7fbc41"
                        ],
                        [
                          0.9,
                          "#4d9221"
                        ],
                        [
                          1,
                          "#276419"
                        ]
                      ],
                      "sequential": [
                        [
                          0,
                          "#0d0887"
                        ],
                        [
                          0.1111111111111111,
                          "#46039f"
                        ],
                        [
                          0.2222222222222222,
                          "#7201a8"
                        ],
                        [
                          0.3333333333333333,
                          "#9c179e"
                        ],
                        [
                          0.4444444444444444,
                          "#bd3786"
                        ],
                        [
                          0.5555555555555556,
                          "#d8576b"
                        ],
                        [
                          0.6666666666666666,
                          "#ed7953"
                        ],
                        [
                          0.7777777777777778,
                          "#fb9f3a"
                        ],
                        [
                          0.8888888888888888,
                          "#fdca26"
                        ],
                        [
                          1,
                          "#f0f921"
                        ]
                      ],
                      "sequentialminus": [
                        [
                          0,
                          "#0d0887"
                        ],
                        [
                          0.1111111111111111,
                          "#46039f"
                        ],
                        [
                          0.2222222222222222,
                          "#7201a8"
                        ],
                        [
                          0.3333333333333333,
                          "#9c179e"
                        ],
                        [
                          0.4444444444444444,
                          "#bd3786"
                        ],
                        [
                          0.5555555555555556,
                          "#d8576b"
                        ],
                        [
                          0.6666666666666666,
                          "#ed7953"
                        ],
                        [
                          0.7777777777777778,
                          "#fb9f3a"
                        ],
                        [
                          0.8888888888888888,
                          "#fdca26"
                        ],
                        [
                          1,
                          "#f0f921"
                        ]
                      ]
                    },
                    "colorway": [
                      "#636efa",
                      "#EF553B",
                      "#00cc96",
                      "#ab63fa",
                      "#FFA15A",
                      "#19d3f3",
                      "#FF6692",
                      "#B6E880",
                      "#FF97FF",
                      "#FECB52"
                    ],
                    "font": {
                      "color": "#2a3f5f"
                    },
                    "geo": {
                      "bgcolor": "white",
                      "lakecolor": "white",
                      "landcolor": "#E5ECF6",
                      "showlakes": true,
                      "showland": true,
                      "subunitcolor": "white"
                    },
                    "hoverlabel": {
                      "align": "left"
                    },
                    "hovermode": "closest",
                    "mapbox": {
                      "style": "light"
                    },
                    "paper_bgcolor": "white",
                    "plot_bgcolor": "#E5ECF6",
                    "polar": {
                      "angularaxis": {
                        "gridcolor": "white",
                        "linecolor": "white",
                        "ticks": ""
                      },
                      "bgcolor": "#E5ECF6",
                      "radialaxis": {
                        "gridcolor": "white",
                        "linecolor": "white",
                        "ticks": ""
                      }
                    },
                    "scene": {
                      "xaxis": {
                        "backgroundcolor": "#E5ECF6",
                        "gridcolor": "white",
                        "gridwidth": 2,
                        "linecolor": "white",
                        "showbackground": true,
                        "ticks": "",
                        "zerolinecolor": "white"
                      },
                      "yaxis": {
                        "backgroundcolor": "#E5ECF6",
                        "gridcolor": "white",
                        "gridwidth": 2,
                        "linecolor": "white",
                        "showbackground": true,
                        "ticks": "",
                        "zerolinecolor": "white"
                      },
                      "zaxis": {
                        "backgroundcolor": "#E5ECF6",
                        "gridcolor": "white",
                        "gridwidth": 2,
                        "linecolor": "white",
                        "showbackground": true,
                        "ticks": "",
                        "zerolinecolor": "white"
                      }
                    },
                    "shapedefaults": {
                      "line": {
                        "color": "#2a3f5f"
                      }
                    },
                    "ternary": {
                      "aaxis": {
                        "gridcolor": "white",
                        "linecolor": "white",
                        "ticks": ""
                      },
                      "baxis": {
                        "gridcolor": "white",
                        "linecolor": "white",
                        "ticks": ""
                      },
                      "bgcolor": "#E5ECF6",
                      "caxis": {
                        "gridcolor": "white",
                        "linecolor": "white",
                        "ticks": ""
                      }
                    },
                    "title": {
                      "x": 0.05
                    },
                    "xaxis": {
                      "automargin": true,
                      "gridcolor": "white",
                      "linecolor": "white",
                      "ticks": "",
                      "title": {
                        "standoff": 15
                      },
                      "zerolinecolor": "white",
                      "zerolinewidth": 2
                    },
                    "yaxis": {
                      "automargin": true,
                      "gridcolor": "white",
                      "linecolor": "white",
                      "ticks": "",
                      "title": {
                        "standoff": 15
                      },
                      "zerolinecolor": "white",
                      "zerolinewidth": 2
                    }
                  }
                },
                "title": {
                  "text": "CVEs by CVSS-B Base and CVSS v3 with Temporal Metric - Exploit Code Maturity (E) Ratings"
                },
                "width": 600,
                "xaxis": {
                  "title": {
                    "text": "CVSS Rating"
                  }
                },
                "yaxis": {
                  "title": {
                    "text": "Percentage of CVEs"
                  }
                }
              }
            }
          },
          "metadata": {},
          "output_type": "display_data"
        }
      ],
      "source": [
        "# Define function to categorize scores\n",
        "def categorize_score(score):\n",
        "    if score >= 0.1 and score <= 3.9:\n",
        "        return 'low'\n",
        "    elif score >= 4.0 and score <= 6.9:\n",
        "        return 'medium'\n",
        "    elif score >= 7.0 and score <= 8.9:\n",
        "        return 'high'\n",
        "    elif score >= 9.0 and score <= 10.0:\n",
        "        return 'critical'\n",
        "    else:\n",
        "        return 'invalid'\n",
        "\n",
        "# Apply categorization to both base_score and cvss-bt_score\n",
        "df['base_score_category'] = df['base_score'].apply(categorize_score)\n",
        "df['cvss-bt_score_category'] = df['cvss-bt_score'].apply(categorize_score)\n",
        "\n",
        "# Count the number of CVEs in each category\n",
        "base_score_counts = df['base_score_category'].value_counts().reindex(['low', 'medium', 'high', 'critical'], fill_value=0)\n",
        "cvss_bt_score_counts = df['cvss-bt_score_category'].value_counts().reindex(['low', 'medium', 'high', 'critical'], fill_value=0)\n",
        "\n",
        "# Calculate percentages\n",
        "base_score_perc = base_score_counts / base_score_counts.sum() * 100\n",
        "cvss_bt_score_perc = cvss_bt_score_counts / cvss_bt_score_counts.sum() * 100\n",
        "\n",
        "# Create traces for base score categories\n",
        "trace_base_low = go.Bar(\n",
        "    x=['CVSS-B Base Score'],\n",
        "    y=[base_score_perc['low']],\n",
        "    name='Low',\n",
        "    marker=dict(color='green')\n",
        ")\n",
        "trace_base_medium = go.Bar(\n",
        "    x=['CVSS-B Base Score'],\n",
        "    y=[base_score_perc['medium']],\n",
        "    name='Medium',\n",
        "    marker=dict(color='orange')\n",
        ")\n",
        "trace_base_high = go.Bar(\n",
        "    x=['CVSS-B Base Score'],\n",
        "    y=[base_score_perc['high']],\n",
        "    name='High',\n",
        "    marker=dict(color='pink')\n",
        ")\n",
        "trace_base_critical = go.Bar(\n",
        "    x=['CVSS-B Base Score'],\n",
        "    y=[base_score_perc['critical']],\n",
        "    name='Critical',\n",
        "    marker=dict(color='red')\n",
        ")\n",
        "\n",
        "# Create traces for CVSS-BT score categories\n",
        "trace_cvss_bt_low = go.Bar(\n",
        "    x=['CVSS-BT Base Threat Score'],\n",
        "    y=[cvss_bt_score_perc['low']],\n",
        "    name='Low',\n",
        "    marker=dict(color='green')\n",
        ")\n",
        "trace_cvss_bt_medium = go.Bar(\n",
        "    x=['CVSS-BT Base Threat Score'],\n",
        "    y=[cvss_bt_score_perc['medium']],\n",
        "    name='Medium',\n",
        "    marker=dict(color='orange')\n",
        ")\n",
        "trace_cvss_bt_high = go.Bar(\n",
        "    x=['CVSS-BT Base Threat Score'],\n",
        "    y=[cvss_bt_score_perc['high']],\n",
        "    name='High',\n",
        "    marker=dict(color='pink')\n",
        ")\n",
        "trace_cvss_bt_critical = go.Bar(\n",
        "    x=['CVSS-BT Base Threat Score'],\n",
        "    y=[cvss_bt_score_perc['critical']],\n",
        "    name='Critical',\n",
        "    marker=dict(color='red')\n",
        ")\n",
        "\n",
        "# Layout\n",
        "layout = go.Layout(\n",
        "    title='CVEs by CVSS-B Base and CVSS v3 with Temporal Metric - Exploit Code Maturity (E) Ratings',\n",
        "    xaxis=dict(title='CVSS Rating'),\n",
        "    yaxis=dict(title='Percentage of CVEs'),\n",
        "    barmode='stack',\n",
        "    bargroupgap=0.1,\n",
        "    bargap=0.2,\n",
        "    height=500,\n",
        "    width=600\n",
        ")\n",
        "\n",
        "# Create figure\n",
        "fig = go.Figure(\n",
        "    data=[trace_base_low, trace_base_medium, trace_base_high, trace_base_critical,\n",
        "          trace_cvss_bt_low, trace_cvss_bt_medium, trace_cvss_bt_high, trace_cvss_bt_critical],\n",
        "    layout=layout\n",
        ")\n",
        "# Show plot\n",
        "fig.show()\n",
        "\n",
        "if IN_COLAB == False:\n",
        "    fig.write_image(\"../images_out/cvss_bt_bar.png\")"
      ]
    },
    {
      "cell_type": "code",
      "execution_count": 124,
      "metadata": {
        "colab": {
          "base_uri": "https://localhost:8080/",
          "height": 269
        },
        "id": "kbhRllW3ARnB",
        "outputId": "38f7a0de-2ba2-4ee5-8c76-19a54cb27add"
      },
      "outputs": [
        {
          "data": {
            "text/html": [
              "<div>\n",
              "<style scoped>\n",
              "    .dataframe tbody tr th:only-of-type {\n",
              "        vertical-align: middle;\n",
              "    }\n",
              "\n",
              "    .dataframe tbody tr th {\n",
              "        vertical-align: top;\n",
              "    }\n",
              "\n",
              "    .dataframe thead th {\n",
              "        text-align: right;\n",
              "    }\n",
              "</style>\n",
              "<table border=\"1\" class=\"dataframe\">\n",
              "  <thead>\n",
              "    <tr style=\"text-align: right;\">\n",
              "      <th></th>\n",
              "      <th>base_score_category</th>\n",
              "      <th>cvss-bt_score_category</th>\n",
              "      <th>count</th>\n",
              "    </tr>\n",
              "  </thead>\n",
              "  <tbody>\n",
              "    <tr>\n",
              "      <th>0</th>\n",
              "      <td>critical</td>\n",
              "      <td>critical</td>\n",
              "      <td>25970</td>\n",
              "    </tr>\n",
              "    <tr>\n",
              "      <th>1</th>\n",
              "      <td>critical</td>\n",
              "      <td>high</td>\n",
              "      <td>10049</td>\n",
              "    </tr>\n",
              "    <tr>\n",
              "      <th>2</th>\n",
              "      <td>high</td>\n",
              "      <td>high</td>\n",
              "      <td>44585</td>\n",
              "    </tr>\n",
              "    <tr>\n",
              "      <th>3</th>\n",
              "      <td>high</td>\n",
              "      <td>medium</td>\n",
              "      <td>44072</td>\n",
              "    </tr>\n",
              "    <tr>\n",
              "      <th>4</th>\n",
              "      <td>low</td>\n",
              "      <td>low</td>\n",
              "      <td>8440</td>\n",
              "    </tr>\n",
              "    <tr>\n",
              "      <th>5</th>\n",
              "      <td>medium</td>\n",
              "      <td>low</td>\n",
              "      <td>13686</td>\n",
              "    </tr>\n",
              "    <tr>\n",
              "      <th>6</th>\n",
              "      <td>medium</td>\n",
              "      <td>medium</td>\n",
              "      <td>93475</td>\n",
              "    </tr>\n",
              "  </tbody>\n",
              "</table>\n",
              "</div>"
            ],
            "text/plain": [
              "  base_score_category cvss-bt_score_category  count\n",
              "0            critical               critical  25970\n",
              "1            critical                   high  10049\n",
              "2                high                   high  44585\n",
              "3                high                 medium  44072\n",
              "4                 low                    low   8440\n",
              "5              medium                    low  13686\n",
              "6              medium                 medium  93475"
            ]
          },
          "execution_count": 124,
          "metadata": {},
          "output_type": "execute_result"
        }
      ],
      "source": [
        "cvss_bt_sankey_data = df.groupby(['base_score_category', 'cvss-bt_score_category']).size().reset_index(name='count')\n",
        "cvss_bt_sankey_data"
      ]
    },
    {
      "cell_type": "code",
      "execution_count": 125,
      "metadata": {
        "colab": {
          "base_uri": "https://localhost:8080/",
          "height": 817
        },
        "id": "peWEyCtWARnB",
        "outputId": "ec746362-353b-4652-ed33-5718634539cc"
      },
      "outputs": [
        {
          "data": {
            "application/vnd.plotly.v1+json": {
              "config": {
                "plotlyServerURL": "https://plot.ly"
              },
              "data": [
                {
                  "counts": [
                    25970,
                    10049,
                    44585,
                    44072,
                    8440,
                    13686,
                    93475
                  ],
                  "dimensions": [
                    {
                      "label": "CVSS Base Score Rating",
                      "values": [
                        "critical",
                        "critical",
                        "high",
                        "high",
                        "low",
                        "medium",
                        "medium"
                      ]
                    },
                    {
                      "label": "CVSS v3 with Temporal Metric - Exploit Code Maturity (E) Score",
                      "values": [
                        "critical",
                        "high",
                        "high",
                        "medium",
                        "low",
                        "low",
                        "medium"
                      ]
                    }
                  ],
                  "line": {
                    "color": [
                      4,
                      3,
                      3,
                      2,
                      1,
                      1,
                      2
                    ],
                    "colorscale": [
                      [
                        0,
                        "rgb(255,255,204)"
                      ],
                      [
                        0.125,
                        "rgb(255,237,160)"
                      ],
                      [
                        0.25,
                        "rgb(254,217,118)"
                      ],
                      [
                        0.375,
                        "rgb(254,178,76)"
                      ],
                      [
                        0.5,
                        "rgb(253,141,60)"
                      ],
                      [
                        0.625,
                        "rgb(252,78,42)"
                      ],
                      [
                        0.75,
                        "rgb(227,26,28)"
                      ],
                      [
                        0.875,
                        "rgb(189,0,38)"
                      ],
                      [
                        1,
                        "rgb(128,0,38)"
                      ]
                    ]
                  },
                  "type": "parcats"
                }
              ],
              "layout": {
                "autosize": false,
                "height": 800,
                "template": {
                  "data": {
                    "bar": [
                      {
                        "error_x": {
                          "color": "#2a3f5f"
                        },
                        "error_y": {
                          "color": "#2a3f5f"
                        },
                        "marker": {
                          "line": {
                            "color": "#E5ECF6",
                            "width": 0.5
                          },
                          "pattern": {
                            "fillmode": "overlay",
                            "size": 10,
                            "solidity": 0.2
                          }
                        },
                        "type": "bar"
                      }
                    ],
                    "barpolar": [
                      {
                        "marker": {
                          "line": {
                            "color": "#E5ECF6",
                            "width": 0.5
                          },
                          "pattern": {
                            "fillmode": "overlay",
                            "size": 10,
                            "solidity": 0.2
                          }
                        },
                        "type": "barpolar"
                      }
                    ],
                    "carpet": [
                      {
                        "aaxis": {
                          "endlinecolor": "#2a3f5f",
                          "gridcolor": "white",
                          "linecolor": "white",
                          "minorgridcolor": "white",
                          "startlinecolor": "#2a3f5f"
                        },
                        "baxis": {
                          "endlinecolor": "#2a3f5f",
                          "gridcolor": "white",
                          "linecolor": "white",
                          "minorgridcolor": "white",
                          "startlinecolor": "#2a3f5f"
                        },
                        "type": "carpet"
                      }
                    ],
                    "choropleth": [
                      {
                        "colorbar": {
                          "outlinewidth": 0,
                          "ticks": ""
                        },
                        "type": "choropleth"
                      }
                    ],
                    "contour": [
                      {
                        "colorbar": {
                          "outlinewidth": 0,
                          "ticks": ""
                        },
                        "colorscale": [
                          [
                            0,
                            "#0d0887"
                          ],
                          [
                            0.1111111111111111,
                            "#46039f"
                          ],
                          [
                            0.2222222222222222,
                            "#7201a8"
                          ],
                          [
                            0.3333333333333333,
                            "#9c179e"
                          ],
                          [
                            0.4444444444444444,
                            "#bd3786"
                          ],
                          [
                            0.5555555555555556,
                            "#d8576b"
                          ],
                          [
                            0.6666666666666666,
                            "#ed7953"
                          ],
                          [
                            0.7777777777777778,
                            "#fb9f3a"
                          ],
                          [
                            0.8888888888888888,
                            "#fdca26"
                          ],
                          [
                            1,
                            "#f0f921"
                          ]
                        ],
                        "type": "contour"
                      }
                    ],
                    "contourcarpet": [
                      {
                        "colorbar": {
                          "outlinewidth": 0,
                          "ticks": ""
                        },
                        "type": "contourcarpet"
                      }
                    ],
                    "heatmap": [
                      {
                        "colorbar": {
                          "outlinewidth": 0,
                          "ticks": ""
                        },
                        "colorscale": [
                          [
                            0,
                            "#0d0887"
                          ],
                          [
                            0.1111111111111111,
                            "#46039f"
                          ],
                          [
                            0.2222222222222222,
                            "#7201a8"
                          ],
                          [
                            0.3333333333333333,
                            "#9c179e"
                          ],
                          [
                            0.4444444444444444,
                            "#bd3786"
                          ],
                          [
                            0.5555555555555556,
                            "#d8576b"
                          ],
                          [
                            0.6666666666666666,
                            "#ed7953"
                          ],
                          [
                            0.7777777777777778,
                            "#fb9f3a"
                          ],
                          [
                            0.8888888888888888,
                            "#fdca26"
                          ],
                          [
                            1,
                            "#f0f921"
                          ]
                        ],
                        "type": "heatmap"
                      }
                    ],
                    "heatmapgl": [
                      {
                        "colorbar": {
                          "outlinewidth": 0,
                          "ticks": ""
                        },
                        "colorscale": [
                          [
                            0,
                            "#0d0887"
                          ],
                          [
                            0.1111111111111111,
                            "#46039f"
                          ],
                          [
                            0.2222222222222222,
                            "#7201a8"
                          ],
                          [
                            0.3333333333333333,
                            "#9c179e"
                          ],
                          [
                            0.4444444444444444,
                            "#bd3786"
                          ],
                          [
                            0.5555555555555556,
                            "#d8576b"
                          ],
                          [
                            0.6666666666666666,
                            "#ed7953"
                          ],
                          [
                            0.7777777777777778,
                            "#fb9f3a"
                          ],
                          [
                            0.8888888888888888,
                            "#fdca26"
                          ],
                          [
                            1,
                            "#f0f921"
                          ]
                        ],
                        "type": "heatmapgl"
                      }
                    ],
                    "histogram": [
                      {
                        "marker": {
                          "pattern": {
                            "fillmode": "overlay",
                            "size": 10,
                            "solidity": 0.2
                          }
                        },
                        "type": "histogram"
                      }
                    ],
                    "histogram2d": [
                      {
                        "colorbar": {
                          "outlinewidth": 0,
                          "ticks": ""
                        },
                        "colorscale": [
                          [
                            0,
                            "#0d0887"
                          ],
                          [
                            0.1111111111111111,
                            "#46039f"
                          ],
                          [
                            0.2222222222222222,
                            "#7201a8"
                          ],
                          [
                            0.3333333333333333,
                            "#9c179e"
                          ],
                          [
                            0.4444444444444444,
                            "#bd3786"
                          ],
                          [
                            0.5555555555555556,
                            "#d8576b"
                          ],
                          [
                            0.6666666666666666,
                            "#ed7953"
                          ],
                          [
                            0.7777777777777778,
                            "#fb9f3a"
                          ],
                          [
                            0.8888888888888888,
                            "#fdca26"
                          ],
                          [
                            1,
                            "#f0f921"
                          ]
                        ],
                        "type": "histogram2d"
                      }
                    ],
                    "histogram2dcontour": [
                      {
                        "colorbar": {
                          "outlinewidth": 0,
                          "ticks": ""
                        },
                        "colorscale": [
                          [
                            0,
                            "#0d0887"
                          ],
                          [
                            0.1111111111111111,
                            "#46039f"
                          ],
                          [
                            0.2222222222222222,
                            "#7201a8"
                          ],
                          [
                            0.3333333333333333,
                            "#9c179e"
                          ],
                          [
                            0.4444444444444444,
                            "#bd3786"
                          ],
                          [
                            0.5555555555555556,
                            "#d8576b"
                          ],
                          [
                            0.6666666666666666,
                            "#ed7953"
                          ],
                          [
                            0.7777777777777778,
                            "#fb9f3a"
                          ],
                          [
                            0.8888888888888888,
                            "#fdca26"
                          ],
                          [
                            1,
                            "#f0f921"
                          ]
                        ],
                        "type": "histogram2dcontour"
                      }
                    ],
                    "mesh3d": [
                      {
                        "colorbar": {
                          "outlinewidth": 0,
                          "ticks": ""
                        },
                        "type": "mesh3d"
                      }
                    ],
                    "parcoords": [
                      {
                        "line": {
                          "colorbar": {
                            "outlinewidth": 0,
                            "ticks": ""
                          }
                        },
                        "type": "parcoords"
                      }
                    ],
                    "pie": [
                      {
                        "automargin": true,
                        "type": "pie"
                      }
                    ],
                    "scatter": [
                      {
                        "fillpattern": {
                          "fillmode": "overlay",
                          "size": 10,
                          "solidity": 0.2
                        },
                        "type": "scatter"
                      }
                    ],
                    "scatter3d": [
                      {
                        "line": {
                          "colorbar": {
                            "outlinewidth": 0,
                            "ticks": ""
                          }
                        },
                        "marker": {
                          "colorbar": {
                            "outlinewidth": 0,
                            "ticks": ""
                          }
                        },
                        "type": "scatter3d"
                      }
                    ],
                    "scattercarpet": [
                      {
                        "marker": {
                          "colorbar": {
                            "outlinewidth": 0,
                            "ticks": ""
                          }
                        },
                        "type": "scattercarpet"
                      }
                    ],
                    "scattergeo": [
                      {
                        "marker": {
                          "colorbar": {
                            "outlinewidth": 0,
                            "ticks": ""
                          }
                        },
                        "type": "scattergeo"
                      }
                    ],
                    "scattergl": [
                      {
                        "marker": {
                          "colorbar": {
                            "outlinewidth": 0,
                            "ticks": ""
                          }
                        },
                        "type": "scattergl"
                      }
                    ],
                    "scattermapbox": [
                      {
                        "marker": {
                          "colorbar": {
                            "outlinewidth": 0,
                            "ticks": ""
                          }
                        },
                        "type": "scattermapbox"
                      }
                    ],
                    "scatterpolar": [
                      {
                        "marker": {
                          "colorbar": {
                            "outlinewidth": 0,
                            "ticks": ""
                          }
                        },
                        "type": "scatterpolar"
                      }
                    ],
                    "scatterpolargl": [
                      {
                        "marker": {
                          "colorbar": {
                            "outlinewidth": 0,
                            "ticks": ""
                          }
                        },
                        "type": "scatterpolargl"
                      }
                    ],
                    "scatterternary": [
                      {
                        "marker": {
                          "colorbar": {
                            "outlinewidth": 0,
                            "ticks": ""
                          }
                        },
                        "type": "scatterternary"
                      }
                    ],
                    "surface": [
                      {
                        "colorbar": {
                          "outlinewidth": 0,
                          "ticks": ""
                        },
                        "colorscale": [
                          [
                            0,
                            "#0d0887"
                          ],
                          [
                            0.1111111111111111,
                            "#46039f"
                          ],
                          [
                            0.2222222222222222,
                            "#7201a8"
                          ],
                          [
                            0.3333333333333333,
                            "#9c179e"
                          ],
                          [
                            0.4444444444444444,
                            "#bd3786"
                          ],
                          [
                            0.5555555555555556,
                            "#d8576b"
                          ],
                          [
                            0.6666666666666666,
                            "#ed7953"
                          ],
                          [
                            0.7777777777777778,
                            "#fb9f3a"
                          ],
                          [
                            0.8888888888888888,
                            "#fdca26"
                          ],
                          [
                            1,
                            "#f0f921"
                          ]
                        ],
                        "type": "surface"
                      }
                    ],
                    "table": [
                      {
                        "cells": {
                          "fill": {
                            "color": "#EBF0F8"
                          },
                          "line": {
                            "color": "white"
                          }
                        },
                        "header": {
                          "fill": {
                            "color": "#C8D4E3"
                          },
                          "line": {
                            "color": "white"
                          }
                        },
                        "type": "table"
                      }
                    ]
                  },
                  "layout": {
                    "annotationdefaults": {
                      "arrowcolor": "#2a3f5f",
                      "arrowhead": 0,
                      "arrowwidth": 1
                    },
                    "autotypenumbers": "strict",
                    "coloraxis": {
                      "colorbar": {
                        "outlinewidth": 0,
                        "ticks": ""
                      }
                    },
                    "colorscale": {
                      "diverging": [
                        [
                          0,
                          "#8e0152"
                        ],
                        [
                          0.1,
                          "#c51b7d"
                        ],
                        [
                          0.2,
                          "#de77ae"
                        ],
                        [
                          0.3,
                          "#f1b6da"
                        ],
                        [
                          0.4,
                          "#fde0ef"
                        ],
                        [
                          0.5,
                          "#f7f7f7"
                        ],
                        [
                          0.6,
                          "#e6f5d0"
                        ],
                        [
                          0.7,
                          "#b8e186"
                        ],
                        [
                          0.8,
                          "#7fbc41"
                        ],
                        [
                          0.9,
                          "#4d9221"
                        ],
                        [
                          1,
                          "#276419"
                        ]
                      ],
                      "sequential": [
                        [
                          0,
                          "#0d0887"
                        ],
                        [
                          0.1111111111111111,
                          "#46039f"
                        ],
                        [
                          0.2222222222222222,
                          "#7201a8"
                        ],
                        [
                          0.3333333333333333,
                          "#9c179e"
                        ],
                        [
                          0.4444444444444444,
                          "#bd3786"
                        ],
                        [
                          0.5555555555555556,
                          "#d8576b"
                        ],
                        [
                          0.6666666666666666,
                          "#ed7953"
                        ],
                        [
                          0.7777777777777778,
                          "#fb9f3a"
                        ],
                        [
                          0.8888888888888888,
                          "#fdca26"
                        ],
                        [
                          1,
                          "#f0f921"
                        ]
                      ],
                      "sequentialminus": [
                        [
                          0,
                          "#0d0887"
                        ],
                        [
                          0.1111111111111111,
                          "#46039f"
                        ],
                        [
                          0.2222222222222222,
                          "#7201a8"
                        ],
                        [
                          0.3333333333333333,
                          "#9c179e"
                        ],
                        [
                          0.4444444444444444,
                          "#bd3786"
                        ],
                        [
                          0.5555555555555556,
                          "#d8576b"
                        ],
                        [
                          0.6666666666666666,
                          "#ed7953"
                        ],
                        [
                          0.7777777777777778,
                          "#fb9f3a"
                        ],
                        [
                          0.8888888888888888,
                          "#fdca26"
                        ],
                        [
                          1,
                          "#f0f921"
                        ]
                      ]
                    },
                    "colorway": [
                      "#636efa",
                      "#EF553B",
                      "#00cc96",
                      "#ab63fa",
                      "#FFA15A",
                      "#19d3f3",
                      "#FF6692",
                      "#B6E880",
                      "#FF97FF",
                      "#FECB52"
                    ],
                    "font": {
                      "color": "#2a3f5f"
                    },
                    "geo": {
                      "bgcolor": "white",
                      "lakecolor": "white",
                      "landcolor": "#E5ECF6",
                      "showlakes": true,
                      "showland": true,
                      "subunitcolor": "white"
                    },
                    "hoverlabel": {
                      "align": "left"
                    },
                    "hovermode": "closest",
                    "mapbox": {
                      "style": "light"
                    },
                    "paper_bgcolor": "white",
                    "plot_bgcolor": "#E5ECF6",
                    "polar": {
                      "angularaxis": {
                        "gridcolor": "white",
                        "linecolor": "white",
                        "ticks": ""
                      },
                      "bgcolor": "#E5ECF6",
                      "radialaxis": {
                        "gridcolor": "white",
                        "linecolor": "white",
                        "ticks": ""
                      }
                    },
                    "scene": {
                      "xaxis": {
                        "backgroundcolor": "#E5ECF6",
                        "gridcolor": "white",
                        "gridwidth": 2,
                        "linecolor": "white",
                        "showbackground": true,
                        "ticks": "",
                        "zerolinecolor": "white"
                      },
                      "yaxis": {
                        "backgroundcolor": "#E5ECF6",
                        "gridcolor": "white",
                        "gridwidth": 2,
                        "linecolor": "white",
                        "showbackground": true,
                        "ticks": "",
                        "zerolinecolor": "white"
                      },
                      "zaxis": {
                        "backgroundcolor": "#E5ECF6",
                        "gridcolor": "white",
                        "gridwidth": 2,
                        "linecolor": "white",
                        "showbackground": true,
                        "ticks": "",
                        "zerolinecolor": "white"
                      }
                    },
                    "shapedefaults": {
                      "line": {
                        "color": "#2a3f5f"
                      }
                    },
                    "ternary": {
                      "aaxis": {
                        "gridcolor": "white",
                        "linecolor": "white",
                        "ticks": ""
                      },
                      "baxis": {
                        "gridcolor": "white",
                        "linecolor": "white",
                        "ticks": ""
                      },
                      "bgcolor": "#E5ECF6",
                      "caxis": {
                        "gridcolor": "white",
                        "linecolor": "white",
                        "ticks": ""
                      }
                    },
                    "title": {
                      "x": 0.05
                    },
                    "xaxis": {
                      "automargin": true,
                      "gridcolor": "white",
                      "linecolor": "white",
                      "ticks": "",
                      "title": {
                        "standoff": 15
                      },
                      "zerolinecolor": "white",
                      "zerolinewidth": 2
                    },
                    "yaxis": {
                      "automargin": true,
                      "gridcolor": "white",
                      "linecolor": "white",
                      "ticks": "",
                      "title": {
                        "standoff": 15
                      },
                      "zerolinecolor": "white",
                      "zerolinewidth": 2
                    }
                  }
                },
                "title": {
                  "text": "CVSS-B Base vs CVSS v3 with Temporal Metric - Exploit Code Maturity (E) Score"
                },
                "width": 800
              }
            }
          },
          "metadata": {},
          "output_type": "display_data"
        }
      ],
      "source": [
        "\n",
        "# Mapping dictionary to convert numbers back to categorical values\n",
        "category_to_number = {'critical': 4, 'high': 3, 'medium': 2, 'low': 1}\n",
        "\n",
        "cvss_bt_sankey_data['cvss_bt_score_category_color'] = cvss_bt_sankey_data['cvss-bt_score_category'].map(category_to_number)\n",
        "color = cvss_bt_sankey_data['cvss_bt_score_category_color'];\n",
        "\n",
        "colorscale = 'YlOrRd' #Yellow Orange Red\n",
        "fig = go.Figure(go.Parcats(\n",
        "    dimensions=[\n",
        "        {'label': 'CVSS Base Score Rating', 'values': cvss_bt_sankey_data['base_score_category']},\n",
        "        {'label': 'CVSS v3 with Temporal Metric - Exploit Code Maturity (E) Score', 'values': cvss_bt_sankey_data['cvss-bt_score_category']},\n",
        "    ],\n",
        "    line={'color': color, 'colorscale': colorscale},\n",
        "    counts=cvss_bt_sankey_data['count'],\n",
        "))\n",
        "fig.update_layout(\n",
        "    title='CVSS-B Base vs CVSS v3 with Temporal Metric - Exploit Code Maturity (E) Score',\n",
        "    autosize=False,\n",
        "    width=800,\n",
        "    height=800,\n",
        ")\n",
        "fig.show()\n",
        "\n",
        "if IN_COLAB == False:\n",
        "    fig.write_image(\"../images_out/cvss_bt_parcat.png\")\n",
        "    Image(filename='../images_out/cvss_bt_parcat.png') #display plot when viewing in github\n"
      ]
    },
    {
      "cell_type": "markdown",
      "metadata": {
        "id": "D-kGFaiQARnB"
      },
      "source": [
        "## CVSS with Exploitation Focus"
      ]
    },
    {
      "cell_type": "code",
      "execution_count": 126,
      "metadata": {
        "colab": {
          "base_uri": "https://localhost:8080/"
        },
        "id": "Z0cSb9BOARnB",
        "outputId": "091c34ac-0a07-4ce3-df4c-220e5efcb898"
      },
      "outputs": [
        {
          "data": {
            "text/plain": [
              "medium      107161\n",
              "high         88657\n",
              "critical     36019\n",
              "low           8440\n",
              "Name: base_score_category, dtype: int64"
            ]
          },
          "execution_count": 126,
          "metadata": {},
          "output_type": "execute_result"
        }
      ],
      "source": [
        "df['base_score_category'].value_counts()"
      ]
    },
    {
      "cell_type": "markdown",
      "metadata": {
        "id": "MamKS81gARnB"
      },
      "source": [
        "### Parallel Categories Diagram"
      ]
    },
    {
      "cell_type": "code",
      "execution_count": 127,
      "metadata": {
        "colab": {
          "base_uri": "https://localhost:8080/"
        },
        "id": "7Lcl1yxwARnB",
        "outputId": "6d67be8f-9e79-4a7b-a931-c55ff87e047f"
      },
      "outputs": [
        {
          "data": {
            "text/plain": [
              "None          205364\n",
              "poc            19558\n",
              "kev            13486\n",
              "weaponized      1869\n",
              "Name: exploitation, dtype: int64"
            ]
          },
          "execution_count": 127,
          "metadata": {},
          "output_type": "execute_result"
        }
      ],
      "source": [
        "\n",
        "df['weaponized'] = (df['metasploit'] | df['nuclei'])\n",
        "df['kev'] = (df['cisa_kev'] | df['vulncheck_kev'])\n",
        "df['poc'] = (df['poc_github'] | df['exploitdb'])\n",
        "\n",
        "# Define a function to map values based on conditions\n",
        "def map_exploitation(row):\n",
        "    #if row['kev'] and row['weaponized']:\n",
        "    #    return 'kev_weaponized'\n",
        "    #elif row['kev']:\n",
        "    if (row['kev'] | (row['epss'] >= EPSS_THRESHOLD_LOW)):\n",
        "        return 'kev'\n",
        "    elif ( row['weaponized'] | (row['epss'] >= EPSS_THRESHOLD_LOW)):\n",
        "        return 'weaponized'\n",
        "    elif row['poc']:\n",
        "        return 'poc'\n",
        "    else:\n",
        "        return 'None'\n",
        "\n",
        "# Apply the function to create the 'exploitation' column\n",
        "df['exploitation'] = df.apply(map_exploitation, axis=1)\n",
        "df['exploitation'].value_counts()\n"
      ]
    },
    {
      "cell_type": "code",
      "execution_count": 128,
      "metadata": {
        "colab": {
          "base_uri": "https://localhost:8080/",
          "height": 808
        },
        "id": "kU6BeXebARnC",
        "outputId": "dbcc1502-f045-48c7-bcac-d13cebbdbf40"
      },
      "outputs": [
        {
          "data": {
            "text/html": [
              "<div>\n",
              "<style scoped>\n",
              "    .dataframe tbody tr th:only-of-type {\n",
              "        vertical-align: middle;\n",
              "    }\n",
              "\n",
              "    .dataframe tbody tr th {\n",
              "        vertical-align: top;\n",
              "    }\n",
              "\n",
              "    .dataframe thead th {\n",
              "        text-align: right;\n",
              "    }\n",
              "</style>\n",
              "<table border=\"1\" class=\"dataframe\">\n",
              "  <thead>\n",
              "    <tr style=\"text-align: right;\">\n",
              "      <th></th>\n",
              "      <th>cve</th>\n",
              "      <th>cvss-bt_score</th>\n",
              "      <th>cvss-bt_severity</th>\n",
              "      <th>cvss-bt_vector</th>\n",
              "      <th>cvss_version</th>\n",
              "      <th>base_score</th>\n",
              "      <th>base_severity</th>\n",
              "      <th>base_vector</th>\n",
              "      <th>assigner</th>\n",
              "      <th>published_date</th>\n",
              "      <th>...</th>\n",
              "      <th>exploitdb</th>\n",
              "      <th>metasploit</th>\n",
              "      <th>nuclei</th>\n",
              "      <th>poc_github</th>\n",
              "      <th>base_score_category</th>\n",
              "      <th>cvss-bt_score_category</th>\n",
              "      <th>weaponized</th>\n",
              "      <th>kev</th>\n",
              "      <th>poc</th>\n",
              "      <th>exploitation</th>\n",
              "    </tr>\n",
              "  </thead>\n",
              "  <tbody>\n",
              "    <tr>\n",
              "      <th>0</th>\n",
              "      <td>CVE-1999-0095</td>\n",
              "      <td>9.0</td>\n",
              "      <td>HIGH</td>\n",
              "      <td>AV:N/AC:L/Au:N/C:C/I:C/A:C/E:POC</td>\n",
              "      <td>2.0</td>\n",
              "      <td>10.0</td>\n",
              "      <td>HIGH</td>\n",
              "      <td>AV:N/AC:L/Au:N/C:C/I:C/A:C</td>\n",
              "      <td>cve@mitre.org</td>\n",
              "      <td>1988-10-01T04:00Z</td>\n",
              "      <td>...</td>\n",
              "      <td>True</td>\n",
              "      <td>False</td>\n",
              "      <td>False</td>\n",
              "      <td>False</td>\n",
              "      <td>critical</td>\n",
              "      <td>critical</td>\n",
              "      <td>False</td>\n",
              "      <td>False</td>\n",
              "      <td>True</td>\n",
              "      <td>poc</td>\n",
              "    </tr>\n",
              "    <tr>\n",
              "      <th>1</th>\n",
              "      <td>CVE-1999-0082</td>\n",
              "      <td>8.5</td>\n",
              "      <td>HIGH</td>\n",
              "      <td>AV:N/AC:L/Au:N/C:C/I:C/A:C/E:U</td>\n",
              "      <td>2.0</td>\n",
              "      <td>10.0</td>\n",
              "      <td>HIGH</td>\n",
              "      <td>AV:N/AC:L/Au:N/C:C/I:C/A:C</td>\n",
              "      <td>cve@mitre.org</td>\n",
              "      <td>1988-11-11T05:00Z</td>\n",
              "      <td>...</td>\n",
              "      <td>False</td>\n",
              "      <td>False</td>\n",
              "      <td>False</td>\n",
              "      <td>False</td>\n",
              "      <td>critical</td>\n",
              "      <td>high</td>\n",
              "      <td>False</td>\n",
              "      <td>False</td>\n",
              "      <td>False</td>\n",
              "      <td>None</td>\n",
              "    </tr>\n",
              "    <tr>\n",
              "      <th>2</th>\n",
              "      <td>CVE-1999-1471</td>\n",
              "      <td>6.1</td>\n",
              "      <td>MEDIUM</td>\n",
              "      <td>AV:L/AC:L/Au:N/C:C/I:C/A:C/E:U</td>\n",
              "      <td>2.0</td>\n",
              "      <td>7.2</td>\n",
              "      <td>HIGH</td>\n",
              "      <td>AV:L/AC:L/Au:N/C:C/I:C/A:C</td>\n",
              "      <td>cve@mitre.org</td>\n",
              "      <td>1989-01-01T05:00Z</td>\n",
              "      <td>...</td>\n",
              "      <td>False</td>\n",
              "      <td>False</td>\n",
              "      <td>False</td>\n",
              "      <td>False</td>\n",
              "      <td>high</td>\n",
              "      <td>medium</td>\n",
              "      <td>False</td>\n",
              "      <td>False</td>\n",
              "      <td>False</td>\n",
              "      <td>None</td>\n",
              "    </tr>\n",
              "    <tr>\n",
              "      <th>3</th>\n",
              "      <td>CVE-1999-1122</td>\n",
              "      <td>3.9</td>\n",
              "      <td>LOW</td>\n",
              "      <td>AV:L/AC:L/Au:N/C:P/I:P/A:P/E:U</td>\n",
              "      <td>2.0</td>\n",
              "      <td>4.6</td>\n",
              "      <td>MEDIUM</td>\n",
              "      <td>AV:L/AC:L/Au:N/C:P/I:P/A:P</td>\n",
              "      <td>cve@mitre.org</td>\n",
              "      <td>1989-07-26T04:00Z</td>\n",
              "      <td>...</td>\n",
              "      <td>False</td>\n",
              "      <td>False</td>\n",
              "      <td>False</td>\n",
              "      <td>False</td>\n",
              "      <td>medium</td>\n",
              "      <td>low</td>\n",
              "      <td>False</td>\n",
              "      <td>False</td>\n",
              "      <td>False</td>\n",
              "      <td>None</td>\n",
              "    </tr>\n",
              "    <tr>\n",
              "      <th>4</th>\n",
              "      <td>CVE-1999-1467</td>\n",
              "      <td>8.5</td>\n",
              "      <td>HIGH</td>\n",
              "      <td>AV:N/AC:L/Au:N/C:C/I:C/A:C/E:U</td>\n",
              "      <td>2.0</td>\n",
              "      <td>10.0</td>\n",
              "      <td>HIGH</td>\n",
              "      <td>AV:N/AC:L/Au:N/C:C/I:C/A:C</td>\n",
              "      <td>cve@mitre.org</td>\n",
              "      <td>1989-10-26T04:00Z</td>\n",
              "      <td>...</td>\n",
              "      <td>False</td>\n",
              "      <td>False</td>\n",
              "      <td>False</td>\n",
              "      <td>False</td>\n",
              "      <td>critical</td>\n",
              "      <td>high</td>\n",
              "      <td>False</td>\n",
              "      <td>False</td>\n",
              "      <td>False</td>\n",
              "      <td>None</td>\n",
              "    </tr>\n",
              "    <tr>\n",
              "      <th>...</th>\n",
              "      <td>...</td>\n",
              "      <td>...</td>\n",
              "      <td>...</td>\n",
              "      <td>...</td>\n",
              "      <td>...</td>\n",
              "      <td>...</td>\n",
              "      <td>...</td>\n",
              "      <td>...</td>\n",
              "      <td>...</td>\n",
              "      <td>...</td>\n",
              "      <td>...</td>\n",
              "      <td>...</td>\n",
              "      <td>...</td>\n",
              "      <td>...</td>\n",
              "      <td>...</td>\n",
              "      <td>...</td>\n",
              "      <td>...</td>\n",
              "      <td>...</td>\n",
              "      <td>...</td>\n",
              "      <td>...</td>\n",
              "      <td>...</td>\n",
              "    </tr>\n",
              "    <tr>\n",
              "      <th>240311</th>\n",
              "      <td>CVE-2023-49602</td>\n",
              "      <td>5.0</td>\n",
              "      <td>MEDIUM</td>\n",
              "      <td>CVSS:3.1/AV:N/AC:L/PR:L/UI:R/S:C/C:L/I:L/A:N/E:U</td>\n",
              "      <td>3.1</td>\n",
              "      <td>5.4</td>\n",
              "      <td>MEDIUM</td>\n",
              "      <td>CVSS:3.1/AV:N/AC:L/PR:L/UI:R/S:C/C:L/I:L/A:N</td>\n",
              "      <td>scy@openharmony.io</td>\n",
              "      <td>2024-03-04T07:15Z</td>\n",
              "      <td>...</td>\n",
              "      <td>False</td>\n",
              "      <td>False</td>\n",
              "      <td>False</td>\n",
              "      <td>False</td>\n",
              "      <td>medium</td>\n",
              "      <td>medium</td>\n",
              "      <td>False</td>\n",
              "      <td>False</td>\n",
              "      <td>False</td>\n",
              "      <td>None</td>\n",
              "    </tr>\n",
              "    <tr>\n",
              "      <th>240312</th>\n",
              "      <td>CVE-2024-21816</td>\n",
              "      <td>9.0</td>\n",
              "      <td>CRITICAL</td>\n",
              "      <td>CVSS:3.1/AV:N/AC:L/PR:N/UI:N/S:U/C:H/I:H/A:H/E:U</td>\n",
              "      <td>3.1</td>\n",
              "      <td>9.8</td>\n",
              "      <td>CRITICAL</td>\n",
              "      <td>CVSS:3.1/AV:N/AC:L/PR:N/UI:N/S:U/C:H/I:H/A:H</td>\n",
              "      <td>scy@openharmony.io</td>\n",
              "      <td>2024-03-04T07:15Z</td>\n",
              "      <td>...</td>\n",
              "      <td>False</td>\n",
              "      <td>False</td>\n",
              "      <td>False</td>\n",
              "      <td>False</td>\n",
              "      <td>critical</td>\n",
              "      <td>critical</td>\n",
              "      <td>False</td>\n",
              "      <td>False</td>\n",
              "      <td>False</td>\n",
              "      <td>None</td>\n",
              "    </tr>\n",
              "    <tr>\n",
              "      <th>240313</th>\n",
              "      <td>CVE-2024-21826</td>\n",
              "      <td>7.3</td>\n",
              "      <td>HIGH</td>\n",
              "      <td>CVSS:3.1/AV:A/AC:L/PR:L/UI:N/S:U/C:H/I:H/A:H/E:U</td>\n",
              "      <td>3.1</td>\n",
              "      <td>8.0</td>\n",
              "      <td>HIGH</td>\n",
              "      <td>CVSS:3.1/AV:A/AC:L/PR:L/UI:N/S:U/C:H/I:H/A:H</td>\n",
              "      <td>scy@openharmony.io</td>\n",
              "      <td>2024-03-04T07:15Z</td>\n",
              "      <td>...</td>\n",
              "      <td>False</td>\n",
              "      <td>False</td>\n",
              "      <td>False</td>\n",
              "      <td>False</td>\n",
              "      <td>high</td>\n",
              "      <td>high</td>\n",
              "      <td>False</td>\n",
              "      <td>False</td>\n",
              "      <td>False</td>\n",
              "      <td>None</td>\n",
              "    </tr>\n",
              "    <tr>\n",
              "      <th>240314</th>\n",
              "      <td>CVE-2023-46708</td>\n",
              "      <td>9.0</td>\n",
              "      <td>CRITICAL</td>\n",
              "      <td>CVSS:3.1/AV:N/AC:L/PR:N/UI:N/S:U/C:H/I:H/A:H/E:U</td>\n",
              "      <td>3.1</td>\n",
              "      <td>9.8</td>\n",
              "      <td>CRITICAL</td>\n",
              "      <td>CVSS:3.1/AV:N/AC:L/PR:N/UI:N/S:U/C:H/I:H/A:H</td>\n",
              "      <td>scy@openharmony.io</td>\n",
              "      <td>2024-03-04T07:15Z</td>\n",
              "      <td>...</td>\n",
              "      <td>False</td>\n",
              "      <td>False</td>\n",
              "      <td>False</td>\n",
              "      <td>False</td>\n",
              "      <td>critical</td>\n",
              "      <td>critical</td>\n",
              "      <td>False</td>\n",
              "      <td>False</td>\n",
              "      <td>False</td>\n",
              "      <td>None</td>\n",
              "    </tr>\n",
              "    <tr>\n",
              "      <th>240315</th>\n",
              "      <td>CVE-2023-25176</td>\n",
              "      <td>5.1</td>\n",
              "      <td>MEDIUM</td>\n",
              "      <td>CVSS:3.1/AV:L/AC:L/PR:L/UI:N/S:U/C:H/I:N/A:N/E:U</td>\n",
              "      <td>3.1</td>\n",
              "      <td>5.5</td>\n",
              "      <td>MEDIUM</td>\n",
              "      <td>CVSS:3.1/AV:L/AC:L/PR:L/UI:N/S:U/C:H/I:N/A:N</td>\n",
              "      <td>scy@openharmony.io</td>\n",
              "      <td>2024-03-04T07:15Z</td>\n",
              "      <td>...</td>\n",
              "      <td>False</td>\n",
              "      <td>False</td>\n",
              "      <td>False</td>\n",
              "      <td>False</td>\n",
              "      <td>medium</td>\n",
              "      <td>medium</td>\n",
              "      <td>False</td>\n",
              "      <td>False</td>\n",
              "      <td>False</td>\n",
              "      <td>None</td>\n",
              "    </tr>\n",
              "  </tbody>\n",
              "</table>\n",
              "<p>240277 rows × 23 columns</p>\n",
              "</div>"
            ],
            "text/plain": [
              "                   cve  cvss-bt_score cvss-bt_severity  \\\n",
              "0        CVE-1999-0095            9.0             HIGH   \n",
              "1        CVE-1999-0082            8.5             HIGH   \n",
              "2        CVE-1999-1471            6.1           MEDIUM   \n",
              "3        CVE-1999-1122            3.9              LOW   \n",
              "4        CVE-1999-1467            8.5             HIGH   \n",
              "...                ...            ...              ...   \n",
              "240311  CVE-2023-49602            5.0           MEDIUM   \n",
              "240312  CVE-2024-21816            9.0         CRITICAL   \n",
              "240313  CVE-2024-21826            7.3             HIGH   \n",
              "240314  CVE-2023-46708            9.0         CRITICAL   \n",
              "240315  CVE-2023-25176            5.1           MEDIUM   \n",
              "\n",
              "                                          cvss-bt_vector  cvss_version  \\\n",
              "0                       AV:N/AC:L/Au:N/C:C/I:C/A:C/E:POC           2.0   \n",
              "1                         AV:N/AC:L/Au:N/C:C/I:C/A:C/E:U           2.0   \n",
              "2                         AV:L/AC:L/Au:N/C:C/I:C/A:C/E:U           2.0   \n",
              "3                         AV:L/AC:L/Au:N/C:P/I:P/A:P/E:U           2.0   \n",
              "4                         AV:N/AC:L/Au:N/C:C/I:C/A:C/E:U           2.0   \n",
              "...                                                  ...           ...   \n",
              "240311  CVSS:3.1/AV:N/AC:L/PR:L/UI:R/S:C/C:L/I:L/A:N/E:U           3.1   \n",
              "240312  CVSS:3.1/AV:N/AC:L/PR:N/UI:N/S:U/C:H/I:H/A:H/E:U           3.1   \n",
              "240313  CVSS:3.1/AV:A/AC:L/PR:L/UI:N/S:U/C:H/I:H/A:H/E:U           3.1   \n",
              "240314  CVSS:3.1/AV:N/AC:L/PR:N/UI:N/S:U/C:H/I:H/A:H/E:U           3.1   \n",
              "240315  CVSS:3.1/AV:L/AC:L/PR:L/UI:N/S:U/C:H/I:N/A:N/E:U           3.1   \n",
              "\n",
              "        base_score base_severity  \\\n",
              "0             10.0          HIGH   \n",
              "1             10.0          HIGH   \n",
              "2              7.2          HIGH   \n",
              "3              4.6        MEDIUM   \n",
              "4             10.0          HIGH   \n",
              "...            ...           ...   \n",
              "240311         5.4        MEDIUM   \n",
              "240312         9.8      CRITICAL   \n",
              "240313         8.0          HIGH   \n",
              "240314         9.8      CRITICAL   \n",
              "240315         5.5        MEDIUM   \n",
              "\n",
              "                                         base_vector            assigner  \\\n",
              "0                         AV:N/AC:L/Au:N/C:C/I:C/A:C       cve@mitre.org   \n",
              "1                         AV:N/AC:L/Au:N/C:C/I:C/A:C       cve@mitre.org   \n",
              "2                         AV:L/AC:L/Au:N/C:C/I:C/A:C       cve@mitre.org   \n",
              "3                         AV:L/AC:L/Au:N/C:P/I:P/A:P       cve@mitre.org   \n",
              "4                         AV:N/AC:L/Au:N/C:C/I:C/A:C       cve@mitre.org   \n",
              "...                                              ...                 ...   \n",
              "240311  CVSS:3.1/AV:N/AC:L/PR:L/UI:R/S:C/C:L/I:L/A:N  scy@openharmony.io   \n",
              "240312  CVSS:3.1/AV:N/AC:L/PR:N/UI:N/S:U/C:H/I:H/A:H  scy@openharmony.io   \n",
              "240313  CVSS:3.1/AV:A/AC:L/PR:L/UI:N/S:U/C:H/I:H/A:H  scy@openharmony.io   \n",
              "240314  CVSS:3.1/AV:N/AC:L/PR:N/UI:N/S:U/C:H/I:H/A:H  scy@openharmony.io   \n",
              "240315  CVSS:3.1/AV:L/AC:L/PR:L/UI:N/S:U/C:H/I:N/A:N  scy@openharmony.io   \n",
              "\n",
              "           published_date  ...  exploitdb  metasploit  nuclei  poc_github  \\\n",
              "0       1988-10-01T04:00Z  ...       True       False   False       False   \n",
              "1       1988-11-11T05:00Z  ...      False       False   False       False   \n",
              "2       1989-01-01T05:00Z  ...      False       False   False       False   \n",
              "3       1989-07-26T04:00Z  ...      False       False   False       False   \n",
              "4       1989-10-26T04:00Z  ...      False       False   False       False   \n",
              "...                   ...  ...        ...         ...     ...         ...   \n",
              "240311  2024-03-04T07:15Z  ...      False       False   False       False   \n",
              "240312  2024-03-04T07:15Z  ...      False       False   False       False   \n",
              "240313  2024-03-04T07:15Z  ...      False       False   False       False   \n",
              "240314  2024-03-04T07:15Z  ...      False       False   False       False   \n",
              "240315  2024-03-04T07:15Z  ...      False       False   False       False   \n",
              "\n",
              "        base_score_category  cvss-bt_score_category  weaponized    kev    poc  \\\n",
              "0                  critical                critical       False  False   True   \n",
              "1                  critical                    high       False  False  False   \n",
              "2                      high                  medium       False  False  False   \n",
              "3                    medium                     low       False  False  False   \n",
              "4                  critical                    high       False  False  False   \n",
              "...                     ...                     ...         ...    ...    ...   \n",
              "240311               medium                  medium       False  False  False   \n",
              "240312             critical                critical       False  False  False   \n",
              "240313                 high                    high       False  False  False   \n",
              "240314             critical                critical       False  False  False   \n",
              "240315               medium                  medium       False  False  False   \n",
              "\n",
              "        exploitation  \n",
              "0                poc  \n",
              "1               None  \n",
              "2               None  \n",
              "3               None  \n",
              "4               None  \n",
              "...              ...  \n",
              "240311          None  \n",
              "240312          None  \n",
              "240313          None  \n",
              "240314          None  \n",
              "240315          None  \n",
              "\n",
              "[240277 rows x 23 columns]"
            ]
          },
          "execution_count": 128,
          "metadata": {},
          "output_type": "execute_result"
        }
      ],
      "source": [
        "df"
      ]
    },
    {
      "cell_type": "code",
      "execution_count": 129,
      "metadata": {
        "colab": {
          "base_uri": "https://localhost:8080/"
        },
        "id": "MmkMbgdQARnC",
        "outputId": "3e748bd8-77ce-4e8b-88f2-aaac2397ea4f"
      },
      "outputs": [
        {
          "data": {
            "text/plain": [
              "2     107161\n",
              "3      76801\n",
              "4      30924\n",
              "5       9915\n",
              "1       8440\n",
              "6       3159\n",
              "9       1097\n",
              "7       1083\n",
              "8        858\n",
              "10       839\n",
              "Name: rbp_score, dtype: int64"
            ]
          },
          "execution_count": 129,
          "metadata": {},
          "output_type": "execute_result"
        }
      ],
      "source": [
        "def rbp_score(row):\n",
        "    base_score_category = row['base_score_category']\n",
        "    weaponized = row['weaponized']\n",
        "    kev = row['kev']\n",
        "    poc = row['poc']\n",
        "\n",
        "    if ((base_score_category == 'critical') and kev):\n",
        "        return 10\n",
        "    elif (base_score_category == 'critical') and weaponized:\n",
        "        return 9\n",
        "    elif (base_score_category == 'high') and kev:\n",
        "        return 8\n",
        "    elif (base_score_category == 'high') and weaponized:\n",
        "        return 7\n",
        "    elif (base_score_category == 'critical') and poc:\n",
        "        return 6\n",
        "    elif (base_score_category == 'high') and poc:\n",
        "        return 5\n",
        "    elif (base_score_category == 'critical'):\n",
        "        return 4\n",
        "    elif (base_score_category == 'high'):\n",
        "        return 3\n",
        "    elif (base_score_category == 'medium'):\n",
        "        return 2\n",
        "    else:\n",
        "        return 1\n",
        "\n",
        "# Apply scoring function\n",
        "df['rbp_score'] = df.apply(rbp_score, axis=1)\n",
        "\n",
        "df['rbp_score'].value_counts()"
      ]
    },
    {
      "cell_type": "markdown",
      "metadata": {
        "id": "E3UwopMUARnC"
      },
      "source": [
        "### Parallel Categories Diagram"
      ]
    },
    {
      "cell_type": "code",
      "execution_count": 130,
      "metadata": {
        "id": "fXMGFseBARnC"
      },
      "outputs": [],
      "source": [
        "# Aggregate data to get counts for each combination\n",
        "sankey_data = df.groupby(['base_score_category', 'exploitation', 'rbp_score']).size().reset_index(name='count')"
      ]
    },
    {
      "cell_type": "code",
      "execution_count": 131,
      "metadata": {
        "colab": {
          "base_uri": "https://localhost:8080/",
          "height": 739
        },
        "id": "3lAfei_DARnC",
        "outputId": "8dd99cfe-4611-432e-c059-666c033c0640"
      },
      "outputs": [
        {
          "data": {
            "text/html": [
              "<div>\n",
              "<style scoped>\n",
              "    .dataframe tbody tr th:only-of-type {\n",
              "        vertical-align: middle;\n",
              "    }\n",
              "\n",
              "    .dataframe tbody tr th {\n",
              "        vertical-align: top;\n",
              "    }\n",
              "\n",
              "    .dataframe thead th {\n",
              "        text-align: right;\n",
              "    }\n",
              "</style>\n",
              "<table border=\"1\" class=\"dataframe\">\n",
              "  <thead>\n",
              "    <tr style=\"text-align: right;\">\n",
              "      <th></th>\n",
              "      <th>base_score_category</th>\n",
              "      <th>exploitation</th>\n",
              "      <th>rbp_score</th>\n",
              "      <th>count</th>\n",
              "    </tr>\n",
              "  </thead>\n",
              "  <tbody>\n",
              "    <tr>\n",
              "      <th>0</th>\n",
              "      <td>critical</td>\n",
              "      <td>None</td>\n",
              "      <td>4</td>\n",
              "      <td>27863</td>\n",
              "    </tr>\n",
              "    <tr>\n",
              "      <th>1</th>\n",
              "      <td>critical</td>\n",
              "      <td>kev</td>\n",
              "      <td>4</td>\n",
              "      <td>3061</td>\n",
              "    </tr>\n",
              "    <tr>\n",
              "      <th>2</th>\n",
              "      <td>critical</td>\n",
              "      <td>kev</td>\n",
              "      <td>6</td>\n",
              "      <td>1088</td>\n",
              "    </tr>\n",
              "    <tr>\n",
              "      <th>3</th>\n",
              "      <td>critical</td>\n",
              "      <td>kev</td>\n",
              "      <td>9</td>\n",
              "      <td>836</td>\n",
              "    </tr>\n",
              "    <tr>\n",
              "      <th>4</th>\n",
              "      <td>critical</td>\n",
              "      <td>kev</td>\n",
              "      <td>10</td>\n",
              "      <td>839</td>\n",
              "    </tr>\n",
              "    <tr>\n",
              "      <th>5</th>\n",
              "      <td>critical</td>\n",
              "      <td>poc</td>\n",
              "      <td>6</td>\n",
              "      <td>2071</td>\n",
              "    </tr>\n",
              "    <tr>\n",
              "      <th>6</th>\n",
              "      <td>critical</td>\n",
              "      <td>weaponized</td>\n",
              "      <td>9</td>\n",
              "      <td>261</td>\n",
              "    </tr>\n",
              "    <tr>\n",
              "      <th>7</th>\n",
              "      <td>high</td>\n",
              "      <td>None</td>\n",
              "      <td>3</td>\n",
              "      <td>75029</td>\n",
              "    </tr>\n",
              "    <tr>\n",
              "      <th>8</th>\n",
              "      <td>high</td>\n",
              "      <td>kev</td>\n",
              "      <td>3</td>\n",
              "      <td>1772</td>\n",
              "    </tr>\n",
              "    <tr>\n",
              "      <th>9</th>\n",
              "      <td>high</td>\n",
              "      <td>kev</td>\n",
              "      <td>5</td>\n",
              "      <td>1458</td>\n",
              "    </tr>\n",
              "    <tr>\n",
              "      <th>10</th>\n",
              "      <td>high</td>\n",
              "      <td>kev</td>\n",
              "      <td>7</td>\n",
              "      <td>560</td>\n",
              "    </tr>\n",
              "    <tr>\n",
              "      <th>11</th>\n",
              "      <td>high</td>\n",
              "      <td>kev</td>\n",
              "      <td>8</td>\n",
              "      <td>858</td>\n",
              "    </tr>\n",
              "    <tr>\n",
              "      <th>12</th>\n",
              "      <td>high</td>\n",
              "      <td>poc</td>\n",
              "      <td>5</td>\n",
              "      <td>8457</td>\n",
              "    </tr>\n",
              "    <tr>\n",
              "      <th>13</th>\n",
              "      <td>high</td>\n",
              "      <td>weaponized</td>\n",
              "      <td>7</td>\n",
              "      <td>523</td>\n",
              "    </tr>\n",
              "    <tr>\n",
              "      <th>14</th>\n",
              "      <td>low</td>\n",
              "      <td>None</td>\n",
              "      <td>1</td>\n",
              "      <td>7780</td>\n",
              "    </tr>\n",
              "    <tr>\n",
              "      <th>15</th>\n",
              "      <td>low</td>\n",
              "      <td>kev</td>\n",
              "      <td>1</td>\n",
              "      <td>95</td>\n",
              "    </tr>\n",
              "    <tr>\n",
              "      <th>16</th>\n",
              "      <td>low</td>\n",
              "      <td>poc</td>\n",
              "      <td>1</td>\n",
              "      <td>546</td>\n",
              "    </tr>\n",
              "    <tr>\n",
              "      <th>17</th>\n",
              "      <td>low</td>\n",
              "      <td>weaponized</td>\n",
              "      <td>1</td>\n",
              "      <td>19</td>\n",
              "    </tr>\n",
              "    <tr>\n",
              "      <th>18</th>\n",
              "      <td>medium</td>\n",
              "      <td>None</td>\n",
              "      <td>2</td>\n",
              "      <td>94692</td>\n",
              "    </tr>\n",
              "    <tr>\n",
              "      <th>19</th>\n",
              "      <td>medium</td>\n",
              "      <td>kev</td>\n",
              "      <td>2</td>\n",
              "      <td>2919</td>\n",
              "    </tr>\n",
              "    <tr>\n",
              "      <th>20</th>\n",
              "      <td>medium</td>\n",
              "      <td>poc</td>\n",
              "      <td>2</td>\n",
              "      <td>8484</td>\n",
              "    </tr>\n",
              "    <tr>\n",
              "      <th>21</th>\n",
              "      <td>medium</td>\n",
              "      <td>weaponized</td>\n",
              "      <td>2</td>\n",
              "      <td>1066</td>\n",
              "    </tr>\n",
              "  </tbody>\n",
              "</table>\n",
              "</div>"
            ],
            "text/plain": [
              "   base_score_category exploitation  rbp_score  count\n",
              "0             critical         None          4  27863\n",
              "1             critical          kev          4   3061\n",
              "2             critical          kev          6   1088\n",
              "3             critical          kev          9    836\n",
              "4             critical          kev         10    839\n",
              "5             critical          poc          6   2071\n",
              "6             critical   weaponized          9    261\n",
              "7                 high         None          3  75029\n",
              "8                 high          kev          3   1772\n",
              "9                 high          kev          5   1458\n",
              "10                high          kev          7    560\n",
              "11                high          kev          8    858\n",
              "12                high          poc          5   8457\n",
              "13                high   weaponized          7    523\n",
              "14                 low         None          1   7780\n",
              "15                 low          kev          1     95\n",
              "16                 low          poc          1    546\n",
              "17                 low   weaponized          1     19\n",
              "18              medium         None          2  94692\n",
              "19              medium          kev          2   2919\n",
              "20              medium          poc          2   8484\n",
              "21              medium   weaponized          2   1066"
            ]
          },
          "execution_count": 131,
          "metadata": {},
          "output_type": "execute_result"
        }
      ],
      "source": [
        "sankey_data"
      ]
    },
    {
      "cell_type": "code",
      "execution_count": 132,
      "metadata": {
        "colab": {
          "base_uri": "https://localhost:8080/",
          "height": 817
        },
        "id": "R7EEL6LuARnC",
        "outputId": "cee2baa9-bb7f-4012-fdbe-9d2080c09a74"
      },
      "outputs": [
        {
          "data": {
            "application/vnd.plotly.v1+json": {
              "config": {
                "plotlyServerURL": "https://plot.ly"
              },
              "data": [
                {
                  "counts": [
                    27863,
                    3061,
                    1088,
                    836,
                    839,
                    2071,
                    261,
                    75029,
                    1772,
                    1458,
                    560,
                    858,
                    8457,
                    523,
                    7780,
                    95,
                    546,
                    19,
                    94692,
                    2919,
                    8484,
                    1066
                  ],
                  "dimensions": [
                    {
                      "label": "CVSS Base Score Rating",
                      "values": [
                        "critical",
                        "critical",
                        "critical",
                        "critical",
                        "critical",
                        "critical",
                        "critical",
                        "high",
                        "high",
                        "high",
                        "high",
                        "high",
                        "high",
                        "high",
                        "low",
                        "low",
                        "low",
                        "low",
                        "medium",
                        "medium",
                        "medium",
                        "medium"
                      ]
                    },
                    {
                      "label": "Exploitation Evidence",
                      "values": [
                        "None",
                        "kev",
                        "kev",
                        "kev",
                        "kev",
                        "poc",
                        "weaponized",
                        "None",
                        "kev",
                        "kev",
                        "kev",
                        "kev",
                        "poc",
                        "weaponized",
                        "None",
                        "kev",
                        "poc",
                        "weaponized",
                        "None",
                        "kev",
                        "poc",
                        "weaponized"
                      ]
                    },
                    {
                      "label": "Assigned Score",
                      "values": [
                        4,
                        4,
                        6,
                        9,
                        10,
                        6,
                        9,
                        3,
                        3,
                        5,
                        7,
                        8,
                        5,
                        7,
                        1,
                        1,
                        1,
                        1,
                        2,
                        2,
                        2,
                        2
                      ]
                    }
                  ],
                  "line": {
                    "color": [
                      4,
                      4,
                      6,
                      9,
                      10,
                      6,
                      9,
                      3,
                      3,
                      5,
                      7,
                      8,
                      5,
                      7,
                      1,
                      1,
                      1,
                      1,
                      2,
                      2,
                      2,
                      2
                    ],
                    "colorscale": [
                      [
                        0,
                        "rgb(255,255,204)"
                      ],
                      [
                        0.125,
                        "rgb(255,237,160)"
                      ],
                      [
                        0.25,
                        "rgb(254,217,118)"
                      ],
                      [
                        0.375,
                        "rgb(254,178,76)"
                      ],
                      [
                        0.5,
                        "rgb(253,141,60)"
                      ],
                      [
                        0.625,
                        "rgb(252,78,42)"
                      ],
                      [
                        0.75,
                        "rgb(227,26,28)"
                      ],
                      [
                        0.875,
                        "rgb(189,0,38)"
                      ],
                      [
                        1,
                        "rgb(128,0,38)"
                      ]
                    ]
                  },
                  "type": "parcats"
                }
              ],
              "layout": {
                "autosize": false,
                "height": 800,
                "template": {
                  "data": {
                    "bar": [
                      {
                        "error_x": {
                          "color": "#2a3f5f"
                        },
                        "error_y": {
                          "color": "#2a3f5f"
                        },
                        "marker": {
                          "line": {
                            "color": "#E5ECF6",
                            "width": 0.5
                          },
                          "pattern": {
                            "fillmode": "overlay",
                            "size": 10,
                            "solidity": 0.2
                          }
                        },
                        "type": "bar"
                      }
                    ],
                    "barpolar": [
                      {
                        "marker": {
                          "line": {
                            "color": "#E5ECF6",
                            "width": 0.5
                          },
                          "pattern": {
                            "fillmode": "overlay",
                            "size": 10,
                            "solidity": 0.2
                          }
                        },
                        "type": "barpolar"
                      }
                    ],
                    "carpet": [
                      {
                        "aaxis": {
                          "endlinecolor": "#2a3f5f",
                          "gridcolor": "white",
                          "linecolor": "white",
                          "minorgridcolor": "white",
                          "startlinecolor": "#2a3f5f"
                        },
                        "baxis": {
                          "endlinecolor": "#2a3f5f",
                          "gridcolor": "white",
                          "linecolor": "white",
                          "minorgridcolor": "white",
                          "startlinecolor": "#2a3f5f"
                        },
                        "type": "carpet"
                      }
                    ],
                    "choropleth": [
                      {
                        "colorbar": {
                          "outlinewidth": 0,
                          "ticks": ""
                        },
                        "type": "choropleth"
                      }
                    ],
                    "contour": [
                      {
                        "colorbar": {
                          "outlinewidth": 0,
                          "ticks": ""
                        },
                        "colorscale": [
                          [
                            0,
                            "#0d0887"
                          ],
                          [
                            0.1111111111111111,
                            "#46039f"
                          ],
                          [
                            0.2222222222222222,
                            "#7201a8"
                          ],
                          [
                            0.3333333333333333,
                            "#9c179e"
                          ],
                          [
                            0.4444444444444444,
                            "#bd3786"
                          ],
                          [
                            0.5555555555555556,
                            "#d8576b"
                          ],
                          [
                            0.6666666666666666,
                            "#ed7953"
                          ],
                          [
                            0.7777777777777778,
                            "#fb9f3a"
                          ],
                          [
                            0.8888888888888888,
                            "#fdca26"
                          ],
                          [
                            1,
                            "#f0f921"
                          ]
                        ],
                        "type": "contour"
                      }
                    ],
                    "contourcarpet": [
                      {
                        "colorbar": {
                          "outlinewidth": 0,
                          "ticks": ""
                        },
                        "type": "contourcarpet"
                      }
                    ],
                    "heatmap": [
                      {
                        "colorbar": {
                          "outlinewidth": 0,
                          "ticks": ""
                        },
                        "colorscale": [
                          [
                            0,
                            "#0d0887"
                          ],
                          [
                            0.1111111111111111,
                            "#46039f"
                          ],
                          [
                            0.2222222222222222,
                            "#7201a8"
                          ],
                          [
                            0.3333333333333333,
                            "#9c179e"
                          ],
                          [
                            0.4444444444444444,
                            "#bd3786"
                          ],
                          [
                            0.5555555555555556,
                            "#d8576b"
                          ],
                          [
                            0.6666666666666666,
                            "#ed7953"
                          ],
                          [
                            0.7777777777777778,
                            "#fb9f3a"
                          ],
                          [
                            0.8888888888888888,
                            "#fdca26"
                          ],
                          [
                            1,
                            "#f0f921"
                          ]
                        ],
                        "type": "heatmap"
                      }
                    ],
                    "heatmapgl": [
                      {
                        "colorbar": {
                          "outlinewidth": 0,
                          "ticks": ""
                        },
                        "colorscale": [
                          [
                            0,
                            "#0d0887"
                          ],
                          [
                            0.1111111111111111,
                            "#46039f"
                          ],
                          [
                            0.2222222222222222,
                            "#7201a8"
                          ],
                          [
                            0.3333333333333333,
                            "#9c179e"
                          ],
                          [
                            0.4444444444444444,
                            "#bd3786"
                          ],
                          [
                            0.5555555555555556,
                            "#d8576b"
                          ],
                          [
                            0.6666666666666666,
                            "#ed7953"
                          ],
                          [
                            0.7777777777777778,
                            "#fb9f3a"
                          ],
                          [
                            0.8888888888888888,
                            "#fdca26"
                          ],
                          [
                            1,
                            "#f0f921"
                          ]
                        ],
                        "type": "heatmapgl"
                      }
                    ],
                    "histogram": [
                      {
                        "marker": {
                          "pattern": {
                            "fillmode": "overlay",
                            "size": 10,
                            "solidity": 0.2
                          }
                        },
                        "type": "histogram"
                      }
                    ],
                    "histogram2d": [
                      {
                        "colorbar": {
                          "outlinewidth": 0,
                          "ticks": ""
                        },
                        "colorscale": [
                          [
                            0,
                            "#0d0887"
                          ],
                          [
                            0.1111111111111111,
                            "#46039f"
                          ],
                          [
                            0.2222222222222222,
                            "#7201a8"
                          ],
                          [
                            0.3333333333333333,
                            "#9c179e"
                          ],
                          [
                            0.4444444444444444,
                            "#bd3786"
                          ],
                          [
                            0.5555555555555556,
                            "#d8576b"
                          ],
                          [
                            0.6666666666666666,
                            "#ed7953"
                          ],
                          [
                            0.7777777777777778,
                            "#fb9f3a"
                          ],
                          [
                            0.8888888888888888,
                            "#fdca26"
                          ],
                          [
                            1,
                            "#f0f921"
                          ]
                        ],
                        "type": "histogram2d"
                      }
                    ],
                    "histogram2dcontour": [
                      {
                        "colorbar": {
                          "outlinewidth": 0,
                          "ticks": ""
                        },
                        "colorscale": [
                          [
                            0,
                            "#0d0887"
                          ],
                          [
                            0.1111111111111111,
                            "#46039f"
                          ],
                          [
                            0.2222222222222222,
                            "#7201a8"
                          ],
                          [
                            0.3333333333333333,
                            "#9c179e"
                          ],
                          [
                            0.4444444444444444,
                            "#bd3786"
                          ],
                          [
                            0.5555555555555556,
                            "#d8576b"
                          ],
                          [
                            0.6666666666666666,
                            "#ed7953"
                          ],
                          [
                            0.7777777777777778,
                            "#fb9f3a"
                          ],
                          [
                            0.8888888888888888,
                            "#fdca26"
                          ],
                          [
                            1,
                            "#f0f921"
                          ]
                        ],
                        "type": "histogram2dcontour"
                      }
                    ],
                    "mesh3d": [
                      {
                        "colorbar": {
                          "outlinewidth": 0,
                          "ticks": ""
                        },
                        "type": "mesh3d"
                      }
                    ],
                    "parcoords": [
                      {
                        "line": {
                          "colorbar": {
                            "outlinewidth": 0,
                            "ticks": ""
                          }
                        },
                        "type": "parcoords"
                      }
                    ],
                    "pie": [
                      {
                        "automargin": true,
                        "type": "pie"
                      }
                    ],
                    "scatter": [
                      {
                        "fillpattern": {
                          "fillmode": "overlay",
                          "size": 10,
                          "solidity": 0.2
                        },
                        "type": "scatter"
                      }
                    ],
                    "scatter3d": [
                      {
                        "line": {
                          "colorbar": {
                            "outlinewidth": 0,
                            "ticks": ""
                          }
                        },
                        "marker": {
                          "colorbar": {
                            "outlinewidth": 0,
                            "ticks": ""
                          }
                        },
                        "type": "scatter3d"
                      }
                    ],
                    "scattercarpet": [
                      {
                        "marker": {
                          "colorbar": {
                            "outlinewidth": 0,
                            "ticks": ""
                          }
                        },
                        "type": "scattercarpet"
                      }
                    ],
                    "scattergeo": [
                      {
                        "marker": {
                          "colorbar": {
                            "outlinewidth": 0,
                            "ticks": ""
                          }
                        },
                        "type": "scattergeo"
                      }
                    ],
                    "scattergl": [
                      {
                        "marker": {
                          "colorbar": {
                            "outlinewidth": 0,
                            "ticks": ""
                          }
                        },
                        "type": "scattergl"
                      }
                    ],
                    "scattermapbox": [
                      {
                        "marker": {
                          "colorbar": {
                            "outlinewidth": 0,
                            "ticks": ""
                          }
                        },
                        "type": "scattermapbox"
                      }
                    ],
                    "scatterpolar": [
                      {
                        "marker": {
                          "colorbar": {
                            "outlinewidth": 0,
                            "ticks": ""
                          }
                        },
                        "type": "scatterpolar"
                      }
                    ],
                    "scatterpolargl": [
                      {
                        "marker": {
                          "colorbar": {
                            "outlinewidth": 0,
                            "ticks": ""
                          }
                        },
                        "type": "scatterpolargl"
                      }
                    ],
                    "scatterternary": [
                      {
                        "marker": {
                          "colorbar": {
                            "outlinewidth": 0,
                            "ticks": ""
                          }
                        },
                        "type": "scatterternary"
                      }
                    ],
                    "surface": [
                      {
                        "colorbar": {
                          "outlinewidth": 0,
                          "ticks": ""
                        },
                        "colorscale": [
                          [
                            0,
                            "#0d0887"
                          ],
                          [
                            0.1111111111111111,
                            "#46039f"
                          ],
                          [
                            0.2222222222222222,
                            "#7201a8"
                          ],
                          [
                            0.3333333333333333,
                            "#9c179e"
                          ],
                          [
                            0.4444444444444444,
                            "#bd3786"
                          ],
                          [
                            0.5555555555555556,
                            "#d8576b"
                          ],
                          [
                            0.6666666666666666,
                            "#ed7953"
                          ],
                          [
                            0.7777777777777778,
                            "#fb9f3a"
                          ],
                          [
                            0.8888888888888888,
                            "#fdca26"
                          ],
                          [
                            1,
                            "#f0f921"
                          ]
                        ],
                        "type": "surface"
                      }
                    ],
                    "table": [
                      {
                        "cells": {
                          "fill": {
                            "color": "#EBF0F8"
                          },
                          "line": {
                            "color": "white"
                          }
                        },
                        "header": {
                          "fill": {
                            "color": "#C8D4E3"
                          },
                          "line": {
                            "color": "white"
                          }
                        },
                        "type": "table"
                      }
                    ]
                  },
                  "layout": {
                    "annotationdefaults": {
                      "arrowcolor": "#2a3f5f",
                      "arrowhead": 0,
                      "arrowwidth": 1
                    },
                    "autotypenumbers": "strict",
                    "coloraxis": {
                      "colorbar": {
                        "outlinewidth": 0,
                        "ticks": ""
                      }
                    },
                    "colorscale": {
                      "diverging": [
                        [
                          0,
                          "#8e0152"
                        ],
                        [
                          0.1,
                          "#c51b7d"
                        ],
                        [
                          0.2,
                          "#de77ae"
                        ],
                        [
                          0.3,
                          "#f1b6da"
                        ],
                        [
                          0.4,
                          "#fde0ef"
                        ],
                        [
                          0.5,
                          "#f7f7f7"
                        ],
                        [
                          0.6,
                          "#e6f5d0"
                        ],
                        [
                          0.7,
                          "#b8e186"
                        ],
                        [
                          0.8,
                          "#7fbc41"
                        ],
                        [
                          0.9,
                          "#4d9221"
                        ],
                        [
                          1,
                          "#276419"
                        ]
                      ],
                      "sequential": [
                        [
                          0,
                          "#0d0887"
                        ],
                        [
                          0.1111111111111111,
                          "#46039f"
                        ],
                        [
                          0.2222222222222222,
                          "#7201a8"
                        ],
                        [
                          0.3333333333333333,
                          "#9c179e"
                        ],
                        [
                          0.4444444444444444,
                          "#bd3786"
                        ],
                        [
                          0.5555555555555556,
                          "#d8576b"
                        ],
                        [
                          0.6666666666666666,
                          "#ed7953"
                        ],
                        [
                          0.7777777777777778,
                          "#fb9f3a"
                        ],
                        [
                          0.8888888888888888,
                          "#fdca26"
                        ],
                        [
                          1,
                          "#f0f921"
                        ]
                      ],
                      "sequentialminus": [
                        [
                          0,
                          "#0d0887"
                        ],
                        [
                          0.1111111111111111,
                          "#46039f"
                        ],
                        [
                          0.2222222222222222,
                          "#7201a8"
                        ],
                        [
                          0.3333333333333333,
                          "#9c179e"
                        ],
                        [
                          0.4444444444444444,
                          "#bd3786"
                        ],
                        [
                          0.5555555555555556,
                          "#d8576b"
                        ],
                        [
                          0.6666666666666666,
                          "#ed7953"
                        ],
                        [
                          0.7777777777777778,
                          "#fb9f3a"
                        ],
                        [
                          0.8888888888888888,
                          "#fdca26"
                        ],
                        [
                          1,
                          "#f0f921"
                        ]
                      ]
                    },
                    "colorway": [
                      "#636efa",
                      "#EF553B",
                      "#00cc96",
                      "#ab63fa",
                      "#FFA15A",
                      "#19d3f3",
                      "#FF6692",
                      "#B6E880",
                      "#FF97FF",
                      "#FECB52"
                    ],
                    "font": {
                      "color": "#2a3f5f"
                    },
                    "geo": {
                      "bgcolor": "white",
                      "lakecolor": "white",
                      "landcolor": "#E5ECF6",
                      "showlakes": true,
                      "showland": true,
                      "subunitcolor": "white"
                    },
                    "hoverlabel": {
                      "align": "left"
                    },
                    "hovermode": "closest",
                    "mapbox": {
                      "style": "light"
                    },
                    "paper_bgcolor": "white",
                    "plot_bgcolor": "#E5ECF6",
                    "polar": {
                      "angularaxis": {
                        "gridcolor": "white",
                        "linecolor": "white",
                        "ticks": ""
                      },
                      "bgcolor": "#E5ECF6",
                      "radialaxis": {
                        "gridcolor": "white",
                        "linecolor": "white",
                        "ticks": ""
                      }
                    },
                    "scene": {
                      "xaxis": {
                        "backgroundcolor": "#E5ECF6",
                        "gridcolor": "white",
                        "gridwidth": 2,
                        "linecolor": "white",
                        "showbackground": true,
                        "ticks": "",
                        "zerolinecolor": "white"
                      },
                      "yaxis": {
                        "backgroundcolor": "#E5ECF6",
                        "gridcolor": "white",
                        "gridwidth": 2,
                        "linecolor": "white",
                        "showbackground": true,
                        "ticks": "",
                        "zerolinecolor": "white"
                      },
                      "zaxis": {
                        "backgroundcolor": "#E5ECF6",
                        "gridcolor": "white",
                        "gridwidth": 2,
                        "linecolor": "white",
                        "showbackground": true,
                        "ticks": "",
                        "zerolinecolor": "white"
                      }
                    },
                    "shapedefaults": {
                      "line": {
                        "color": "#2a3f5f"
                      }
                    },
                    "ternary": {
                      "aaxis": {
                        "gridcolor": "white",
                        "linecolor": "white",
                        "ticks": ""
                      },
                      "baxis": {
                        "gridcolor": "white",
                        "linecolor": "white",
                        "ticks": ""
                      },
                      "bgcolor": "#E5ECF6",
                      "caxis": {
                        "gridcolor": "white",
                        "linecolor": "white",
                        "ticks": ""
                      }
                    },
                    "title": {
                      "x": 0.05
                    },
                    "xaxis": {
                      "automargin": true,
                      "gridcolor": "white",
                      "linecolor": "white",
                      "ticks": "",
                      "title": {
                        "standoff": 15
                      },
                      "zerolinecolor": "white",
                      "zerolinewidth": 2
                    },
                    "yaxis": {
                      "automargin": true,
                      "gridcolor": "white",
                      "linecolor": "white",
                      "ticks": "",
                      "title": {
                        "standoff": 15
                      },
                      "zerolinecolor": "white",
                      "zerolinewidth": 2
                    }
                  }
                },
                "title": {
                  "text": "CVSS-B Base vs Exploitation Evidence vs Assigned Score"
                },
                "width": 800
              }
            }
          },
          "metadata": {},
          "output_type": "display_data"
        }
      ],
      "source": [
        "color = sankey_data['rbp_score'];\n",
        "colorscale = 'YlOrRd' #Yellow Orange Red\n",
        "fig = go.Figure(go.Parcats(\n",
        "    dimensions=[\n",
        "        {'label': 'CVSS Base Score Rating', 'values': sankey_data['base_score_category']},\n",
        "        {'label': 'Exploitation Evidence', 'values': sankey_data['exploitation']},\n",
        "        {'label': 'Assigned Score', 'values': sankey_data['rbp_score']},\n",
        "    ],\n",
        "    line={'color': color, 'colorscale': colorscale},\n",
        "    counts=sankey_data['count'],\n",
        "))\n",
        "fig.update_layout(\n",
        "    title='CVSS-B Base vs Exploitation Evidence vs Assigned Score',\n",
        "    autosize=False,\n",
        "    width=800,\n",
        "    height=800,\n",
        ")\n",
        "fig.show()\n",
        "\n",
        "if IN_COLAB == False:\n",
        "    fig.write_image(\"../images_out/cvss_exploitation_parcat.png\")\n",
        "    Image(filename='../images_out/cvss_exploitation_parcat.png') #display plot when viewing in github\n"
      ]
    },
    {
      "cell_type": "markdown",
      "metadata": {
        "id": "0IdDeLCnARnC"
      },
      "source": [
        "# SSVC\n"
      ]
    },
    {
      "cell_type": "code",
      "execution_count": 133,
      "metadata": {
        "id": "er5ZV82MARnC"
      },
      "outputs": [],
      "source": [
        "# Function to convert CVSS vector string to dictionary\n",
        "def cvss_vector_to_dict(cvss_vector):\n",
        "    cvss_dict = {}\n",
        "    elements = cvss_vector.split('/')\n",
        "    for element in elements:\n",
        "        key, value = element.split(':')\n",
        "        cvss_dict[key] = value\n",
        "    return cvss_dict"
      ]
    },
    {
      "cell_type": "code",
      "execution_count": 134,
      "metadata": {
        "colab": {
          "base_uri": "https://localhost:8080/",
          "height": 808
        },
        "id": "443mLLnZARnC",
        "outputId": "e541e009-be2f-492d-c28d-7d3d4adecd60"
      },
      "outputs": [
        {
          "data": {
            "text/html": [
              "<div>\n",
              "<style scoped>\n",
              "    .dataframe tbody tr th:only-of-type {\n",
              "        vertical-align: middle;\n",
              "    }\n",
              "\n",
              "    .dataframe tbody tr th {\n",
              "        vertical-align: top;\n",
              "    }\n",
              "\n",
              "    .dataframe thead th {\n",
              "        text-align: right;\n",
              "    }\n",
              "</style>\n",
              "<table border=\"1\" class=\"dataframe\">\n",
              "  <thead>\n",
              "    <tr style=\"text-align: right;\">\n",
              "      <th></th>\n",
              "      <th>cve</th>\n",
              "      <th>cvss-bt_score</th>\n",
              "      <th>cvss-bt_severity</th>\n",
              "      <th>cvss-bt_vector</th>\n",
              "      <th>cvss_version</th>\n",
              "      <th>base_score</th>\n",
              "      <th>base_severity</th>\n",
              "      <th>base_vector</th>\n",
              "      <th>assigner</th>\n",
              "      <th>published_date</th>\n",
              "      <th>...</th>\n",
              "      <th>nuclei</th>\n",
              "      <th>poc_github</th>\n",
              "      <th>base_score_category</th>\n",
              "      <th>cvss-bt_score_category</th>\n",
              "      <th>weaponized</th>\n",
              "      <th>kev</th>\n",
              "      <th>poc</th>\n",
              "      <th>exploitation</th>\n",
              "      <th>rbp_score</th>\n",
              "      <th>cvss_vector_dict</th>\n",
              "    </tr>\n",
              "  </thead>\n",
              "  <tbody>\n",
              "    <tr>\n",
              "      <th>0</th>\n",
              "      <td>CVE-1999-0095</td>\n",
              "      <td>9.0</td>\n",
              "      <td>HIGH</td>\n",
              "      <td>AV:N/AC:L/Au:N/C:C/I:C/A:C/E:POC</td>\n",
              "      <td>2.0</td>\n",
              "      <td>10.0</td>\n",
              "      <td>HIGH</td>\n",
              "      <td>AV:N/AC:L/Au:N/C:C/I:C/A:C</td>\n",
              "      <td>cve@mitre.org</td>\n",
              "      <td>1988-10-01T04:00Z</td>\n",
              "      <td>...</td>\n",
              "      <td>False</td>\n",
              "      <td>False</td>\n",
              "      <td>critical</td>\n",
              "      <td>critical</td>\n",
              "      <td>False</td>\n",
              "      <td>False</td>\n",
              "      <td>True</td>\n",
              "      <td>poc</td>\n",
              "      <td>6</td>\n",
              "      <td>{'AV': 'N', 'AC': 'L', 'Au': 'N', 'C': 'C', 'I...</td>\n",
              "    </tr>\n",
              "    <tr>\n",
              "      <th>1</th>\n",
              "      <td>CVE-1999-0082</td>\n",
              "      <td>8.5</td>\n",
              "      <td>HIGH</td>\n",
              "      <td>AV:N/AC:L/Au:N/C:C/I:C/A:C/E:U</td>\n",
              "      <td>2.0</td>\n",
              "      <td>10.0</td>\n",
              "      <td>HIGH</td>\n",
              "      <td>AV:N/AC:L/Au:N/C:C/I:C/A:C</td>\n",
              "      <td>cve@mitre.org</td>\n",
              "      <td>1988-11-11T05:00Z</td>\n",
              "      <td>...</td>\n",
              "      <td>False</td>\n",
              "      <td>False</td>\n",
              "      <td>critical</td>\n",
              "      <td>high</td>\n",
              "      <td>False</td>\n",
              "      <td>False</td>\n",
              "      <td>False</td>\n",
              "      <td>None</td>\n",
              "      <td>4</td>\n",
              "      <td>{'AV': 'N', 'AC': 'L', 'Au': 'N', 'C': 'C', 'I...</td>\n",
              "    </tr>\n",
              "    <tr>\n",
              "      <th>2</th>\n",
              "      <td>CVE-1999-1471</td>\n",
              "      <td>6.1</td>\n",
              "      <td>MEDIUM</td>\n",
              "      <td>AV:L/AC:L/Au:N/C:C/I:C/A:C/E:U</td>\n",
              "      <td>2.0</td>\n",
              "      <td>7.2</td>\n",
              "      <td>HIGH</td>\n",
              "      <td>AV:L/AC:L/Au:N/C:C/I:C/A:C</td>\n",
              "      <td>cve@mitre.org</td>\n",
              "      <td>1989-01-01T05:00Z</td>\n",
              "      <td>...</td>\n",
              "      <td>False</td>\n",
              "      <td>False</td>\n",
              "      <td>high</td>\n",
              "      <td>medium</td>\n",
              "      <td>False</td>\n",
              "      <td>False</td>\n",
              "      <td>False</td>\n",
              "      <td>None</td>\n",
              "      <td>3</td>\n",
              "      <td>{'AV': 'L', 'AC': 'L', 'Au': 'N', 'C': 'C', 'I...</td>\n",
              "    </tr>\n",
              "    <tr>\n",
              "      <th>3</th>\n",
              "      <td>CVE-1999-1122</td>\n",
              "      <td>3.9</td>\n",
              "      <td>LOW</td>\n",
              "      <td>AV:L/AC:L/Au:N/C:P/I:P/A:P/E:U</td>\n",
              "      <td>2.0</td>\n",
              "      <td>4.6</td>\n",
              "      <td>MEDIUM</td>\n",
              "      <td>AV:L/AC:L/Au:N/C:P/I:P/A:P</td>\n",
              "      <td>cve@mitre.org</td>\n",
              "      <td>1989-07-26T04:00Z</td>\n",
              "      <td>...</td>\n",
              "      <td>False</td>\n",
              "      <td>False</td>\n",
              "      <td>medium</td>\n",
              "      <td>low</td>\n",
              "      <td>False</td>\n",
              "      <td>False</td>\n",
              "      <td>False</td>\n",
              "      <td>None</td>\n",
              "      <td>2</td>\n",
              "      <td>{'AV': 'L', 'AC': 'L', 'Au': 'N', 'C': 'P', 'I...</td>\n",
              "    </tr>\n",
              "    <tr>\n",
              "      <th>4</th>\n",
              "      <td>CVE-1999-1467</td>\n",
              "      <td>8.5</td>\n",
              "      <td>HIGH</td>\n",
              "      <td>AV:N/AC:L/Au:N/C:C/I:C/A:C/E:U</td>\n",
              "      <td>2.0</td>\n",
              "      <td>10.0</td>\n",
              "      <td>HIGH</td>\n",
              "      <td>AV:N/AC:L/Au:N/C:C/I:C/A:C</td>\n",
              "      <td>cve@mitre.org</td>\n",
              "      <td>1989-10-26T04:00Z</td>\n",
              "      <td>...</td>\n",
              "      <td>False</td>\n",
              "      <td>False</td>\n",
              "      <td>critical</td>\n",
              "      <td>high</td>\n",
              "      <td>False</td>\n",
              "      <td>False</td>\n",
              "      <td>False</td>\n",
              "      <td>None</td>\n",
              "      <td>4</td>\n",
              "      <td>{'AV': 'N', 'AC': 'L', 'Au': 'N', 'C': 'C', 'I...</td>\n",
              "    </tr>\n",
              "    <tr>\n",
              "      <th>...</th>\n",
              "      <td>...</td>\n",
              "      <td>...</td>\n",
              "      <td>...</td>\n",
              "      <td>...</td>\n",
              "      <td>...</td>\n",
              "      <td>...</td>\n",
              "      <td>...</td>\n",
              "      <td>...</td>\n",
              "      <td>...</td>\n",
              "      <td>...</td>\n",
              "      <td>...</td>\n",
              "      <td>...</td>\n",
              "      <td>...</td>\n",
              "      <td>...</td>\n",
              "      <td>...</td>\n",
              "      <td>...</td>\n",
              "      <td>...</td>\n",
              "      <td>...</td>\n",
              "      <td>...</td>\n",
              "      <td>...</td>\n",
              "      <td>...</td>\n",
              "    </tr>\n",
              "    <tr>\n",
              "      <th>240311</th>\n",
              "      <td>CVE-2023-49602</td>\n",
              "      <td>5.0</td>\n",
              "      <td>MEDIUM</td>\n",
              "      <td>CVSS:3.1/AV:N/AC:L/PR:L/UI:R/S:C/C:L/I:L/A:N/E:U</td>\n",
              "      <td>3.1</td>\n",
              "      <td>5.4</td>\n",
              "      <td>MEDIUM</td>\n",
              "      <td>CVSS:3.1/AV:N/AC:L/PR:L/UI:R/S:C/C:L/I:L/A:N</td>\n",
              "      <td>scy@openharmony.io</td>\n",
              "      <td>2024-03-04T07:15Z</td>\n",
              "      <td>...</td>\n",
              "      <td>False</td>\n",
              "      <td>False</td>\n",
              "      <td>medium</td>\n",
              "      <td>medium</td>\n",
              "      <td>False</td>\n",
              "      <td>False</td>\n",
              "      <td>False</td>\n",
              "      <td>None</td>\n",
              "      <td>2</td>\n",
              "      <td>{'CVSS': '3.1', 'AV': 'N', 'AC': 'L', 'PR': 'L...</td>\n",
              "    </tr>\n",
              "    <tr>\n",
              "      <th>240312</th>\n",
              "      <td>CVE-2024-21816</td>\n",
              "      <td>9.0</td>\n",
              "      <td>CRITICAL</td>\n",
              "      <td>CVSS:3.1/AV:N/AC:L/PR:N/UI:N/S:U/C:H/I:H/A:H/E:U</td>\n",
              "      <td>3.1</td>\n",
              "      <td>9.8</td>\n",
              "      <td>CRITICAL</td>\n",
              "      <td>CVSS:3.1/AV:N/AC:L/PR:N/UI:N/S:U/C:H/I:H/A:H</td>\n",
              "      <td>scy@openharmony.io</td>\n",
              "      <td>2024-03-04T07:15Z</td>\n",
              "      <td>...</td>\n",
              "      <td>False</td>\n",
              "      <td>False</td>\n",
              "      <td>critical</td>\n",
              "      <td>critical</td>\n",
              "      <td>False</td>\n",
              "      <td>False</td>\n",
              "      <td>False</td>\n",
              "      <td>None</td>\n",
              "      <td>4</td>\n",
              "      <td>{'CVSS': '3.1', 'AV': 'N', 'AC': 'L', 'PR': 'N...</td>\n",
              "    </tr>\n",
              "    <tr>\n",
              "      <th>240313</th>\n",
              "      <td>CVE-2024-21826</td>\n",
              "      <td>7.3</td>\n",
              "      <td>HIGH</td>\n",
              "      <td>CVSS:3.1/AV:A/AC:L/PR:L/UI:N/S:U/C:H/I:H/A:H/E:U</td>\n",
              "      <td>3.1</td>\n",
              "      <td>8.0</td>\n",
              "      <td>HIGH</td>\n",
              "      <td>CVSS:3.1/AV:A/AC:L/PR:L/UI:N/S:U/C:H/I:H/A:H</td>\n",
              "      <td>scy@openharmony.io</td>\n",
              "      <td>2024-03-04T07:15Z</td>\n",
              "      <td>...</td>\n",
              "      <td>False</td>\n",
              "      <td>False</td>\n",
              "      <td>high</td>\n",
              "      <td>high</td>\n",
              "      <td>False</td>\n",
              "      <td>False</td>\n",
              "      <td>False</td>\n",
              "      <td>None</td>\n",
              "      <td>3</td>\n",
              "      <td>{'CVSS': '3.1', 'AV': 'A', 'AC': 'L', 'PR': 'L...</td>\n",
              "    </tr>\n",
              "    <tr>\n",
              "      <th>240314</th>\n",
              "      <td>CVE-2023-46708</td>\n",
              "      <td>9.0</td>\n",
              "      <td>CRITICAL</td>\n",
              "      <td>CVSS:3.1/AV:N/AC:L/PR:N/UI:N/S:U/C:H/I:H/A:H/E:U</td>\n",
              "      <td>3.1</td>\n",
              "      <td>9.8</td>\n",
              "      <td>CRITICAL</td>\n",
              "      <td>CVSS:3.1/AV:N/AC:L/PR:N/UI:N/S:U/C:H/I:H/A:H</td>\n",
              "      <td>scy@openharmony.io</td>\n",
              "      <td>2024-03-04T07:15Z</td>\n",
              "      <td>...</td>\n",
              "      <td>False</td>\n",
              "      <td>False</td>\n",
              "      <td>critical</td>\n",
              "      <td>critical</td>\n",
              "      <td>False</td>\n",
              "      <td>False</td>\n",
              "      <td>False</td>\n",
              "      <td>None</td>\n",
              "      <td>4</td>\n",
              "      <td>{'CVSS': '3.1', 'AV': 'N', 'AC': 'L', 'PR': 'N...</td>\n",
              "    </tr>\n",
              "    <tr>\n",
              "      <th>240315</th>\n",
              "      <td>CVE-2023-25176</td>\n",
              "      <td>5.1</td>\n",
              "      <td>MEDIUM</td>\n",
              "      <td>CVSS:3.1/AV:L/AC:L/PR:L/UI:N/S:U/C:H/I:N/A:N/E:U</td>\n",
              "      <td>3.1</td>\n",
              "      <td>5.5</td>\n",
              "      <td>MEDIUM</td>\n",
              "      <td>CVSS:3.1/AV:L/AC:L/PR:L/UI:N/S:U/C:H/I:N/A:N</td>\n",
              "      <td>scy@openharmony.io</td>\n",
              "      <td>2024-03-04T07:15Z</td>\n",
              "      <td>...</td>\n",
              "      <td>False</td>\n",
              "      <td>False</td>\n",
              "      <td>medium</td>\n",
              "      <td>medium</td>\n",
              "      <td>False</td>\n",
              "      <td>False</td>\n",
              "      <td>False</td>\n",
              "      <td>None</td>\n",
              "      <td>2</td>\n",
              "      <td>{'CVSS': '3.1', 'AV': 'L', 'AC': 'L', 'PR': 'L...</td>\n",
              "    </tr>\n",
              "  </tbody>\n",
              "</table>\n",
              "<p>240277 rows × 25 columns</p>\n",
              "</div>"
            ],
            "text/plain": [
              "                   cve  cvss-bt_score cvss-bt_severity  \\\n",
              "0        CVE-1999-0095            9.0             HIGH   \n",
              "1        CVE-1999-0082            8.5             HIGH   \n",
              "2        CVE-1999-1471            6.1           MEDIUM   \n",
              "3        CVE-1999-1122            3.9              LOW   \n",
              "4        CVE-1999-1467            8.5             HIGH   \n",
              "...                ...            ...              ...   \n",
              "240311  CVE-2023-49602            5.0           MEDIUM   \n",
              "240312  CVE-2024-21816            9.0         CRITICAL   \n",
              "240313  CVE-2024-21826            7.3             HIGH   \n",
              "240314  CVE-2023-46708            9.0         CRITICAL   \n",
              "240315  CVE-2023-25176            5.1           MEDIUM   \n",
              "\n",
              "                                          cvss-bt_vector  cvss_version  \\\n",
              "0                       AV:N/AC:L/Au:N/C:C/I:C/A:C/E:POC           2.0   \n",
              "1                         AV:N/AC:L/Au:N/C:C/I:C/A:C/E:U           2.0   \n",
              "2                         AV:L/AC:L/Au:N/C:C/I:C/A:C/E:U           2.0   \n",
              "3                         AV:L/AC:L/Au:N/C:P/I:P/A:P/E:U           2.0   \n",
              "4                         AV:N/AC:L/Au:N/C:C/I:C/A:C/E:U           2.0   \n",
              "...                                                  ...           ...   \n",
              "240311  CVSS:3.1/AV:N/AC:L/PR:L/UI:R/S:C/C:L/I:L/A:N/E:U           3.1   \n",
              "240312  CVSS:3.1/AV:N/AC:L/PR:N/UI:N/S:U/C:H/I:H/A:H/E:U           3.1   \n",
              "240313  CVSS:3.1/AV:A/AC:L/PR:L/UI:N/S:U/C:H/I:H/A:H/E:U           3.1   \n",
              "240314  CVSS:3.1/AV:N/AC:L/PR:N/UI:N/S:U/C:H/I:H/A:H/E:U           3.1   \n",
              "240315  CVSS:3.1/AV:L/AC:L/PR:L/UI:N/S:U/C:H/I:N/A:N/E:U           3.1   \n",
              "\n",
              "        base_score base_severity  \\\n",
              "0             10.0          HIGH   \n",
              "1             10.0          HIGH   \n",
              "2              7.2          HIGH   \n",
              "3              4.6        MEDIUM   \n",
              "4             10.0          HIGH   \n",
              "...            ...           ...   \n",
              "240311         5.4        MEDIUM   \n",
              "240312         9.8      CRITICAL   \n",
              "240313         8.0          HIGH   \n",
              "240314         9.8      CRITICAL   \n",
              "240315         5.5        MEDIUM   \n",
              "\n",
              "                                         base_vector            assigner  \\\n",
              "0                         AV:N/AC:L/Au:N/C:C/I:C/A:C       cve@mitre.org   \n",
              "1                         AV:N/AC:L/Au:N/C:C/I:C/A:C       cve@mitre.org   \n",
              "2                         AV:L/AC:L/Au:N/C:C/I:C/A:C       cve@mitre.org   \n",
              "3                         AV:L/AC:L/Au:N/C:P/I:P/A:P       cve@mitre.org   \n",
              "4                         AV:N/AC:L/Au:N/C:C/I:C/A:C       cve@mitre.org   \n",
              "...                                              ...                 ...   \n",
              "240311  CVSS:3.1/AV:N/AC:L/PR:L/UI:R/S:C/C:L/I:L/A:N  scy@openharmony.io   \n",
              "240312  CVSS:3.1/AV:N/AC:L/PR:N/UI:N/S:U/C:H/I:H/A:H  scy@openharmony.io   \n",
              "240313  CVSS:3.1/AV:A/AC:L/PR:L/UI:N/S:U/C:H/I:H/A:H  scy@openharmony.io   \n",
              "240314  CVSS:3.1/AV:N/AC:L/PR:N/UI:N/S:U/C:H/I:H/A:H  scy@openharmony.io   \n",
              "240315  CVSS:3.1/AV:L/AC:L/PR:L/UI:N/S:U/C:H/I:N/A:N  scy@openharmony.io   \n",
              "\n",
              "           published_date  ...  nuclei  poc_github  base_score_category  \\\n",
              "0       1988-10-01T04:00Z  ...   False       False             critical   \n",
              "1       1988-11-11T05:00Z  ...   False       False             critical   \n",
              "2       1989-01-01T05:00Z  ...   False       False                 high   \n",
              "3       1989-07-26T04:00Z  ...   False       False               medium   \n",
              "4       1989-10-26T04:00Z  ...   False       False             critical   \n",
              "...                   ...  ...     ...         ...                  ...   \n",
              "240311  2024-03-04T07:15Z  ...   False       False               medium   \n",
              "240312  2024-03-04T07:15Z  ...   False       False             critical   \n",
              "240313  2024-03-04T07:15Z  ...   False       False                 high   \n",
              "240314  2024-03-04T07:15Z  ...   False       False             critical   \n",
              "240315  2024-03-04T07:15Z  ...   False       False               medium   \n",
              "\n",
              "        cvss-bt_score_category  weaponized    kev    poc exploitation  \\\n",
              "0                     critical       False  False   True          poc   \n",
              "1                         high       False  False  False         None   \n",
              "2                       medium       False  False  False         None   \n",
              "3                          low       False  False  False         None   \n",
              "4                         high       False  False  False         None   \n",
              "...                        ...         ...    ...    ...          ...   \n",
              "240311                  medium       False  False  False         None   \n",
              "240312                critical       False  False  False         None   \n",
              "240313                    high       False  False  False         None   \n",
              "240314                critical       False  False  False         None   \n",
              "240315                  medium       False  False  False         None   \n",
              "\n",
              "       rbp_score                                   cvss_vector_dict  \n",
              "0              6  {'AV': 'N', 'AC': 'L', 'Au': 'N', 'C': 'C', 'I...  \n",
              "1              4  {'AV': 'N', 'AC': 'L', 'Au': 'N', 'C': 'C', 'I...  \n",
              "2              3  {'AV': 'L', 'AC': 'L', 'Au': 'N', 'C': 'C', 'I...  \n",
              "3              2  {'AV': 'L', 'AC': 'L', 'Au': 'N', 'C': 'P', 'I...  \n",
              "4              4  {'AV': 'N', 'AC': 'L', 'Au': 'N', 'C': 'C', 'I...  \n",
              "...          ...                                                ...  \n",
              "240311         2  {'CVSS': '3.1', 'AV': 'N', 'AC': 'L', 'PR': 'L...  \n",
              "240312         4  {'CVSS': '3.1', 'AV': 'N', 'AC': 'L', 'PR': 'N...  \n",
              "240313         3  {'CVSS': '3.1', 'AV': 'A', 'AC': 'L', 'PR': 'L...  \n",
              "240314         4  {'CVSS': '3.1', 'AV': 'N', 'AC': 'L', 'PR': 'N...  \n",
              "240315         2  {'CVSS': '3.1', 'AV': 'L', 'AC': 'L', 'PR': 'L...  \n",
              "\n",
              "[240277 rows x 25 columns]"
            ]
          },
          "execution_count": 134,
          "metadata": {},
          "output_type": "execute_result"
        }
      ],
      "source": [
        "\n",
        "# Add cvss_vector_dict column\n",
        "df['cvss_vector_dict'] = df['base_vector'].apply(cvss_vector_to_dict)\n",
        "df"
      ]
    },
    {
      "cell_type": "code",
      "execution_count": 135,
      "metadata": {
        "id": "LXvl41ZfARnC"
      },
      "outputs": [],
      "source": [
        "df['weaponized'] = (df['metasploit'] | df['nuclei'])\n",
        "df['kev'] = (df['cisa_kev'] | df['vulncheck_kev'])\n",
        "df['poc'] = (df['poc_github'] | df['exploitdb'])"
      ]
    },
    {
      "cell_type": "code",
      "execution_count": 136,
      "metadata": {
        "id": "semPBMBAARnC"
      },
      "outputs": [],
      "source": [
        "EPSS_THRESHOLD_LOW = 0.1 #as described in presentation in https://github.com/theparanoids/PrioritizedRiskRemediation\n",
        "\n",
        "def exploitation_dt(row):\n",
        "    if (row['kev'] | (row['epss'] >= EPSS_THRESHOLD_LOW) | row['weaponized']):\n",
        "        return \"active\"\n",
        "    elif (row['poc']):\n",
        "        return \"PoC\"\n",
        "    else:\n",
        "        return \"none\""
      ]
    },
    {
      "cell_type": "code",
      "execution_count": 137,
      "metadata": {
        "colab": {
          "base_uri": "https://localhost:8080/",
          "height": 808
        },
        "id": "gtjxxmx7ARnC",
        "outputId": "96fc122c-ebc4-447f-8e6d-f64739af0fe4"
      },
      "outputs": [
        {
          "data": {
            "text/html": [
              "<div>\n",
              "<style scoped>\n",
              "    .dataframe tbody tr th:only-of-type {\n",
              "        vertical-align: middle;\n",
              "    }\n",
              "\n",
              "    .dataframe tbody tr th {\n",
              "        vertical-align: top;\n",
              "    }\n",
              "\n",
              "    .dataframe thead th {\n",
              "        text-align: right;\n",
              "    }\n",
              "</style>\n",
              "<table border=\"1\" class=\"dataframe\">\n",
              "  <thead>\n",
              "    <tr style=\"text-align: right;\">\n",
              "      <th></th>\n",
              "      <th>cve</th>\n",
              "      <th>cvss-bt_score</th>\n",
              "      <th>cvss-bt_severity</th>\n",
              "      <th>cvss-bt_vector</th>\n",
              "      <th>cvss_version</th>\n",
              "      <th>base_score</th>\n",
              "      <th>base_severity</th>\n",
              "      <th>base_vector</th>\n",
              "      <th>assigner</th>\n",
              "      <th>published_date</th>\n",
              "      <th>...</th>\n",
              "      <th>poc_github</th>\n",
              "      <th>base_score_category</th>\n",
              "      <th>cvss-bt_score_category</th>\n",
              "      <th>weaponized</th>\n",
              "      <th>kev</th>\n",
              "      <th>poc</th>\n",
              "      <th>exploitation</th>\n",
              "      <th>rbp_score</th>\n",
              "      <th>cvss_vector_dict</th>\n",
              "      <th>Exploitation</th>\n",
              "    </tr>\n",
              "  </thead>\n",
              "  <tbody>\n",
              "    <tr>\n",
              "      <th>0</th>\n",
              "      <td>CVE-1999-0095</td>\n",
              "      <td>9.0</td>\n",
              "      <td>HIGH</td>\n",
              "      <td>AV:N/AC:L/Au:N/C:C/I:C/A:C/E:POC</td>\n",
              "      <td>2.0</td>\n",
              "      <td>10.0</td>\n",
              "      <td>HIGH</td>\n",
              "      <td>AV:N/AC:L/Au:N/C:C/I:C/A:C</td>\n",
              "      <td>cve@mitre.org</td>\n",
              "      <td>1988-10-01T04:00Z</td>\n",
              "      <td>...</td>\n",
              "      <td>False</td>\n",
              "      <td>critical</td>\n",
              "      <td>critical</td>\n",
              "      <td>False</td>\n",
              "      <td>False</td>\n",
              "      <td>True</td>\n",
              "      <td>poc</td>\n",
              "      <td>6</td>\n",
              "      <td>{'AV': 'N', 'AC': 'L', 'Au': 'N', 'C': 'C', 'I...</td>\n",
              "      <td>PoC</td>\n",
              "    </tr>\n",
              "    <tr>\n",
              "      <th>1</th>\n",
              "      <td>CVE-1999-0082</td>\n",
              "      <td>8.5</td>\n",
              "      <td>HIGH</td>\n",
              "      <td>AV:N/AC:L/Au:N/C:C/I:C/A:C/E:U</td>\n",
              "      <td>2.0</td>\n",
              "      <td>10.0</td>\n",
              "      <td>HIGH</td>\n",
              "      <td>AV:N/AC:L/Au:N/C:C/I:C/A:C</td>\n",
              "      <td>cve@mitre.org</td>\n",
              "      <td>1988-11-11T05:00Z</td>\n",
              "      <td>...</td>\n",
              "      <td>False</td>\n",
              "      <td>critical</td>\n",
              "      <td>high</td>\n",
              "      <td>False</td>\n",
              "      <td>False</td>\n",
              "      <td>False</td>\n",
              "      <td>None</td>\n",
              "      <td>4</td>\n",
              "      <td>{'AV': 'N', 'AC': 'L', 'Au': 'N', 'C': 'C', 'I...</td>\n",
              "      <td>none</td>\n",
              "    </tr>\n",
              "    <tr>\n",
              "      <th>2</th>\n",
              "      <td>CVE-1999-1471</td>\n",
              "      <td>6.1</td>\n",
              "      <td>MEDIUM</td>\n",
              "      <td>AV:L/AC:L/Au:N/C:C/I:C/A:C/E:U</td>\n",
              "      <td>2.0</td>\n",
              "      <td>7.2</td>\n",
              "      <td>HIGH</td>\n",
              "      <td>AV:L/AC:L/Au:N/C:C/I:C/A:C</td>\n",
              "      <td>cve@mitre.org</td>\n",
              "      <td>1989-01-01T05:00Z</td>\n",
              "      <td>...</td>\n",
              "      <td>False</td>\n",
              "      <td>high</td>\n",
              "      <td>medium</td>\n",
              "      <td>False</td>\n",
              "      <td>False</td>\n",
              "      <td>False</td>\n",
              "      <td>None</td>\n",
              "      <td>3</td>\n",
              "      <td>{'AV': 'L', 'AC': 'L', 'Au': 'N', 'C': 'C', 'I...</td>\n",
              "      <td>none</td>\n",
              "    </tr>\n",
              "    <tr>\n",
              "      <th>3</th>\n",
              "      <td>CVE-1999-1122</td>\n",
              "      <td>3.9</td>\n",
              "      <td>LOW</td>\n",
              "      <td>AV:L/AC:L/Au:N/C:P/I:P/A:P/E:U</td>\n",
              "      <td>2.0</td>\n",
              "      <td>4.6</td>\n",
              "      <td>MEDIUM</td>\n",
              "      <td>AV:L/AC:L/Au:N/C:P/I:P/A:P</td>\n",
              "      <td>cve@mitre.org</td>\n",
              "      <td>1989-07-26T04:00Z</td>\n",
              "      <td>...</td>\n",
              "      <td>False</td>\n",
              "      <td>medium</td>\n",
              "      <td>low</td>\n",
              "      <td>False</td>\n",
              "      <td>False</td>\n",
              "      <td>False</td>\n",
              "      <td>None</td>\n",
              "      <td>2</td>\n",
              "      <td>{'AV': 'L', 'AC': 'L', 'Au': 'N', 'C': 'P', 'I...</td>\n",
              "      <td>none</td>\n",
              "    </tr>\n",
              "    <tr>\n",
              "      <th>4</th>\n",
              "      <td>CVE-1999-1467</td>\n",
              "      <td>8.5</td>\n",
              "      <td>HIGH</td>\n",
              "      <td>AV:N/AC:L/Au:N/C:C/I:C/A:C/E:U</td>\n",
              "      <td>2.0</td>\n",
              "      <td>10.0</td>\n",
              "      <td>HIGH</td>\n",
              "      <td>AV:N/AC:L/Au:N/C:C/I:C/A:C</td>\n",
              "      <td>cve@mitre.org</td>\n",
              "      <td>1989-10-26T04:00Z</td>\n",
              "      <td>...</td>\n",
              "      <td>False</td>\n",
              "      <td>critical</td>\n",
              "      <td>high</td>\n",
              "      <td>False</td>\n",
              "      <td>False</td>\n",
              "      <td>False</td>\n",
              "      <td>None</td>\n",
              "      <td>4</td>\n",
              "      <td>{'AV': 'N', 'AC': 'L', 'Au': 'N', 'C': 'C', 'I...</td>\n",
              "      <td>none</td>\n",
              "    </tr>\n",
              "    <tr>\n",
              "      <th>...</th>\n",
              "      <td>...</td>\n",
              "      <td>...</td>\n",
              "      <td>...</td>\n",
              "      <td>...</td>\n",
              "      <td>...</td>\n",
              "      <td>...</td>\n",
              "      <td>...</td>\n",
              "      <td>...</td>\n",
              "      <td>...</td>\n",
              "      <td>...</td>\n",
              "      <td>...</td>\n",
              "      <td>...</td>\n",
              "      <td>...</td>\n",
              "      <td>...</td>\n",
              "      <td>...</td>\n",
              "      <td>...</td>\n",
              "      <td>...</td>\n",
              "      <td>...</td>\n",
              "      <td>...</td>\n",
              "      <td>...</td>\n",
              "      <td>...</td>\n",
              "    </tr>\n",
              "    <tr>\n",
              "      <th>240311</th>\n",
              "      <td>CVE-2023-49602</td>\n",
              "      <td>5.0</td>\n",
              "      <td>MEDIUM</td>\n",
              "      <td>CVSS:3.1/AV:N/AC:L/PR:L/UI:R/S:C/C:L/I:L/A:N/E:U</td>\n",
              "      <td>3.1</td>\n",
              "      <td>5.4</td>\n",
              "      <td>MEDIUM</td>\n",
              "      <td>CVSS:3.1/AV:N/AC:L/PR:L/UI:R/S:C/C:L/I:L/A:N</td>\n",
              "      <td>scy@openharmony.io</td>\n",
              "      <td>2024-03-04T07:15Z</td>\n",
              "      <td>...</td>\n",
              "      <td>False</td>\n",
              "      <td>medium</td>\n",
              "      <td>medium</td>\n",
              "      <td>False</td>\n",
              "      <td>False</td>\n",
              "      <td>False</td>\n",
              "      <td>None</td>\n",
              "      <td>2</td>\n",
              "      <td>{'CVSS': '3.1', 'AV': 'N', 'AC': 'L', 'PR': 'L...</td>\n",
              "      <td>none</td>\n",
              "    </tr>\n",
              "    <tr>\n",
              "      <th>240312</th>\n",
              "      <td>CVE-2024-21816</td>\n",
              "      <td>9.0</td>\n",
              "      <td>CRITICAL</td>\n",
              "      <td>CVSS:3.1/AV:N/AC:L/PR:N/UI:N/S:U/C:H/I:H/A:H/E:U</td>\n",
              "      <td>3.1</td>\n",
              "      <td>9.8</td>\n",
              "      <td>CRITICAL</td>\n",
              "      <td>CVSS:3.1/AV:N/AC:L/PR:N/UI:N/S:U/C:H/I:H/A:H</td>\n",
              "      <td>scy@openharmony.io</td>\n",
              "      <td>2024-03-04T07:15Z</td>\n",
              "      <td>...</td>\n",
              "      <td>False</td>\n",
              "      <td>critical</td>\n",
              "      <td>critical</td>\n",
              "      <td>False</td>\n",
              "      <td>False</td>\n",
              "      <td>False</td>\n",
              "      <td>None</td>\n",
              "      <td>4</td>\n",
              "      <td>{'CVSS': '3.1', 'AV': 'N', 'AC': 'L', 'PR': 'N...</td>\n",
              "      <td>none</td>\n",
              "    </tr>\n",
              "    <tr>\n",
              "      <th>240313</th>\n",
              "      <td>CVE-2024-21826</td>\n",
              "      <td>7.3</td>\n",
              "      <td>HIGH</td>\n",
              "      <td>CVSS:3.1/AV:A/AC:L/PR:L/UI:N/S:U/C:H/I:H/A:H/E:U</td>\n",
              "      <td>3.1</td>\n",
              "      <td>8.0</td>\n",
              "      <td>HIGH</td>\n",
              "      <td>CVSS:3.1/AV:A/AC:L/PR:L/UI:N/S:U/C:H/I:H/A:H</td>\n",
              "      <td>scy@openharmony.io</td>\n",
              "      <td>2024-03-04T07:15Z</td>\n",
              "      <td>...</td>\n",
              "      <td>False</td>\n",
              "      <td>high</td>\n",
              "      <td>high</td>\n",
              "      <td>False</td>\n",
              "      <td>False</td>\n",
              "      <td>False</td>\n",
              "      <td>None</td>\n",
              "      <td>3</td>\n",
              "      <td>{'CVSS': '3.1', 'AV': 'A', 'AC': 'L', 'PR': 'L...</td>\n",
              "      <td>none</td>\n",
              "    </tr>\n",
              "    <tr>\n",
              "      <th>240314</th>\n",
              "      <td>CVE-2023-46708</td>\n",
              "      <td>9.0</td>\n",
              "      <td>CRITICAL</td>\n",
              "      <td>CVSS:3.1/AV:N/AC:L/PR:N/UI:N/S:U/C:H/I:H/A:H/E:U</td>\n",
              "      <td>3.1</td>\n",
              "      <td>9.8</td>\n",
              "      <td>CRITICAL</td>\n",
              "      <td>CVSS:3.1/AV:N/AC:L/PR:N/UI:N/S:U/C:H/I:H/A:H</td>\n",
              "      <td>scy@openharmony.io</td>\n",
              "      <td>2024-03-04T07:15Z</td>\n",
              "      <td>...</td>\n",
              "      <td>False</td>\n",
              "      <td>critical</td>\n",
              "      <td>critical</td>\n",
              "      <td>False</td>\n",
              "      <td>False</td>\n",
              "      <td>False</td>\n",
              "      <td>None</td>\n",
              "      <td>4</td>\n",
              "      <td>{'CVSS': '3.1', 'AV': 'N', 'AC': 'L', 'PR': 'N...</td>\n",
              "      <td>none</td>\n",
              "    </tr>\n",
              "    <tr>\n",
              "      <th>240315</th>\n",
              "      <td>CVE-2023-25176</td>\n",
              "      <td>5.1</td>\n",
              "      <td>MEDIUM</td>\n",
              "      <td>CVSS:3.1/AV:L/AC:L/PR:L/UI:N/S:U/C:H/I:N/A:N/E:U</td>\n",
              "      <td>3.1</td>\n",
              "      <td>5.5</td>\n",
              "      <td>MEDIUM</td>\n",
              "      <td>CVSS:3.1/AV:L/AC:L/PR:L/UI:N/S:U/C:H/I:N/A:N</td>\n",
              "      <td>scy@openharmony.io</td>\n",
              "      <td>2024-03-04T07:15Z</td>\n",
              "      <td>...</td>\n",
              "      <td>False</td>\n",
              "      <td>medium</td>\n",
              "      <td>medium</td>\n",
              "      <td>False</td>\n",
              "      <td>False</td>\n",
              "      <td>False</td>\n",
              "      <td>None</td>\n",
              "      <td>2</td>\n",
              "      <td>{'CVSS': '3.1', 'AV': 'L', 'AC': 'L', 'PR': 'L...</td>\n",
              "      <td>none</td>\n",
              "    </tr>\n",
              "  </tbody>\n",
              "</table>\n",
              "<p>240277 rows × 26 columns</p>\n",
              "</div>"
            ],
            "text/plain": [
              "                   cve  cvss-bt_score cvss-bt_severity  \\\n",
              "0        CVE-1999-0095            9.0             HIGH   \n",
              "1        CVE-1999-0082            8.5             HIGH   \n",
              "2        CVE-1999-1471            6.1           MEDIUM   \n",
              "3        CVE-1999-1122            3.9              LOW   \n",
              "4        CVE-1999-1467            8.5             HIGH   \n",
              "...                ...            ...              ...   \n",
              "240311  CVE-2023-49602            5.0           MEDIUM   \n",
              "240312  CVE-2024-21816            9.0         CRITICAL   \n",
              "240313  CVE-2024-21826            7.3             HIGH   \n",
              "240314  CVE-2023-46708            9.0         CRITICAL   \n",
              "240315  CVE-2023-25176            5.1           MEDIUM   \n",
              "\n",
              "                                          cvss-bt_vector  cvss_version  \\\n",
              "0                       AV:N/AC:L/Au:N/C:C/I:C/A:C/E:POC           2.0   \n",
              "1                         AV:N/AC:L/Au:N/C:C/I:C/A:C/E:U           2.0   \n",
              "2                         AV:L/AC:L/Au:N/C:C/I:C/A:C/E:U           2.0   \n",
              "3                         AV:L/AC:L/Au:N/C:P/I:P/A:P/E:U           2.0   \n",
              "4                         AV:N/AC:L/Au:N/C:C/I:C/A:C/E:U           2.0   \n",
              "...                                                  ...           ...   \n",
              "240311  CVSS:3.1/AV:N/AC:L/PR:L/UI:R/S:C/C:L/I:L/A:N/E:U           3.1   \n",
              "240312  CVSS:3.1/AV:N/AC:L/PR:N/UI:N/S:U/C:H/I:H/A:H/E:U           3.1   \n",
              "240313  CVSS:3.1/AV:A/AC:L/PR:L/UI:N/S:U/C:H/I:H/A:H/E:U           3.1   \n",
              "240314  CVSS:3.1/AV:N/AC:L/PR:N/UI:N/S:U/C:H/I:H/A:H/E:U           3.1   \n",
              "240315  CVSS:3.1/AV:L/AC:L/PR:L/UI:N/S:U/C:H/I:N/A:N/E:U           3.1   \n",
              "\n",
              "        base_score base_severity  \\\n",
              "0             10.0          HIGH   \n",
              "1             10.0          HIGH   \n",
              "2              7.2          HIGH   \n",
              "3              4.6        MEDIUM   \n",
              "4             10.0          HIGH   \n",
              "...            ...           ...   \n",
              "240311         5.4        MEDIUM   \n",
              "240312         9.8      CRITICAL   \n",
              "240313         8.0          HIGH   \n",
              "240314         9.8      CRITICAL   \n",
              "240315         5.5        MEDIUM   \n",
              "\n",
              "                                         base_vector            assigner  \\\n",
              "0                         AV:N/AC:L/Au:N/C:C/I:C/A:C       cve@mitre.org   \n",
              "1                         AV:N/AC:L/Au:N/C:C/I:C/A:C       cve@mitre.org   \n",
              "2                         AV:L/AC:L/Au:N/C:C/I:C/A:C       cve@mitre.org   \n",
              "3                         AV:L/AC:L/Au:N/C:P/I:P/A:P       cve@mitre.org   \n",
              "4                         AV:N/AC:L/Au:N/C:C/I:C/A:C       cve@mitre.org   \n",
              "...                                              ...                 ...   \n",
              "240311  CVSS:3.1/AV:N/AC:L/PR:L/UI:R/S:C/C:L/I:L/A:N  scy@openharmony.io   \n",
              "240312  CVSS:3.1/AV:N/AC:L/PR:N/UI:N/S:U/C:H/I:H/A:H  scy@openharmony.io   \n",
              "240313  CVSS:3.1/AV:A/AC:L/PR:L/UI:N/S:U/C:H/I:H/A:H  scy@openharmony.io   \n",
              "240314  CVSS:3.1/AV:N/AC:L/PR:N/UI:N/S:U/C:H/I:H/A:H  scy@openharmony.io   \n",
              "240315  CVSS:3.1/AV:L/AC:L/PR:L/UI:N/S:U/C:H/I:N/A:N  scy@openharmony.io   \n",
              "\n",
              "           published_date  ...  poc_github  base_score_category  \\\n",
              "0       1988-10-01T04:00Z  ...       False             critical   \n",
              "1       1988-11-11T05:00Z  ...       False             critical   \n",
              "2       1989-01-01T05:00Z  ...       False                 high   \n",
              "3       1989-07-26T04:00Z  ...       False               medium   \n",
              "4       1989-10-26T04:00Z  ...       False             critical   \n",
              "...                   ...  ...         ...                  ...   \n",
              "240311  2024-03-04T07:15Z  ...       False               medium   \n",
              "240312  2024-03-04T07:15Z  ...       False             critical   \n",
              "240313  2024-03-04T07:15Z  ...       False                 high   \n",
              "240314  2024-03-04T07:15Z  ...       False             critical   \n",
              "240315  2024-03-04T07:15Z  ...       False               medium   \n",
              "\n",
              "        cvss-bt_score_category  weaponized    kev    poc  exploitation  \\\n",
              "0                     critical       False  False   True           poc   \n",
              "1                         high       False  False  False          None   \n",
              "2                       medium       False  False  False          None   \n",
              "3                          low       False  False  False          None   \n",
              "4                         high       False  False  False          None   \n",
              "...                        ...         ...    ...    ...           ...   \n",
              "240311                  medium       False  False  False          None   \n",
              "240312                critical       False  False  False          None   \n",
              "240313                    high       False  False  False          None   \n",
              "240314                critical       False  False  False          None   \n",
              "240315                  medium       False  False  False          None   \n",
              "\n",
              "       rbp_score                                   cvss_vector_dict  \\\n",
              "0              6  {'AV': 'N', 'AC': 'L', 'Au': 'N', 'C': 'C', 'I...   \n",
              "1              4  {'AV': 'N', 'AC': 'L', 'Au': 'N', 'C': 'C', 'I...   \n",
              "2              3  {'AV': 'L', 'AC': 'L', 'Au': 'N', 'C': 'C', 'I...   \n",
              "3              2  {'AV': 'L', 'AC': 'L', 'Au': 'N', 'C': 'P', 'I...   \n",
              "4              4  {'AV': 'N', 'AC': 'L', 'Au': 'N', 'C': 'C', 'I...   \n",
              "...          ...                                                ...   \n",
              "240311         2  {'CVSS': '3.1', 'AV': 'N', 'AC': 'L', 'PR': 'L...   \n",
              "240312         4  {'CVSS': '3.1', 'AV': 'N', 'AC': 'L', 'PR': 'N...   \n",
              "240313         3  {'CVSS': '3.1', 'AV': 'A', 'AC': 'L', 'PR': 'L...   \n",
              "240314         4  {'CVSS': '3.1', 'AV': 'N', 'AC': 'L', 'PR': 'N...   \n",
              "240315         2  {'CVSS': '3.1', 'AV': 'L', 'AC': 'L', 'PR': 'L...   \n",
              "\n",
              "        Exploitation  \n",
              "0                PoC  \n",
              "1               none  \n",
              "2               none  \n",
              "3               none  \n",
              "4               none  \n",
              "...              ...  \n",
              "240311          none  \n",
              "240312          none  \n",
              "240313          none  \n",
              "240314          none  \n",
              "240315          none  \n",
              "\n",
              "[240277 rows x 26 columns]"
            ]
          },
          "execution_count": 137,
          "metadata": {},
          "output_type": "execute_result"
        }
      ],
      "source": [
        "df['Exploitation'] = df.apply(exploitation_dt, axis=1)\n",
        "df"
      ]
    },
    {
      "cell_type": "code",
      "execution_count": 138,
      "metadata": {
        "colab": {
          "base_uri": "https://localhost:8080/"
        },
        "id": "KjNiEkYJARnD",
        "outputId": "f2e8e9d1-369d-4e0d-d38c-4fd1884c54af"
      },
      "outputs": [
        {
          "data": {
            "text/plain": [
              "3.1    117222\n",
              "2.0     76106\n",
              "3.0     46949\n",
              "Name: cvss_version, dtype: int64"
            ]
          },
          "execution_count": 138,
          "metadata": {},
          "output_type": "execute_result"
        }
      ],
      "source": [
        "df.cvss_version.value_counts()"
      ]
    },
    {
      "cell_type": "code",
      "execution_count": 139,
      "metadata": {
        "id": "255ms6kRARnD"
      },
      "outputs": [],
      "source": [
        "#V3 base score parameters\n",
        "#https://www.first.org/cvss/v3-1/ or https://www.first.org/cvss/v3-0\n",
        "#Low (L)\n",
        "#'availabilityImpact/'confidentialityImpact', 'integrityImpact'}\n",
        "#High (H)\n",
        "#None (N)\n",
        "\n",
        "#https://www.first.org/cvss/v2/guide\n",
        "#Confidentiality/Integrity/Availability:\n",
        "#None (N)\n",
        "#Partial (P)\n",
        "#Complete (C)\n",
        "\n",
        "# Function to determine impact\n",
        "def technical_impact_dt(cvss_dict):\n",
        "    if (('CVSS' in cvss_dict and ((cvss_dict['CVSS'] == '3.1' ) | (cvss_dict['CVSS'] == '3.0')) and  (cvss_dict['C'] == 'H') and (cvss_dict['I'] == 'H')))  or (('C' in cvss_dict and cvss_dict['C'] == 'C') and ('I' in cvss_dict and cvss_dict['I'] == 'C')):\n",
        "        return \"total\"\n",
        "    else:\n",
        "        return \"partial\"\n"
      ]
    },
    {
      "cell_type": "code",
      "execution_count": 140,
      "metadata": {
        "colab": {
          "base_uri": "https://localhost:8080/",
          "height": 808
        },
        "id": "uSr5NVoxARnD",
        "outputId": "973a5551-38bc-455a-833b-260965800df9"
      },
      "outputs": [
        {
          "data": {
            "text/html": [
              "<div>\n",
              "<style scoped>\n",
              "    .dataframe tbody tr th:only-of-type {\n",
              "        vertical-align: middle;\n",
              "    }\n",
              "\n",
              "    .dataframe tbody tr th {\n",
              "        vertical-align: top;\n",
              "    }\n",
              "\n",
              "    .dataframe thead th {\n",
              "        text-align: right;\n",
              "    }\n",
              "</style>\n",
              "<table border=\"1\" class=\"dataframe\">\n",
              "  <thead>\n",
              "    <tr style=\"text-align: right;\">\n",
              "      <th></th>\n",
              "      <th>cve</th>\n",
              "      <th>cvss-bt_score</th>\n",
              "      <th>cvss-bt_severity</th>\n",
              "      <th>cvss-bt_vector</th>\n",
              "      <th>cvss_version</th>\n",
              "      <th>base_score</th>\n",
              "      <th>base_severity</th>\n",
              "      <th>base_vector</th>\n",
              "      <th>assigner</th>\n",
              "      <th>published_date</th>\n",
              "      <th>...</th>\n",
              "      <th>base_score_category</th>\n",
              "      <th>cvss-bt_score_category</th>\n",
              "      <th>weaponized</th>\n",
              "      <th>kev</th>\n",
              "      <th>poc</th>\n",
              "      <th>exploitation</th>\n",
              "      <th>rbp_score</th>\n",
              "      <th>cvss_vector_dict</th>\n",
              "      <th>Exploitation</th>\n",
              "      <th>TechnicalImpact</th>\n",
              "    </tr>\n",
              "  </thead>\n",
              "  <tbody>\n",
              "    <tr>\n",
              "      <th>0</th>\n",
              "      <td>CVE-1999-0095</td>\n",
              "      <td>9.0</td>\n",
              "      <td>HIGH</td>\n",
              "      <td>AV:N/AC:L/Au:N/C:C/I:C/A:C/E:POC</td>\n",
              "      <td>2.0</td>\n",
              "      <td>10.0</td>\n",
              "      <td>HIGH</td>\n",
              "      <td>AV:N/AC:L/Au:N/C:C/I:C/A:C</td>\n",
              "      <td>cve@mitre.org</td>\n",
              "      <td>1988-10-01T04:00Z</td>\n",
              "      <td>...</td>\n",
              "      <td>critical</td>\n",
              "      <td>critical</td>\n",
              "      <td>False</td>\n",
              "      <td>False</td>\n",
              "      <td>True</td>\n",
              "      <td>poc</td>\n",
              "      <td>6</td>\n",
              "      <td>{'AV': 'N', 'AC': 'L', 'Au': 'N', 'C': 'C', 'I...</td>\n",
              "      <td>PoC</td>\n",
              "      <td>total</td>\n",
              "    </tr>\n",
              "    <tr>\n",
              "      <th>1</th>\n",
              "      <td>CVE-1999-0082</td>\n",
              "      <td>8.5</td>\n",
              "      <td>HIGH</td>\n",
              "      <td>AV:N/AC:L/Au:N/C:C/I:C/A:C/E:U</td>\n",
              "      <td>2.0</td>\n",
              "      <td>10.0</td>\n",
              "      <td>HIGH</td>\n",
              "      <td>AV:N/AC:L/Au:N/C:C/I:C/A:C</td>\n",
              "      <td>cve@mitre.org</td>\n",
              "      <td>1988-11-11T05:00Z</td>\n",
              "      <td>...</td>\n",
              "      <td>critical</td>\n",
              "      <td>high</td>\n",
              "      <td>False</td>\n",
              "      <td>False</td>\n",
              "      <td>False</td>\n",
              "      <td>None</td>\n",
              "      <td>4</td>\n",
              "      <td>{'AV': 'N', 'AC': 'L', 'Au': 'N', 'C': 'C', 'I...</td>\n",
              "      <td>none</td>\n",
              "      <td>total</td>\n",
              "    </tr>\n",
              "    <tr>\n",
              "      <th>2</th>\n",
              "      <td>CVE-1999-1471</td>\n",
              "      <td>6.1</td>\n",
              "      <td>MEDIUM</td>\n",
              "      <td>AV:L/AC:L/Au:N/C:C/I:C/A:C/E:U</td>\n",
              "      <td>2.0</td>\n",
              "      <td>7.2</td>\n",
              "      <td>HIGH</td>\n",
              "      <td>AV:L/AC:L/Au:N/C:C/I:C/A:C</td>\n",
              "      <td>cve@mitre.org</td>\n",
              "      <td>1989-01-01T05:00Z</td>\n",
              "      <td>...</td>\n",
              "      <td>high</td>\n",
              "      <td>medium</td>\n",
              "      <td>False</td>\n",
              "      <td>False</td>\n",
              "      <td>False</td>\n",
              "      <td>None</td>\n",
              "      <td>3</td>\n",
              "      <td>{'AV': 'L', 'AC': 'L', 'Au': 'N', 'C': 'C', 'I...</td>\n",
              "      <td>none</td>\n",
              "      <td>total</td>\n",
              "    </tr>\n",
              "    <tr>\n",
              "      <th>3</th>\n",
              "      <td>CVE-1999-1122</td>\n",
              "      <td>3.9</td>\n",
              "      <td>LOW</td>\n",
              "      <td>AV:L/AC:L/Au:N/C:P/I:P/A:P/E:U</td>\n",
              "      <td>2.0</td>\n",
              "      <td>4.6</td>\n",
              "      <td>MEDIUM</td>\n",
              "      <td>AV:L/AC:L/Au:N/C:P/I:P/A:P</td>\n",
              "      <td>cve@mitre.org</td>\n",
              "      <td>1989-07-26T04:00Z</td>\n",
              "      <td>...</td>\n",
              "      <td>medium</td>\n",
              "      <td>low</td>\n",
              "      <td>False</td>\n",
              "      <td>False</td>\n",
              "      <td>False</td>\n",
              "      <td>None</td>\n",
              "      <td>2</td>\n",
              "      <td>{'AV': 'L', 'AC': 'L', 'Au': 'N', 'C': 'P', 'I...</td>\n",
              "      <td>none</td>\n",
              "      <td>partial</td>\n",
              "    </tr>\n",
              "    <tr>\n",
              "      <th>4</th>\n",
              "      <td>CVE-1999-1467</td>\n",
              "      <td>8.5</td>\n",
              "      <td>HIGH</td>\n",
              "      <td>AV:N/AC:L/Au:N/C:C/I:C/A:C/E:U</td>\n",
              "      <td>2.0</td>\n",
              "      <td>10.0</td>\n",
              "      <td>HIGH</td>\n",
              "      <td>AV:N/AC:L/Au:N/C:C/I:C/A:C</td>\n",
              "      <td>cve@mitre.org</td>\n",
              "      <td>1989-10-26T04:00Z</td>\n",
              "      <td>...</td>\n",
              "      <td>critical</td>\n",
              "      <td>high</td>\n",
              "      <td>False</td>\n",
              "      <td>False</td>\n",
              "      <td>False</td>\n",
              "      <td>None</td>\n",
              "      <td>4</td>\n",
              "      <td>{'AV': 'N', 'AC': 'L', 'Au': 'N', 'C': 'C', 'I...</td>\n",
              "      <td>none</td>\n",
              "      <td>total</td>\n",
              "    </tr>\n",
              "    <tr>\n",
              "      <th>...</th>\n",
              "      <td>...</td>\n",
              "      <td>...</td>\n",
              "      <td>...</td>\n",
              "      <td>...</td>\n",
              "      <td>...</td>\n",
              "      <td>...</td>\n",
              "      <td>...</td>\n",
              "      <td>...</td>\n",
              "      <td>...</td>\n",
              "      <td>...</td>\n",
              "      <td>...</td>\n",
              "      <td>...</td>\n",
              "      <td>...</td>\n",
              "      <td>...</td>\n",
              "      <td>...</td>\n",
              "      <td>...</td>\n",
              "      <td>...</td>\n",
              "      <td>...</td>\n",
              "      <td>...</td>\n",
              "      <td>...</td>\n",
              "      <td>...</td>\n",
              "    </tr>\n",
              "    <tr>\n",
              "      <th>240311</th>\n",
              "      <td>CVE-2023-49602</td>\n",
              "      <td>5.0</td>\n",
              "      <td>MEDIUM</td>\n",
              "      <td>CVSS:3.1/AV:N/AC:L/PR:L/UI:R/S:C/C:L/I:L/A:N/E:U</td>\n",
              "      <td>3.1</td>\n",
              "      <td>5.4</td>\n",
              "      <td>MEDIUM</td>\n",
              "      <td>CVSS:3.1/AV:N/AC:L/PR:L/UI:R/S:C/C:L/I:L/A:N</td>\n",
              "      <td>scy@openharmony.io</td>\n",
              "      <td>2024-03-04T07:15Z</td>\n",
              "      <td>...</td>\n",
              "      <td>medium</td>\n",
              "      <td>medium</td>\n",
              "      <td>False</td>\n",
              "      <td>False</td>\n",
              "      <td>False</td>\n",
              "      <td>None</td>\n",
              "      <td>2</td>\n",
              "      <td>{'CVSS': '3.1', 'AV': 'N', 'AC': 'L', 'PR': 'L...</td>\n",
              "      <td>none</td>\n",
              "      <td>partial</td>\n",
              "    </tr>\n",
              "    <tr>\n",
              "      <th>240312</th>\n",
              "      <td>CVE-2024-21816</td>\n",
              "      <td>9.0</td>\n",
              "      <td>CRITICAL</td>\n",
              "      <td>CVSS:3.1/AV:N/AC:L/PR:N/UI:N/S:U/C:H/I:H/A:H/E:U</td>\n",
              "      <td>3.1</td>\n",
              "      <td>9.8</td>\n",
              "      <td>CRITICAL</td>\n",
              "      <td>CVSS:3.1/AV:N/AC:L/PR:N/UI:N/S:U/C:H/I:H/A:H</td>\n",
              "      <td>scy@openharmony.io</td>\n",
              "      <td>2024-03-04T07:15Z</td>\n",
              "      <td>...</td>\n",
              "      <td>critical</td>\n",
              "      <td>critical</td>\n",
              "      <td>False</td>\n",
              "      <td>False</td>\n",
              "      <td>False</td>\n",
              "      <td>None</td>\n",
              "      <td>4</td>\n",
              "      <td>{'CVSS': '3.1', 'AV': 'N', 'AC': 'L', 'PR': 'N...</td>\n",
              "      <td>none</td>\n",
              "      <td>total</td>\n",
              "    </tr>\n",
              "    <tr>\n",
              "      <th>240313</th>\n",
              "      <td>CVE-2024-21826</td>\n",
              "      <td>7.3</td>\n",
              "      <td>HIGH</td>\n",
              "      <td>CVSS:3.1/AV:A/AC:L/PR:L/UI:N/S:U/C:H/I:H/A:H/E:U</td>\n",
              "      <td>3.1</td>\n",
              "      <td>8.0</td>\n",
              "      <td>HIGH</td>\n",
              "      <td>CVSS:3.1/AV:A/AC:L/PR:L/UI:N/S:U/C:H/I:H/A:H</td>\n",
              "      <td>scy@openharmony.io</td>\n",
              "      <td>2024-03-04T07:15Z</td>\n",
              "      <td>...</td>\n",
              "      <td>high</td>\n",
              "      <td>high</td>\n",
              "      <td>False</td>\n",
              "      <td>False</td>\n",
              "      <td>False</td>\n",
              "      <td>None</td>\n",
              "      <td>3</td>\n",
              "      <td>{'CVSS': '3.1', 'AV': 'A', 'AC': 'L', 'PR': 'L...</td>\n",
              "      <td>none</td>\n",
              "      <td>total</td>\n",
              "    </tr>\n",
              "    <tr>\n",
              "      <th>240314</th>\n",
              "      <td>CVE-2023-46708</td>\n",
              "      <td>9.0</td>\n",
              "      <td>CRITICAL</td>\n",
              "      <td>CVSS:3.1/AV:N/AC:L/PR:N/UI:N/S:U/C:H/I:H/A:H/E:U</td>\n",
              "      <td>3.1</td>\n",
              "      <td>9.8</td>\n",
              "      <td>CRITICAL</td>\n",
              "      <td>CVSS:3.1/AV:N/AC:L/PR:N/UI:N/S:U/C:H/I:H/A:H</td>\n",
              "      <td>scy@openharmony.io</td>\n",
              "      <td>2024-03-04T07:15Z</td>\n",
              "      <td>...</td>\n",
              "      <td>critical</td>\n",
              "      <td>critical</td>\n",
              "      <td>False</td>\n",
              "      <td>False</td>\n",
              "      <td>False</td>\n",
              "      <td>None</td>\n",
              "      <td>4</td>\n",
              "      <td>{'CVSS': '3.1', 'AV': 'N', 'AC': 'L', 'PR': 'N...</td>\n",
              "      <td>none</td>\n",
              "      <td>total</td>\n",
              "    </tr>\n",
              "    <tr>\n",
              "      <th>240315</th>\n",
              "      <td>CVE-2023-25176</td>\n",
              "      <td>5.1</td>\n",
              "      <td>MEDIUM</td>\n",
              "      <td>CVSS:3.1/AV:L/AC:L/PR:L/UI:N/S:U/C:H/I:N/A:N/E:U</td>\n",
              "      <td>3.1</td>\n",
              "      <td>5.5</td>\n",
              "      <td>MEDIUM</td>\n",
              "      <td>CVSS:3.1/AV:L/AC:L/PR:L/UI:N/S:U/C:H/I:N/A:N</td>\n",
              "      <td>scy@openharmony.io</td>\n",
              "      <td>2024-03-04T07:15Z</td>\n",
              "      <td>...</td>\n",
              "      <td>medium</td>\n",
              "      <td>medium</td>\n",
              "      <td>False</td>\n",
              "      <td>False</td>\n",
              "      <td>False</td>\n",
              "      <td>None</td>\n",
              "      <td>2</td>\n",
              "      <td>{'CVSS': '3.1', 'AV': 'L', 'AC': 'L', 'PR': 'L...</td>\n",
              "      <td>none</td>\n",
              "      <td>partial</td>\n",
              "    </tr>\n",
              "  </tbody>\n",
              "</table>\n",
              "<p>240277 rows × 27 columns</p>\n",
              "</div>"
            ],
            "text/plain": [
              "                   cve  cvss-bt_score cvss-bt_severity  \\\n",
              "0        CVE-1999-0095            9.0             HIGH   \n",
              "1        CVE-1999-0082            8.5             HIGH   \n",
              "2        CVE-1999-1471            6.1           MEDIUM   \n",
              "3        CVE-1999-1122            3.9              LOW   \n",
              "4        CVE-1999-1467            8.5             HIGH   \n",
              "...                ...            ...              ...   \n",
              "240311  CVE-2023-49602            5.0           MEDIUM   \n",
              "240312  CVE-2024-21816            9.0         CRITICAL   \n",
              "240313  CVE-2024-21826            7.3             HIGH   \n",
              "240314  CVE-2023-46708            9.0         CRITICAL   \n",
              "240315  CVE-2023-25176            5.1           MEDIUM   \n",
              "\n",
              "                                          cvss-bt_vector  cvss_version  \\\n",
              "0                       AV:N/AC:L/Au:N/C:C/I:C/A:C/E:POC           2.0   \n",
              "1                         AV:N/AC:L/Au:N/C:C/I:C/A:C/E:U           2.0   \n",
              "2                         AV:L/AC:L/Au:N/C:C/I:C/A:C/E:U           2.0   \n",
              "3                         AV:L/AC:L/Au:N/C:P/I:P/A:P/E:U           2.0   \n",
              "4                         AV:N/AC:L/Au:N/C:C/I:C/A:C/E:U           2.0   \n",
              "...                                                  ...           ...   \n",
              "240311  CVSS:3.1/AV:N/AC:L/PR:L/UI:R/S:C/C:L/I:L/A:N/E:U           3.1   \n",
              "240312  CVSS:3.1/AV:N/AC:L/PR:N/UI:N/S:U/C:H/I:H/A:H/E:U           3.1   \n",
              "240313  CVSS:3.1/AV:A/AC:L/PR:L/UI:N/S:U/C:H/I:H/A:H/E:U           3.1   \n",
              "240314  CVSS:3.1/AV:N/AC:L/PR:N/UI:N/S:U/C:H/I:H/A:H/E:U           3.1   \n",
              "240315  CVSS:3.1/AV:L/AC:L/PR:L/UI:N/S:U/C:H/I:N/A:N/E:U           3.1   \n",
              "\n",
              "        base_score base_severity  \\\n",
              "0             10.0          HIGH   \n",
              "1             10.0          HIGH   \n",
              "2              7.2          HIGH   \n",
              "3              4.6        MEDIUM   \n",
              "4             10.0          HIGH   \n",
              "...            ...           ...   \n",
              "240311         5.4        MEDIUM   \n",
              "240312         9.8      CRITICAL   \n",
              "240313         8.0          HIGH   \n",
              "240314         9.8      CRITICAL   \n",
              "240315         5.5        MEDIUM   \n",
              "\n",
              "                                         base_vector            assigner  \\\n",
              "0                         AV:N/AC:L/Au:N/C:C/I:C/A:C       cve@mitre.org   \n",
              "1                         AV:N/AC:L/Au:N/C:C/I:C/A:C       cve@mitre.org   \n",
              "2                         AV:L/AC:L/Au:N/C:C/I:C/A:C       cve@mitre.org   \n",
              "3                         AV:L/AC:L/Au:N/C:P/I:P/A:P       cve@mitre.org   \n",
              "4                         AV:N/AC:L/Au:N/C:C/I:C/A:C       cve@mitre.org   \n",
              "...                                              ...                 ...   \n",
              "240311  CVSS:3.1/AV:N/AC:L/PR:L/UI:R/S:C/C:L/I:L/A:N  scy@openharmony.io   \n",
              "240312  CVSS:3.1/AV:N/AC:L/PR:N/UI:N/S:U/C:H/I:H/A:H  scy@openharmony.io   \n",
              "240313  CVSS:3.1/AV:A/AC:L/PR:L/UI:N/S:U/C:H/I:H/A:H  scy@openharmony.io   \n",
              "240314  CVSS:3.1/AV:N/AC:L/PR:N/UI:N/S:U/C:H/I:H/A:H  scy@openharmony.io   \n",
              "240315  CVSS:3.1/AV:L/AC:L/PR:L/UI:N/S:U/C:H/I:N/A:N  scy@openharmony.io   \n",
              "\n",
              "           published_date  ...  base_score_category  cvss-bt_score_category  \\\n",
              "0       1988-10-01T04:00Z  ...             critical                critical   \n",
              "1       1988-11-11T05:00Z  ...             critical                    high   \n",
              "2       1989-01-01T05:00Z  ...                 high                  medium   \n",
              "3       1989-07-26T04:00Z  ...               medium                     low   \n",
              "4       1989-10-26T04:00Z  ...             critical                    high   \n",
              "...                   ...  ...                  ...                     ...   \n",
              "240311  2024-03-04T07:15Z  ...               medium                  medium   \n",
              "240312  2024-03-04T07:15Z  ...             critical                critical   \n",
              "240313  2024-03-04T07:15Z  ...                 high                    high   \n",
              "240314  2024-03-04T07:15Z  ...             critical                critical   \n",
              "240315  2024-03-04T07:15Z  ...               medium                  medium   \n",
              "\n",
              "        weaponized    kev    poc  exploitation  rbp_score  \\\n",
              "0            False  False   True           poc          6   \n",
              "1            False  False  False          None          4   \n",
              "2            False  False  False          None          3   \n",
              "3            False  False  False          None          2   \n",
              "4            False  False  False          None          4   \n",
              "...            ...    ...    ...           ...        ...   \n",
              "240311       False  False  False          None          2   \n",
              "240312       False  False  False          None          4   \n",
              "240313       False  False  False          None          3   \n",
              "240314       False  False  False          None          4   \n",
              "240315       False  False  False          None          2   \n",
              "\n",
              "                                         cvss_vector_dict Exploitation  \\\n",
              "0       {'AV': 'N', 'AC': 'L', 'Au': 'N', 'C': 'C', 'I...          PoC   \n",
              "1       {'AV': 'N', 'AC': 'L', 'Au': 'N', 'C': 'C', 'I...         none   \n",
              "2       {'AV': 'L', 'AC': 'L', 'Au': 'N', 'C': 'C', 'I...         none   \n",
              "3       {'AV': 'L', 'AC': 'L', 'Au': 'N', 'C': 'P', 'I...         none   \n",
              "4       {'AV': 'N', 'AC': 'L', 'Au': 'N', 'C': 'C', 'I...         none   \n",
              "...                                                   ...          ...   \n",
              "240311  {'CVSS': '3.1', 'AV': 'N', 'AC': 'L', 'PR': 'L...         none   \n",
              "240312  {'CVSS': '3.1', 'AV': 'N', 'AC': 'L', 'PR': 'N...         none   \n",
              "240313  {'CVSS': '3.1', 'AV': 'A', 'AC': 'L', 'PR': 'L...         none   \n",
              "240314  {'CVSS': '3.1', 'AV': 'N', 'AC': 'L', 'PR': 'N...         none   \n",
              "240315  {'CVSS': '3.1', 'AV': 'L', 'AC': 'L', 'PR': 'L...         none   \n",
              "\n",
              "        TechnicalImpact  \n",
              "0                 total  \n",
              "1                 total  \n",
              "2                 total  \n",
              "3               partial  \n",
              "4                 total  \n",
              "...                 ...  \n",
              "240311          partial  \n",
              "240312            total  \n",
              "240313            total  \n",
              "240314            total  \n",
              "240315          partial  \n",
              "\n",
              "[240277 rows x 27 columns]"
            ]
          },
          "execution_count": 140,
          "metadata": {},
          "output_type": "execute_result"
        }
      ],
      "source": [
        "df['TechnicalImpact'] = df['cvss_vector_dict'].apply(technical_impact_dt)\n",
        "df\n"
      ]
    },
    {
      "cell_type": "markdown",
      "metadata": {
        "id": "cc6ZFGnuARnD"
      },
      "source": [
        "````\n",
        "https://www.first.org/cvss/v3-1/V3 base score parameters\n",
        "Low (L)\n",
        "'availabilityImpact/'confidentialityImpact', 'integrityImpact'}\n",
        "High (H)\n",
        "None (N)\n",
        "\n",
        "'attackComplexity' AC\n",
        "Low (L)\n",
        "High (H)\n",
        "\n",
        "'attackVector', AV\n",
        "Local (L)\n",
        "Adjacent Network (A)\n",
        "Network (N)\n",
        "Physical (P)\n",
        "\n",
        "'userInteraction', UI\n",
        "None (N)\n",
        "Required (R)\n",
        "\n",
        "'privilegesRequired',  PR            \n",
        "Low (L)\n",
        "High (H)\n",
        "None (N)\n",
        "\n",
        "\n",
        "https://www.first.org/cvss/v2/guide\n",
        "\n",
        "Access Vector (AV):\n",
        "Local (L)\n",
        "Adjacent Network (A)\n",
        "Network (N)\n",
        "\n",
        "Access Complexity (AC)\n",
        "High (H)\n",
        "Medium (M)\n",
        "Low (L)\n",
        "\n",
        "Authentication (Au)\n",
        "Multiple (M)\n",
        "Single (S)\n",
        "None (N)\n",
        "\n",
        "````"
      ]
    },
    {
      "cell_type": "code",
      "execution_count": 141,
      "metadata": {
        "id": "gV6Kk8V8ARnD"
      },
      "outputs": [],
      "source": [
        "def automatable_dt(cvss_dict):\n",
        "\n",
        "    # ((userInteraction == 'NONE') & (attackComplexity == 'LOW') & (privilegesRequired != 'HIGH') & (attackVector == 'NETWORK')):\n",
        "    if (('CVSS' in cvss_dict and ((cvss_dict['CVSS'] == '3.1') | (cvss_dict['CVSS'] == '3.0')) and  cvss_dict['UI'] == 'N' and cvss_dict['AC'] == 'L' and cvss_dict['PR'] != 'H' and cvss_dict['AV'] == 'N') or \\\n",
        "    (cvss_dict['AC'] == 'L' and cvss_dict['AV'] == 'N' and ('Au' in cvss_dict and cvss_dict['Au'] == 'N'))) :\n",
        "\n",
        "        return \"yes\"\n",
        "    else:\n",
        "        return \"no\""
      ]
    },
    {
      "cell_type": "code",
      "execution_count": 142,
      "metadata": {
        "colab": {
          "base_uri": "https://localhost:8080/",
          "height": 808
        },
        "id": "joGhu0uPARnD",
        "outputId": "73069cf1-aae1-402c-8787-773112cf9305"
      },
      "outputs": [
        {
          "data": {
            "text/html": [
              "<div>\n",
              "<style scoped>\n",
              "    .dataframe tbody tr th:only-of-type {\n",
              "        vertical-align: middle;\n",
              "    }\n",
              "\n",
              "    .dataframe tbody tr th {\n",
              "        vertical-align: top;\n",
              "    }\n",
              "\n",
              "    .dataframe thead th {\n",
              "        text-align: right;\n",
              "    }\n",
              "</style>\n",
              "<table border=\"1\" class=\"dataframe\">\n",
              "  <thead>\n",
              "    <tr style=\"text-align: right;\">\n",
              "      <th></th>\n",
              "      <th>cve</th>\n",
              "      <th>cvss-bt_score</th>\n",
              "      <th>cvss-bt_severity</th>\n",
              "      <th>cvss-bt_vector</th>\n",
              "      <th>cvss_version</th>\n",
              "      <th>base_score</th>\n",
              "      <th>base_severity</th>\n",
              "      <th>base_vector</th>\n",
              "      <th>assigner</th>\n",
              "      <th>published_date</th>\n",
              "      <th>...</th>\n",
              "      <th>cvss-bt_score_category</th>\n",
              "      <th>weaponized</th>\n",
              "      <th>kev</th>\n",
              "      <th>poc</th>\n",
              "      <th>exploitation</th>\n",
              "      <th>rbp_score</th>\n",
              "      <th>cvss_vector_dict</th>\n",
              "      <th>Exploitation</th>\n",
              "      <th>TechnicalImpact</th>\n",
              "      <th>Automatable</th>\n",
              "    </tr>\n",
              "  </thead>\n",
              "  <tbody>\n",
              "    <tr>\n",
              "      <th>0</th>\n",
              "      <td>CVE-1999-0095</td>\n",
              "      <td>9.0</td>\n",
              "      <td>HIGH</td>\n",
              "      <td>AV:N/AC:L/Au:N/C:C/I:C/A:C/E:POC</td>\n",
              "      <td>2.0</td>\n",
              "      <td>10.0</td>\n",
              "      <td>HIGH</td>\n",
              "      <td>AV:N/AC:L/Au:N/C:C/I:C/A:C</td>\n",
              "      <td>cve@mitre.org</td>\n",
              "      <td>1988-10-01T04:00Z</td>\n",
              "      <td>...</td>\n",
              "      <td>critical</td>\n",
              "      <td>False</td>\n",
              "      <td>False</td>\n",
              "      <td>True</td>\n",
              "      <td>poc</td>\n",
              "      <td>6</td>\n",
              "      <td>{'AV': 'N', 'AC': 'L', 'Au': 'N', 'C': 'C', 'I...</td>\n",
              "      <td>PoC</td>\n",
              "      <td>total</td>\n",
              "      <td>yes</td>\n",
              "    </tr>\n",
              "    <tr>\n",
              "      <th>1</th>\n",
              "      <td>CVE-1999-0082</td>\n",
              "      <td>8.5</td>\n",
              "      <td>HIGH</td>\n",
              "      <td>AV:N/AC:L/Au:N/C:C/I:C/A:C/E:U</td>\n",
              "      <td>2.0</td>\n",
              "      <td>10.0</td>\n",
              "      <td>HIGH</td>\n",
              "      <td>AV:N/AC:L/Au:N/C:C/I:C/A:C</td>\n",
              "      <td>cve@mitre.org</td>\n",
              "      <td>1988-11-11T05:00Z</td>\n",
              "      <td>...</td>\n",
              "      <td>high</td>\n",
              "      <td>False</td>\n",
              "      <td>False</td>\n",
              "      <td>False</td>\n",
              "      <td>None</td>\n",
              "      <td>4</td>\n",
              "      <td>{'AV': 'N', 'AC': 'L', 'Au': 'N', 'C': 'C', 'I...</td>\n",
              "      <td>none</td>\n",
              "      <td>total</td>\n",
              "      <td>yes</td>\n",
              "    </tr>\n",
              "    <tr>\n",
              "      <th>2</th>\n",
              "      <td>CVE-1999-1471</td>\n",
              "      <td>6.1</td>\n",
              "      <td>MEDIUM</td>\n",
              "      <td>AV:L/AC:L/Au:N/C:C/I:C/A:C/E:U</td>\n",
              "      <td>2.0</td>\n",
              "      <td>7.2</td>\n",
              "      <td>HIGH</td>\n",
              "      <td>AV:L/AC:L/Au:N/C:C/I:C/A:C</td>\n",
              "      <td>cve@mitre.org</td>\n",
              "      <td>1989-01-01T05:00Z</td>\n",
              "      <td>...</td>\n",
              "      <td>medium</td>\n",
              "      <td>False</td>\n",
              "      <td>False</td>\n",
              "      <td>False</td>\n",
              "      <td>None</td>\n",
              "      <td>3</td>\n",
              "      <td>{'AV': 'L', 'AC': 'L', 'Au': 'N', 'C': 'C', 'I...</td>\n",
              "      <td>none</td>\n",
              "      <td>total</td>\n",
              "      <td>no</td>\n",
              "    </tr>\n",
              "    <tr>\n",
              "      <th>3</th>\n",
              "      <td>CVE-1999-1122</td>\n",
              "      <td>3.9</td>\n",
              "      <td>LOW</td>\n",
              "      <td>AV:L/AC:L/Au:N/C:P/I:P/A:P/E:U</td>\n",
              "      <td>2.0</td>\n",
              "      <td>4.6</td>\n",
              "      <td>MEDIUM</td>\n",
              "      <td>AV:L/AC:L/Au:N/C:P/I:P/A:P</td>\n",
              "      <td>cve@mitre.org</td>\n",
              "      <td>1989-07-26T04:00Z</td>\n",
              "      <td>...</td>\n",
              "      <td>low</td>\n",
              "      <td>False</td>\n",
              "      <td>False</td>\n",
              "      <td>False</td>\n",
              "      <td>None</td>\n",
              "      <td>2</td>\n",
              "      <td>{'AV': 'L', 'AC': 'L', 'Au': 'N', 'C': 'P', 'I...</td>\n",
              "      <td>none</td>\n",
              "      <td>partial</td>\n",
              "      <td>no</td>\n",
              "    </tr>\n",
              "    <tr>\n",
              "      <th>4</th>\n",
              "      <td>CVE-1999-1467</td>\n",
              "      <td>8.5</td>\n",
              "      <td>HIGH</td>\n",
              "      <td>AV:N/AC:L/Au:N/C:C/I:C/A:C/E:U</td>\n",
              "      <td>2.0</td>\n",
              "      <td>10.0</td>\n",
              "      <td>HIGH</td>\n",
              "      <td>AV:N/AC:L/Au:N/C:C/I:C/A:C</td>\n",
              "      <td>cve@mitre.org</td>\n",
              "      <td>1989-10-26T04:00Z</td>\n",
              "      <td>...</td>\n",
              "      <td>high</td>\n",
              "      <td>False</td>\n",
              "      <td>False</td>\n",
              "      <td>False</td>\n",
              "      <td>None</td>\n",
              "      <td>4</td>\n",
              "      <td>{'AV': 'N', 'AC': 'L', 'Au': 'N', 'C': 'C', 'I...</td>\n",
              "      <td>none</td>\n",
              "      <td>total</td>\n",
              "      <td>yes</td>\n",
              "    </tr>\n",
              "    <tr>\n",
              "      <th>...</th>\n",
              "      <td>...</td>\n",
              "      <td>...</td>\n",
              "      <td>...</td>\n",
              "      <td>...</td>\n",
              "      <td>...</td>\n",
              "      <td>...</td>\n",
              "      <td>...</td>\n",
              "      <td>...</td>\n",
              "      <td>...</td>\n",
              "      <td>...</td>\n",
              "      <td>...</td>\n",
              "      <td>...</td>\n",
              "      <td>...</td>\n",
              "      <td>...</td>\n",
              "      <td>...</td>\n",
              "      <td>...</td>\n",
              "      <td>...</td>\n",
              "      <td>...</td>\n",
              "      <td>...</td>\n",
              "      <td>...</td>\n",
              "      <td>...</td>\n",
              "    </tr>\n",
              "    <tr>\n",
              "      <th>240311</th>\n",
              "      <td>CVE-2023-49602</td>\n",
              "      <td>5.0</td>\n",
              "      <td>MEDIUM</td>\n",
              "      <td>CVSS:3.1/AV:N/AC:L/PR:L/UI:R/S:C/C:L/I:L/A:N/E:U</td>\n",
              "      <td>3.1</td>\n",
              "      <td>5.4</td>\n",
              "      <td>MEDIUM</td>\n",
              "      <td>CVSS:3.1/AV:N/AC:L/PR:L/UI:R/S:C/C:L/I:L/A:N</td>\n",
              "      <td>scy@openharmony.io</td>\n",
              "      <td>2024-03-04T07:15Z</td>\n",
              "      <td>...</td>\n",
              "      <td>medium</td>\n",
              "      <td>False</td>\n",
              "      <td>False</td>\n",
              "      <td>False</td>\n",
              "      <td>None</td>\n",
              "      <td>2</td>\n",
              "      <td>{'CVSS': '3.1', 'AV': 'N', 'AC': 'L', 'PR': 'L...</td>\n",
              "      <td>none</td>\n",
              "      <td>partial</td>\n",
              "      <td>no</td>\n",
              "    </tr>\n",
              "    <tr>\n",
              "      <th>240312</th>\n",
              "      <td>CVE-2024-21816</td>\n",
              "      <td>9.0</td>\n",
              "      <td>CRITICAL</td>\n",
              "      <td>CVSS:3.1/AV:N/AC:L/PR:N/UI:N/S:U/C:H/I:H/A:H/E:U</td>\n",
              "      <td>3.1</td>\n",
              "      <td>9.8</td>\n",
              "      <td>CRITICAL</td>\n",
              "      <td>CVSS:3.1/AV:N/AC:L/PR:N/UI:N/S:U/C:H/I:H/A:H</td>\n",
              "      <td>scy@openharmony.io</td>\n",
              "      <td>2024-03-04T07:15Z</td>\n",
              "      <td>...</td>\n",
              "      <td>critical</td>\n",
              "      <td>False</td>\n",
              "      <td>False</td>\n",
              "      <td>False</td>\n",
              "      <td>None</td>\n",
              "      <td>4</td>\n",
              "      <td>{'CVSS': '3.1', 'AV': 'N', 'AC': 'L', 'PR': 'N...</td>\n",
              "      <td>none</td>\n",
              "      <td>total</td>\n",
              "      <td>yes</td>\n",
              "    </tr>\n",
              "    <tr>\n",
              "      <th>240313</th>\n",
              "      <td>CVE-2024-21826</td>\n",
              "      <td>7.3</td>\n",
              "      <td>HIGH</td>\n",
              "      <td>CVSS:3.1/AV:A/AC:L/PR:L/UI:N/S:U/C:H/I:H/A:H/E:U</td>\n",
              "      <td>3.1</td>\n",
              "      <td>8.0</td>\n",
              "      <td>HIGH</td>\n",
              "      <td>CVSS:3.1/AV:A/AC:L/PR:L/UI:N/S:U/C:H/I:H/A:H</td>\n",
              "      <td>scy@openharmony.io</td>\n",
              "      <td>2024-03-04T07:15Z</td>\n",
              "      <td>...</td>\n",
              "      <td>high</td>\n",
              "      <td>False</td>\n",
              "      <td>False</td>\n",
              "      <td>False</td>\n",
              "      <td>None</td>\n",
              "      <td>3</td>\n",
              "      <td>{'CVSS': '3.1', 'AV': 'A', 'AC': 'L', 'PR': 'L...</td>\n",
              "      <td>none</td>\n",
              "      <td>total</td>\n",
              "      <td>no</td>\n",
              "    </tr>\n",
              "    <tr>\n",
              "      <th>240314</th>\n",
              "      <td>CVE-2023-46708</td>\n",
              "      <td>9.0</td>\n",
              "      <td>CRITICAL</td>\n",
              "      <td>CVSS:3.1/AV:N/AC:L/PR:N/UI:N/S:U/C:H/I:H/A:H/E:U</td>\n",
              "      <td>3.1</td>\n",
              "      <td>9.8</td>\n",
              "      <td>CRITICAL</td>\n",
              "      <td>CVSS:3.1/AV:N/AC:L/PR:N/UI:N/S:U/C:H/I:H/A:H</td>\n",
              "      <td>scy@openharmony.io</td>\n",
              "      <td>2024-03-04T07:15Z</td>\n",
              "      <td>...</td>\n",
              "      <td>critical</td>\n",
              "      <td>False</td>\n",
              "      <td>False</td>\n",
              "      <td>False</td>\n",
              "      <td>None</td>\n",
              "      <td>4</td>\n",
              "      <td>{'CVSS': '3.1', 'AV': 'N', 'AC': 'L', 'PR': 'N...</td>\n",
              "      <td>none</td>\n",
              "      <td>total</td>\n",
              "      <td>yes</td>\n",
              "    </tr>\n",
              "    <tr>\n",
              "      <th>240315</th>\n",
              "      <td>CVE-2023-25176</td>\n",
              "      <td>5.1</td>\n",
              "      <td>MEDIUM</td>\n",
              "      <td>CVSS:3.1/AV:L/AC:L/PR:L/UI:N/S:U/C:H/I:N/A:N/E:U</td>\n",
              "      <td>3.1</td>\n",
              "      <td>5.5</td>\n",
              "      <td>MEDIUM</td>\n",
              "      <td>CVSS:3.1/AV:L/AC:L/PR:L/UI:N/S:U/C:H/I:N/A:N</td>\n",
              "      <td>scy@openharmony.io</td>\n",
              "      <td>2024-03-04T07:15Z</td>\n",
              "      <td>...</td>\n",
              "      <td>medium</td>\n",
              "      <td>False</td>\n",
              "      <td>False</td>\n",
              "      <td>False</td>\n",
              "      <td>None</td>\n",
              "      <td>2</td>\n",
              "      <td>{'CVSS': '3.1', 'AV': 'L', 'AC': 'L', 'PR': 'L...</td>\n",
              "      <td>none</td>\n",
              "      <td>partial</td>\n",
              "      <td>no</td>\n",
              "    </tr>\n",
              "  </tbody>\n",
              "</table>\n",
              "<p>240277 rows × 28 columns</p>\n",
              "</div>"
            ],
            "text/plain": [
              "                   cve  cvss-bt_score cvss-bt_severity  \\\n",
              "0        CVE-1999-0095            9.0             HIGH   \n",
              "1        CVE-1999-0082            8.5             HIGH   \n",
              "2        CVE-1999-1471            6.1           MEDIUM   \n",
              "3        CVE-1999-1122            3.9              LOW   \n",
              "4        CVE-1999-1467            8.5             HIGH   \n",
              "...                ...            ...              ...   \n",
              "240311  CVE-2023-49602            5.0           MEDIUM   \n",
              "240312  CVE-2024-21816            9.0         CRITICAL   \n",
              "240313  CVE-2024-21826            7.3             HIGH   \n",
              "240314  CVE-2023-46708            9.0         CRITICAL   \n",
              "240315  CVE-2023-25176            5.1           MEDIUM   \n",
              "\n",
              "                                          cvss-bt_vector  cvss_version  \\\n",
              "0                       AV:N/AC:L/Au:N/C:C/I:C/A:C/E:POC           2.0   \n",
              "1                         AV:N/AC:L/Au:N/C:C/I:C/A:C/E:U           2.0   \n",
              "2                         AV:L/AC:L/Au:N/C:C/I:C/A:C/E:U           2.0   \n",
              "3                         AV:L/AC:L/Au:N/C:P/I:P/A:P/E:U           2.0   \n",
              "4                         AV:N/AC:L/Au:N/C:C/I:C/A:C/E:U           2.0   \n",
              "...                                                  ...           ...   \n",
              "240311  CVSS:3.1/AV:N/AC:L/PR:L/UI:R/S:C/C:L/I:L/A:N/E:U           3.1   \n",
              "240312  CVSS:3.1/AV:N/AC:L/PR:N/UI:N/S:U/C:H/I:H/A:H/E:U           3.1   \n",
              "240313  CVSS:3.1/AV:A/AC:L/PR:L/UI:N/S:U/C:H/I:H/A:H/E:U           3.1   \n",
              "240314  CVSS:3.1/AV:N/AC:L/PR:N/UI:N/S:U/C:H/I:H/A:H/E:U           3.1   \n",
              "240315  CVSS:3.1/AV:L/AC:L/PR:L/UI:N/S:U/C:H/I:N/A:N/E:U           3.1   \n",
              "\n",
              "        base_score base_severity  \\\n",
              "0             10.0          HIGH   \n",
              "1             10.0          HIGH   \n",
              "2              7.2          HIGH   \n",
              "3              4.6        MEDIUM   \n",
              "4             10.0          HIGH   \n",
              "...            ...           ...   \n",
              "240311         5.4        MEDIUM   \n",
              "240312         9.8      CRITICAL   \n",
              "240313         8.0          HIGH   \n",
              "240314         9.8      CRITICAL   \n",
              "240315         5.5        MEDIUM   \n",
              "\n",
              "                                         base_vector            assigner  \\\n",
              "0                         AV:N/AC:L/Au:N/C:C/I:C/A:C       cve@mitre.org   \n",
              "1                         AV:N/AC:L/Au:N/C:C/I:C/A:C       cve@mitre.org   \n",
              "2                         AV:L/AC:L/Au:N/C:C/I:C/A:C       cve@mitre.org   \n",
              "3                         AV:L/AC:L/Au:N/C:P/I:P/A:P       cve@mitre.org   \n",
              "4                         AV:N/AC:L/Au:N/C:C/I:C/A:C       cve@mitre.org   \n",
              "...                                              ...                 ...   \n",
              "240311  CVSS:3.1/AV:N/AC:L/PR:L/UI:R/S:C/C:L/I:L/A:N  scy@openharmony.io   \n",
              "240312  CVSS:3.1/AV:N/AC:L/PR:N/UI:N/S:U/C:H/I:H/A:H  scy@openharmony.io   \n",
              "240313  CVSS:3.1/AV:A/AC:L/PR:L/UI:N/S:U/C:H/I:H/A:H  scy@openharmony.io   \n",
              "240314  CVSS:3.1/AV:N/AC:L/PR:N/UI:N/S:U/C:H/I:H/A:H  scy@openharmony.io   \n",
              "240315  CVSS:3.1/AV:L/AC:L/PR:L/UI:N/S:U/C:H/I:N/A:N  scy@openharmony.io   \n",
              "\n",
              "           published_date  ...  cvss-bt_score_category  weaponized    kev  \\\n",
              "0       1988-10-01T04:00Z  ...                critical       False  False   \n",
              "1       1988-11-11T05:00Z  ...                    high       False  False   \n",
              "2       1989-01-01T05:00Z  ...                  medium       False  False   \n",
              "3       1989-07-26T04:00Z  ...                     low       False  False   \n",
              "4       1989-10-26T04:00Z  ...                    high       False  False   \n",
              "...                   ...  ...                     ...         ...    ...   \n",
              "240311  2024-03-04T07:15Z  ...                  medium       False  False   \n",
              "240312  2024-03-04T07:15Z  ...                critical       False  False   \n",
              "240313  2024-03-04T07:15Z  ...                    high       False  False   \n",
              "240314  2024-03-04T07:15Z  ...                critical       False  False   \n",
              "240315  2024-03-04T07:15Z  ...                  medium       False  False   \n",
              "\n",
              "          poc  exploitation  rbp_score  \\\n",
              "0        True           poc          6   \n",
              "1       False          None          4   \n",
              "2       False          None          3   \n",
              "3       False          None          2   \n",
              "4       False          None          4   \n",
              "...       ...           ...        ...   \n",
              "240311  False          None          2   \n",
              "240312  False          None          4   \n",
              "240313  False          None          3   \n",
              "240314  False          None          4   \n",
              "240315  False          None          2   \n",
              "\n",
              "                                         cvss_vector_dict Exploitation  \\\n",
              "0       {'AV': 'N', 'AC': 'L', 'Au': 'N', 'C': 'C', 'I...          PoC   \n",
              "1       {'AV': 'N', 'AC': 'L', 'Au': 'N', 'C': 'C', 'I...         none   \n",
              "2       {'AV': 'L', 'AC': 'L', 'Au': 'N', 'C': 'C', 'I...         none   \n",
              "3       {'AV': 'L', 'AC': 'L', 'Au': 'N', 'C': 'P', 'I...         none   \n",
              "4       {'AV': 'N', 'AC': 'L', 'Au': 'N', 'C': 'C', 'I...         none   \n",
              "...                                                   ...          ...   \n",
              "240311  {'CVSS': '3.1', 'AV': 'N', 'AC': 'L', 'PR': 'L...         none   \n",
              "240312  {'CVSS': '3.1', 'AV': 'N', 'AC': 'L', 'PR': 'N...         none   \n",
              "240313  {'CVSS': '3.1', 'AV': 'A', 'AC': 'L', 'PR': 'L...         none   \n",
              "240314  {'CVSS': '3.1', 'AV': 'N', 'AC': 'L', 'PR': 'N...         none   \n",
              "240315  {'CVSS': '3.1', 'AV': 'L', 'AC': 'L', 'PR': 'L...         none   \n",
              "\n",
              "       TechnicalImpact  Automatable  \n",
              "0                total          yes  \n",
              "1                total          yes  \n",
              "2                total           no  \n",
              "3              partial           no  \n",
              "4                total          yes  \n",
              "...                ...          ...  \n",
              "240311         partial           no  \n",
              "240312           total          yes  \n",
              "240313           total           no  \n",
              "240314           total          yes  \n",
              "240315         partial           no  \n",
              "\n",
              "[240277 rows x 28 columns]"
            ]
          },
          "execution_count": 142,
          "metadata": {},
          "output_type": "execute_result"
        }
      ],
      "source": [
        "df['Automatable'] = df['cvss_vector_dict'].apply(automatable_dt)\n",
        "df"
      ]
    },
    {
      "cell_type": "markdown",
      "metadata": {
        "id": "H73i8VliARnO"
      },
      "source": []
    },
    {
      "cell_type": "code",
      "execution_count": 143,
      "metadata": {
        "colab": {
          "base_uri": "https://localhost:8080/",
          "height": 426
        },
        "id": "94DCkJ-PARnO",
        "outputId": "2526ede8-a9cb-4897-9ab3-1438135f0287"
      },
      "outputs": [
        {
          "data": {
            "text/html": [
              "<div>\n",
              "<style scoped>\n",
              "    .dataframe tbody tr th:only-of-type {\n",
              "        vertical-align: middle;\n",
              "    }\n",
              "\n",
              "    .dataframe tbody tr th {\n",
              "        vertical-align: top;\n",
              "    }\n",
              "\n",
              "    .dataframe thead th {\n",
              "        text-align: right;\n",
              "    }\n",
              "</style>\n",
              "<table border=\"1\" class=\"dataframe\">\n",
              "  <thead>\n",
              "    <tr style=\"text-align: right;\">\n",
              "      <th></th>\n",
              "      <th>Leaf</th>\n",
              "      <th>Exploitation</th>\n",
              "      <th>Automatable</th>\n",
              "      <th>TechnicalImpact</th>\n",
              "      <th>MissionWellBeing</th>\n",
              "      <th>Priority</th>\n",
              "    </tr>\n",
              "  </thead>\n",
              "  <tbody>\n",
              "    <tr>\n",
              "      <th>0</th>\n",
              "      <td>1</td>\n",
              "      <td>active</td>\n",
              "      <td>yes</td>\n",
              "      <td>total</td>\n",
              "      <td>high</td>\n",
              "      <td>Act</td>\n",
              "    </tr>\n",
              "    <tr>\n",
              "      <th>1</th>\n",
              "      <td>4</td>\n",
              "      <td>active</td>\n",
              "      <td>yes</td>\n",
              "      <td>partial</td>\n",
              "      <td>high</td>\n",
              "      <td>Act</td>\n",
              "    </tr>\n",
              "    <tr>\n",
              "      <th>2</th>\n",
              "      <td>7</td>\n",
              "      <td>active</td>\n",
              "      <td>no</td>\n",
              "      <td>total</td>\n",
              "      <td>high</td>\n",
              "      <td>Act</td>\n",
              "    </tr>\n",
              "    <tr>\n",
              "      <th>3</th>\n",
              "      <td>10</td>\n",
              "      <td>active</td>\n",
              "      <td>no</td>\n",
              "      <td>partial</td>\n",
              "      <td>high</td>\n",
              "      <td>Attend</td>\n",
              "    </tr>\n",
              "    <tr>\n",
              "      <th>4</th>\n",
              "      <td>13</td>\n",
              "      <td>PoC</td>\n",
              "      <td>yes</td>\n",
              "      <td>total</td>\n",
              "      <td>high</td>\n",
              "      <td>Attend</td>\n",
              "    </tr>\n",
              "    <tr>\n",
              "      <th>5</th>\n",
              "      <td>16</td>\n",
              "      <td>PoC</td>\n",
              "      <td>yes</td>\n",
              "      <td>partial</td>\n",
              "      <td>high</td>\n",
              "      <td>Attend</td>\n",
              "    </tr>\n",
              "    <tr>\n",
              "      <th>6</th>\n",
              "      <td>19</td>\n",
              "      <td>PoC</td>\n",
              "      <td>no</td>\n",
              "      <td>total</td>\n",
              "      <td>high</td>\n",
              "      <td>Attend</td>\n",
              "    </tr>\n",
              "    <tr>\n",
              "      <th>7</th>\n",
              "      <td>22</td>\n",
              "      <td>PoC</td>\n",
              "      <td>no</td>\n",
              "      <td>partial</td>\n",
              "      <td>high</td>\n",
              "      <td>Track</td>\n",
              "    </tr>\n",
              "    <tr>\n",
              "      <th>8</th>\n",
              "      <td>25</td>\n",
              "      <td>none</td>\n",
              "      <td>yes</td>\n",
              "      <td>total</td>\n",
              "      <td>high</td>\n",
              "      <td>Attend</td>\n",
              "    </tr>\n",
              "    <tr>\n",
              "      <th>9</th>\n",
              "      <td>28</td>\n",
              "      <td>none</td>\n",
              "      <td>yes</td>\n",
              "      <td>partial</td>\n",
              "      <td>high</td>\n",
              "      <td>Attend</td>\n",
              "    </tr>\n",
              "    <tr>\n",
              "      <th>10</th>\n",
              "      <td>31</td>\n",
              "      <td>none</td>\n",
              "      <td>no</td>\n",
              "      <td>total</td>\n",
              "      <td>high</td>\n",
              "      <td>Track*</td>\n",
              "    </tr>\n",
              "    <tr>\n",
              "      <th>11</th>\n",
              "      <td>34</td>\n",
              "      <td>none</td>\n",
              "      <td>no</td>\n",
              "      <td>partial</td>\n",
              "      <td>high</td>\n",
              "      <td>Track</td>\n",
              "    </tr>\n",
              "  </tbody>\n",
              "</table>\n",
              "</div>"
            ],
            "text/plain": [
              "    Leaf Exploitation Automatable TechnicalImpact MissionWellBeing Priority\n",
              "0      1       active         yes           total             high      Act\n",
              "1      4       active         yes         partial             high      Act\n",
              "2      7       active          no           total             high      Act\n",
              "3     10       active          no         partial             high   Attend\n",
              "4     13          PoC         yes           total             high   Attend\n",
              "5     16          PoC         yes         partial             high   Attend\n",
              "6     19          PoC          no           total             high   Attend\n",
              "7     22          PoC          no         partial             high    Track\n",
              "8     25         none         yes           total             high   Attend\n",
              "9     28         none         yes         partial             high   Attend\n",
              "10    31         none          no           total             high   Track*\n",
              "11    34         none          no         partial             high    Track"
            ]
          },
          "execution_count": 143,
          "metadata": {},
          "output_type": "execute_result"
        }
      ],
      "source": [
        "# Drop the 3 MissionWellBeing values to 1 High because we're not interested in that in the scope of the vulnerability relative risk.\n",
        "dt_df= dt_df.iloc[::3]\n",
        "\n",
        "# Reset the index of the DataFrame\n",
        "dt_df.reset_index(drop=True, inplace=True)\n",
        "\n",
        "dt_df"
      ]
    },
    {
      "cell_type": "code",
      "execution_count": 144,
      "metadata": {
        "colab": {
          "base_uri": "https://localhost:8080/",
          "height": 711
        },
        "id": "kNcfrLiYARnO",
        "outputId": "823e889b-ef40-4d0e-d3ff-c1ea8ecd2fc5"
      },
      "outputs": [
        {
          "name": "stderr",
          "output_type": "stream",
          "text": [
            "/var/folders/ss/mvst4cws5c9dzhhthv64hhzr0000gq/T/ipykernel_93221/161011924.py:2: SettingWithCopyWarning:\n",
            "\n",
            "\n",
            "A value is trying to be set on a copy of a slice from a DataFrame.\n",
            "Try using .loc[row_indexer,col_indexer] = value instead\n",
            "\n",
            "See the caveats in the documentation: https://pandas.pydata.org/pandas-docs/stable/user_guide/indexing.html#returning-a-view-versus-a-copy\n",
            "\n",
            "/var/folders/ss/mvst4cws5c9dzhhthv64hhzr0000gq/T/ipykernel_93221/161011924.py:3: SettingWithCopyWarning:\n",
            "\n",
            "\n",
            "A value is trying to be set on a copy of a slice from a DataFrame.\n",
            "Try using .loc[row_indexer,col_indexer] = value instead\n",
            "\n",
            "See the caveats in the documentation: https://pandas.pydata.org/pandas-docs/stable/user_guide/indexing.html#returning-a-view-versus-a-copy\n",
            "\n"
          ]
        },
        {
          "data": {
            "text/html": [
              "<div>\n",
              "<style scoped>\n",
              "    .dataframe tbody tr th:only-of-type {\n",
              "        vertical-align: middle;\n",
              "    }\n",
              "\n",
              "    .dataframe tbody tr th {\n",
              "        vertical-align: top;\n",
              "    }\n",
              "\n",
              "    .dataframe thead th {\n",
              "        text-align: right;\n",
              "    }\n",
              "</style>\n",
              "<table border=\"1\" class=\"dataframe\">\n",
              "  <thead>\n",
              "    <tr style=\"text-align: right;\">\n",
              "      <th></th>\n",
              "      <th>Leaf</th>\n",
              "      <th>Exploitation</th>\n",
              "      <th>Automatable</th>\n",
              "      <th>TechnicalImpact</th>\n",
              "      <th>MissionWellBeing</th>\n",
              "      <th>Priority</th>\n",
              "      <th>score</th>\n",
              "    </tr>\n",
              "  </thead>\n",
              "  <tbody>\n",
              "    <tr>\n",
              "      <th>0</th>\n",
              "      <td>1</td>\n",
              "      <td>active</td>\n",
              "      <td>yes</td>\n",
              "      <td>total</td>\n",
              "      <td>high</td>\n",
              "      <td>Act</td>\n",
              "      <td>12</td>\n",
              "    </tr>\n",
              "    <tr>\n",
              "      <th>1</th>\n",
              "      <td>4</td>\n",
              "      <td>active</td>\n",
              "      <td>yes</td>\n",
              "      <td>partial</td>\n",
              "      <td>high</td>\n",
              "      <td>Act</td>\n",
              "      <td>11</td>\n",
              "    </tr>\n",
              "    <tr>\n",
              "      <th>2</th>\n",
              "      <td>7</td>\n",
              "      <td>active</td>\n",
              "      <td>no</td>\n",
              "      <td>total</td>\n",
              "      <td>high</td>\n",
              "      <td>Act</td>\n",
              "      <td>10</td>\n",
              "    </tr>\n",
              "    <tr>\n",
              "      <th>3</th>\n",
              "      <td>10</td>\n",
              "      <td>active</td>\n",
              "      <td>no</td>\n",
              "      <td>partial</td>\n",
              "      <td>high</td>\n",
              "      <td>Attend</td>\n",
              "      <td>9</td>\n",
              "    </tr>\n",
              "    <tr>\n",
              "      <th>4</th>\n",
              "      <td>13</td>\n",
              "      <td>PoC</td>\n",
              "      <td>yes</td>\n",
              "      <td>total</td>\n",
              "      <td>high</td>\n",
              "      <td>Attend</td>\n",
              "      <td>8</td>\n",
              "    </tr>\n",
              "    <tr>\n",
              "      <th>5</th>\n",
              "      <td>16</td>\n",
              "      <td>PoC</td>\n",
              "      <td>yes</td>\n",
              "      <td>partial</td>\n",
              "      <td>high</td>\n",
              "      <td>Attend</td>\n",
              "      <td>7</td>\n",
              "    </tr>\n",
              "    <tr>\n",
              "      <th>6</th>\n",
              "      <td>19</td>\n",
              "      <td>PoC</td>\n",
              "      <td>no</td>\n",
              "      <td>total</td>\n",
              "      <td>high</td>\n",
              "      <td>Attend</td>\n",
              "      <td>6</td>\n",
              "    </tr>\n",
              "    <tr>\n",
              "      <th>7</th>\n",
              "      <td>22</td>\n",
              "      <td>PoC</td>\n",
              "      <td>no</td>\n",
              "      <td>partial</td>\n",
              "      <td>high</td>\n",
              "      <td>Track</td>\n",
              "      <td>5</td>\n",
              "    </tr>\n",
              "    <tr>\n",
              "      <th>8</th>\n",
              "      <td>25</td>\n",
              "      <td>none</td>\n",
              "      <td>yes</td>\n",
              "      <td>total</td>\n",
              "      <td>high</td>\n",
              "      <td>Attend</td>\n",
              "      <td>4</td>\n",
              "    </tr>\n",
              "    <tr>\n",
              "      <th>9</th>\n",
              "      <td>28</td>\n",
              "      <td>none</td>\n",
              "      <td>yes</td>\n",
              "      <td>partial</td>\n",
              "      <td>high</td>\n",
              "      <td>Attend</td>\n",
              "      <td>3</td>\n",
              "    </tr>\n",
              "    <tr>\n",
              "      <th>10</th>\n",
              "      <td>31</td>\n",
              "      <td>none</td>\n",
              "      <td>no</td>\n",
              "      <td>total</td>\n",
              "      <td>high</td>\n",
              "      <td>Track*</td>\n",
              "      <td>2</td>\n",
              "    </tr>\n",
              "    <tr>\n",
              "      <th>11</th>\n",
              "      <td>34</td>\n",
              "      <td>none</td>\n",
              "      <td>no</td>\n",
              "      <td>partial</td>\n",
              "      <td>high</td>\n",
              "      <td>Track</td>\n",
              "      <td>1</td>\n",
              "    </tr>\n",
              "  </tbody>\n",
              "</table>\n",
              "</div>"
            ],
            "text/plain": [
              "    Leaf Exploitation Automatable TechnicalImpact MissionWellBeing Priority  \\\n",
              "0      1       active         yes           total             high      Act   \n",
              "1      4       active         yes         partial             high      Act   \n",
              "2      7       active          no           total             high      Act   \n",
              "3     10       active          no         partial             high   Attend   \n",
              "4     13          PoC         yes           total             high   Attend   \n",
              "5     16          PoC         yes         partial             high   Attend   \n",
              "6     19          PoC          no           total             high   Attend   \n",
              "7     22          PoC          no         partial             high    Track   \n",
              "8     25         none         yes           total             high   Attend   \n",
              "9     28         none         yes         partial             high   Attend   \n",
              "10    31         none          no           total             high   Track*   \n",
              "11    34         none          no         partial             high    Track   \n",
              "\n",
              "    score  \n",
              "0      12  \n",
              "1      11  \n",
              "2      10  \n",
              "3       9  \n",
              "4       8  \n",
              "5       7  \n",
              "6       6  \n",
              "7       5  \n",
              "8       4  \n",
              "9       3  \n",
              "10      2  \n",
              "11      1  "
            ]
          },
          "execution_count": 144,
          "metadata": {},
          "output_type": "execute_result"
        }
      ],
      "source": [
        "# high score is bad / red\n",
        "dt_df['score'] = dt_df.index\n",
        "dt_df['score'] = len(dt_df) - dt_df['score']\n",
        "dt_df"
      ]
    },
    {
      "cell_type": "code",
      "execution_count": 145,
      "metadata": {
        "colab": {
          "base_uri": "https://localhost:8080/",
          "height": 808
        },
        "id": "QeNpix9iARnO",
        "outputId": "52ec3401-16e4-4760-d32e-20cbe01c4b5b"
      },
      "outputs": [
        {
          "data": {
            "text/html": [
              "<div>\n",
              "<style scoped>\n",
              "    .dataframe tbody tr th:only-of-type {\n",
              "        vertical-align: middle;\n",
              "    }\n",
              "\n",
              "    .dataframe tbody tr th {\n",
              "        vertical-align: top;\n",
              "    }\n",
              "\n",
              "    .dataframe thead th {\n",
              "        text-align: right;\n",
              "    }\n",
              "</style>\n",
              "<table border=\"1\" class=\"dataframe\">\n",
              "  <thead>\n",
              "    <tr style=\"text-align: right;\">\n",
              "      <th></th>\n",
              "      <th>cve</th>\n",
              "      <th>cvss-bt_score</th>\n",
              "      <th>cvss-bt_severity</th>\n",
              "      <th>cvss-bt_vector</th>\n",
              "      <th>cvss_version</th>\n",
              "      <th>base_score</th>\n",
              "      <th>base_severity</th>\n",
              "      <th>base_vector</th>\n",
              "      <th>assigner</th>\n",
              "      <th>published_date</th>\n",
              "      <th>...</th>\n",
              "      <th>exploitation</th>\n",
              "      <th>rbp_score</th>\n",
              "      <th>cvss_vector_dict</th>\n",
              "      <th>Exploitation</th>\n",
              "      <th>TechnicalImpact</th>\n",
              "      <th>Automatable</th>\n",
              "      <th>Leaf</th>\n",
              "      <th>MissionWellBeing</th>\n",
              "      <th>Priority</th>\n",
              "      <th>score</th>\n",
              "    </tr>\n",
              "  </thead>\n",
              "  <tbody>\n",
              "    <tr>\n",
              "      <th>0</th>\n",
              "      <td>CVE-1999-0095</td>\n",
              "      <td>9.0</td>\n",
              "      <td>HIGH</td>\n",
              "      <td>AV:N/AC:L/Au:N/C:C/I:C/A:C/E:POC</td>\n",
              "      <td>2.0</td>\n",
              "      <td>10.0</td>\n",
              "      <td>HIGH</td>\n",
              "      <td>AV:N/AC:L/Au:N/C:C/I:C/A:C</td>\n",
              "      <td>cve@mitre.org</td>\n",
              "      <td>1988-10-01T04:00Z</td>\n",
              "      <td>...</td>\n",
              "      <td>poc</td>\n",
              "      <td>6</td>\n",
              "      <td>{'AV': 'N', 'AC': 'L', 'Au': 'N', 'C': 'C', 'I...</td>\n",
              "      <td>PoC</td>\n",
              "      <td>total</td>\n",
              "      <td>yes</td>\n",
              "      <td>13</td>\n",
              "      <td>high</td>\n",
              "      <td>Attend</td>\n",
              "      <td>8</td>\n",
              "    </tr>\n",
              "    <tr>\n",
              "      <th>1</th>\n",
              "      <td>CVE-1999-0082</td>\n",
              "      <td>8.5</td>\n",
              "      <td>HIGH</td>\n",
              "      <td>AV:N/AC:L/Au:N/C:C/I:C/A:C/E:U</td>\n",
              "      <td>2.0</td>\n",
              "      <td>10.0</td>\n",
              "      <td>HIGH</td>\n",
              "      <td>AV:N/AC:L/Au:N/C:C/I:C/A:C</td>\n",
              "      <td>cve@mitre.org</td>\n",
              "      <td>1988-11-11T05:00Z</td>\n",
              "      <td>...</td>\n",
              "      <td>None</td>\n",
              "      <td>4</td>\n",
              "      <td>{'AV': 'N', 'AC': 'L', 'Au': 'N', 'C': 'C', 'I...</td>\n",
              "      <td>none</td>\n",
              "      <td>total</td>\n",
              "      <td>yes</td>\n",
              "      <td>25</td>\n",
              "      <td>high</td>\n",
              "      <td>Attend</td>\n",
              "      <td>4</td>\n",
              "    </tr>\n",
              "    <tr>\n",
              "      <th>2</th>\n",
              "      <td>CVE-1999-1471</td>\n",
              "      <td>6.1</td>\n",
              "      <td>MEDIUM</td>\n",
              "      <td>AV:L/AC:L/Au:N/C:C/I:C/A:C/E:U</td>\n",
              "      <td>2.0</td>\n",
              "      <td>7.2</td>\n",
              "      <td>HIGH</td>\n",
              "      <td>AV:L/AC:L/Au:N/C:C/I:C/A:C</td>\n",
              "      <td>cve@mitre.org</td>\n",
              "      <td>1989-01-01T05:00Z</td>\n",
              "      <td>...</td>\n",
              "      <td>None</td>\n",
              "      <td>3</td>\n",
              "      <td>{'AV': 'L', 'AC': 'L', 'Au': 'N', 'C': 'C', 'I...</td>\n",
              "      <td>none</td>\n",
              "      <td>total</td>\n",
              "      <td>no</td>\n",
              "      <td>31</td>\n",
              "      <td>high</td>\n",
              "      <td>Track*</td>\n",
              "      <td>2</td>\n",
              "    </tr>\n",
              "    <tr>\n",
              "      <th>3</th>\n",
              "      <td>CVE-1999-1122</td>\n",
              "      <td>3.9</td>\n",
              "      <td>LOW</td>\n",
              "      <td>AV:L/AC:L/Au:N/C:P/I:P/A:P/E:U</td>\n",
              "      <td>2.0</td>\n",
              "      <td>4.6</td>\n",
              "      <td>MEDIUM</td>\n",
              "      <td>AV:L/AC:L/Au:N/C:P/I:P/A:P</td>\n",
              "      <td>cve@mitre.org</td>\n",
              "      <td>1989-07-26T04:00Z</td>\n",
              "      <td>...</td>\n",
              "      <td>None</td>\n",
              "      <td>2</td>\n",
              "      <td>{'AV': 'L', 'AC': 'L', 'Au': 'N', 'C': 'P', 'I...</td>\n",
              "      <td>none</td>\n",
              "      <td>partial</td>\n",
              "      <td>no</td>\n",
              "      <td>34</td>\n",
              "      <td>high</td>\n",
              "      <td>Track</td>\n",
              "      <td>1</td>\n",
              "    </tr>\n",
              "    <tr>\n",
              "      <th>4</th>\n",
              "      <td>CVE-1999-1467</td>\n",
              "      <td>8.5</td>\n",
              "      <td>HIGH</td>\n",
              "      <td>AV:N/AC:L/Au:N/C:C/I:C/A:C/E:U</td>\n",
              "      <td>2.0</td>\n",
              "      <td>10.0</td>\n",
              "      <td>HIGH</td>\n",
              "      <td>AV:N/AC:L/Au:N/C:C/I:C/A:C</td>\n",
              "      <td>cve@mitre.org</td>\n",
              "      <td>1989-10-26T04:00Z</td>\n",
              "      <td>...</td>\n",
              "      <td>None</td>\n",
              "      <td>4</td>\n",
              "      <td>{'AV': 'N', 'AC': 'L', 'Au': 'N', 'C': 'C', 'I...</td>\n",
              "      <td>none</td>\n",
              "      <td>total</td>\n",
              "      <td>yes</td>\n",
              "      <td>25</td>\n",
              "      <td>high</td>\n",
              "      <td>Attend</td>\n",
              "      <td>4</td>\n",
              "    </tr>\n",
              "    <tr>\n",
              "      <th>...</th>\n",
              "      <td>...</td>\n",
              "      <td>...</td>\n",
              "      <td>...</td>\n",
              "      <td>...</td>\n",
              "      <td>...</td>\n",
              "      <td>...</td>\n",
              "      <td>...</td>\n",
              "      <td>...</td>\n",
              "      <td>...</td>\n",
              "      <td>...</td>\n",
              "      <td>...</td>\n",
              "      <td>...</td>\n",
              "      <td>...</td>\n",
              "      <td>...</td>\n",
              "      <td>...</td>\n",
              "      <td>...</td>\n",
              "      <td>...</td>\n",
              "      <td>...</td>\n",
              "      <td>...</td>\n",
              "      <td>...</td>\n",
              "      <td>...</td>\n",
              "    </tr>\n",
              "    <tr>\n",
              "      <th>240272</th>\n",
              "      <td>CVE-2023-49602</td>\n",
              "      <td>5.0</td>\n",
              "      <td>MEDIUM</td>\n",
              "      <td>CVSS:3.1/AV:N/AC:L/PR:L/UI:R/S:C/C:L/I:L/A:N/E:U</td>\n",
              "      <td>3.1</td>\n",
              "      <td>5.4</td>\n",
              "      <td>MEDIUM</td>\n",
              "      <td>CVSS:3.1/AV:N/AC:L/PR:L/UI:R/S:C/C:L/I:L/A:N</td>\n",
              "      <td>scy@openharmony.io</td>\n",
              "      <td>2024-03-04T07:15Z</td>\n",
              "      <td>...</td>\n",
              "      <td>None</td>\n",
              "      <td>2</td>\n",
              "      <td>{'CVSS': '3.1', 'AV': 'N', 'AC': 'L', 'PR': 'L...</td>\n",
              "      <td>none</td>\n",
              "      <td>partial</td>\n",
              "      <td>no</td>\n",
              "      <td>34</td>\n",
              "      <td>high</td>\n",
              "      <td>Track</td>\n",
              "      <td>1</td>\n",
              "    </tr>\n",
              "    <tr>\n",
              "      <th>240273</th>\n",
              "      <td>CVE-2024-21816</td>\n",
              "      <td>9.0</td>\n",
              "      <td>CRITICAL</td>\n",
              "      <td>CVSS:3.1/AV:N/AC:L/PR:N/UI:N/S:U/C:H/I:H/A:H/E:U</td>\n",
              "      <td>3.1</td>\n",
              "      <td>9.8</td>\n",
              "      <td>CRITICAL</td>\n",
              "      <td>CVSS:3.1/AV:N/AC:L/PR:N/UI:N/S:U/C:H/I:H/A:H</td>\n",
              "      <td>scy@openharmony.io</td>\n",
              "      <td>2024-03-04T07:15Z</td>\n",
              "      <td>...</td>\n",
              "      <td>None</td>\n",
              "      <td>4</td>\n",
              "      <td>{'CVSS': '3.1', 'AV': 'N', 'AC': 'L', 'PR': 'N...</td>\n",
              "      <td>none</td>\n",
              "      <td>total</td>\n",
              "      <td>yes</td>\n",
              "      <td>25</td>\n",
              "      <td>high</td>\n",
              "      <td>Attend</td>\n",
              "      <td>4</td>\n",
              "    </tr>\n",
              "    <tr>\n",
              "      <th>240274</th>\n",
              "      <td>CVE-2024-21826</td>\n",
              "      <td>7.3</td>\n",
              "      <td>HIGH</td>\n",
              "      <td>CVSS:3.1/AV:A/AC:L/PR:L/UI:N/S:U/C:H/I:H/A:H/E:U</td>\n",
              "      <td>3.1</td>\n",
              "      <td>8.0</td>\n",
              "      <td>HIGH</td>\n",
              "      <td>CVSS:3.1/AV:A/AC:L/PR:L/UI:N/S:U/C:H/I:H/A:H</td>\n",
              "      <td>scy@openharmony.io</td>\n",
              "      <td>2024-03-04T07:15Z</td>\n",
              "      <td>...</td>\n",
              "      <td>None</td>\n",
              "      <td>3</td>\n",
              "      <td>{'CVSS': '3.1', 'AV': 'A', 'AC': 'L', 'PR': 'L...</td>\n",
              "      <td>none</td>\n",
              "      <td>total</td>\n",
              "      <td>no</td>\n",
              "      <td>31</td>\n",
              "      <td>high</td>\n",
              "      <td>Track*</td>\n",
              "      <td>2</td>\n",
              "    </tr>\n",
              "    <tr>\n",
              "      <th>240275</th>\n",
              "      <td>CVE-2023-46708</td>\n",
              "      <td>9.0</td>\n",
              "      <td>CRITICAL</td>\n",
              "      <td>CVSS:3.1/AV:N/AC:L/PR:N/UI:N/S:U/C:H/I:H/A:H/E:U</td>\n",
              "      <td>3.1</td>\n",
              "      <td>9.8</td>\n",
              "      <td>CRITICAL</td>\n",
              "      <td>CVSS:3.1/AV:N/AC:L/PR:N/UI:N/S:U/C:H/I:H/A:H</td>\n",
              "      <td>scy@openharmony.io</td>\n",
              "      <td>2024-03-04T07:15Z</td>\n",
              "      <td>...</td>\n",
              "      <td>None</td>\n",
              "      <td>4</td>\n",
              "      <td>{'CVSS': '3.1', 'AV': 'N', 'AC': 'L', 'PR': 'N...</td>\n",
              "      <td>none</td>\n",
              "      <td>total</td>\n",
              "      <td>yes</td>\n",
              "      <td>25</td>\n",
              "      <td>high</td>\n",
              "      <td>Attend</td>\n",
              "      <td>4</td>\n",
              "    </tr>\n",
              "    <tr>\n",
              "      <th>240276</th>\n",
              "      <td>CVE-2023-25176</td>\n",
              "      <td>5.1</td>\n",
              "      <td>MEDIUM</td>\n",
              "      <td>CVSS:3.1/AV:L/AC:L/PR:L/UI:N/S:U/C:H/I:N/A:N/E:U</td>\n",
              "      <td>3.1</td>\n",
              "      <td>5.5</td>\n",
              "      <td>MEDIUM</td>\n",
              "      <td>CVSS:3.1/AV:L/AC:L/PR:L/UI:N/S:U/C:H/I:N/A:N</td>\n",
              "      <td>scy@openharmony.io</td>\n",
              "      <td>2024-03-04T07:15Z</td>\n",
              "      <td>...</td>\n",
              "      <td>None</td>\n",
              "      <td>2</td>\n",
              "      <td>{'CVSS': '3.1', 'AV': 'L', 'AC': 'L', 'PR': 'L...</td>\n",
              "      <td>none</td>\n",
              "      <td>partial</td>\n",
              "      <td>no</td>\n",
              "      <td>34</td>\n",
              "      <td>high</td>\n",
              "      <td>Track</td>\n",
              "      <td>1</td>\n",
              "    </tr>\n",
              "  </tbody>\n",
              "</table>\n",
              "<p>240277 rows × 32 columns</p>\n",
              "</div>"
            ],
            "text/plain": [
              "                   cve  cvss-bt_score cvss-bt_severity  \\\n",
              "0        CVE-1999-0095            9.0             HIGH   \n",
              "1        CVE-1999-0082            8.5             HIGH   \n",
              "2        CVE-1999-1471            6.1           MEDIUM   \n",
              "3        CVE-1999-1122            3.9              LOW   \n",
              "4        CVE-1999-1467            8.5             HIGH   \n",
              "...                ...            ...              ...   \n",
              "240272  CVE-2023-49602            5.0           MEDIUM   \n",
              "240273  CVE-2024-21816            9.0         CRITICAL   \n",
              "240274  CVE-2024-21826            7.3             HIGH   \n",
              "240275  CVE-2023-46708            9.0         CRITICAL   \n",
              "240276  CVE-2023-25176            5.1           MEDIUM   \n",
              "\n",
              "                                          cvss-bt_vector  cvss_version  \\\n",
              "0                       AV:N/AC:L/Au:N/C:C/I:C/A:C/E:POC           2.0   \n",
              "1                         AV:N/AC:L/Au:N/C:C/I:C/A:C/E:U           2.0   \n",
              "2                         AV:L/AC:L/Au:N/C:C/I:C/A:C/E:U           2.0   \n",
              "3                         AV:L/AC:L/Au:N/C:P/I:P/A:P/E:U           2.0   \n",
              "4                         AV:N/AC:L/Au:N/C:C/I:C/A:C/E:U           2.0   \n",
              "...                                                  ...           ...   \n",
              "240272  CVSS:3.1/AV:N/AC:L/PR:L/UI:R/S:C/C:L/I:L/A:N/E:U           3.1   \n",
              "240273  CVSS:3.1/AV:N/AC:L/PR:N/UI:N/S:U/C:H/I:H/A:H/E:U           3.1   \n",
              "240274  CVSS:3.1/AV:A/AC:L/PR:L/UI:N/S:U/C:H/I:H/A:H/E:U           3.1   \n",
              "240275  CVSS:3.1/AV:N/AC:L/PR:N/UI:N/S:U/C:H/I:H/A:H/E:U           3.1   \n",
              "240276  CVSS:3.1/AV:L/AC:L/PR:L/UI:N/S:U/C:H/I:N/A:N/E:U           3.1   \n",
              "\n",
              "        base_score base_severity  \\\n",
              "0             10.0          HIGH   \n",
              "1             10.0          HIGH   \n",
              "2              7.2          HIGH   \n",
              "3              4.6        MEDIUM   \n",
              "4             10.0          HIGH   \n",
              "...            ...           ...   \n",
              "240272         5.4        MEDIUM   \n",
              "240273         9.8      CRITICAL   \n",
              "240274         8.0          HIGH   \n",
              "240275         9.8      CRITICAL   \n",
              "240276         5.5        MEDIUM   \n",
              "\n",
              "                                         base_vector            assigner  \\\n",
              "0                         AV:N/AC:L/Au:N/C:C/I:C/A:C       cve@mitre.org   \n",
              "1                         AV:N/AC:L/Au:N/C:C/I:C/A:C       cve@mitre.org   \n",
              "2                         AV:L/AC:L/Au:N/C:C/I:C/A:C       cve@mitre.org   \n",
              "3                         AV:L/AC:L/Au:N/C:P/I:P/A:P       cve@mitre.org   \n",
              "4                         AV:N/AC:L/Au:N/C:C/I:C/A:C       cve@mitre.org   \n",
              "...                                              ...                 ...   \n",
              "240272  CVSS:3.1/AV:N/AC:L/PR:L/UI:R/S:C/C:L/I:L/A:N  scy@openharmony.io   \n",
              "240273  CVSS:3.1/AV:N/AC:L/PR:N/UI:N/S:U/C:H/I:H/A:H  scy@openharmony.io   \n",
              "240274  CVSS:3.1/AV:A/AC:L/PR:L/UI:N/S:U/C:H/I:H/A:H  scy@openharmony.io   \n",
              "240275  CVSS:3.1/AV:N/AC:L/PR:N/UI:N/S:U/C:H/I:H/A:H  scy@openharmony.io   \n",
              "240276  CVSS:3.1/AV:L/AC:L/PR:L/UI:N/S:U/C:H/I:N/A:N  scy@openharmony.io   \n",
              "\n",
              "           published_date  ...  exploitation  rbp_score  \\\n",
              "0       1988-10-01T04:00Z  ...           poc          6   \n",
              "1       1988-11-11T05:00Z  ...          None          4   \n",
              "2       1989-01-01T05:00Z  ...          None          3   \n",
              "3       1989-07-26T04:00Z  ...          None          2   \n",
              "4       1989-10-26T04:00Z  ...          None          4   \n",
              "...                   ...  ...           ...        ...   \n",
              "240272  2024-03-04T07:15Z  ...          None          2   \n",
              "240273  2024-03-04T07:15Z  ...          None          4   \n",
              "240274  2024-03-04T07:15Z  ...          None          3   \n",
              "240275  2024-03-04T07:15Z  ...          None          4   \n",
              "240276  2024-03-04T07:15Z  ...          None          2   \n",
              "\n",
              "                                         cvss_vector_dict  Exploitation  \\\n",
              "0       {'AV': 'N', 'AC': 'L', 'Au': 'N', 'C': 'C', 'I...           PoC   \n",
              "1       {'AV': 'N', 'AC': 'L', 'Au': 'N', 'C': 'C', 'I...          none   \n",
              "2       {'AV': 'L', 'AC': 'L', 'Au': 'N', 'C': 'C', 'I...          none   \n",
              "3       {'AV': 'L', 'AC': 'L', 'Au': 'N', 'C': 'P', 'I...          none   \n",
              "4       {'AV': 'N', 'AC': 'L', 'Au': 'N', 'C': 'C', 'I...          none   \n",
              "...                                                   ...           ...   \n",
              "240272  {'CVSS': '3.1', 'AV': 'N', 'AC': 'L', 'PR': 'L...          none   \n",
              "240273  {'CVSS': '3.1', 'AV': 'N', 'AC': 'L', 'PR': 'N...          none   \n",
              "240274  {'CVSS': '3.1', 'AV': 'A', 'AC': 'L', 'PR': 'L...          none   \n",
              "240275  {'CVSS': '3.1', 'AV': 'N', 'AC': 'L', 'PR': 'N...          none   \n",
              "240276  {'CVSS': '3.1', 'AV': 'L', 'AC': 'L', 'PR': 'L...          none   \n",
              "\n",
              "        TechnicalImpact  Automatable  Leaf MissionWellBeing Priority  score  \n",
              "0                 total          yes    13             high   Attend      8  \n",
              "1                 total          yes    25             high   Attend      4  \n",
              "2                 total           no    31             high   Track*      2  \n",
              "3               partial           no    34             high    Track      1  \n",
              "4                 total          yes    25             high   Attend      4  \n",
              "...                 ...          ...   ...              ...      ...    ...  \n",
              "240272          partial           no    34             high    Track      1  \n",
              "240273            total          yes    25             high   Attend      4  \n",
              "240274            total           no    31             high   Track*      2  \n",
              "240275            total          yes    25             high   Attend      4  \n",
              "240276          partial           no    34             high    Track      1  \n",
              "\n",
              "[240277 rows x 32 columns]"
            ]
          },
          "execution_count": 145,
          "metadata": {},
          "output_type": "execute_result"
        }
      ],
      "source": [
        "cve_list_df_mission = pd.merge(df, dt_df, on=['Exploitation','Automatable','TechnicalImpact'], how='left')\n",
        "\n",
        "cve_list_df_mission"
      ]
    },
    {
      "cell_type": "code",
      "execution_count": 146,
      "metadata": {
        "colab": {
          "base_uri": "https://localhost:8080/",
          "height": 426
        },
        "id": "URF5tTw_ARnO",
        "outputId": "3497fcfb-6e49-4c66-cce8-395608112308"
      },
      "outputs": [
        {
          "data": {
            "text/html": [
              "<div>\n",
              "<style scoped>\n",
              "    .dataframe tbody tr th:only-of-type {\n",
              "        vertical-align: middle;\n",
              "    }\n",
              "\n",
              "    .dataframe tbody tr th {\n",
              "        vertical-align: top;\n",
              "    }\n",
              "\n",
              "    .dataframe thead th {\n",
              "        text-align: right;\n",
              "    }\n",
              "</style>\n",
              "<table border=\"1\" class=\"dataframe\">\n",
              "  <thead>\n",
              "    <tr style=\"text-align: right;\">\n",
              "      <th></th>\n",
              "      <th>Exploitation</th>\n",
              "      <th>Automatable</th>\n",
              "      <th>TechnicalImpact</th>\n",
              "      <th>Priority</th>\n",
              "      <th>Leaf</th>\n",
              "      <th>score</th>\n",
              "      <th>count</th>\n",
              "    </tr>\n",
              "  </thead>\n",
              "  <tbody>\n",
              "    <tr>\n",
              "      <th>0</th>\n",
              "      <td>PoC</td>\n",
              "      <td>no</td>\n",
              "      <td>partial</td>\n",
              "      <td>Track</td>\n",
              "      <td>22</td>\n",
              "      <td>5</td>\n",
              "      <td>6578</td>\n",
              "    </tr>\n",
              "    <tr>\n",
              "      <th>1</th>\n",
              "      <td>PoC</td>\n",
              "      <td>no</td>\n",
              "      <td>total</td>\n",
              "      <td>Attend</td>\n",
              "      <td>19</td>\n",
              "      <td>6</td>\n",
              "      <td>2889</td>\n",
              "    </tr>\n",
              "    <tr>\n",
              "      <th>2</th>\n",
              "      <td>PoC</td>\n",
              "      <td>yes</td>\n",
              "      <td>partial</td>\n",
              "      <td>Attend</td>\n",
              "      <td>16</td>\n",
              "      <td>7</td>\n",
              "      <td>8057</td>\n",
              "    </tr>\n",
              "    <tr>\n",
              "      <th>3</th>\n",
              "      <td>PoC</td>\n",
              "      <td>yes</td>\n",
              "      <td>total</td>\n",
              "      <td>Attend</td>\n",
              "      <td>13</td>\n",
              "      <td>8</td>\n",
              "      <td>2034</td>\n",
              "    </tr>\n",
              "    <tr>\n",
              "      <th>4</th>\n",
              "      <td>active</td>\n",
              "      <td>no</td>\n",
              "      <td>partial</td>\n",
              "      <td>Attend</td>\n",
              "      <td>10</td>\n",
              "      <td>9</td>\n",
              "      <td>2778</td>\n",
              "    </tr>\n",
              "    <tr>\n",
              "      <th>5</th>\n",
              "      <td>active</td>\n",
              "      <td>no</td>\n",
              "      <td>total</td>\n",
              "      <td>Act</td>\n",
              "      <td>7</td>\n",
              "      <td>10</td>\n",
              "      <td>4527</td>\n",
              "    </tr>\n",
              "    <tr>\n",
              "      <th>6</th>\n",
              "      <td>active</td>\n",
              "      <td>yes</td>\n",
              "      <td>partial</td>\n",
              "      <td>Act</td>\n",
              "      <td>4</td>\n",
              "      <td>11</td>\n",
              "      <td>4181</td>\n",
              "    </tr>\n",
              "    <tr>\n",
              "      <th>7</th>\n",
              "      <td>active</td>\n",
              "      <td>yes</td>\n",
              "      <td>total</td>\n",
              "      <td>Act</td>\n",
              "      <td>1</td>\n",
              "      <td>12</td>\n",
              "      <td>3869</td>\n",
              "    </tr>\n",
              "    <tr>\n",
              "      <th>8</th>\n",
              "      <td>none</td>\n",
              "      <td>no</td>\n",
              "      <td>partial</td>\n",
              "      <td>Track</td>\n",
              "      <td>34</td>\n",
              "      <td>1</td>\n",
              "      <td>77782</td>\n",
              "    </tr>\n",
              "    <tr>\n",
              "      <th>9</th>\n",
              "      <td>none</td>\n",
              "      <td>no</td>\n",
              "      <td>total</td>\n",
              "      <td>Track*</td>\n",
              "      <td>31</td>\n",
              "      <td>2</td>\n",
              "      <td>44979</td>\n",
              "    </tr>\n",
              "    <tr>\n",
              "      <th>10</th>\n",
              "      <td>none</td>\n",
              "      <td>yes</td>\n",
              "      <td>partial</td>\n",
              "      <td>Attend</td>\n",
              "      <td>28</td>\n",
              "      <td>3</td>\n",
              "      <td>51553</td>\n",
              "    </tr>\n",
              "    <tr>\n",
              "      <th>11</th>\n",
              "      <td>none</td>\n",
              "      <td>yes</td>\n",
              "      <td>total</td>\n",
              "      <td>Attend</td>\n",
              "      <td>25</td>\n",
              "      <td>4</td>\n",
              "      <td>31050</td>\n",
              "    </tr>\n",
              "  </tbody>\n",
              "</table>\n",
              "</div>"
            ],
            "text/plain": [
              "   Exploitation Automatable TechnicalImpact Priority  Leaf  score  count\n",
              "0           PoC          no         partial    Track    22      5   6578\n",
              "1           PoC          no           total   Attend    19      6   2889\n",
              "2           PoC         yes         partial   Attend    16      7   8057\n",
              "3           PoC         yes           total   Attend    13      8   2034\n",
              "4        active          no         partial   Attend    10      9   2778\n",
              "5        active          no           total      Act     7     10   4527\n",
              "6        active         yes         partial      Act     4     11   4181\n",
              "7        active         yes           total      Act     1     12   3869\n",
              "8          none          no         partial    Track    34      1  77782\n",
              "9          none          no           total   Track*    31      2  44979\n",
              "10         none         yes         partial   Attend    28      3  51553\n",
              "11         none         yes           total   Attend    25      4  31050"
            ]
          },
          "execution_count": 146,
          "metadata": {},
          "output_type": "execute_result"
        }
      ],
      "source": [
        "# Aggregate data to get counts for each combination\n",
        "ssvc_data = cve_list_df_mission.groupby(['Exploitation', 'Automatable', 'TechnicalImpact', 'Priority', 'Leaf', 'score']).size().reset_index(name='count')\n",
        "ssvc_data"
      ]
    },
    {
      "cell_type": "code",
      "execution_count": 147,
      "metadata": {
        "colab": {
          "base_uri": "https://localhost:8080/",
          "height": 817
        },
        "id": "bypaEUQKARnO",
        "outputId": "2d2c84a2-b095-4d3e-d8fa-9eccc6bc8cb9"
      },
      "outputs": [
        {
          "data": {
            "application/vnd.plotly.v1+json": {
              "config": {
                "plotlyServerURL": "https://plot.ly"
              },
              "data": [
                {
                  "counts": [
                    6578,
                    2889,
                    8057,
                    2034,
                    2778,
                    4527,
                    4181,
                    3869,
                    77782,
                    44979,
                    51553,
                    31050
                  ],
                  "dimensions": [
                    {
                      "label": "Exploitation",
                      "values": [
                        "PoC",
                        "PoC",
                        "PoC",
                        "PoC",
                        "active",
                        "active",
                        "active",
                        "active",
                        "none",
                        "none",
                        "none",
                        "none"
                      ]
                    },
                    {
                      "label": "Automatable",
                      "values": [
                        "no",
                        "no",
                        "yes",
                        "yes",
                        "no",
                        "no",
                        "yes",
                        "yes",
                        "no",
                        "no",
                        "yes",
                        "yes"
                      ]
                    },
                    {
                      "label": "TechnicalImpact",
                      "values": [
                        "partial",
                        "total",
                        "partial",
                        "total",
                        "partial",
                        "total",
                        "partial",
                        "total",
                        "partial",
                        "total",
                        "partial",
                        "total"
                      ]
                    },
                    {
                      "label": "Assigned Score",
                      "values": [
                        5,
                        6,
                        7,
                        8,
                        9,
                        10,
                        11,
                        12,
                        1,
                        2,
                        3,
                        4
                      ]
                    },
                    {
                      "label": "Priority",
                      "values": [
                        "Track",
                        "Attend",
                        "Attend",
                        "Attend",
                        "Attend",
                        "Act",
                        "Act",
                        "Act",
                        "Track",
                        "Track*",
                        "Attend",
                        "Attend"
                      ]
                    }
                  ],
                  "line": {
                    "color": [
                      5,
                      6,
                      7,
                      8,
                      9,
                      10,
                      11,
                      12,
                      1,
                      2,
                      3,
                      4
                    ],
                    "colorscale": [
                      [
                        0,
                        "rgb(255,255,204)"
                      ],
                      [
                        0.125,
                        "rgb(255,237,160)"
                      ],
                      [
                        0.25,
                        "rgb(254,217,118)"
                      ],
                      [
                        0.375,
                        "rgb(254,178,76)"
                      ],
                      [
                        0.5,
                        "rgb(253,141,60)"
                      ],
                      [
                        0.625,
                        "rgb(252,78,42)"
                      ],
                      [
                        0.75,
                        "rgb(227,26,28)"
                      ],
                      [
                        0.875,
                        "rgb(189,0,38)"
                      ],
                      [
                        1,
                        "rgb(128,0,38)"
                      ]
                    ]
                  },
                  "type": "parcats"
                }
              ],
              "layout": {
                "autosize": false,
                "height": 800,
                "template": {
                  "data": {
                    "bar": [
                      {
                        "error_x": {
                          "color": "#2a3f5f"
                        },
                        "error_y": {
                          "color": "#2a3f5f"
                        },
                        "marker": {
                          "line": {
                            "color": "#E5ECF6",
                            "width": 0.5
                          },
                          "pattern": {
                            "fillmode": "overlay",
                            "size": 10,
                            "solidity": 0.2
                          }
                        },
                        "type": "bar"
                      }
                    ],
                    "barpolar": [
                      {
                        "marker": {
                          "line": {
                            "color": "#E5ECF6",
                            "width": 0.5
                          },
                          "pattern": {
                            "fillmode": "overlay",
                            "size": 10,
                            "solidity": 0.2
                          }
                        },
                        "type": "barpolar"
                      }
                    ],
                    "carpet": [
                      {
                        "aaxis": {
                          "endlinecolor": "#2a3f5f",
                          "gridcolor": "white",
                          "linecolor": "white",
                          "minorgridcolor": "white",
                          "startlinecolor": "#2a3f5f"
                        },
                        "baxis": {
                          "endlinecolor": "#2a3f5f",
                          "gridcolor": "white",
                          "linecolor": "white",
                          "minorgridcolor": "white",
                          "startlinecolor": "#2a3f5f"
                        },
                        "type": "carpet"
                      }
                    ],
                    "choropleth": [
                      {
                        "colorbar": {
                          "outlinewidth": 0,
                          "ticks": ""
                        },
                        "type": "choropleth"
                      }
                    ],
                    "contour": [
                      {
                        "colorbar": {
                          "outlinewidth": 0,
                          "ticks": ""
                        },
                        "colorscale": [
                          [
                            0,
                            "#0d0887"
                          ],
                          [
                            0.1111111111111111,
                            "#46039f"
                          ],
                          [
                            0.2222222222222222,
                            "#7201a8"
                          ],
                          [
                            0.3333333333333333,
                            "#9c179e"
                          ],
                          [
                            0.4444444444444444,
                            "#bd3786"
                          ],
                          [
                            0.5555555555555556,
                            "#d8576b"
                          ],
                          [
                            0.6666666666666666,
                            "#ed7953"
                          ],
                          [
                            0.7777777777777778,
                            "#fb9f3a"
                          ],
                          [
                            0.8888888888888888,
                            "#fdca26"
                          ],
                          [
                            1,
                            "#f0f921"
                          ]
                        ],
                        "type": "contour"
                      }
                    ],
                    "contourcarpet": [
                      {
                        "colorbar": {
                          "outlinewidth": 0,
                          "ticks": ""
                        },
                        "type": "contourcarpet"
                      }
                    ],
                    "heatmap": [
                      {
                        "colorbar": {
                          "outlinewidth": 0,
                          "ticks": ""
                        },
                        "colorscale": [
                          [
                            0,
                            "#0d0887"
                          ],
                          [
                            0.1111111111111111,
                            "#46039f"
                          ],
                          [
                            0.2222222222222222,
                            "#7201a8"
                          ],
                          [
                            0.3333333333333333,
                            "#9c179e"
                          ],
                          [
                            0.4444444444444444,
                            "#bd3786"
                          ],
                          [
                            0.5555555555555556,
                            "#d8576b"
                          ],
                          [
                            0.6666666666666666,
                            "#ed7953"
                          ],
                          [
                            0.7777777777777778,
                            "#fb9f3a"
                          ],
                          [
                            0.8888888888888888,
                            "#fdca26"
                          ],
                          [
                            1,
                            "#f0f921"
                          ]
                        ],
                        "type": "heatmap"
                      }
                    ],
                    "heatmapgl": [
                      {
                        "colorbar": {
                          "outlinewidth": 0,
                          "ticks": ""
                        },
                        "colorscale": [
                          [
                            0,
                            "#0d0887"
                          ],
                          [
                            0.1111111111111111,
                            "#46039f"
                          ],
                          [
                            0.2222222222222222,
                            "#7201a8"
                          ],
                          [
                            0.3333333333333333,
                            "#9c179e"
                          ],
                          [
                            0.4444444444444444,
                            "#bd3786"
                          ],
                          [
                            0.5555555555555556,
                            "#d8576b"
                          ],
                          [
                            0.6666666666666666,
                            "#ed7953"
                          ],
                          [
                            0.7777777777777778,
                            "#fb9f3a"
                          ],
                          [
                            0.8888888888888888,
                            "#fdca26"
                          ],
                          [
                            1,
                            "#f0f921"
                          ]
                        ],
                        "type": "heatmapgl"
                      }
                    ],
                    "histogram": [
                      {
                        "marker": {
                          "pattern": {
                            "fillmode": "overlay",
                            "size": 10,
                            "solidity": 0.2
                          }
                        },
                        "type": "histogram"
                      }
                    ],
                    "histogram2d": [
                      {
                        "colorbar": {
                          "outlinewidth": 0,
                          "ticks": ""
                        },
                        "colorscale": [
                          [
                            0,
                            "#0d0887"
                          ],
                          [
                            0.1111111111111111,
                            "#46039f"
                          ],
                          [
                            0.2222222222222222,
                            "#7201a8"
                          ],
                          [
                            0.3333333333333333,
                            "#9c179e"
                          ],
                          [
                            0.4444444444444444,
                            "#bd3786"
                          ],
                          [
                            0.5555555555555556,
                            "#d8576b"
                          ],
                          [
                            0.6666666666666666,
                            "#ed7953"
                          ],
                          [
                            0.7777777777777778,
                            "#fb9f3a"
                          ],
                          [
                            0.8888888888888888,
                            "#fdca26"
                          ],
                          [
                            1,
                            "#f0f921"
                          ]
                        ],
                        "type": "histogram2d"
                      }
                    ],
                    "histogram2dcontour": [
                      {
                        "colorbar": {
                          "outlinewidth": 0,
                          "ticks": ""
                        },
                        "colorscale": [
                          [
                            0,
                            "#0d0887"
                          ],
                          [
                            0.1111111111111111,
                            "#46039f"
                          ],
                          [
                            0.2222222222222222,
                            "#7201a8"
                          ],
                          [
                            0.3333333333333333,
                            "#9c179e"
                          ],
                          [
                            0.4444444444444444,
                            "#bd3786"
                          ],
                          [
                            0.5555555555555556,
                            "#d8576b"
                          ],
                          [
                            0.6666666666666666,
                            "#ed7953"
                          ],
                          [
                            0.7777777777777778,
                            "#fb9f3a"
                          ],
                          [
                            0.8888888888888888,
                            "#fdca26"
                          ],
                          [
                            1,
                            "#f0f921"
                          ]
                        ],
                        "type": "histogram2dcontour"
                      }
                    ],
                    "mesh3d": [
                      {
                        "colorbar": {
                          "outlinewidth": 0,
                          "ticks": ""
                        },
                        "type": "mesh3d"
                      }
                    ],
                    "parcoords": [
                      {
                        "line": {
                          "colorbar": {
                            "outlinewidth": 0,
                            "ticks": ""
                          }
                        },
                        "type": "parcoords"
                      }
                    ],
                    "pie": [
                      {
                        "automargin": true,
                        "type": "pie"
                      }
                    ],
                    "scatter": [
                      {
                        "fillpattern": {
                          "fillmode": "overlay",
                          "size": 10,
                          "solidity": 0.2
                        },
                        "type": "scatter"
                      }
                    ],
                    "scatter3d": [
                      {
                        "line": {
                          "colorbar": {
                            "outlinewidth": 0,
                            "ticks": ""
                          }
                        },
                        "marker": {
                          "colorbar": {
                            "outlinewidth": 0,
                            "ticks": ""
                          }
                        },
                        "type": "scatter3d"
                      }
                    ],
                    "scattercarpet": [
                      {
                        "marker": {
                          "colorbar": {
                            "outlinewidth": 0,
                            "ticks": ""
                          }
                        },
                        "type": "scattercarpet"
                      }
                    ],
                    "scattergeo": [
                      {
                        "marker": {
                          "colorbar": {
                            "outlinewidth": 0,
                            "ticks": ""
                          }
                        },
                        "type": "scattergeo"
                      }
                    ],
                    "scattergl": [
                      {
                        "marker": {
                          "colorbar": {
                            "outlinewidth": 0,
                            "ticks": ""
                          }
                        },
                        "type": "scattergl"
                      }
                    ],
                    "scattermapbox": [
                      {
                        "marker": {
                          "colorbar": {
                            "outlinewidth": 0,
                            "ticks": ""
                          }
                        },
                        "type": "scattermapbox"
                      }
                    ],
                    "scatterpolar": [
                      {
                        "marker": {
                          "colorbar": {
                            "outlinewidth": 0,
                            "ticks": ""
                          }
                        },
                        "type": "scatterpolar"
                      }
                    ],
                    "scatterpolargl": [
                      {
                        "marker": {
                          "colorbar": {
                            "outlinewidth": 0,
                            "ticks": ""
                          }
                        },
                        "type": "scatterpolargl"
                      }
                    ],
                    "scatterternary": [
                      {
                        "marker": {
                          "colorbar": {
                            "outlinewidth": 0,
                            "ticks": ""
                          }
                        },
                        "type": "scatterternary"
                      }
                    ],
                    "surface": [
                      {
                        "colorbar": {
                          "outlinewidth": 0,
                          "ticks": ""
                        },
                        "colorscale": [
                          [
                            0,
                            "#0d0887"
                          ],
                          [
                            0.1111111111111111,
                            "#46039f"
                          ],
                          [
                            0.2222222222222222,
                            "#7201a8"
                          ],
                          [
                            0.3333333333333333,
                            "#9c179e"
                          ],
                          [
                            0.4444444444444444,
                            "#bd3786"
                          ],
                          [
                            0.5555555555555556,
                            "#d8576b"
                          ],
                          [
                            0.6666666666666666,
                            "#ed7953"
                          ],
                          [
                            0.7777777777777778,
                            "#fb9f3a"
                          ],
                          [
                            0.8888888888888888,
                            "#fdca26"
                          ],
                          [
                            1,
                            "#f0f921"
                          ]
                        ],
                        "type": "surface"
                      }
                    ],
                    "table": [
                      {
                        "cells": {
                          "fill": {
                            "color": "#EBF0F8"
                          },
                          "line": {
                            "color": "white"
                          }
                        },
                        "header": {
                          "fill": {
                            "color": "#C8D4E3"
                          },
                          "line": {
                            "color": "white"
                          }
                        },
                        "type": "table"
                      }
                    ]
                  },
                  "layout": {
                    "annotationdefaults": {
                      "arrowcolor": "#2a3f5f",
                      "arrowhead": 0,
                      "arrowwidth": 1
                    },
                    "autotypenumbers": "strict",
                    "coloraxis": {
                      "colorbar": {
                        "outlinewidth": 0,
                        "ticks": ""
                      }
                    },
                    "colorscale": {
                      "diverging": [
                        [
                          0,
                          "#8e0152"
                        ],
                        [
                          0.1,
                          "#c51b7d"
                        ],
                        [
                          0.2,
                          "#de77ae"
                        ],
                        [
                          0.3,
                          "#f1b6da"
                        ],
                        [
                          0.4,
                          "#fde0ef"
                        ],
                        [
                          0.5,
                          "#f7f7f7"
                        ],
                        [
                          0.6,
                          "#e6f5d0"
                        ],
                        [
                          0.7,
                          "#b8e186"
                        ],
                        [
                          0.8,
                          "#7fbc41"
                        ],
                        [
                          0.9,
                          "#4d9221"
                        ],
                        [
                          1,
                          "#276419"
                        ]
                      ],
                      "sequential": [
                        [
                          0,
                          "#0d0887"
                        ],
                        [
                          0.1111111111111111,
                          "#46039f"
                        ],
                        [
                          0.2222222222222222,
                          "#7201a8"
                        ],
                        [
                          0.3333333333333333,
                          "#9c179e"
                        ],
                        [
                          0.4444444444444444,
                          "#bd3786"
                        ],
                        [
                          0.5555555555555556,
                          "#d8576b"
                        ],
                        [
                          0.6666666666666666,
                          "#ed7953"
                        ],
                        [
                          0.7777777777777778,
                          "#fb9f3a"
                        ],
                        [
                          0.8888888888888888,
                          "#fdca26"
                        ],
                        [
                          1,
                          "#f0f921"
                        ]
                      ],
                      "sequentialminus": [
                        [
                          0,
                          "#0d0887"
                        ],
                        [
                          0.1111111111111111,
                          "#46039f"
                        ],
                        [
                          0.2222222222222222,
                          "#7201a8"
                        ],
                        [
                          0.3333333333333333,
                          "#9c179e"
                        ],
                        [
                          0.4444444444444444,
                          "#bd3786"
                        ],
                        [
                          0.5555555555555556,
                          "#d8576b"
                        ],
                        [
                          0.6666666666666666,
                          "#ed7953"
                        ],
                        [
                          0.7777777777777778,
                          "#fb9f3a"
                        ],
                        [
                          0.8888888888888888,
                          "#fdca26"
                        ],
                        [
                          1,
                          "#f0f921"
                        ]
                      ]
                    },
                    "colorway": [
                      "#636efa",
                      "#EF553B",
                      "#00cc96",
                      "#ab63fa",
                      "#FFA15A",
                      "#19d3f3",
                      "#FF6692",
                      "#B6E880",
                      "#FF97FF",
                      "#FECB52"
                    ],
                    "font": {
                      "color": "#2a3f5f"
                    },
                    "geo": {
                      "bgcolor": "white",
                      "lakecolor": "white",
                      "landcolor": "#E5ECF6",
                      "showlakes": true,
                      "showland": true,
                      "subunitcolor": "white"
                    },
                    "hoverlabel": {
                      "align": "left"
                    },
                    "hovermode": "closest",
                    "mapbox": {
                      "style": "light"
                    },
                    "paper_bgcolor": "white",
                    "plot_bgcolor": "#E5ECF6",
                    "polar": {
                      "angularaxis": {
                        "gridcolor": "white",
                        "linecolor": "white",
                        "ticks": ""
                      },
                      "bgcolor": "#E5ECF6",
                      "radialaxis": {
                        "gridcolor": "white",
                        "linecolor": "white",
                        "ticks": ""
                      }
                    },
                    "scene": {
                      "xaxis": {
                        "backgroundcolor": "#E5ECF6",
                        "gridcolor": "white",
                        "gridwidth": 2,
                        "linecolor": "white",
                        "showbackground": true,
                        "ticks": "",
                        "zerolinecolor": "white"
                      },
                      "yaxis": {
                        "backgroundcolor": "#E5ECF6",
                        "gridcolor": "white",
                        "gridwidth": 2,
                        "linecolor": "white",
                        "showbackground": true,
                        "ticks": "",
                        "zerolinecolor": "white"
                      },
                      "zaxis": {
                        "backgroundcolor": "#E5ECF6",
                        "gridcolor": "white",
                        "gridwidth": 2,
                        "linecolor": "white",
                        "showbackground": true,
                        "ticks": "",
                        "zerolinecolor": "white"
                      }
                    },
                    "shapedefaults": {
                      "line": {
                        "color": "#2a3f5f"
                      }
                    },
                    "ternary": {
                      "aaxis": {
                        "gridcolor": "white",
                        "linecolor": "white",
                        "ticks": ""
                      },
                      "baxis": {
                        "gridcolor": "white",
                        "linecolor": "white",
                        "ticks": ""
                      },
                      "bgcolor": "#E5ECF6",
                      "caxis": {
                        "gridcolor": "white",
                        "linecolor": "white",
                        "ticks": ""
                      }
                    },
                    "title": {
                      "x": 0.05
                    },
                    "xaxis": {
                      "automargin": true,
                      "gridcolor": "white",
                      "linecolor": "white",
                      "ticks": "",
                      "title": {
                        "standoff": 15
                      },
                      "zerolinecolor": "white",
                      "zerolinewidth": 2
                    },
                    "yaxis": {
                      "automargin": true,
                      "gridcolor": "white",
                      "linecolor": "white",
                      "ticks": "",
                      "title": {
                        "standoff": 15
                      },
                      "zerolinecolor": "white",
                      "zerolinewidth": 2
                    }
                  }
                },
                "title": {
                  "text": "SSVC-like Decision Tree"
                },
                "width": 800
              }
            }
          },
          "metadata": {},
          "output_type": "display_data"
        }
      ],
      "source": [
        "color = ssvc_data['score'];\n",
        "\n",
        "colorscale = 'YlOrRd' #Yellow Orange Red\n",
        "fig = go.Figure(go.Parcats(\n",
        "    dimensions=[\n",
        "        {'label': 'Exploitation', 'values': ssvc_data['Exploitation']},\n",
        "        {'label': 'Automatable', 'values': ssvc_data['Automatable']},\n",
        "        {'label': 'TechnicalImpact', 'values': ssvc_data['TechnicalImpact']},\n",
        "        {'label': 'Assigned Score', 'values': ssvc_data['score']},\n",
        "        {'label': 'Priority', 'values': ssvc_data['Priority']},\n",
        "    ],\n",
        "    line={'color': color, 'colorscale': colorscale},\n",
        "    counts=ssvc_data['count'],\n",
        "))\n",
        "fig.update_layout(\n",
        "    title='SSVC-like Decision Tree',\n",
        "    autosize=False,\n",
        "    width=800,\n",
        "    height=800,\n",
        ")\n",
        "fig.show()\n",
        "\n",
        "if IN_COLAB == False:\n",
        "    fig.write_image(\"../images_out/ssvc_parcat.png\")\n",
        "    Image(filename='../images_out/ssvc_parcat.png') #display plot when viewing in github"
      ]
    }
  ],
  "metadata": {
    "colab": {
      "provenance": []
    },
    "kernelspec": {
      "display_name": "vulnerability_scoring3",
      "language": "python",
      "name": "python3"
    },
    "language_info": {
      "codemirror_mode": {
        "name": "ipython",
        "version": 3
      },
      "file_extension": ".py",
      "mimetype": "text/x-python",
      "name": "python",
      "nbconvert_exporter": "python",
      "pygments_lexer": "ipython3",
      "version": "3.11.1"
    },
    "orig_nbformat": 4,
    "vscode": {
      "interpreter": {
        "hash": "bfd020f60af6a5e8ba9fc70ea6c26a02b59c46c0b3707815ab84a14ae6ed0531"
      }
    }
  },
  "nbformat": 4,
  "nbformat_minor": 0
}
