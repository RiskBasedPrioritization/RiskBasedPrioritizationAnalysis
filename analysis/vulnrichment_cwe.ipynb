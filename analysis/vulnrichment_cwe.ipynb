{
 "cells": [
  {
   "cell_type": "code",
   "execution_count": 1,
   "metadata": {},
   "outputs": [],
   "source": [
    "# !git clone git@github.com:cisagov/vulnrichment.git    "
   ]
  },
  {
   "attachments": {},
   "cell_type": "markdown",
   "metadata": {},
   "source": [
    "For Vulnrichment CVEs, (and in general all CVEs), there may be errors in assigned CWEs per https://github.com/cisagov/vulnrichment/pull/62.\n",
    "\n",
    "To automate checking of this:\n",
    "1. Clone Vulnrichment JSON files\n",
    "2. Extract the CVE Description, and CWE info from the Vulnrichment JSON files to a CSV file\n",
    "3. "
   ]
  },
  {
   "cell_type": "code",
   "execution_count": 1,
   "metadata": {},
   "outputs": [],
   "source": [
    "import os\n",
    "import json\n",
    "import pandas as pd\n",
    "\n",
    "\n",
    "import matplotlib.pyplot as plt\n",
    "import seaborn as sns\n",
    "from sklearn.metrics import confusion_matrix\n"
   ]
  },
  {
   "attachments": {},
   "cell_type": "markdown",
   "metadata": {},
   "source": [
    "## Read CWE values\n",
    "These can be in one or both\n",
    "* ADP container \n",
    "* CNA container \n",
    "\n",
    "Examples\n",
    "* 2024/32xxx/CVE-2024-32017.json\n",
    "    * https://github.com/cisagov/vulnrichment/blob/4380ad1a5f932ba6a29fd01dc825d03a9547196d/2024/32xxx/CVE-2024-32017.json#L19 has CWE-120 in the CNA container.\n",
    "*  2024/0xxx/CVE-2024-0042.json has \n",
    "     * 'unknown' in the CNA container https://github.com/cisagov/vulnrichment/blob/7a8e01764e5ae28d6ef713ecf7c12b9d618c6254/2024/0xxx/CVE-2024-0042.json#L25\n",
    "     * CWE-843 in the ADP container https://github.com/cisagov/vulnrichment/blob/7a8e01764e5ae28d6ef713ecf7c12b9d618c6254/2024/0xxx/CVE-2024-0042.json#L119"
   ]
  },
  {
   "cell_type": "code",
   "execution_count": null,
   "metadata": {},
   "outputs": [],
   "source": [
    "# Directory containing JSON files\n",
    "root_directory = '../tmp/vulnrichment'"
   ]
  },
  {
   "cell_type": "code",
   "execution_count": 4,
   "metadata": {},
   "outputs": [],
   "source": [
    "import os\n",
    "import json\n",
    "import pandas as pd\n",
    "\n",
    "# Function to extract CWE info from a single JSON file\n",
    "def extract_cwe_info_from_json(file_path):\n",
    "    with open(file_path, 'r', encoding='utf-8') as file:\n",
    "        data = json.load(file)\n",
    "        cwe_info_list = []\n",
    "        filename = os.path.basename(file_path)  # Get filename\n",
    "        cve_id = os.path.splitext(os.path.basename(file_path))[0]\n",
    "        \n",
    "        # Extract from both CNA and ADP containers\n",
    "        containers = data.get('containers', {})\n",
    "        if containers:\n",
    "            for container_name in ['cna', 'adp']:\n",
    "                container_data = containers.get(container_name, [])\n",
    "                if container_name == 'cna':\n",
    "                    cwe_info_list.extend(extract_cwe_info(container_data, filename, prefix=\"CNA\"))\n",
    "                elif container_name == 'adp':\n",
    "                    cwe_info_list.extend(extract_cwe_info(container_data, filename, prefix=\"ADP\"))\n",
    "\n",
    "            # Extract CVE description from CNA container\n",
    "            cna_section = containers.get('cna', {})\n",
    "            if cna_section:\n",
    "                cve_description = extract_cve_description(cna_section)\n",
    "                for info in cwe_info_list:\n",
    "                    info['CVE_Description'] = cve_description\n",
    "\n",
    "        return cwe_info_list\n",
    "\n",
    "# Unified function to extract CWE info from any container section with a prefix\n",
    "def extract_cwe_info(container_data, filename, prefix):\n",
    "    \n",
    "    cve_id = os.path.splitext(os.path.basename(filename))[0]  # Extract filename without extension as cveId\n",
    "\n",
    "    cwe_info = []\n",
    "    \n",
    "    if isinstance(container_data, dict):\n",
    "        container_data = [container_data]  # Ensure it is iterable\n",
    "    \n",
    "    for entry in container_data:\n",
    "        problem_types = entry.get('problemTypes', [])\n",
    "        for problem in problem_types:\n",
    "            descriptions = problem.get('descriptions', [])\n",
    "            for description in descriptions:\n",
    "                cwe_id = description.get('cweId')\n",
    "                cwe_description = description.get('description')\n",
    "                if cwe_id and cwe_description:\n",
    "                    cwe_info.append({\n",
    "                        'cve_id': cve_id,\n",
    "                        f'{prefix}_CWE_ID': cwe_id,\n",
    "                        f'{prefix}_CWE_Description': cwe_description\n",
    "                    })\n",
    "    return cwe_info\n",
    "\n",
    "# Function to extract CVE description from CNA container\n",
    "def extract_cve_description(cna_data):\n",
    "    descriptions = cna_data.get('descriptions', [])\n",
    "    for description in descriptions:\n",
    "        if description.get('lang') == 'en':\n",
    "            return description.get('value', '')\n",
    "    return ''\n",
    "\n",
    "# Function to extract CWE info from all JSON files in a directory\n",
    "def extract_cwe_info_from_directory(root_dir):\n",
    "    all_cwe_info = []\n",
    "    for root, _, files in os.walk(root_dir):\n",
    "        for file_name in files:\n",
    "            if file_name.endswith('.json'):\n",
    "                file_path = os.path.join(root, file_name)\n",
    "                cwe_info = extract_cwe_info_from_json(file_path)\n",
    "                if cwe_info:\n",
    "                    all_cwe_info.extend(cwe_info)\n",
    "    return all_cwe_info\n",
    "\n",
    "\n",
    "# Extract CWE info from directory\n",
    "cwe_info_list = extract_cwe_info_from_directory(root_directory)\n",
    "\n",
    "# Convert list of dictionaries to DataFrame\n",
    "df = pd.DataFrame(cwe_info_list)\n",
    "\n",
    "# Save the DataFrame to a CSV file\n",
    "df.to_csv('../data_out/vulnrichment/cwe_info.csv', index=False)\n"
   ]
  },
  {
   "cell_type": "code",
   "execution_count": 5,
   "metadata": {},
   "outputs": [],
   "source": [
    "df['CVE_Description'] = df['CVE_Description'].str.replace('\\n', ' ')"
   ]
  },
  {
   "cell_type": "code",
   "execution_count": 6,
   "metadata": {},
   "outputs": [
    {
     "data": {
      "text/html": [
       "<div>\n",
       "<style scoped>\n",
       "    .dataframe tbody tr th:only-of-type {\n",
       "        vertical-align: middle;\n",
       "    }\n",
       "\n",
       "    .dataframe tbody tr th {\n",
       "        vertical-align: top;\n",
       "    }\n",
       "\n",
       "    .dataframe thead th {\n",
       "        text-align: right;\n",
       "    }\n",
       "</style>\n",
       "<table border=\"1\" class=\"dataframe\">\n",
       "  <thead>\n",
       "    <tr style=\"text-align: right;\">\n",
       "      <th></th>\n",
       "      <th>cve_id</th>\n",
       "      <th>ADP_CWE_ID</th>\n",
       "      <th>ADP_CWE_Description</th>\n",
       "      <th>CVE_Description</th>\n",
       "      <th>CNA_CWE_ID</th>\n",
       "      <th>CNA_CWE_Description</th>\n",
       "    </tr>\n",
       "  </thead>\n",
       "  <tbody>\n",
       "    <tr>\n",
       "      <th>0</th>\n",
       "      <td>CVE-2013-3245</td>\n",
       "      <td>CWE-125</td>\n",
       "      <td>CWE-125 Out-of-bounds Read</td>\n",
       "      <td>plugins/demux/libmkv_plugin.dll in VideoLAN VL...</td>\n",
       "      <td>NaN</td>\n",
       "      <td>NaN</td>\n",
       "    </tr>\n",
       "    <tr>\n",
       "      <th>1</th>\n",
       "      <td>CVE-2013-3245</td>\n",
       "      <td>CWE-122</td>\n",
       "      <td>CWE-122 Heap-based Buffer Overflow</td>\n",
       "      <td>plugins/demux/libmkv_plugin.dll in VideoLAN VL...</td>\n",
       "      <td>NaN</td>\n",
       "      <td>NaN</td>\n",
       "    </tr>\n",
       "    <tr>\n",
       "      <th>2</th>\n",
       "      <td>CVE-2014-0808</td>\n",
       "      <td>CWE-566</td>\n",
       "      <td>CWE-566 Authorization Bypass Through User-Cont...</td>\n",
       "      <td>Authorization bypass through user-controlled k...</td>\n",
       "      <td>NaN</td>\n",
       "      <td>NaN</td>\n",
       "    </tr>\n",
       "    <tr>\n",
       "      <th>3</th>\n",
       "      <td>CVE-2014-5470</td>\n",
       "      <td>CWE-77</td>\n",
       "      <td>CWE-77 Improper Neutralization of Special Elem...</td>\n",
       "      <td>Actual Analyzer through 2014-08-29 allows code...</td>\n",
       "      <td>NaN</td>\n",
       "      <td>NaN</td>\n",
       "    </tr>\n",
       "    <tr>\n",
       "      <th>4</th>\n",
       "      <td>CVE-2022-2586</td>\n",
       "      <td>NaN</td>\n",
       "      <td>NaN</td>\n",
       "      <td>It was discovered that a nft object or express...</td>\n",
       "      <td>CWE-416</td>\n",
       "      <td>CWE-416</td>\n",
       "    </tr>\n",
       "    <tr>\n",
       "      <th>...</th>\n",
       "      <td>...</td>\n",
       "      <td>...</td>\n",
       "      <td>...</td>\n",
       "      <td>...</td>\n",
       "      <td>...</td>\n",
       "      <td>...</td>\n",
       "    </tr>\n",
       "    <tr>\n",
       "      <th>7519</th>\n",
       "      <td>CVE-2018-4233</td>\n",
       "      <td>CWE-119</td>\n",
       "      <td>CWE-119 Improper Restriction of Operations wit...</td>\n",
       "      <td>An issue was discovered in certain Apple produ...</td>\n",
       "      <td>NaN</td>\n",
       "      <td>NaN</td>\n",
       "    </tr>\n",
       "    <tr>\n",
       "      <th>7520</th>\n",
       "      <td>CVE-2018-19093</td>\n",
       "      <td>CWE-122</td>\n",
       "      <td>CWE-122 Heap-based Buffer Overflow</td>\n",
       "      <td>An issue has been found in libIEC61850 v1.3. I...</td>\n",
       "      <td>NaN</td>\n",
       "      <td>NaN</td>\n",
       "    </tr>\n",
       "    <tr>\n",
       "      <th>7521</th>\n",
       "      <td>CVE-2011-0611</td>\n",
       "      <td>CWE-843</td>\n",
       "      <td>CWE-843 Access of Resource Using Incompatible ...</td>\n",
       "      <td>Adobe Flash Player before 10.2.154.27 on Windo...</td>\n",
       "      <td>NaN</td>\n",
       "      <td>NaN</td>\n",
       "    </tr>\n",
       "    <tr>\n",
       "      <th>7522</th>\n",
       "      <td>CVE-2011-0737</td>\n",
       "      <td>CWE-200</td>\n",
       "      <td>CWE-200 Exposure of Sensitive Information to a...</td>\n",
       "      <td>Adobe ColdFusion 9.0.1 CHF1 and earlier allows...</td>\n",
       "      <td>NaN</td>\n",
       "      <td>NaN</td>\n",
       "    </tr>\n",
       "    <tr>\n",
       "      <th>7523</th>\n",
       "      <td>CVE-2016-10072</td>\n",
       "      <td>CWE-94</td>\n",
       "      <td>CWE-94 Improper Control of Generation of Code ...</td>\n",
       "      <td>WampServer 3.0.6 has two files called 'wampman...</td>\n",
       "      <td>NaN</td>\n",
       "      <td>NaN</td>\n",
       "    </tr>\n",
       "  </tbody>\n",
       "</table>\n",
       "<p>7524 rows × 6 columns</p>\n",
       "</div>"
      ],
      "text/plain": [
       "              cve_id ADP_CWE_ID  \\\n",
       "0      CVE-2013-3245    CWE-125   \n",
       "1      CVE-2013-3245    CWE-122   \n",
       "2      CVE-2014-0808    CWE-566   \n",
       "3      CVE-2014-5470     CWE-77   \n",
       "4      CVE-2022-2586        NaN   \n",
       "...              ...        ...   \n",
       "7519   CVE-2018-4233    CWE-119   \n",
       "7520  CVE-2018-19093    CWE-122   \n",
       "7521   CVE-2011-0611    CWE-843   \n",
       "7522   CVE-2011-0737    CWE-200   \n",
       "7523  CVE-2016-10072     CWE-94   \n",
       "\n",
       "                                    ADP_CWE_Description  \\\n",
       "0                            CWE-125 Out-of-bounds Read   \n",
       "1                    CWE-122 Heap-based Buffer Overflow   \n",
       "2     CWE-566 Authorization Bypass Through User-Cont...   \n",
       "3     CWE-77 Improper Neutralization of Special Elem...   \n",
       "4                                                   NaN   \n",
       "...                                                 ...   \n",
       "7519  CWE-119 Improper Restriction of Operations wit...   \n",
       "7520                 CWE-122 Heap-based Buffer Overflow   \n",
       "7521  CWE-843 Access of Resource Using Incompatible ...   \n",
       "7522  CWE-200 Exposure of Sensitive Information to a...   \n",
       "7523  CWE-94 Improper Control of Generation of Code ...   \n",
       "\n",
       "                                        CVE_Description CNA_CWE_ID  \\\n",
       "0     plugins/demux/libmkv_plugin.dll in VideoLAN VL...        NaN   \n",
       "1     plugins/demux/libmkv_plugin.dll in VideoLAN VL...        NaN   \n",
       "2     Authorization bypass through user-controlled k...        NaN   \n",
       "3     Actual Analyzer through 2014-08-29 allows code...        NaN   \n",
       "4     It was discovered that a nft object or express...    CWE-416   \n",
       "...                                                 ...        ...   \n",
       "7519  An issue was discovered in certain Apple produ...        NaN   \n",
       "7520  An issue has been found in libIEC61850 v1.3. I...        NaN   \n",
       "7521  Adobe Flash Player before 10.2.154.27 on Windo...        NaN   \n",
       "7522  Adobe ColdFusion 9.0.1 CHF1 and earlier allows...        NaN   \n",
       "7523  WampServer 3.0.6 has two files called 'wampman...        NaN   \n",
       "\n",
       "     CNA_CWE_Description  \n",
       "0                    NaN  \n",
       "1                    NaN  \n",
       "2                    NaN  \n",
       "3                    NaN  \n",
       "4                CWE-416  \n",
       "...                  ...  \n",
       "7519                 NaN  \n",
       "7520                 NaN  \n",
       "7521                 NaN  \n",
       "7522                 NaN  \n",
       "7523                 NaN  \n",
       "\n",
       "[7524 rows x 6 columns]"
      ]
     },
     "execution_count": 6,
     "metadata": {},
     "output_type": "execute_result"
    }
   ],
   "source": [
    "df"
   ]
  },
  {
   "cell_type": "code",
   "execution_count": 7,
   "metadata": {},
   "outputs": [
    {
     "data": {
      "text/plain": [
       "True     6113\n",
       "False    1411\n",
       "Name: ADP_CWE_ID, dtype: int64"
      ]
     },
     "execution_count": 7,
     "metadata": {},
     "output_type": "execute_result"
    }
   ],
   "source": [
    "df.ADP_CWE_ID.isna().value_counts()"
   ]
  },
  {
   "cell_type": "code",
   "execution_count": 8,
   "metadata": {},
   "outputs": [
    {
     "data": {
      "text/plain": [
       "False    6113\n",
       "True     1411\n",
       "Name: CNA_CWE_ID, dtype: int64"
      ]
     },
     "execution_count": 8,
     "metadata": {},
     "output_type": "execute_result"
    }
   ],
   "source": [
    "df.CNA_CWE_ID.isna().value_counts()"
   ]
  },
  {
   "attachments": {},
   "cell_type": "markdown",
   "metadata": {},
   "source": [
    "# Now Ask an LLM to Validate \n",
    "\n",
    "1. Assign a CWE based on Description\n",
    "2. Provide say if it agrees with the assigned CWE"
   ]
  },
  {
   "cell_type": "code",
   "execution_count": 2,
   "metadata": {},
   "outputs": [
    {
     "ename": "ModuleNotFoundError",
     "evalue": "No module named 'openai'",
     "output_type": "error",
     "traceback": [
      "\u001b[0;31m---------------------------------------------------------------------------\u001b[0m",
      "\u001b[0;31mModuleNotFoundError\u001b[0m                       Traceback (most recent call last)",
      "Cell \u001b[0;32mIn[2], line 2\u001b[0m\n\u001b[1;32m      1\u001b[0m \u001b[39mimport\u001b[39;00m \u001b[39mos\u001b[39;00m\n\u001b[0;32m----> 2\u001b[0m \u001b[39mfrom\u001b[39;00m \u001b[39mopenai\u001b[39;00m \u001b[39mimport\u001b[39;00m OpenAI\n\u001b[1;32m      4\u001b[0m client \u001b[39m=\u001b[39m OpenAI(api_key\u001b[39m=\u001b[39mos\u001b[39m.\u001b[39menviron[\u001b[39m'\u001b[39m\u001b[39mOPENAI_API_KEY\u001b[39m\u001b[39m'\u001b[39m])\n\u001b[1;32m      5\u001b[0m openai\u001b[39m.\u001b[39mModel\u001b[39m.\u001b[39mlist()\n",
      "\u001b[0;31mModuleNotFoundError\u001b[0m: No module named 'openai'"
     ]
    }
   ],
   "source": [
    "import os\n",
    "from openai import OpenAI\n",
    "\n",
    "client = OpenAI(api_key=os.environ['OPENAI_API_KEY'])\n",
    "openai.Model.list()"
   ]
  },
  {
   "cell_type": "code",
   "execution_count": 9,
   "metadata": {},
   "outputs": [],
   "source": [
    "cwe_info_list = cwe_info_list[:10]\n"
   ]
  },
  {
   "cell_type": "code",
   "execution_count": 29,
   "metadata": {},
   "outputs": [],
   "source": [
    "import os\n",
    "from openai import OpenAI\n",
    "\n",
    "client = OpenAI(api_key=os.environ['OPENAI_API_KEY'])"
   ]
  },
  {
   "cell_type": "code",
   "execution_count": 30,
   "metadata": {},
   "outputs": [],
   "source": [
    "# Function to get ChatGPT-4's CWE assignment and rationale\n",
    "def get_chatgpt4_cwe_assignment(cve_description):\n",
    "    response = client.chat.completions.create(\n",
    "        model=\"gpt-4\",\n",
    "        messages=[\n",
    "            {\n",
    "                \"role\": \"system\",\n",
    "                \"content\": \"You are a cybersecurity expert specializing in identifying Common Weakness Enumeration (CWE) IDs from CVE descriptions.\"\n",
    "            },\n",
    "            {\n",
    "                \"role\": \"user\",\n",
    "                \"content\": f\"Based on the following CVE description, assign the most appropriate CWE ID, provide the rationale, and give a confidence score (0-100):\\n\\n{cve_description}\\n\\nResponse format:\\nCWE ID: <CWE ID>\\nRationale: <rationale>\\nConfidence score: <score>\"\n",
    "            }\n",
    "        ],\n",
    "        max_tokens=300\n",
    "    )\n",
    "    return response['choices'][0]['message']['content'].strip()\n",
    "\n",
    "# Function to get ChatGPT-4's opinion on an existing CWE assignment\n",
    "def get_chatgpt4_cwe_opinion(cve_description, cwe_id, cwe_description):\n",
    "    response = client.chat.completions.create(\n",
    "        model=\"gpt-4\",\n",
    "        messages=[\n",
    "            {\n",
    "                \"role\": \"system\",\n",
    "                \"content\": \"You are a cybersecurity expert specializing in identifying Common Weakness Enumeration (CWE) IDs from CVE descriptions.\"\n",
    "            },\n",
    "            {\n",
    "                \"role\": \"user\",\n",
    "                \"content\": f\"Given the following CVE description, do you agree with the assigned CWE ID '{cwe_id}' and the following description '{cwe_description}'? Provide your rationale and give a confidence score (0-100):\\n\\n{cve_description}\\n\\nResponse format:\\nAgree: <yes/no>\\nRationale: <rationale>\\nConfidence score: <score>\"\n",
    "            }\n",
    "        ],\n",
    "        max_tokens=300\n",
    "    )\n",
    "    return response['choices'][0]['message']['content'].strip()"
   ]
  },
  {
   "cell_type": "code",
   "execution_count": 31,
   "metadata": {},
   "outputs": [],
   "source": [
    "# Function to get ChatGPT-4's CWE assignment and rationale\n",
    "def get_chatgpt4_cwe_assignment(cve_description):\n",
    "    response = openai.ChatCompletion.create(\n",
    "        model=\"gpt-4\",\n",
    "        messages=[\n",
    "            {\n",
    "                \"role\": \"system\",\n",
    "                \"content\": \"You are a cybersecurity expert specializing in identifying Common Weakness Enumeration (CWE) IDs from CVE descriptions.\"\n",
    "            },\n",
    "            {\n",
    "                \"role\": \"user\",\n",
    "                \"content\": f\"Based on the following CVE description, assign the most appropriate CWE ID, provide the rationale, and give a confidence score (0-100):\\n\\n{cve_description}\\n\\nResponse format:\\nCWE ID: <CWE ID>\\nRationale: <rationale>\\nConfidence score: <score>\"\n",
    "            }\n",
    "        ],\n",
    "        max_tokens=300\n",
    "    )\n",
    "    return response['choices'][0]['message']['content'].strip()\n",
    "\n",
    "# Function to get ChatGPT-4's opinion on an existing CWE assignment\n",
    "def get_chatgpt4_cwe_opinion(cve_description, cwe_id, cwe_description):\n",
    "    response = openai.ChatCompletion.create(\n",
    "        model=\"gpt-4\",\n",
    "        messages=[\n",
    "            {\n",
    "                \"role\": \"system\",\n",
    "                \"content\": \"You are a cybersecurity expert specializing in identifying Common Weakness Enumeration (CWE) IDs from CVE descriptions.\"\n",
    "            },\n",
    "            {\n",
    "                \"role\": \"user\",\n",
    "                \"content\": f\"Given the following CVE description, do you agree with the assigned CWE ID '{cwe_id}' and the following description '{cwe_description}'? Provide your rationale and give a confidence score (0-100):\\n\\n{cve_description}\\n\\nResponse format:\\nAgree: <yes/no>\\nRationale: <rationale>\\nConfidence score: <score>\"\n",
    "            }\n",
    "        ],\n",
    "        max_tokens=300\n",
    "    )\n",
    "    return response['choices'][0]['message']['content'].strip()"
   ]
  },
  {
   "cell_type": "code",
   "execution_count": 11,
   "metadata": {},
   "outputs": [],
   "source": [
    "\n"
   ]
  },
  {
   "cell_type": "code",
   "execution_count": 12,
   "metadata": {},
   "outputs": [
    {
     "data": {
      "text/plain": [
       "[{'cve_id': 'CVE-2013-3245',\n",
       "  'ADP_CWE_ID': 'CWE-125',\n",
       "  'ADP_CWE_Description': 'CWE-125 Out-of-bounds Read',\n",
       "  'CVE_Description': 'plugins/demux/libmkv_plugin.dll in VideoLAN VLC Media Player 2.0.7, and possibly other versions, allows remote attackers to cause a denial of service (crash) and possibly execute arbitrary code via a crafted MKV file, possibly involving an integer overflow and out-of-bounds read or heap-based buffer overflow, or an uncaught exception.  NOTE: the vendor disputes the severity and claimed vulnerability type of this issue, stating \"This PoC crashes VLC, indeed, but does nothing more... this is not an integer overflow error, but an uncaught exception and I doubt that it is exploitable. This uncaught exception makes VLC abort, not execute random code, on my Linux 64bits machine.\" A PoC posted by the original researcher shows signs of an attacker-controlled out-of-bounds read, but the affected instruction does not involve a register that directly influences control flow'},\n",
       " {'cve_id': 'CVE-2013-3245',\n",
       "  'ADP_CWE_ID': 'CWE-122',\n",
       "  'ADP_CWE_Description': 'CWE-122 Heap-based Buffer Overflow',\n",
       "  'CVE_Description': 'plugins/demux/libmkv_plugin.dll in VideoLAN VLC Media Player 2.0.7, and possibly other versions, allows remote attackers to cause a denial of service (crash) and possibly execute arbitrary code via a crafted MKV file, possibly involving an integer overflow and out-of-bounds read or heap-based buffer overflow, or an uncaught exception.  NOTE: the vendor disputes the severity and claimed vulnerability type of this issue, stating \"This PoC crashes VLC, indeed, but does nothing more... this is not an integer overflow error, but an uncaught exception and I doubt that it is exploitable. This uncaught exception makes VLC abort, not execute random code, on my Linux 64bits machine.\" A PoC posted by the original researcher shows signs of an attacker-controlled out-of-bounds read, but the affected instruction does not involve a register that directly influences control flow'},\n",
       " {'cve_id': 'CVE-2014-0808',\n",
       "  'ADP_CWE_ID': 'CWE-566',\n",
       "  'ADP_CWE_Description': 'CWE-566 Authorization Bypass Through User-Controlled SQL Primary Key',\n",
       "  'CVE_Description': \"Authorization bypass through user-controlled key issue exists in EC-CUBE 2.11.0 through 2.12.2 and EC-Orange systems deployed before June 29th, 2015. If this vulnerability is exploited, a user of the affected shopping website may obtain other users' information by sending a crafted HTTP request.\"},\n",
       " {'cve_id': 'CVE-2014-5470',\n",
       "  'ADP_CWE_ID': 'CWE-77',\n",
       "  'ADP_CWE_Description': \"CWE-77 Improper Neutralization of Special Elements used in a Command ('Command Injection')\",\n",
       "  'CVE_Description': 'Actual Analyzer through 2014-08-29 allows code execution via shell metacharacters because untrusted input is used for part of the input data passed to an eval operation.'},\n",
       " {'cve_id': 'CVE-2022-2586',\n",
       "  'CNA_CWE_ID': 'CWE-416',\n",
       "  'CNA_CWE_Description': 'CWE-416',\n",
       "  'CVE_Description': 'It was discovered that a nft object or expression could reference a nft set on a different nft table, leading to a use-after-free once that table was deleted.'},\n",
       " {'cve_id': 'CVE-2022-3437',\n",
       "  'CNA_CWE_ID': 'CWE-122',\n",
       "  'CNA_CWE_Description': 'CWE-122 - Heap-based Buffer Overflow, CWE-787 - Out-of-bounds Write',\n",
       "  'CVE_Description': 'A heap-based buffer overflow vulnerability was found in Samba within the GSSAPI unwrap_des() and unwrap_des3() routines of Heimdal. The DES and Triple-DES decryption routines in the Heimdal GSSAPI library allow a length-limited write buffer overflow on malloc() allocated memory when presented with a maliciously small packet. This flaw allows a remote user to send specially crafted malicious data to the application, possibly resulting in a denial of service (DoS) attack.'},\n",
       " {'cve_id': 'CVE-2022-3596',\n",
       "  'CNA_CWE_ID': 'CWE-402',\n",
       "  'CNA_CWE_Description': \"Transmission of Private Resources into a New Sphere ('Resource Leak')\",\n",
       "  'CVE_Description': \"An information leak was found in OpenStack's undercloud. This flaw allows unauthenticated, remote attackers to inspect sensitive data after discovering the IP address of the undercloud, possibly leading to compromising private information, including administrator access credentials.\"},\n",
       " {'cve_id': 'CVE-2022-3038',\n",
       "  'ADP_CWE_ID': 'CWE-416',\n",
       "  'ADP_CWE_Description': 'CWE-416 Use After Free',\n",
       "  'CVE_Description': 'Use after free in Network Service in Google Chrome prior to 105.0.5195.52 allowed a remote attacker to potentially exploit heap corruption via a crafted HTML page.'},\n",
       " {'cve_id': 'CVE-2022-3474',\n",
       "  'CNA_CWE_ID': 'CWE-522',\n",
       "  'CNA_CWE_Description': 'CWE-522 Insufficiently Protected Credentials',\n",
       "  'CVE_Description': 'A bad credential handling in the remote assets API for Bazel versions prior to 5.3.2 and 4.2.3 sends all user-provided credentials instead of only the required ones for the requests. We recommend upgrading to versions later than or equal to 5.3.2 or 4.2.3.'},\n",
       " {'cve_id': 'CVE-2022-35503',\n",
       "  'ADP_CWE_ID': 'CWE-286',\n",
       "  'ADP_CWE_Description': 'CWE-286 Incorrect User Management',\n",
       "  'CVE_Description': 'Improper verification of a user input in Open Source MANO v7-v12 allows an authenticated attacker to execute arbitrary code within the LCM module container via a Virtual Network Function (VNF) descriptor. An attacker may be able execute code to change the normal execution of the OSM components, retrieve confidential information, or gain access other parts of a Telco Operator infrastructure other than OSM itself.'}]"
      ]
     },
     "execution_count": 12,
     "metadata": {},
     "output_type": "execute_result"
    }
   ],
   "source": [
    "cwe_info_list"
   ]
  },
  {
   "cell_type": "code",
   "execution_count": 34,
   "metadata": {},
   "outputs": [
    {
     "ename": "APIRemovedInV1",
     "evalue": "\n\nYou tried to access openai.ChatCompletion, but this is no longer supported in openai>=1.0.0 - see the README at https://github.com/openai/openai-python for the API.\n\nYou can run `openai migrate` to automatically upgrade your codebase to use the 1.0.0 interface. \n\nAlternatively, you can pin your installation to the old version, e.g. `pip install openai==0.28`\n\nA detailed migration guide is available here: https://github.com/openai/openai-python/discussions/742\n",
     "output_type": "error",
     "traceback": [
      "\u001b[0;31m---------------------------------------------------------------------------\u001b[0m",
      "\u001b[0;31mAPIRemovedInV1\u001b[0m                            Traceback (most recent call last)",
      "Cell \u001b[0;32mIn[34], line 2\u001b[0m\n\u001b[1;32m      1\u001b[0m cve_description \u001b[39m=\u001b[39m \u001b[39m\"\u001b[39m\u001b[39mIt was discovered that a nft object or expression could reference a nft set on a different nft table, leading to a use-after-free once that table was deleted.\u001b[39m\u001b[39m\"\u001b[39m\n\u001b[0;32m----> 2\u001b[0m chatgpt4_opinion \u001b[39m=\u001b[39m get_chatgpt4_cwe_assignment(cve_description)\n",
      "Cell \u001b[0;32mIn[31], line 3\u001b[0m, in \u001b[0;36mget_chatgpt4_cwe_assignment\u001b[0;34m(cve_description)\u001b[0m\n\u001b[1;32m      2\u001b[0m \u001b[39mdef\u001b[39;00m \u001b[39mget_chatgpt4_cwe_assignment\u001b[39m(cve_description):\n\u001b[0;32m----> 3\u001b[0m     response \u001b[39m=\u001b[39m openai\u001b[39m.\u001b[39mChatCompletion\u001b[39m.\u001b[39mcreate(\n\u001b[1;32m      4\u001b[0m         model\u001b[39m=\u001b[39m\u001b[39m\"\u001b[39m\u001b[39mgpt-4\u001b[39m\u001b[39m\"\u001b[39m,\n\u001b[1;32m      5\u001b[0m         messages\u001b[39m=\u001b[39m[\n\u001b[1;32m      6\u001b[0m             {\n\u001b[1;32m      7\u001b[0m                 \u001b[39m\"\u001b[39m\u001b[39mrole\u001b[39m\u001b[39m\"\u001b[39m: \u001b[39m\"\u001b[39m\u001b[39msystem\u001b[39m\u001b[39m\"\u001b[39m,\n\u001b[1;32m      8\u001b[0m                 \u001b[39m\"\u001b[39m\u001b[39mcontent\u001b[39m\u001b[39m\"\u001b[39m: \u001b[39m\"\u001b[39m\u001b[39mYou are a cybersecurity expert specializing in identifying Common Weakness Enumeration (CWE) IDs from CVE descriptions.\u001b[39m\u001b[39m\"\u001b[39m\n\u001b[1;32m      9\u001b[0m             },\n\u001b[1;32m     10\u001b[0m             {\n\u001b[1;32m     11\u001b[0m                 \u001b[39m\"\u001b[39m\u001b[39mrole\u001b[39m\u001b[39m\"\u001b[39m: \u001b[39m\"\u001b[39m\u001b[39muser\u001b[39m\u001b[39m\"\u001b[39m,\n\u001b[1;32m     12\u001b[0m                 \u001b[39m\"\u001b[39m\u001b[39mcontent\u001b[39m\u001b[39m\"\u001b[39m: \u001b[39mf\u001b[39m\u001b[39m\"\u001b[39m\u001b[39mBased on the following CVE description, assign the most appropriate CWE ID, provide the rationale, and give a confidence score (0-100):\u001b[39m\u001b[39m\\n\u001b[39;00m\u001b[39m\\n\u001b[39;00m\u001b[39m{\u001b[39;00mcve_description\u001b[39m}\u001b[39;00m\u001b[39m\\n\u001b[39;00m\u001b[39m\\n\u001b[39;00m\u001b[39mResponse format:\u001b[39m\u001b[39m\\n\u001b[39;00m\u001b[39mCWE ID: <CWE ID>\u001b[39m\u001b[39m\\n\u001b[39;00m\u001b[39mRationale: <rationale>\u001b[39m\u001b[39m\\n\u001b[39;00m\u001b[39mConfidence score: <score>\u001b[39m\u001b[39m\"\u001b[39m\n\u001b[1;32m     13\u001b[0m             }\n\u001b[1;32m     14\u001b[0m         ],\n\u001b[1;32m     15\u001b[0m         max_tokens\u001b[39m=\u001b[39m\u001b[39m300\u001b[39m\n\u001b[1;32m     16\u001b[0m     )\n\u001b[1;32m     17\u001b[0m     \u001b[39mreturn\u001b[39;00m response[\u001b[39m'\u001b[39m\u001b[39mchoices\u001b[39m\u001b[39m'\u001b[39m][\u001b[39m0\u001b[39m][\u001b[39m'\u001b[39m\u001b[39mmessage\u001b[39m\u001b[39m'\u001b[39m][\u001b[39m'\u001b[39m\u001b[39mcontent\u001b[39m\u001b[39m'\u001b[39m]\u001b[39m.\u001b[39mstrip()\n",
      "File \u001b[0;32m~/work/vulnerability_scoring/vulnerability_scoring3/lib/python3.11/site-packages/openai/lib/_old_api.py:39\u001b[0m, in \u001b[0;36mAPIRemovedInV1Proxy.__call__\u001b[0;34m(self, *_args, **_kwargs)\u001b[0m\n\u001b[1;32m     38\u001b[0m \u001b[39mdef\u001b[39;00m \u001b[39m__call__\u001b[39m(\u001b[39mself\u001b[39m, \u001b[39m*\u001b[39m_args: Any, \u001b[39m*\u001b[39m\u001b[39m*\u001b[39m_kwargs: Any) \u001b[39m-\u001b[39m\u001b[39m>\u001b[39m Any:\n\u001b[0;32m---> 39\u001b[0m     \u001b[39mraise\u001b[39;00m APIRemovedInV1(symbol\u001b[39m=\u001b[39m\u001b[39mself\u001b[39m\u001b[39m.\u001b[39m_symbol)\n",
      "\u001b[0;31mAPIRemovedInV1\u001b[0m: \n\nYou tried to access openai.ChatCompletion, but this is no longer supported in openai>=1.0.0 - see the README at https://github.com/openai/openai-python for the API.\n\nYou can run `openai migrate` to automatically upgrade your codebase to use the 1.0.0 interface. \n\nAlternatively, you can pin your installation to the old version, e.g. `pip install openai==0.28`\n\nA detailed migration guide is available here: https://github.com/openai/openai-python/discussions/742\n"
     ]
    }
   ],
   "source": [
    "cve_description = \"It was discovered that a nft object or expression could reference a nft set on a different nft table, leading to a use-after-free once that table was deleted.\"\n",
    "chatgpt4_opinion = get_chatgpt4_cwe_assignment(cve_description)"
   ]
  },
  {
   "cell_type": "code",
   "execution_count": 32,
   "metadata": {},
   "outputs": [
    {
     "ename": "APIRemovedInV1",
     "evalue": "\n\nYou tried to access openai.ChatCompletion, but this is no longer supported in openai>=1.0.0 - see the README at https://github.com/openai/openai-python for the API.\n\nYou can run `openai migrate` to automatically upgrade your codebase to use the 1.0.0 interface. \n\nAlternatively, you can pin your installation to the old version, e.g. `pip install openai==0.28`\n\nA detailed migration guide is available here: https://github.com/openai/openai-python/discussions/742\n",
     "output_type": "error",
     "traceback": [
      "\u001b[0;31m---------------------------------------------------------------------------\u001b[0m",
      "\u001b[0;31mAPIRemovedInV1\u001b[0m                            Traceback (most recent call last)",
      "Cell \u001b[0;32mIn[32], line 6\u001b[0m\n\u001b[1;32m      3\u001b[0m cve_description \u001b[39m=\u001b[39m entry\u001b[39m.\u001b[39mget(\u001b[39m'\u001b[39m\u001b[39mcve_description\u001b[39m\u001b[39m'\u001b[39m, \u001b[39m'\u001b[39m\u001b[39m'\u001b[39m)\n\u001b[1;32m      5\u001b[0m \u001b[39m# Get ChatGPT-4's CWE assignment and rationale\u001b[39;00m\n\u001b[0;32m----> 6\u001b[0m chatgpt4_assignment \u001b[39m=\u001b[39m get_chatgpt4_cwe_assignment(cve_description)\n\u001b[1;32m      7\u001b[0m entry[\u001b[39m'\u001b[39m\u001b[39mChatGPT4_CWE_Assignment\u001b[39m\u001b[39m'\u001b[39m] \u001b[39m=\u001b[39m chatgpt4_assignment\n\u001b[1;32m      9\u001b[0m \u001b[39m# Get ChatGPT-4's opinion on existing CNA CWE ID\u001b[39;00m\n",
      "Cell \u001b[0;32mIn[31], line 3\u001b[0m, in \u001b[0;36mget_chatgpt4_cwe_assignment\u001b[0;34m(cve_description)\u001b[0m\n\u001b[1;32m      2\u001b[0m \u001b[39mdef\u001b[39;00m \u001b[39mget_chatgpt4_cwe_assignment\u001b[39m(cve_description):\n\u001b[0;32m----> 3\u001b[0m     response \u001b[39m=\u001b[39m openai\u001b[39m.\u001b[39mChatCompletion\u001b[39m.\u001b[39mcreate(\n\u001b[1;32m      4\u001b[0m         model\u001b[39m=\u001b[39m\u001b[39m\"\u001b[39m\u001b[39mgpt-4\u001b[39m\u001b[39m\"\u001b[39m,\n\u001b[1;32m      5\u001b[0m         messages\u001b[39m=\u001b[39m[\n\u001b[1;32m      6\u001b[0m             {\n\u001b[1;32m      7\u001b[0m                 \u001b[39m\"\u001b[39m\u001b[39mrole\u001b[39m\u001b[39m\"\u001b[39m: \u001b[39m\"\u001b[39m\u001b[39msystem\u001b[39m\u001b[39m\"\u001b[39m,\n\u001b[1;32m      8\u001b[0m                 \u001b[39m\"\u001b[39m\u001b[39mcontent\u001b[39m\u001b[39m\"\u001b[39m: \u001b[39m\"\u001b[39m\u001b[39mYou are a cybersecurity expert specializing in identifying Common Weakness Enumeration (CWE) IDs from CVE descriptions.\u001b[39m\u001b[39m\"\u001b[39m\n\u001b[1;32m      9\u001b[0m             },\n\u001b[1;32m     10\u001b[0m             {\n\u001b[1;32m     11\u001b[0m                 \u001b[39m\"\u001b[39m\u001b[39mrole\u001b[39m\u001b[39m\"\u001b[39m: \u001b[39m\"\u001b[39m\u001b[39muser\u001b[39m\u001b[39m\"\u001b[39m,\n\u001b[1;32m     12\u001b[0m                 \u001b[39m\"\u001b[39m\u001b[39mcontent\u001b[39m\u001b[39m\"\u001b[39m: \u001b[39mf\u001b[39m\u001b[39m\"\u001b[39m\u001b[39mBased on the following CVE description, assign the most appropriate CWE ID, provide the rationale, and give a confidence score (0-100):\u001b[39m\u001b[39m\\n\u001b[39;00m\u001b[39m\\n\u001b[39;00m\u001b[39m{\u001b[39;00mcve_description\u001b[39m}\u001b[39;00m\u001b[39m\\n\u001b[39;00m\u001b[39m\\n\u001b[39;00m\u001b[39mResponse format:\u001b[39m\u001b[39m\\n\u001b[39;00m\u001b[39mCWE ID: <CWE ID>\u001b[39m\u001b[39m\\n\u001b[39;00m\u001b[39mRationale: <rationale>\u001b[39m\u001b[39m\\n\u001b[39;00m\u001b[39mConfidence score: <score>\u001b[39m\u001b[39m\"\u001b[39m\n\u001b[1;32m     13\u001b[0m             }\n\u001b[1;32m     14\u001b[0m         ],\n\u001b[1;32m     15\u001b[0m         max_tokens\u001b[39m=\u001b[39m\u001b[39m300\u001b[39m\n\u001b[1;32m     16\u001b[0m     )\n\u001b[1;32m     17\u001b[0m     \u001b[39mreturn\u001b[39;00m response[\u001b[39m'\u001b[39m\u001b[39mchoices\u001b[39m\u001b[39m'\u001b[39m][\u001b[39m0\u001b[39m][\u001b[39m'\u001b[39m\u001b[39mmessage\u001b[39m\u001b[39m'\u001b[39m][\u001b[39m'\u001b[39m\u001b[39mcontent\u001b[39m\u001b[39m'\u001b[39m]\u001b[39m.\u001b[39mstrip()\n",
      "File \u001b[0;32m~/work/vulnerability_scoring/vulnerability_scoring3/lib/python3.11/site-packages/openai/lib/_old_api.py:39\u001b[0m, in \u001b[0;36mAPIRemovedInV1Proxy.__call__\u001b[0;34m(self, *_args, **_kwargs)\u001b[0m\n\u001b[1;32m     38\u001b[0m \u001b[39mdef\u001b[39;00m \u001b[39m__call__\u001b[39m(\u001b[39mself\u001b[39m, \u001b[39m*\u001b[39m_args: Any, \u001b[39m*\u001b[39m\u001b[39m*\u001b[39m_kwargs: Any) \u001b[39m-\u001b[39m\u001b[39m>\u001b[39m Any:\n\u001b[0;32m---> 39\u001b[0m     \u001b[39mraise\u001b[39;00m APIRemovedInV1(symbol\u001b[39m=\u001b[39m\u001b[39mself\u001b[39m\u001b[39m.\u001b[39m_symbol)\n",
      "\u001b[0;31mAPIRemovedInV1\u001b[0m: \n\nYou tried to access openai.ChatCompletion, but this is no longer supported in openai>=1.0.0 - see the README at https://github.com/openai/openai-python for the API.\n\nYou can run `openai migrate` to automatically upgrade your codebase to use the 1.0.0 interface. \n\nAlternatively, you can pin your installation to the old version, e.g. `pip install openai==0.28`\n\nA detailed migration guide is available here: https://github.com/openai/openai-python/discussions/742\n"
     ]
    }
   ],
   "source": [
    "\n",
    "# Adding ChatGPT-4's CWE assignment and opinions\n",
    "for entry in cwe_info_list:\n",
    "    cve_description = entry.get('cve_description', '')\n",
    "\n",
    "    # Get ChatGPT-4's CWE assignment and rationale\n",
    "    chatgpt4_assignment = get_chatgpt4_cwe_assignment(cve_description)\n",
    "    entry['ChatGPT4_CWE_Assignment'] = chatgpt4_assignment\n",
    "\n",
    "    # Get ChatGPT-4's opinion on existing CNA CWE ID\n",
    "    if 'CNA_CWE_ID' in entry:\n",
    "        cna_cwe_id = entry['CNA CWE ID']\n",
    "        cna_cwe_description = entry['CNA_CWE_Description']\n",
    "        chatgpt4_opinion = get_chatgpt4_cwe_opinion(cve_description, cna_cwe_id, cna_cwe_description)\n",
    "        entry['ChatGPT4 Opinion on CNA CWE'] = chatgpt4_opinion\n",
    "\n",
    "    # Get ChatGPT-4's opinion on existing ADP CWE ID\n",
    "    if 'ADP_CWE_ID' in entry:\n",
    "        adp_cwe_id = entry['ADP_CWE_ID']\n",
    "        adp_cwe_description = entry['ADP_CWE_Description']\n",
    "        chatgpt4_opinion = get_chatgpt4_cwe_opinion(cve_description, adp_cwe_id, adp_cwe_description)\n",
    "        entry['ChatGPT4 Opinion on ADP CWE'] = chatgpt4_opinion\n",
    "\n",
    "# Convert list of dictionaries to DataFrame\n",
    "df = pd.DataFrame(cwe_info_list)"
   ]
  }
 ],
 "metadata": {
  "kernelspec": {
   "display_name": "vulnerability_scoring",
   "language": "python",
   "name": "vulnerability_scoring"
  },
  "language_info": {
   "codemirror_mode": {
    "name": "ipython",
    "version": 3
   },
   "file_extension": ".py",
   "mimetype": "text/x-python",
   "name": "python",
   "nbconvert_exporter": "python",
   "pygments_lexer": "ipython3",
   "version": "3.10.13"
  },
  "vscode": {
   "interpreter": {
    "hash": "bfd020f60af6a5e8ba9fc70ea6c26a02b59c46c0b3707815ab84a14ae6ed0531"
   }
  }
 },
 "nbformat": 4,
 "nbformat_minor": 2
}
